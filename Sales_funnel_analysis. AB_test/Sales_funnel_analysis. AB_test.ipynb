{
 "cells": [
  {
   "cell_type": "markdown",
   "metadata": {},
   "source": [
    "# Оглавление\n",
    "\n",
    "1. [Введение. Описание проекта](#description)\n",
    "2. [Описание исследования](#description_1)\n",
    "3. [Изучение поведения пользователей. Анализ воронки продаж](#analysis)\n",
    "4. [Изучение результатов эксперимента](#experiment)\n",
    "5. [Выводы](#summary)\n",
    "\n",
    "\n",
    "<a id=\"back_to_title\"></a>"
   ]
  },
  {
   "cell_type": "markdown",
   "metadata": {},
   "source": [
    "# Введение. Описание проекта\n",
    "<a id=\"description\"></a>"
   ]
  },
  {
   "cell_type": "markdown",
   "metadata": {},
   "source": [
    "На базе стартапа, который продаёт продукты питания, нужно разобраться, как ведут себя пользователи мобильного приложения. Изучим воронку продаж и узнаем, как пользователи доходят до покупки, сколько пользователей доходит до покупки, сколько — «застревает» на предыдущих шагах и на каких именно.\n",
    "Далее исследуем результаты A/A/B-эксперимента. Дизайнеры захотели поменять шрифты во всём приложении, а менеджеры испугались, что пользователям будет непривычно. Примем решение по результатам A/A/B-теста. Пользователей разбили на 3 группы: 2 контрольные со старыми шрифтами и одну экспериментальную — с новыми. Выясним, какой шрифт лучше."
   ]
  },
  {
   "cell_type": "markdown",
   "metadata": {},
   "source": [
    "# Описание исследования\n",
    "<a id=\"description_1\"></a>\n",
    "\n",
    "[К ОГЛАВЛЕНИЮ](#back_to_title)\n",
    "\n",
    "В распоряжении 1 датасет, на базе которого будут проведены отдельные иследования:\n",
    "\n",
    "I) Изучение поведения пользователей, анализ воронки продаж\n",
    "\n",
    "**Цель исследования** - общее изучение этапов воронки продаж, понимание этапов, на которых пользователи «застревают» \n",
    "\n",
    "**Ход исследования** - Посмотрим, какие события есть в логах, как часто они встречаются. \n",
    "Посчитаем, сколько пользователей совершали каждое из этих событий. Посчитаем долю пользователей, которые хоть раз совершали событие.\n",
    "По воронке событий посчитаем, какая доля пользователей проходит на следующий шаг воронки (от числа пользователей на предыдущем). Определим, на каком шаге теряется больше всего пользователей. Расчитаем, какая доля пользователей доходит от первого события до оплаты.\n",
    "\n",
    "II) Анализ А/A/B-теста.\n",
    "\n",
    "**Цель исследования** — выяснить, наблюдаются ли статистически значимые различия в результатах теста между группами А и В.\n",
    "\n",
    "**Ход исследования** - Анализ А/A/B теста будет выполнен в соответствии со следующей этапностью:\n",
    "\n",
    "- Определение количества пользователей в каждой экспериментальной группе.\n",
    "- Есть 2 контрольные группы для А/А-эксперимента, чтобы проверить корректность всех механизмов и расчётов. Проверим, находят ли статистические критерии разницу между выборками 246 и 247.\n",
    "- Выберем самое популярное событие. Посчитаем число пользователей, совершивших это событие в каждой из контрольных групп. Посчитаем долю пользователей, совершивших это событие. Проверим, будет ли отличие между группами статистически достоверным. \n",
    "- Проделаем то же самое для всех других событий. Проверим корректно ли работает разбиение на группы.\n",
    "- Аналогично поступим с группой с изменённым шрифтом. Сравним результаты с каждой из контрольных групп в отдельности по каждому событию. Сравним результаты с объединённой контрольной группой. Сделем выводы из эксперимента?"
   ]
  },
  {
   "cell_type": "markdown",
   "metadata": {},
   "source": [
    "# Изучение поведения пользователей. Анализ воронки продаж\n",
    "<a id=\"analysis\"></a>\n",
    "\n",
    "[К ОГЛАВЛЕНИЮ](#back_to_title)"
   ]
  },
  {
   "cell_type": "code",
   "execution_count": 117,
   "metadata": {},
   "outputs": [],
   "source": [
    "#импортируем все библиотеки, которые понадобятся в исследованиях\n",
    "import pandas as pd\n",
    "import math as mth\n",
    "import datetime as dt\n",
    "import numpy as np\n",
    "import scipy.stats as stats\n",
    "import matplotlib.pyplot as plt\n",
    "from pandas.plotting import register_matplotlib_converters\n",
    "import warnings\n",
    "# конвертеры, которые позволяют использовать типы pandas в matplotlib  \n",
    "register_matplotlib_converters()"
   ]
  },
  {
   "cell_type": "code",
   "execution_count": 118,
   "metadata": {},
   "outputs": [
    {
     "data": {
      "text/html": [
       "<div>\n",
       "<style scoped>\n",
       "    .dataframe tbody tr th:only-of-type {\n",
       "        vertical-align: middle;\n",
       "    }\n",
       "\n",
       "    .dataframe tbody tr th {\n",
       "        vertical-align: top;\n",
       "    }\n",
       "\n",
       "    .dataframe thead th {\n",
       "        text-align: right;\n",
       "    }\n",
       "</style>\n",
       "<table border=\"1\" class=\"dataframe\">\n",
       "  <thead>\n",
       "    <tr style=\"text-align: right;\">\n",
       "      <th></th>\n",
       "      <th>EventName</th>\n",
       "      <th>DeviceIDHash</th>\n",
       "      <th>EventTimestamp</th>\n",
       "      <th>ExpId</th>\n",
       "    </tr>\n",
       "  </thead>\n",
       "  <tbody>\n",
       "    <tr>\n",
       "      <th>0</th>\n",
       "      <td>MainScreenAppear</td>\n",
       "      <td>4575588528974610257</td>\n",
       "      <td>1564029816</td>\n",
       "      <td>246</td>\n",
       "    </tr>\n",
       "    <tr>\n",
       "      <th>1</th>\n",
       "      <td>MainScreenAppear</td>\n",
       "      <td>7416695313311560658</td>\n",
       "      <td>1564053102</td>\n",
       "      <td>246</td>\n",
       "    </tr>\n",
       "    <tr>\n",
       "      <th>2</th>\n",
       "      <td>PaymentScreenSuccessful</td>\n",
       "      <td>3518123091307005509</td>\n",
       "      <td>1564054127</td>\n",
       "      <td>248</td>\n",
       "    </tr>\n",
       "    <tr>\n",
       "      <th>3</th>\n",
       "      <td>CartScreenAppear</td>\n",
       "      <td>3518123091307005509</td>\n",
       "      <td>1564054127</td>\n",
       "      <td>248</td>\n",
       "    </tr>\n",
       "    <tr>\n",
       "      <th>4</th>\n",
       "      <td>PaymentScreenSuccessful</td>\n",
       "      <td>6217807653094995999</td>\n",
       "      <td>1564055322</td>\n",
       "      <td>248</td>\n",
       "    </tr>\n",
       "  </tbody>\n",
       "</table>\n",
       "</div>"
      ],
      "text/plain": [
       "                 EventName         DeviceIDHash  EventTimestamp  ExpId\n",
       "0         MainScreenAppear  4575588528974610257      1564029816    246\n",
       "1         MainScreenAppear  7416695313311560658      1564053102    246\n",
       "2  PaymentScreenSuccessful  3518123091307005509      1564054127    248\n",
       "3         CartScreenAppear  3518123091307005509      1564054127    248\n",
       "4  PaymentScreenSuccessful  6217807653094995999      1564055322    248"
      ]
     },
     "execution_count": 118,
     "metadata": {},
     "output_type": "execute_result"
    }
   ],
   "source": [
    "data = pd.read_csv('/Users/tatanakondrahina/logs_exp.csv',sep = '\\t')#знакомимся с датасетом\n",
    "data.head()"
   ]
  },
  {
   "cell_type": "markdown",
   "metadata": {},
   "source": [
    "Выполним предобработку данных."
   ]
  },
  {
   "cell_type": "markdown",
   "metadata": {},
   "source": [
    "Переименуем столбцы таблицы, уберем заглавные буквы:"
   ]
  },
  {
   "cell_type": "code",
   "execution_count": 119,
   "metadata": {},
   "outputs": [
    {
     "data": {
      "text/html": [
       "<div>\n",
       "<style scoped>\n",
       "    .dataframe tbody tr th:only-of-type {\n",
       "        vertical-align: middle;\n",
       "    }\n",
       "\n",
       "    .dataframe tbody tr th {\n",
       "        vertical-align: top;\n",
       "    }\n",
       "\n",
       "    .dataframe thead th {\n",
       "        text-align: right;\n",
       "    }\n",
       "</style>\n",
       "<table border=\"1\" class=\"dataframe\">\n",
       "  <thead>\n",
       "    <tr style=\"text-align: right;\">\n",
       "      <th></th>\n",
       "      <th>event_name</th>\n",
       "      <th>device_id</th>\n",
       "      <th>event_date</th>\n",
       "      <th>group</th>\n",
       "    </tr>\n",
       "  </thead>\n",
       "  <tbody>\n",
       "    <tr>\n",
       "      <th>0</th>\n",
       "      <td>MainScreenAppear</td>\n",
       "      <td>4575588528974610257</td>\n",
       "      <td>1564029816</td>\n",
       "      <td>246</td>\n",
       "    </tr>\n",
       "    <tr>\n",
       "      <th>1</th>\n",
       "      <td>MainScreenAppear</td>\n",
       "      <td>7416695313311560658</td>\n",
       "      <td>1564053102</td>\n",
       "      <td>246</td>\n",
       "    </tr>\n",
       "    <tr>\n",
       "      <th>2</th>\n",
       "      <td>PaymentScreenSuccessful</td>\n",
       "      <td>3518123091307005509</td>\n",
       "      <td>1564054127</td>\n",
       "      <td>248</td>\n",
       "    </tr>\n",
       "    <tr>\n",
       "      <th>3</th>\n",
       "      <td>CartScreenAppear</td>\n",
       "      <td>3518123091307005509</td>\n",
       "      <td>1564054127</td>\n",
       "      <td>248</td>\n",
       "    </tr>\n",
       "    <tr>\n",
       "      <th>4</th>\n",
       "      <td>PaymentScreenSuccessful</td>\n",
       "      <td>6217807653094995999</td>\n",
       "      <td>1564055322</td>\n",
       "      <td>248</td>\n",
       "    </tr>\n",
       "  </tbody>\n",
       "</table>\n",
       "</div>"
      ],
      "text/plain": [
       "                event_name            device_id  event_date  group\n",
       "0         MainScreenAppear  4575588528974610257  1564029816    246\n",
       "1         MainScreenAppear  7416695313311560658  1564053102    246\n",
       "2  PaymentScreenSuccessful  3518123091307005509  1564054127    248\n",
       "3         CartScreenAppear  3518123091307005509  1564054127    248\n",
       "4  PaymentScreenSuccessful  6217807653094995999  1564055322    248"
      ]
     },
     "execution_count": 119,
     "metadata": {},
     "output_type": "execute_result"
    }
   ],
   "source": [
    "data.columns = ('event_name','device_id','event_date','group')\n",
    "data.head()"
   ]
  },
  {
   "cell_type": "markdown",
   "metadata": {},
   "source": [
    "Проверим датасет на пропуски, дубликаты, типы данных."
   ]
  },
  {
   "cell_type": "code",
   "execution_count": 120,
   "metadata": {},
   "outputs": [
    {
     "name": "stdout",
     "output_type": "stream",
     "text": [
      "<class 'pandas.core.frame.DataFrame'>\n",
      "RangeIndex: 244126 entries, 0 to 244125\n",
      "Data columns (total 4 columns):\n",
      " #   Column      Non-Null Count   Dtype \n",
      "---  ------      --------------   ----- \n",
      " 0   event_name  244126 non-null  object\n",
      " 1   device_id   244126 non-null  int64 \n",
      " 2   event_date  244126 non-null  int64 \n",
      " 3   group       244126 non-null  int64 \n",
      "dtypes: int64(3), object(1)\n",
      "memory usage: 7.5+ MB\n"
     ]
    }
   ],
   "source": [
    "data.info() "
   ]
  },
  {
   "cell_type": "code",
   "execution_count": 121,
   "metadata": {},
   "outputs": [
    {
     "data": {
      "text/html": [
       "<div>\n",
       "<style scoped>\n",
       "    .dataframe tbody tr th:only-of-type {\n",
       "        vertical-align: middle;\n",
       "    }\n",
       "\n",
       "    .dataframe tbody tr th {\n",
       "        vertical-align: top;\n",
       "    }\n",
       "\n",
       "    .dataframe thead th {\n",
       "        text-align: right;\n",
       "    }\n",
       "</style>\n",
       "<table border=\"1\" class=\"dataframe\">\n",
       "  <thead>\n",
       "    <tr style=\"text-align: right;\">\n",
       "      <th></th>\n",
       "      <th>event_name</th>\n",
       "      <th>device_id</th>\n",
       "      <th>event_date</th>\n",
       "      <th>group</th>\n",
       "    </tr>\n",
       "  </thead>\n",
       "  <tbody>\n",
       "    <tr>\n",
       "      <th>0</th>\n",
       "      <td>MainScreenAppear</td>\n",
       "      <td>4575588528974610257</td>\n",
       "      <td>2019-07-25 04:43:36</td>\n",
       "      <td>246</td>\n",
       "    </tr>\n",
       "    <tr>\n",
       "      <th>1</th>\n",
       "      <td>MainScreenAppear</td>\n",
       "      <td>7416695313311560658</td>\n",
       "      <td>2019-07-25 11:11:42</td>\n",
       "      <td>246</td>\n",
       "    </tr>\n",
       "    <tr>\n",
       "      <th>2</th>\n",
       "      <td>PaymentScreenSuccessful</td>\n",
       "      <td>3518123091307005509</td>\n",
       "      <td>2019-07-25 11:28:47</td>\n",
       "      <td>248</td>\n",
       "    </tr>\n",
       "    <tr>\n",
       "      <th>3</th>\n",
       "      <td>CartScreenAppear</td>\n",
       "      <td>3518123091307005509</td>\n",
       "      <td>2019-07-25 11:28:47</td>\n",
       "      <td>248</td>\n",
       "    </tr>\n",
       "    <tr>\n",
       "      <th>4</th>\n",
       "      <td>PaymentScreenSuccessful</td>\n",
       "      <td>6217807653094995999</td>\n",
       "      <td>2019-07-25 11:48:42</td>\n",
       "      <td>248</td>\n",
       "    </tr>\n",
       "  </tbody>\n",
       "</table>\n",
       "</div>"
      ],
      "text/plain": [
       "                event_name            device_id          event_date  group\n",
       "0         MainScreenAppear  4575588528974610257 2019-07-25 04:43:36    246\n",
       "1         MainScreenAppear  7416695313311560658 2019-07-25 11:11:42    246\n",
       "2  PaymentScreenSuccessful  3518123091307005509 2019-07-25 11:28:47    248\n",
       "3         CartScreenAppear  3518123091307005509 2019-07-25 11:28:47    248\n",
       "4  PaymentScreenSuccessful  6217807653094995999 2019-07-25 11:48:42    248"
      ]
     },
     "execution_count": 121,
     "metadata": {},
     "output_type": "execute_result"
    }
   ],
   "source": [
    "data['event_date']= pd.to_datetime(data['event_date'],unit=\"s\") #поменяем тип данных столбца event_date на дату\n",
    "data.head()"
   ]
  },
  {
   "cell_type": "code",
   "execution_count": 122,
   "metadata": {},
   "outputs": [
    {
     "data": {
      "text/plain": [
       "413"
      ]
     },
     "execution_count": 122,
     "metadata": {},
     "output_type": "execute_result"
    }
   ],
   "source": [
    "data.duplicated().sum() #считаем количество строк-дубликатов"
   ]
  },
  {
   "cell_type": "code",
   "execution_count": 123,
   "metadata": {},
   "outputs": [],
   "source": [
    "data = data.drop_duplicates()#удаляем дубликаты"
   ]
  },
  {
   "cell_type": "code",
   "execution_count": 124,
   "metadata": {},
   "outputs": [
    {
     "data": {
      "text/plain": [
       "0"
      ]
     },
     "execution_count": 124,
     "metadata": {},
     "output_type": "execute_result"
    }
   ],
   "source": [
    "data.duplicated().sum()#проверяем удаление дубликатов"
   ]
  },
  {
   "cell_type": "markdown",
   "metadata": {},
   "source": [
    "Добавим отдельный столбец дат:"
   ]
  },
  {
   "cell_type": "code",
   "execution_count": 125,
   "metadata": {},
   "outputs": [
    {
     "data": {
      "text/html": [
       "<div>\n",
       "<style scoped>\n",
       "    .dataframe tbody tr th:only-of-type {\n",
       "        vertical-align: middle;\n",
       "    }\n",
       "\n",
       "    .dataframe tbody tr th {\n",
       "        vertical-align: top;\n",
       "    }\n",
       "\n",
       "    .dataframe thead th {\n",
       "        text-align: right;\n",
       "    }\n",
       "</style>\n",
       "<table border=\"1\" class=\"dataframe\">\n",
       "  <thead>\n",
       "    <tr style=\"text-align: right;\">\n",
       "      <th></th>\n",
       "      <th>event_name</th>\n",
       "      <th>device_id</th>\n",
       "      <th>event_date</th>\n",
       "      <th>group</th>\n",
       "      <th>date</th>\n",
       "    </tr>\n",
       "  </thead>\n",
       "  <tbody>\n",
       "    <tr>\n",
       "      <th>0</th>\n",
       "      <td>MainScreenAppear</td>\n",
       "      <td>4575588528974610257</td>\n",
       "      <td>2019-07-25 04:43:36</td>\n",
       "      <td>246</td>\n",
       "      <td>2019-07-25</td>\n",
       "    </tr>\n",
       "    <tr>\n",
       "      <th>1</th>\n",
       "      <td>MainScreenAppear</td>\n",
       "      <td>7416695313311560658</td>\n",
       "      <td>2019-07-25 11:11:42</td>\n",
       "      <td>246</td>\n",
       "      <td>2019-07-25</td>\n",
       "    </tr>\n",
       "    <tr>\n",
       "      <th>2</th>\n",
       "      <td>PaymentScreenSuccessful</td>\n",
       "      <td>3518123091307005509</td>\n",
       "      <td>2019-07-25 11:28:47</td>\n",
       "      <td>248</td>\n",
       "      <td>2019-07-25</td>\n",
       "    </tr>\n",
       "    <tr>\n",
       "      <th>3</th>\n",
       "      <td>CartScreenAppear</td>\n",
       "      <td>3518123091307005509</td>\n",
       "      <td>2019-07-25 11:28:47</td>\n",
       "      <td>248</td>\n",
       "      <td>2019-07-25</td>\n",
       "    </tr>\n",
       "    <tr>\n",
       "      <th>4</th>\n",
       "      <td>PaymentScreenSuccessful</td>\n",
       "      <td>6217807653094995999</td>\n",
       "      <td>2019-07-25 11:48:42</td>\n",
       "      <td>248</td>\n",
       "      <td>2019-07-25</td>\n",
       "    </tr>\n",
       "  </tbody>\n",
       "</table>\n",
       "</div>"
      ],
      "text/plain": [
       "                event_name            device_id          event_date  group  \\\n",
       "0         MainScreenAppear  4575588528974610257 2019-07-25 04:43:36    246   \n",
       "1         MainScreenAppear  7416695313311560658 2019-07-25 11:11:42    246   \n",
       "2  PaymentScreenSuccessful  3518123091307005509 2019-07-25 11:28:47    248   \n",
       "3         CartScreenAppear  3518123091307005509 2019-07-25 11:28:47    248   \n",
       "4  PaymentScreenSuccessful  6217807653094995999 2019-07-25 11:48:42    248   \n",
       "\n",
       "         date  \n",
       "0  2019-07-25  \n",
       "1  2019-07-25  \n",
       "2  2019-07-25  \n",
       "3  2019-07-25  \n",
       "4  2019-07-25  "
      ]
     },
     "execution_count": 125,
     "metadata": {},
     "output_type": "execute_result"
    }
   ],
   "source": [
    "data['date'] = pd.to_datetime(data['event_date']).dt.date\n",
    "data.head()"
   ]
  },
  {
   "cell_type": "markdown",
   "metadata": {},
   "source": [
    "В ходе предобработки данных были переименованы колонки, данные изучены на пропущенные значения и дубликаты. Пропущенных значений не выявлено. Дубликаты выявлены и удалены. Колонка 'event_date' преведена к типу данных datetime. Из этой же колонки извлечена отдельно дата и создана новая колонка, содержащая только дату (без времени) "
   ]
  },
  {
   "cell_type": "markdown",
   "metadata": {},
   "source": [
    "Изучим и проверим данные. Для начала посмотрим, сколько всего событий в логе. "
   ]
  },
  {
   "cell_type": "code",
   "execution_count": 126,
   "metadata": {},
   "outputs": [
    {
     "data": {
      "text/plain": [
       "243713"
      ]
     },
     "execution_count": 126,
     "metadata": {},
     "output_type": "execute_result"
    }
   ],
   "source": [
    "data['event_name'].count() "
   ]
  },
  {
   "cell_type": "markdown",
   "metadata": {},
   "source": [
    "В логе содержатся данные о 243 713 событиях."
   ]
  },
  {
   "cell_type": "markdown",
   "metadata": {},
   "source": [
    "Посмотрим, сколько всего пользователей в логе."
   ]
  },
  {
   "cell_type": "code",
   "execution_count": 127,
   "metadata": {},
   "outputs": [
    {
     "data": {
      "text/plain": [
       "7551"
      ]
     },
     "execution_count": 127,
     "metadata": {},
     "output_type": "execute_result"
    }
   ],
   "source": [
    "data['device_id'].nunique() "
   ]
  },
  {
   "cell_type": "markdown",
   "metadata": {},
   "source": [
    "Количество уникальных пользователей в логе 7551"
   ]
  },
  {
   "cell_type": "markdown",
   "metadata": {},
   "source": [
    "Расчитаем, сколько в среднем событий приходится на пользователя."
   ]
  },
  {
   "cell_type": "code",
   "execution_count": 128,
   "metadata": {},
   "outputs": [
    {
     "data": {
      "text/plain": [
       "32.27559263673685"
      ]
     },
     "metadata": {},
     "output_type": "display_data"
    }
   ],
   "source": [
    "display(data['event_name'].count()/data['device_id'].nunique())"
   ]
  },
  {
   "cell_type": "markdown",
   "metadata": {},
   "source": [
    "На одного пользователя в среднем приходится 32 события. "
   ]
  },
  {
   "cell_type": "markdown",
   "metadata": {},
   "source": [
    "Посмотрим, данными за какой период мы располагаем. Найдем максимальную и минимальную дату. "
   ]
  },
  {
   "cell_type": "code",
   "execution_count": 129,
   "metadata": {},
   "outputs": [
    {
     "data": {
      "text/plain": [
       "datetime.date(2019, 8, 7)"
      ]
     },
     "execution_count": 129,
     "metadata": {},
     "output_type": "execute_result"
    }
   ],
   "source": [
    "data['date'].max()"
   ]
  },
  {
   "cell_type": "code",
   "execution_count": 130,
   "metadata": {},
   "outputs": [
    {
     "data": {
      "text/plain": [
       "datetime.date(2019, 7, 25)"
      ]
     },
     "execution_count": 130,
     "metadata": {},
     "output_type": "execute_result"
    }
   ],
   "source": [
    "data['date'].min()"
   ]
  },
  {
   "cell_type": "markdown",
   "metadata": {},
   "source": [
    "Таким образом, в датасете охвачен период с 25 июля по 7 августа 2019 года."
   ]
  },
  {
   "cell_type": "markdown",
   "metadata": {},
   "source": [
    "Построим гистограмму по дате и времени, чтобы быть уверенными, что у нас одинаково полные данные за весь период. Если нужно, определим, с какого момента данные полные и отбросим более старые. "
   ]
  },
  {
   "cell_type": "code",
   "execution_count": 131,
   "metadata": {},
   "outputs": [
    {
     "data": {
      "image/png": "[encoded data removed]",
      "text/plain": [
       "<Figure size 720x432 with 1 Axes>"
      ]
     },
     "metadata": {
      "needs_background": "light"
     },
     "output_type": "display_data"
    }
   ],
   "source": [
    "plt.figure (figsize=(10,6))\n",
    "data['event_date'].hist()\n",
    "\n",
    "plt.title('Количество событий по дням')\n",
    "plt.xlabel('дата')\n",
    "plt.ylabel('количество событий')\n",
    "plt.xticks(rotation=45)\n",
    "plt.show()\n",
    "plt.show()"
   ]
  },
  {
   "cell_type": "markdown",
   "metadata": {},
   "source": [
    "Данные до 1 августа кажутся подозрительными: их очень мало в каждый из дней. Они не относятся к нашему исследованию, отбросим их: "
   ]
  },
  {
   "cell_type": "code",
   "execution_count": 132,
   "metadata": {},
   "outputs": [
    {
     "data": {
      "text/plain": [
       "datetime.date(2019, 8, 1)"
      ]
     },
     "metadata": {},
     "output_type": "display_data"
    },
    {
     "data": {
      "text/plain": [
       "datetime.date(2019, 8, 7)"
      ]
     },
     "metadata": {},
     "output_type": "display_data"
    }
   ],
   "source": [
    "data_new = data.query('event_date >= \"2019-08-01\"')\n",
    "display(data_new['date'].min())\n",
    "display(data_new['date'].max())"
   ]
  },
  {
   "cell_type": "markdown",
   "metadata": {},
   "source": [
    "Теперь мы фактически располагаем данными за период с 1 по 7 августа 2019 года."
   ]
  },
  {
   "cell_type": "markdown",
   "metadata": {},
   "source": [
    "Посмотрим, много ли событий и пользователей мы потеряли, отбросив старые данные."
   ]
  },
  {
   "cell_type": "code",
   "execution_count": 133,
   "metadata": {},
   "outputs": [
    {
     "data": {
      "text/plain": [
       "-1.1595606307418933"
      ]
     },
     "execution_count": 133,
     "metadata": {},
     "output_type": "execute_result"
    }
   ],
   "source": [
    "data_new['event_name'].count()*100/data['event_name'].count()-100"
   ]
  },
  {
   "cell_type": "code",
   "execution_count": 134,
   "metadata": {},
   "outputs": [
    {
     "data": {
      "text/plain": [
       "-0.22513574361012445"
      ]
     },
     "execution_count": 134,
     "metadata": {},
     "output_type": "execute_result"
    }
   ],
   "source": [
    "data_new['device_id'].nunique()*100/ data['device_id'].nunique()-100"
   ]
  },
  {
   "cell_type": "markdown",
   "metadata": {},
   "source": [
    "Отбросив старые данные, мы потеряли 1,2% событий и 0,2% пользователей, что является вполне допустимым и не превышает 5%."
   ]
  },
  {
   "cell_type": "markdown",
   "metadata": {},
   "source": [
    "Проверим, что у нас есть пользователи из всех трёх экспериментальных групп."
   ]
  },
  {
   "cell_type": "code",
   "execution_count": 135,
   "metadata": {},
   "outputs": [
    {
     "data": {
      "text/plain": [
       "group\n",
       "246    79302\n",
       "247    77022\n",
       "248    84563\n",
       "Name: device_id, dtype: int64"
      ]
     },
     "execution_count": 135,
     "metadata": {},
     "output_type": "execute_result"
    }
   ],
   "source": [
    "data_new.groupby('group')['device_id'].count()"
   ]
  },
  {
   "cell_type": "markdown",
   "metadata": {},
   "source": [
    "В очищенном датасете есть пользователи из всех трёх экспериментальных групп."
   ]
  },
  {
   "cell_type": "markdown",
   "metadata": {},
   "source": [
    "Посмотрим, какие события есть в логах, как часто они встречаются. "
   ]
  },
  {
   "cell_type": "code",
   "execution_count": 136,
   "metadata": {},
   "outputs": [
    {
     "data": {
      "text/plain": [
       "event_name\n",
       "MainScreenAppear           117328\n",
       "OffersScreenAppear          46333\n",
       "CartScreenAppear            42303\n",
       "PaymentScreenSuccessful     33918\n",
       "Tutorial                     1005\n",
       "Name: event_name, dtype: int64"
      ]
     },
     "execution_count": 136,
     "metadata": {},
     "output_type": "execute_result"
    }
   ],
   "source": [
    "data_new.groupby('event_name')['event_name'].count().sort_values(ascending=False)"
   ]
  },
  {
   "cell_type": "markdown",
   "metadata": {},
   "source": [
    "В логах есть следующие события (в порядке убывания встречаемости): \n",
    " 1) MainScreenAppear, 2) OffersScreenAppear , 3) CartScreenAppear, 4) PaymentScreenSuccessful, 5) Tutorial"
   ]
  },
  {
   "cell_type": "markdown",
   "metadata": {},
   "source": [
    "Посчитаем, сколько пользователей совершали каждое из этих событий. Отсортируем события по числу пользователей. Посчитаем долю пользователей, которые хоть раз совершали событие."
   ]
  },
  {
   "cell_type": "code",
   "execution_count": 137,
   "metadata": {},
   "outputs": [
    {
     "data": {
      "text/html": [
       "<div>\n",
       "<style scoped>\n",
       "    .dataframe tbody tr th:only-of-type {\n",
       "        vertical-align: middle;\n",
       "    }\n",
       "\n",
       "    .dataframe tbody tr th {\n",
       "        vertical-align: top;\n",
       "    }\n",
       "\n",
       "    .dataframe thead th {\n",
       "        text-align: right;\n",
       "    }\n",
       "</style>\n",
       "<table border=\"1\" class=\"dataframe\">\n",
       "  <thead>\n",
       "    <tr style=\"text-align: right;\">\n",
       "      <th></th>\n",
       "      <th>device_id</th>\n",
       "      <th>rate</th>\n",
       "    </tr>\n",
       "    <tr>\n",
       "      <th>event_name</th>\n",
       "      <th></th>\n",
       "      <th></th>\n",
       "    </tr>\n",
       "  </thead>\n",
       "  <tbody>\n",
       "    <tr>\n",
       "      <th>MainScreenAppear</th>\n",
       "      <td>7419</td>\n",
       "      <td>98.0</td>\n",
       "    </tr>\n",
       "    <tr>\n",
       "      <th>OffersScreenAppear</th>\n",
       "      <td>4593</td>\n",
       "      <td>61.0</td>\n",
       "    </tr>\n",
       "    <tr>\n",
       "      <th>CartScreenAppear</th>\n",
       "      <td>3734</td>\n",
       "      <td>49.0</td>\n",
       "    </tr>\n",
       "    <tr>\n",
       "      <th>PaymentScreenSuccessful</th>\n",
       "      <td>3539</td>\n",
       "      <td>47.0</td>\n",
       "    </tr>\n",
       "    <tr>\n",
       "      <th>Tutorial</th>\n",
       "      <td>840</td>\n",
       "      <td>11.0</td>\n",
       "    </tr>\n",
       "  </tbody>\n",
       "</table>\n",
       "</div>"
      ],
      "text/plain": [
       "                         device_id  rate\n",
       "event_name                              \n",
       "MainScreenAppear              7419  98.0\n",
       "OffersScreenAppear            4593  61.0\n",
       "CartScreenAppear              3734  49.0\n",
       "PaymentScreenSuccessful       3539  47.0\n",
       "Tutorial                       840  11.0"
      ]
     },
     "metadata": {},
     "output_type": "display_data"
    }
   ],
   "source": [
    "users_events = data_new.pivot_table(index='event_name', values = 'device_id', aggfunc='nunique').sort_values(by='device_id',ascending=False)\n",
    "users_events['rate']=round(users_events['device_id']*100/7551)\n",
    "display(users_events)"
   ]
  },
  {
   "cell_type": "markdown",
   "metadata": {},
   "source": [
    "События перед нами - это:\n",
    "1) Появление главного экрана, \n",
    "2) Появление экрана с предложениями покупок, 3) Появление экрана с корзиной, 4) Экран с успешно выполненной оплатой, 5) Обучающие материалы по продукту. Если убрать пункт с Обучающими материалами, то получается логичная и последовательная воронка продаж. "
   ]
  },
  {
   "cell_type": "markdown",
   "metadata": {},
   "source": [
    "По воронке посчитаем, какая доля пользователей проходит на следующий шаг воронки (от числа пользователей на предыдущем):"
   ]
  },
  {
   "cell_type": "code",
   "execution_count": 138,
   "metadata": {},
   "outputs": [
    {
     "data": {
      "text/html": [
       "<div>\n",
       "<style scoped>\n",
       "    .dataframe tbody tr th:only-of-type {\n",
       "        vertical-align: middle;\n",
       "    }\n",
       "\n",
       "    .dataframe tbody tr th {\n",
       "        vertical-align: top;\n",
       "    }\n",
       "\n",
       "    .dataframe thead th {\n",
       "        text-align: right;\n",
       "    }\n",
       "</style>\n",
       "<table border=\"1\" class=\"dataframe\">\n",
       "  <thead>\n",
       "    <tr style=\"text-align: right;\">\n",
       "      <th></th>\n",
       "      <th>device_id</th>\n",
       "      <th>rate</th>\n",
       "    </tr>\n",
       "    <tr>\n",
       "      <th>event_name</th>\n",
       "      <th></th>\n",
       "      <th></th>\n",
       "    </tr>\n",
       "  </thead>\n",
       "  <tbody>\n",
       "    <tr>\n",
       "      <th>MainScreenAppear</th>\n",
       "      <td>7419</td>\n",
       "      <td>98.0</td>\n",
       "    </tr>\n",
       "    <tr>\n",
       "      <th>OffersScreenAppear</th>\n",
       "      <td>4593</td>\n",
       "      <td>61.0</td>\n",
       "    </tr>\n",
       "    <tr>\n",
       "      <th>CartScreenAppear</th>\n",
       "      <td>3734</td>\n",
       "      <td>49.0</td>\n",
       "    </tr>\n",
       "    <tr>\n",
       "      <th>PaymentScreenSuccessful</th>\n",
       "      <td>3539</td>\n",
       "      <td>47.0</td>\n",
       "    </tr>\n",
       "  </tbody>\n",
       "</table>\n",
       "</div>"
      ],
      "text/plain": [
       "                         device_id  rate\n",
       "event_name                              \n",
       "MainScreenAppear              7419  98.0\n",
       "OffersScreenAppear            4593  61.0\n",
       "CartScreenAppear              3734  49.0\n",
       "PaymentScreenSuccessful       3539  47.0"
      ]
     },
     "metadata": {},
     "output_type": "display_data"
    },
    {
     "data": {
      "text/html": [
       "<div>\n",
       "<style scoped>\n",
       "    .dataframe tbody tr th:only-of-type {\n",
       "        vertical-align: middle;\n",
       "    }\n",
       "\n",
       "    .dataframe tbody tr th {\n",
       "        vertical-align: top;\n",
       "    }\n",
       "\n",
       "    .dataframe thead th {\n",
       "        text-align: right;\n",
       "    }\n",
       "</style>\n",
       "<table border=\"1\" class=\"dataframe\">\n",
       "  <thead>\n",
       "    <tr style=\"text-align: right;\">\n",
       "      <th></th>\n",
       "      <th>device_id</th>\n",
       "      <th>rate</th>\n",
       "      <th>funnel</th>\n",
       "    </tr>\n",
       "    <tr>\n",
       "      <th>event_name</th>\n",
       "      <th></th>\n",
       "      <th></th>\n",
       "      <th></th>\n",
       "    </tr>\n",
       "  </thead>\n",
       "  <tbody>\n",
       "    <tr>\n",
       "      <th>MainScreenAppear</th>\n",
       "      <td>7419</td>\n",
       "      <td>98.0</td>\n",
       "      <td>100.0</td>\n",
       "    </tr>\n",
       "    <tr>\n",
       "      <th>OffersScreenAppear</th>\n",
       "      <td>4593</td>\n",
       "      <td>61.0</td>\n",
       "      <td>62.0</td>\n",
       "    </tr>\n",
       "    <tr>\n",
       "      <th>CartScreenAppear</th>\n",
       "      <td>3734</td>\n",
       "      <td>49.0</td>\n",
       "      <td>81.0</td>\n",
       "    </tr>\n",
       "    <tr>\n",
       "      <th>PaymentScreenSuccessful</th>\n",
       "      <td>3539</td>\n",
       "      <td>47.0</td>\n",
       "      <td>95.0</td>\n",
       "    </tr>\n",
       "  </tbody>\n",
       "</table>\n",
       "</div>"
      ],
      "text/plain": [
       "                         device_id  rate  funnel\n",
       "event_name                                      \n",
       "MainScreenAppear              7419  98.0   100.0\n",
       "OffersScreenAppear            4593  61.0    62.0\n",
       "CartScreenAppear              3734  49.0    81.0\n",
       "PaymentScreenSuccessful       3539  47.0    95.0"
      ]
     },
     "metadata": {},
     "output_type": "display_data"
    }
   ],
   "source": [
    "\n",
    "users_events = users_events.query('event_name!=\"Tutorial\"').sort_values(by='device_id',ascending=False)\n",
    "display(users_events)\n",
    "users_events['funnel'] = round(users_events['device_id']/users_events['device_id'].shift(fill_value=7419)*100)\n",
    "display(users_events)\n"
   ]
  },
  {
   "cell_type": "markdown",
   "metadata": {},
   "source": [
    "Посмотрим, на каком шаге теряете больше всего пользователей."
   ]
  },
  {
   "cell_type": "code",
   "execution_count": 139,
   "metadata": {},
   "outputs": [
    {
     "data": {
      "text/html": [
       "<div>\n",
       "<style scoped>\n",
       "    .dataframe tbody tr th:only-of-type {\n",
       "        vertical-align: middle;\n",
       "    }\n",
       "\n",
       "    .dataframe tbody tr th {\n",
       "        vertical-align: top;\n",
       "    }\n",
       "\n",
       "    .dataframe thead th {\n",
       "        text-align: right;\n",
       "    }\n",
       "</style>\n",
       "<table border=\"1\" class=\"dataframe\">\n",
       "  <thead>\n",
       "    <tr style=\"text-align: right;\">\n",
       "      <th></th>\n",
       "      <th>event_name</th>\n",
       "      <th>device_id</th>\n",
       "      <th>rate</th>\n",
       "      <th>funnel</th>\n",
       "      <th>lost</th>\n",
       "    </tr>\n",
       "  </thead>\n",
       "  <tbody>\n",
       "    <tr>\n",
       "      <th>0</th>\n",
       "      <td>MainScreenAppear</td>\n",
       "      <td>7419</td>\n",
       "      <td>98.0</td>\n",
       "      <td>100.0</td>\n",
       "      <td>0.0</td>\n",
       "    </tr>\n",
       "    <tr>\n",
       "      <th>1</th>\n",
       "      <td>OffersScreenAppear</td>\n",
       "      <td>4593</td>\n",
       "      <td>61.0</td>\n",
       "      <td>62.0</td>\n",
       "      <td>-38.0</td>\n",
       "    </tr>\n",
       "    <tr>\n",
       "      <th>2</th>\n",
       "      <td>CartScreenAppear</td>\n",
       "      <td>3734</td>\n",
       "      <td>49.0</td>\n",
       "      <td>81.0</td>\n",
       "      <td>19.0</td>\n",
       "    </tr>\n",
       "    <tr>\n",
       "      <th>3</th>\n",
       "      <td>PaymentScreenSuccessful</td>\n",
       "      <td>3539</td>\n",
       "      <td>47.0</td>\n",
       "      <td>95.0</td>\n",
       "      <td>14.0</td>\n",
       "    </tr>\n",
       "  </tbody>\n",
       "</table>\n",
       "</div>"
      ],
      "text/plain": [
       "                event_name  device_id  rate  funnel  lost\n",
       "0         MainScreenAppear       7419  98.0   100.0   0.0\n",
       "1       OffersScreenAppear       4593  61.0    62.0 -38.0\n",
       "2         CartScreenAppear       3734  49.0    81.0  19.0\n",
       "3  PaymentScreenSuccessful       3539  47.0    95.0  14.0"
      ]
     },
     "metadata": {},
     "output_type": "display_data"
    }
   ],
   "source": [
    "users_events['lost'] = round(users_events['funnel']-users_events['funnel'].shift(fill_value=100))\n",
    "users_events = users_events.reset_index()\n",
    "display(users_events)"
   ]
  },
  {
   "cell_type": "markdown",
   "metadata": {},
   "source": [
    "Больше всего пользователей в процентных пунктах теряется на этапе перехода с первого шага воронки на второй, а именно с Главного экрана на Экран предложений. "
   ]
  },
  {
   "cell_type": "markdown",
   "metadata": {},
   "source": [
    "Посмотрим, какая доля пользователей доходит от первого события до оплаты?"
   ]
  },
  {
   "cell_type": "code",
   "execution_count": 171,
   "metadata": {},
   "outputs": [
    {
     "data": {
      "text/plain": [
       "48"
      ]
     },
     "metadata": {},
     "output_type": "display_data"
    }
   ],
   "source": [
    "display(round(users_events.iloc[3]['device_id']*100/users_events.iloc[0]['device_id']))\n"
   ]
  },
  {
   "cell_type": "markdown",
   "metadata": {},
   "source": [
    "От первого события (главный экран) до оплаты доходит 48% пользователей. "
   ]
  },
  {
   "cell_type": "code",
   "execution_count": 185,
   "metadata": {},
   "outputs": [
    {
     "data": {
      "application/vnd.plotly.v1+json": {
       "config": {
        "plotlyServerURL": "https://plot.ly"
       },
       "data": [
        {
         "hovertemplate": "rate=%{x}<br>=%{y}<extra></extra>",
         "legendgroup": "",
         "marker": {
          "color": "#636efa"
         },
         "name": "",
         "orientation": "h",
         "showlegend": false,
         "type": "funnel",
         "x": [
          98,
          61,
          49,
          47
         ],
         "xaxis": "x",
         "y": [
          "MainScreenAppear",
          "OffersScreenAppear",
          "CartScreenAppear",
          "PaymentScreenSuccessful"
         ],
         "yaxis": "y"
        }
       ],
       "layout": {
        "legend": {
         "tracegroupgap": 0
        },
        "template": {
         "data": {
          "bar": [
           {
            "error_x": {
             "color": "#2a3f5f"
            },
            "error_y": {
             "color": "#2a3f5f"
            },
            "marker": {
             "line": {
              "color": "#E5ECF6",
              "width": 0.5
             },
             "pattern": {
              "fillmode": "overlay",
              "size": 10,
              "solidity": 0.2
             }
            },
            "type": "bar"
           }
          ],
          "barpolar": [
           {
            "marker": {
             "line": {
              "color": "#E5ECF6",
              "width": 0.5
             },
             "pattern": {
              "fillmode": "overlay",
              "size": 10,
              "solidity": 0.2
             }
            },
            "type": "barpolar"
           }
          ],
          "carpet": [
           {
            "aaxis": {
             "endlinecolor": "#2a3f5f",
             "gridcolor": "white",
             "linecolor": "white",
             "minorgridcolor": "white",
             "startlinecolor": "#2a3f5f"
            },
            "baxis": {
             "endlinecolor": "#2a3f5f",
             "gridcolor": "white",
             "linecolor": "white",
             "minorgridcolor": "white",
             "startlinecolor": "#2a3f5f"
            },
            "type": "carpet"
           }
          ],
          "choropleth": [
           {
            "colorbar": {
             "outlinewidth": 0,
             "ticks": ""
            },
            "type": "choropleth"
           }
          ],
          "contour": [
           {
            "colorbar": {
             "outlinewidth": 0,
             "ticks": ""
            },
            "colorscale": [
             [
              0,
              "#0d0887"
             ],
             [
              0.1111111111111111,
              "#46039f"
             ],
             [
              0.2222222222222222,
              "#7201a8"
             ],
             [
              0.3333333333333333,
              "#9c179e"
             ],
             [
              0.4444444444444444,
              "#bd3786"
             ],
             [
              0.5555555555555556,
              "#d8576b"
             ],
             [
              0.6666666666666666,
              "#ed7953"
             ],
             [
              0.7777777777777778,
              "#fb9f3a"
             ],
             [
              0.8888888888888888,
              "#fdca26"
             ],
             [
              1,
              "#f0f921"
             ]
            ],
            "type": "contour"
           }
          ],
          "contourcarpet": [
           {
            "colorbar": {
             "outlinewidth": 0,
             "ticks": ""
            },
            "type": "contourcarpet"
           }
          ],
          "heatmap": [
           {
            "colorbar": {
             "outlinewidth": 0,
             "ticks": ""
            },
            "colorscale": [
             [
              0,
              "#0d0887"
             ],
             [
              0.1111111111111111,
              "#46039f"
             ],
             [
              0.2222222222222222,
              "#7201a8"
             ],
             [
              0.3333333333333333,
              "#9c179e"
             ],
             [
              0.4444444444444444,
              "#bd3786"
             ],
             [
              0.5555555555555556,
              "#d8576b"
             ],
             [
              0.6666666666666666,
              "#ed7953"
             ],
             [
              0.7777777777777778,
              "#fb9f3a"
             ],
             [
              0.8888888888888888,
              "#fdca26"
             ],
             [
              1,
              "#f0f921"
             ]
            ],
            "type": "heatmap"
           }
          ],
          "heatmapgl": [
           {
            "colorbar": {
             "outlinewidth": 0,
             "ticks": ""
            },
            "colorscale": [
             [
              0,
              "#0d0887"
             ],
             [
              0.1111111111111111,
              "#46039f"
             ],
             [
              0.2222222222222222,
              "#7201a8"
             ],
             [
              0.3333333333333333,
              "#9c179e"
             ],
             [
              0.4444444444444444,
              "#bd3786"
             ],
             [
              0.5555555555555556,
              "#d8576b"
             ],
             [
              0.6666666666666666,
              "#ed7953"
             ],
             [
              0.7777777777777778,
              "#fb9f3a"
             ],
             [
              0.8888888888888888,
              "#fdca26"
             ],
             [
              1,
              "#f0f921"
             ]
            ],
            "type": "heatmapgl"
           }
          ],
          "histogram": [
           {
            "marker": {
             "pattern": {
              "fillmode": "overlay",
              "size": 10,
              "solidity": 0.2
             }
            },
            "type": "histogram"
           }
          ],
          "histogram2d": [
           {
            "colorbar": {
             "outlinewidth": 0,
             "ticks": ""
            },
            "colorscale": [
             [
              0,
              "#0d0887"
             ],
             [
              0.1111111111111111,
              "#46039f"
             ],
             [
              0.2222222222222222,
              "#7201a8"
             ],
             [
              0.3333333333333333,
              "#9c179e"
             ],
             [
              0.4444444444444444,
              "#bd3786"
             ],
             [
              0.5555555555555556,
              "#d8576b"
             ],
             [
              0.6666666666666666,
              "#ed7953"
             ],
             [
              0.7777777777777778,
              "#fb9f3a"
             ],
             [
              0.8888888888888888,
              "#fdca26"
             ],
             [
              1,
              "#f0f921"
             ]
            ],
            "type": "histogram2d"
           }
          ],
          "histogram2dcontour": [
           {
            "colorbar": {
             "outlinewidth": 0,
             "ticks": ""
            },
            "colorscale": [
             [
              0,
              "#0d0887"
             ],
             [
              0.1111111111111111,
              "#46039f"
             ],
             [
              0.2222222222222222,
              "#7201a8"
             ],
             [
              0.3333333333333333,
              "#9c179e"
             ],
             [
              0.4444444444444444,
              "#bd3786"
             ],
             [
              0.5555555555555556,
              "#d8576b"
             ],
             [
              0.6666666666666666,
              "#ed7953"
             ],
             [
              0.7777777777777778,
              "#fb9f3a"
             ],
             [
              0.8888888888888888,
              "#fdca26"
             ],
             [
              1,
              "#f0f921"
             ]
            ],
            "type": "histogram2dcontour"
           }
          ],
          "mesh3d": [
           {
            "colorbar": {
             "outlinewidth": 0,
             "ticks": ""
            },
            "type": "mesh3d"
           }
          ],
          "parcoords": [
           {
            "line": {
             "colorbar": {
              "outlinewidth": 0,
              "ticks": ""
             }
            },
            "type": "parcoords"
           }
          ],
          "pie": [
           {
            "automargin": true,
            "type": "pie"
           }
          ],
          "scatter": [
           {
            "marker": {
             "colorbar": {
              "outlinewidth": 0,
              "ticks": ""
             }
            },
            "type": "scatter"
           }
          ],
          "scatter3d": [
           {
            "line": {
             "colorbar": {
              "outlinewidth": 0,
              "ticks": ""
             }
            },
            "marker": {
             "colorbar": {
              "outlinewidth": 0,
              "ticks": ""
             }
            },
            "type": "scatter3d"
           }
          ],
          "scattercarpet": [
           {
            "marker": {
             "colorbar": {
              "outlinewidth": 0,
              "ticks": ""
             }
            },
            "type": "scattercarpet"
           }
          ],
          "scattergeo": [
           {
            "marker": {
             "colorbar": {
              "outlinewidth": 0,
              "ticks": ""
             }
            },
            "type": "scattergeo"
           }
          ],
          "scattergl": [
           {
            "marker": {
             "colorbar": {
              "outlinewidth": 0,
              "ticks": ""
             }
            },
            "type": "scattergl"
           }
          ],
          "scattermapbox": [
           {
            "marker": {
             "colorbar": {
              "outlinewidth": 0,
              "ticks": ""
             }
            },
            "type": "scattermapbox"
           }
          ],
          "scatterpolar": [
           {
            "marker": {
             "colorbar": {
              "outlinewidth": 0,
              "ticks": ""
             }
            },
            "type": "scatterpolar"
           }
          ],
          "scatterpolargl": [
           {
            "marker": {
             "colorbar": {
              "outlinewidth": 0,
              "ticks": ""
             }
            },
            "type": "scatterpolargl"
           }
          ],
          "scatterternary": [
           {
            "marker": {
             "colorbar": {
              "outlinewidth": 0,
              "ticks": ""
             }
            },
            "type": "scatterternary"
           }
          ],
          "surface": [
           {
            "colorbar": {
             "outlinewidth": 0,
             "ticks": ""
            },
            "colorscale": [
             [
              0,
              "#0d0887"
             ],
             [
              0.1111111111111111,
              "#46039f"
             ],
             [
              0.2222222222222222,
              "#7201a8"
             ],
             [
              0.3333333333333333,
              "#9c179e"
             ],
             [
              0.4444444444444444,
              "#bd3786"
             ],
             [
              0.5555555555555556,
              "#d8576b"
             ],
             [
              0.6666666666666666,
              "#ed7953"
             ],
             [
              0.7777777777777778,
              "#fb9f3a"
             ],
             [
              0.8888888888888888,
              "#fdca26"
             ],
             [
              1,
              "#f0f921"
             ]
            ],
            "type": "surface"
           }
          ],
          "table": [
           {
            "cells": {
             "fill": {
              "color": "#EBF0F8"
             },
             "line": {
              "color": "white"
             }
            },
            "header": {
             "fill": {
              "color": "#C8D4E3"
             },
             "line": {
              "color": "white"
             }
            },
            "type": "table"
           }
          ]
         },
         "layout": {
          "annotationdefaults": {
           "arrowcolor": "#2a3f5f",
           "arrowhead": 0,
           "arrowwidth": 1
          },
          "autotypenumbers": "strict",
          "coloraxis": {
           "colorbar": {
            "outlinewidth": 0,
            "ticks": ""
           }
          },
          "colorscale": {
           "diverging": [
            [
             0,
             "#8e0152"
            ],
            [
             0.1,
             "#c51b7d"
            ],
            [
             0.2,
             "#de77ae"
            ],
            [
             0.3,
             "#f1b6da"
            ],
            [
             0.4,
             "#fde0ef"
            ],
            [
             0.5,
             "#f7f7f7"
            ],
            [
             0.6,
             "#e6f5d0"
            ],
            [
             0.7,
             "#b8e186"
            ],
            [
             0.8,
             "#7fbc41"
            ],
            [
             0.9,
             "#4d9221"
            ],
            [
             1,
             "#276419"
            ]
           ],
           "sequential": [
            [
             0,
             "#0d0887"
            ],
            [
             0.1111111111111111,
             "#46039f"
            ],
            [
             0.2222222222222222,
             "#7201a8"
            ],
            [
             0.3333333333333333,
             "#9c179e"
            ],
            [
             0.4444444444444444,
             "#bd3786"
            ],
            [
             0.5555555555555556,
             "#d8576b"
            ],
            [
             0.6666666666666666,
             "#ed7953"
            ],
            [
             0.7777777777777778,
             "#fb9f3a"
            ],
            [
             0.8888888888888888,
             "#fdca26"
            ],
            [
             1,
             "#f0f921"
            ]
           ],
           "sequentialminus": [
            [
             0,
             "#0d0887"
            ],
            [
             0.1111111111111111,
             "#46039f"
            ],
            [
             0.2222222222222222,
             "#7201a8"
            ],
            [
             0.3333333333333333,
             "#9c179e"
            ],
            [
             0.4444444444444444,
             "#bd3786"
            ],
            [
             0.5555555555555556,
             "#d8576b"
            ],
            [
             0.6666666666666666,
             "#ed7953"
            ],
            [
             0.7777777777777778,
             "#fb9f3a"
            ],
            [
             0.8888888888888888,
             "#fdca26"
            ],
            [
             1,
             "#f0f921"
            ]
           ]
          },
          "colorway": [
           "#636efa",
           "#EF553B",
           "#00cc96",
           "#ab63fa",
           "#FFA15A",
           "#19d3f3",
           "#FF6692",
           "#B6E880",
           "#FF97FF",
           "#FECB52"
          ],
          "font": {
           "color": "#2a3f5f"
          },
          "geo": {
           "bgcolor": "white",
           "lakecolor": "white",
           "landcolor": "#E5ECF6",
           "showlakes": true,
           "showland": true,
           "subunitcolor": "white"
          },
          "hoverlabel": {
           "align": "left"
          },
          "hovermode": "closest",
          "mapbox": {
           "style": "light"
          },
          "paper_bgcolor": "white",
          "plot_bgcolor": "#E5ECF6",
          "polar": {
           "angularaxis": {
            "gridcolor": "white",
            "linecolor": "white",
            "ticks": ""
           },
           "bgcolor": "#E5ECF6",
           "radialaxis": {
            "gridcolor": "white",
            "linecolor": "white",
            "ticks": ""
           }
          },
          "scene": {
           "xaxis": {
            "backgroundcolor": "#E5ECF6",
            "gridcolor": "white",
            "gridwidth": 2,
            "linecolor": "white",
            "showbackground": true,
            "ticks": "",
            "zerolinecolor": "white"
           },
           "yaxis": {
            "backgroundcolor": "#E5ECF6",
            "gridcolor": "white",
            "gridwidth": 2,
            "linecolor": "white",
            "showbackground": true,
            "ticks": "",
            "zerolinecolor": "white"
           },
           "zaxis": {
            "backgroundcolor": "#E5ECF6",
            "gridcolor": "white",
            "gridwidth": 2,
            "linecolor": "white",
            "showbackground": true,
            "ticks": "",
            "zerolinecolor": "white"
           }
          },
          "shapedefaults": {
           "line": {
            "color": "#2a3f5f"
           }
          },
          "ternary": {
           "aaxis": {
            "gridcolor": "white",
            "linecolor": "white",
            "ticks": ""
           },
           "baxis": {
            "gridcolor": "white",
            "linecolor": "white",
            "ticks": ""
           },
           "bgcolor": "#E5ECF6",
           "caxis": {
            "gridcolor": "white",
            "linecolor": "white",
            "ticks": ""
           }
          },
          "title": {
           "x": 0.05
          },
          "xaxis": {
           "automargin": true,
           "gridcolor": "white",
           "linecolor": "white",
           "ticks": "",
           "title": {
            "standoff": 15
           },
           "zerolinecolor": "white",
           "zerolinewidth": 2
          },
          "yaxis": {
           "automargin": true,
           "gridcolor": "white",
           "linecolor": "white",
           "ticks": "",
           "title": {
            "standoff": 15
           },
           "zerolinecolor": "white",
           "zerolinewidth": 2
          }
         }
        },
        "title": {
         "text": "Sales Funnel"
        },
        "xaxis": {
         "anchor": "y",
         "domain": [
          0,
          1
         ],
         "title": {
          "text": "rate"
         }
        },
        "yaxis": {
         "anchor": "x",
         "domain": [
          0,
          1
         ],
         "title": {
          "text": ""
         }
        }
       }
      },
      "text/html": [
       "<div>                            <div id=\"11ba6b73-9462-412c-98df-9193d11f5c5e\" class=\"plotly-graph-div\" style=\"height:525px; width:100%;\"></div>            <script type=\"text/javascript\">                require([\"plotly\"], function(Plotly) {                    window.PLOTLYENV=window.PLOTLYENV || {};                                    if (document.getElementById(\"11ba6b73-9462-412c-98df-9193d11f5c5e\")) {                    Plotly.newPlot(                        \"11ba6b73-9462-412c-98df-9193d11f5c5e\",                        [{\"hovertemplate\":\"rate=%{x}<br>=%{y}<extra></extra>\",\"legendgroup\":\"\",\"marker\":{\"color\":\"#636efa\"},\"name\":\"\",\"orientation\":\"h\",\"showlegend\":false,\"x\":[98.0,61.0,49.0,47.0],\"xaxis\":\"x\",\"y\":[\"MainScreenAppear\",\"OffersScreenAppear\",\"CartScreenAppear\",\"PaymentScreenSuccessful\"],\"yaxis\":\"y\",\"type\":\"funnel\"}],                        {\"template\":{\"data\":{\"bar\":[{\"error_x\":{\"color\":\"#2a3f5f\"},\"error_y\":{\"color\":\"#2a3f5f\"},\"marker\":{\"line\":{\"color\":\"#E5ECF6\",\"width\":0.5},\"pattern\":{\"fillmode\":\"overlay\",\"size\":10,\"solidity\":0.2}},\"type\":\"bar\"}],\"barpolar\":[{\"marker\":{\"line\":{\"color\":\"#E5ECF6\",\"width\":0.5},\"pattern\":{\"fillmode\":\"overlay\",\"size\":10,\"solidity\":0.2}},\"type\":\"barpolar\"}],\"carpet\":[{\"aaxis\":{\"endlinecolor\":\"#2a3f5f\",\"gridcolor\":\"white\",\"linecolor\":\"white\",\"minorgridcolor\":\"white\",\"startlinecolor\":\"#2a3f5f\"},\"baxis\":{\"endlinecolor\":\"#2a3f5f\",\"gridcolor\":\"white\",\"linecolor\":\"white\",\"minorgridcolor\":\"white\",\"startlinecolor\":\"#2a3f5f\"},\"type\":\"carpet\"}],\"choropleth\":[{\"colorbar\":{\"outlinewidth\":0,\"ticks\":\"\"},\"type\":\"choropleth\"}],\"contour\":[{\"colorbar\":{\"outlinewidth\":0,\"ticks\":\"\"},\"colorscale\":[[0.0,\"#0d0887\"],[0.1111111111111111,\"#46039f\"],[0.2222222222222222,\"#7201a8\"],[0.3333333333333333,\"#9c179e\"],[0.4444444444444444,\"#bd3786\"],[0.5555555555555556,\"#d8576b\"],[0.6666666666666666,\"#ed7953\"],[0.7777777777777778,\"#fb9f3a\"],[0.8888888888888888,\"#fdca26\"],[1.0,\"#f0f921\"]],\"type\":\"contour\"}],\"contourcarpet\":[{\"colorbar\":{\"outlinewidth\":0,\"ticks\":\"\"},\"type\":\"contourcarpet\"}],\"heatmap\":[{\"colorbar\":{\"outlinewidth\":0,\"ticks\":\"\"},\"colorscale\":[[0.0,\"#0d0887\"],[0.1111111111111111,\"#46039f\"],[0.2222222222222222,\"#7201a8\"],[0.3333333333333333,\"#9c179e\"],[0.4444444444444444,\"#bd3786\"],[0.5555555555555556,\"#d8576b\"],[0.6666666666666666,\"#ed7953\"],[0.7777777777777778,\"#fb9f3a\"],[0.8888888888888888,\"#fdca26\"],[1.0,\"#f0f921\"]],\"type\":\"heatmap\"}],\"heatmapgl\":[{\"colorbar\":{\"outlinewidth\":0,\"ticks\":\"\"},\"colorscale\":[[0.0,\"#0d0887\"],[0.1111111111111111,\"#46039f\"],[0.2222222222222222,\"#7201a8\"],[0.3333333333333333,\"#9c179e\"],[0.4444444444444444,\"#bd3786\"],[0.5555555555555556,\"#d8576b\"],[0.6666666666666666,\"#ed7953\"],[0.7777777777777778,\"#fb9f3a\"],[0.8888888888888888,\"#fdca26\"],[1.0,\"#f0f921\"]],\"type\":\"heatmapgl\"}],\"histogram\":[{\"marker\":{\"pattern\":{\"fillmode\":\"overlay\",\"size\":10,\"solidity\":0.2}},\"type\":\"histogram\"}],\"histogram2d\":[{\"colorbar\":{\"outlinewidth\":0,\"ticks\":\"\"},\"colorscale\":[[0.0,\"#0d0887\"],[0.1111111111111111,\"#46039f\"],[0.2222222222222222,\"#7201a8\"],[0.3333333333333333,\"#9c179e\"],[0.4444444444444444,\"#bd3786\"],[0.5555555555555556,\"#d8576b\"],[0.6666666666666666,\"#ed7953\"],[0.7777777777777778,\"#fb9f3a\"],[0.8888888888888888,\"#fdca26\"],[1.0,\"#f0f921\"]],\"type\":\"histogram2d\"}],\"histogram2dcontour\":[{\"colorbar\":{\"outlinewidth\":0,\"ticks\":\"\"},\"colorscale\":[[0.0,\"#0d0887\"],[0.1111111111111111,\"#46039f\"],[0.2222222222222222,\"#7201a8\"],[0.3333333333333333,\"#9c179e\"],[0.4444444444444444,\"#bd3786\"],[0.5555555555555556,\"#d8576b\"],[0.6666666666666666,\"#ed7953\"],[0.7777777777777778,\"#fb9f3a\"],[0.8888888888888888,\"#fdca26\"],[1.0,\"#f0f921\"]],\"type\":\"histogram2dcontour\"}],\"mesh3d\":[{\"colorbar\":{\"outlinewidth\":0,\"ticks\":\"\"},\"type\":\"mesh3d\"}],\"parcoords\":[{\"line\":{\"colorbar\":{\"outlinewidth\":0,\"ticks\":\"\"}},\"type\":\"parcoords\"}],\"pie\":[{\"automargin\":true,\"type\":\"pie\"}],\"scatter\":[{\"marker\":{\"colorbar\":{\"outlinewidth\":0,\"ticks\":\"\"}},\"type\":\"scatter\"}],\"scatter3d\":[{\"line\":{\"colorbar\":{\"outlinewidth\":0,\"ticks\":\"\"}},\"marker\":{\"colorbar\":{\"outlinewidth\":0,\"ticks\":\"\"}},\"type\":\"scatter3d\"}],\"scattercarpet\":[{\"marker\":{\"colorbar\":{\"outlinewidth\":0,\"ticks\":\"\"}},\"type\":\"scattercarpet\"}],\"scattergeo\":[{\"marker\":{\"colorbar\":{\"outlinewidth\":0,\"ticks\":\"\"}},\"type\":\"scattergeo\"}],\"scattergl\":[{\"marker\":{\"colorbar\":{\"outlinewidth\":0,\"ticks\":\"\"}},\"type\":\"scattergl\"}],\"scattermapbox\":[{\"marker\":{\"colorbar\":{\"outlinewidth\":0,\"ticks\":\"\"}},\"type\":\"scattermapbox\"}],\"scatterpolar\":[{\"marker\":{\"colorbar\":{\"outlinewidth\":0,\"ticks\":\"\"}},\"type\":\"scatterpolar\"}],\"scatterpolargl\":[{\"marker\":{\"colorbar\":{\"outlinewidth\":0,\"ticks\":\"\"}},\"type\":\"scatterpolargl\"}],\"scatterternary\":[{\"marker\":{\"colorbar\":{\"outlinewidth\":0,\"ticks\":\"\"}},\"type\":\"scatterternary\"}],\"surface\":[{\"colorbar\":{\"outlinewidth\":0,\"ticks\":\"\"},\"colorscale\":[[0.0,\"#0d0887\"],[0.1111111111111111,\"#46039f\"],[0.2222222222222222,\"#7201a8\"],[0.3333333333333333,\"#9c179e\"],[0.4444444444444444,\"#bd3786\"],[0.5555555555555556,\"#d8576b\"],[0.6666666666666666,\"#ed7953\"],[0.7777777777777778,\"#fb9f3a\"],[0.8888888888888888,\"#fdca26\"],[1.0,\"#f0f921\"]],\"type\":\"surface\"}],\"table\":[{\"cells\":{\"fill\":{\"color\":\"#EBF0F8\"},\"line\":{\"color\":\"white\"}},\"header\":{\"fill\":{\"color\":\"#C8D4E3\"},\"line\":{\"color\":\"white\"}},\"type\":\"table\"}]},\"layout\":{\"annotationdefaults\":{\"arrowcolor\":\"#2a3f5f\",\"arrowhead\":0,\"arrowwidth\":1},\"autotypenumbers\":\"strict\",\"coloraxis\":{\"colorbar\":{\"outlinewidth\":0,\"ticks\":\"\"}},\"colorscale\":{\"diverging\":[[0,\"#8e0152\"],[0.1,\"#c51b7d\"],[0.2,\"#de77ae\"],[0.3,\"#f1b6da\"],[0.4,\"#fde0ef\"],[0.5,\"#f7f7f7\"],[0.6,\"#e6f5d0\"],[0.7,\"#b8e186\"],[0.8,\"#7fbc41\"],[0.9,\"#4d9221\"],[1,\"#276419\"]],\"sequential\":[[0.0,\"#0d0887\"],[0.1111111111111111,\"#46039f\"],[0.2222222222222222,\"#7201a8\"],[0.3333333333333333,\"#9c179e\"],[0.4444444444444444,\"#bd3786\"],[0.5555555555555556,\"#d8576b\"],[0.6666666666666666,\"#ed7953\"],[0.7777777777777778,\"#fb9f3a\"],[0.8888888888888888,\"#fdca26\"],[1.0,\"#f0f921\"]],\"sequentialminus\":[[0.0,\"#0d0887\"],[0.1111111111111111,\"#46039f\"],[0.2222222222222222,\"#7201a8\"],[0.3333333333333333,\"#9c179e\"],[0.4444444444444444,\"#bd3786\"],[0.5555555555555556,\"#d8576b\"],[0.6666666666666666,\"#ed7953\"],[0.7777777777777778,\"#fb9f3a\"],[0.8888888888888888,\"#fdca26\"],[1.0,\"#f0f921\"]]},\"colorway\":[\"#636efa\",\"#EF553B\",\"#00cc96\",\"#ab63fa\",\"#FFA15A\",\"#19d3f3\",\"#FF6692\",\"#B6E880\",\"#FF97FF\",\"#FECB52\"],\"font\":{\"color\":\"#2a3f5f\"},\"geo\":{\"bgcolor\":\"white\",\"lakecolor\":\"white\",\"landcolor\":\"#E5ECF6\",\"showlakes\":true,\"showland\":true,\"subunitcolor\":\"white\"},\"hoverlabel\":{\"align\":\"left\"},\"hovermode\":\"closest\",\"mapbox\":{\"style\":\"light\"},\"paper_bgcolor\":\"white\",\"plot_bgcolor\":\"#E5ECF6\",\"polar\":{\"angularaxis\":{\"gridcolor\":\"white\",\"linecolor\":\"white\",\"ticks\":\"\"},\"bgcolor\":\"#E5ECF6\",\"radialaxis\":{\"gridcolor\":\"white\",\"linecolor\":\"white\",\"ticks\":\"\"}},\"scene\":{\"xaxis\":{\"backgroundcolor\":\"#E5ECF6\",\"gridcolor\":\"white\",\"gridwidth\":2,\"linecolor\":\"white\",\"showbackground\":true,\"ticks\":\"\",\"zerolinecolor\":\"white\"},\"yaxis\":{\"backgroundcolor\":\"#E5ECF6\",\"gridcolor\":\"white\",\"gridwidth\":2,\"linecolor\":\"white\",\"showbackground\":true,\"ticks\":\"\",\"zerolinecolor\":\"white\"},\"zaxis\":{\"backgroundcolor\":\"#E5ECF6\",\"gridcolor\":\"white\",\"gridwidth\":2,\"linecolor\":\"white\",\"showbackground\":true,\"ticks\":\"\",\"zerolinecolor\":\"white\"}},\"shapedefaults\":{\"line\":{\"color\":\"#2a3f5f\"}},\"ternary\":{\"aaxis\":{\"gridcolor\":\"white\",\"linecolor\":\"white\",\"ticks\":\"\"},\"baxis\":{\"gridcolor\":\"white\",\"linecolor\":\"white\",\"ticks\":\"\"},\"bgcolor\":\"#E5ECF6\",\"caxis\":{\"gridcolor\":\"white\",\"linecolor\":\"white\",\"ticks\":\"\"}},\"title\":{\"x\":0.05},\"xaxis\":{\"automargin\":true,\"gridcolor\":\"white\",\"linecolor\":\"white\",\"ticks\":\"\",\"title\":{\"standoff\":15},\"zerolinecolor\":\"white\",\"zerolinewidth\":2},\"yaxis\":{\"automargin\":true,\"gridcolor\":\"white\",\"linecolor\":\"white\",\"ticks\":\"\",\"title\":{\"standoff\":15},\"zerolinecolor\":\"white\",\"zerolinewidth\":2}}},\"xaxis\":{\"anchor\":\"y\",\"domain\":[0.0,1.0],\"title\":{\"text\":\"rate\"}},\"yaxis\":{\"anchor\":\"x\",\"domain\":[0.0,1.0],\"title\":{\"text\":\"\"}},\"legend\":{\"tracegroupgap\":0},\"title\":{\"text\":\"Sales Funnel\"}},                        {\"responsive\": true}                    ).then(function(){\n",
       "                            \n",
       "var gd = document.getElementById('11ba6b73-9462-412c-98df-9193d11f5c5e');\n",
       "var x = new MutationObserver(function (mutations, observer) {{\n",
       "        var display = window.getComputedStyle(gd).display;\n",
       "        if (!display || display === 'none') {{\n",
       "            console.log([gd, 'removed!']);\n",
       "            Plotly.purge(gd);\n",
       "            observer.disconnect();\n",
       "        }}\n",
       "}});\n",
       "\n",
       "// Listen for the removal of the full notebook cells\n",
       "var notebookContainer = gd.closest('#notebook-container');\n",
       "if (notebookContainer) {{\n",
       "    x.observe(notebookContainer, {childList: true});\n",
       "}}\n",
       "\n",
       "// Listen for the clearing of the current output cell\n",
       "var outputEl = gd.closest('.output');\n",
       "if (outputEl) {{\n",
       "    x.observe(outputEl, {childList: true});\n",
       "}}\n",
       "\n",
       "                        })                };                });            </script>        </div>"
      ]
     },
     "metadata": {},
     "output_type": "display_data"
    }
   ],
   "source": [
    "import plotly.express as px\n",
    "fig = px.funnel(users_events, x='rate'\n",
    "                ,y=[\"MainScreenAppear\", \"OffersScreenAppear\", \"CartScreenAppear\", \"PaymentScreenSuccessful\"]\n",
    "                ,title='Sales Funnel',\n",
    "                labels={\"y\": \"\"})\n",
    "fig.show()\n",
    "\n",
    "\n"
   ]
  },
  {
   "attachments": {
    "%D0%A1%D0%BD%D0%B8%D0%BC%D0%BE%D0%BA%20%D1%8D%D0%BA%D1%80%D0%B0%D0%BD%D0%B0%202023-06-06%20%D0%B2%2020.56.27.png": {
     "image/png": "[encoded data removed]"
    }
   },
   "cell_type": "markdown",
   "metadata": {},
   "source": [
    "![%D0%A1%D0%BD%D0%B8%D0%BC%D0%BE%D0%BA%20%D1%8D%D0%BA%D1%80%D0%B0%D0%BD%D0%B0%202023-06-06%20%D0%B2%2020.56.27.png](attachment:%D0%A1%D0%BD%D0%B8%D0%BC%D0%BE%D0%BA%20%D1%8D%D0%BA%D1%80%D0%B0%D0%BD%D0%B0%202023-06-06%20%D0%B2%2020.56.27.png)"
   ]
  },
  {
   "cell_type": "markdown",
   "metadata": {},
   "source": [
    "# Изучение результатов эксперимента\n",
    "<a id=\"experiment\"></a>\n",
    "\n",
    "[К ОГЛАВЛЕНИЮ](#back_to_title)"
   ]
  },
  {
   "cell_type": "markdown",
   "metadata": {},
   "source": [
    "Для начала посмотрим, сколько всего пользователей в каждой экспериментальной группе:"
   ]
  },
  {
   "cell_type": "code",
   "execution_count": 142,
   "metadata": {},
   "outputs": [],
   "source": [
    "data_new_one=data_new.query('event_name!=\"Tutorial\"') #создаем новый датасет, в котором отсутствует этап Tutorial\n"
   ]
  },
  {
   "cell_type": "code",
   "execution_count": 143,
   "metadata": {},
   "outputs": [
    {
     "data": {
      "text/html": [
       "<div>\n",
       "<style scoped>\n",
       "    .dataframe tbody tr th:only-of-type {\n",
       "        vertical-align: middle;\n",
       "    }\n",
       "\n",
       "    .dataframe tbody tr th {\n",
       "        vertical-align: top;\n",
       "    }\n",
       "\n",
       "    .dataframe thead th {\n",
       "        text-align: right;\n",
       "    }\n",
       "</style>\n",
       "<table border=\"1\" class=\"dataframe\">\n",
       "  <thead>\n",
       "    <tr style=\"text-align: right;\">\n",
       "      <th></th>\n",
       "      <th>group</th>\n",
       "      <th>device_id</th>\n",
       "    </tr>\n",
       "  </thead>\n",
       "  <tbody>\n",
       "    <tr>\n",
       "      <th>0</th>\n",
       "      <td>246</td>\n",
       "      <td>2483</td>\n",
       "    </tr>\n",
       "    <tr>\n",
       "      <th>1</th>\n",
       "      <td>247</td>\n",
       "      <td>2512</td>\n",
       "    </tr>\n",
       "    <tr>\n",
       "      <th>2</th>\n",
       "      <td>248</td>\n",
       "      <td>2535</td>\n",
       "    </tr>\n",
       "  </tbody>\n",
       "</table>\n",
       "</div>"
      ],
      "text/plain": [
       "   group  device_id\n",
       "0    246       2483\n",
       "1    247       2512\n",
       "2    248       2535"
      ]
     },
     "metadata": {},
     "output_type": "display_data"
    }
   ],
   "source": [
    "total = data_new_one.pivot_table(index='group',values='device_id', aggfunc='nunique').reset_index()\n",
    "display(total)\n",
    "\n",
    "\n",
    "\n"
   ]
  },
  {
   "cell_type": "markdown",
   "metadata": {},
   "source": [
    "Проверим, пересекаются ли пользователи в группах между собой:"
   ]
  },
  {
   "cell_type": "code",
   "execution_count": 187,
   "metadata": {},
   "outputs": [
    {
     "data": {
      "text/html": [
       "<div>\n",
       "<style scoped>\n",
       "    .dataframe tbody tr th:only-of-type {\n",
       "        vertical-align: middle;\n",
       "    }\n",
       "\n",
       "    .dataframe tbody tr th {\n",
       "        vertical-align: top;\n",
       "    }\n",
       "\n",
       "    .dataframe thead th {\n",
       "        text-align: right;\n",
       "    }\n",
       "</style>\n",
       "<table border=\"1\" class=\"dataframe\">\n",
       "  <thead>\n",
       "    <tr style=\"text-align: right;\">\n",
       "      <th></th>\n",
       "      <th>group</th>\n",
       "    </tr>\n",
       "    <tr>\n",
       "      <th>device_id</th>\n",
       "      <th></th>\n",
       "    </tr>\n",
       "  </thead>\n",
       "  <tbody>\n",
       "  </tbody>\n",
       "</table>\n",
       "</div>"
      ],
      "text/plain": [
       "Empty DataFrame\n",
       "Columns: [group]\n",
       "Index: []"
      ]
     },
     "execution_count": 187,
     "metadata": {},
     "output_type": "execute_result"
    }
   ],
   "source": [
    "# Проверим пользователей, которые могли участвовать в двух или нескольких группах одновременно:\n",
    "data_new_one.groupby('device_id').agg({'group':'nunique'}).query('group > 1') \n"
   ]
  },
  {
   "cell_type": "markdown",
   "metadata": {},
   "source": [
    "Пользователи в группах не пересекаются"
   ]
  },
  {
   "cell_type": "markdown",
   "metadata": {},
   "source": [
    "В рамках эксперимента есть 2 контрольные группы для А/А-эксперимента, чтобы проверить корректность всех механизмов и расчётов. Проверим, находят ли статистические критерии разницу между выборками 246 и 247.\n",
    "\n",
    "Создадим функцию для расчета статистических критериев разницы: "
   ]
  },
  {
   "cell_type": "code",
   "execution_count": 146,
   "metadata": {},
   "outputs": [],
   "source": [
    "\n",
    "def func (successes1, successes2, trials1, trials2, alpha=0.05):\n",
    "    p1 = successes1/trials1\n",
    "    p2 = successes2/trials2\n",
    "    p_combined = (successes1 + successes2) / (trials1 + trials2)\n",
    "    difference = p1 - p2 \n",
    "    z_value = difference / mth.sqrt(p_combined * (1 - p_combined) * (1/trials1 + 1/trials2))\n",
    "    distr = stats.norm(0, 1)  \n",
    "    p_value = (1 - distr.cdf(abs(z_value))) * 2\n",
    "\n",
    "    print('p-значение: ', p_value)\n",
    "\n",
    "    if p_value < alpha:\n",
    "        print('Отвергаем нулевую гипотезу: между долями есть значимая разница')\n",
    "    else:\n",
    "        print(\n",
    "       'Не получилось отвергнуть нулевую гипотезу, нет оснований считать доли разными'\n",
    "        ) \n",
    "  "
   ]
  },
  {
   "cell_type": "markdown",
   "metadata": {},
   "source": [
    "Нулевая гипотеза -  пропорций двух генеральных совокупностей равны. "
   ]
  },
  {
   "cell_type": "markdown",
   "metadata": {},
   "source": [
    "Выберем самое популярное событие. Это 'MainScreenAppear'. Посчитаем число пользователей, совершивших это событие в каждой из контрольных групп. "
   ]
  },
  {
   "cell_type": "code",
   "execution_count": 147,
   "metadata": {},
   "outputs": [
    {
     "data": {
      "text/html": [
       "<div>\n",
       "<style scoped>\n",
       "    .dataframe tbody tr th:only-of-type {\n",
       "        vertical-align: middle;\n",
       "    }\n",
       "\n",
       "    .dataframe tbody tr th {\n",
       "        vertical-align: top;\n",
       "    }\n",
       "\n",
       "    .dataframe thead th {\n",
       "        text-align: right;\n",
       "    }\n",
       "</style>\n",
       "<table border=\"1\" class=\"dataframe\">\n",
       "  <thead>\n",
       "    <tr style=\"text-align: right;\">\n",
       "      <th></th>\n",
       "      <th>event_name</th>\n",
       "      <th>a1</th>\n",
       "      <th>a2</th>\n",
       "      <th>b</th>\n",
       "    </tr>\n",
       "  </thead>\n",
       "  <tbody>\n",
       "    <tr>\n",
       "      <th>0</th>\n",
       "      <td>MainScreenAppear</td>\n",
       "      <td>2450</td>\n",
       "      <td>2476</td>\n",
       "      <td>2493</td>\n",
       "    </tr>\n",
       "  </tbody>\n",
       "</table>\n",
       "</div>"
      ],
      "text/plain": [
       "         event_name    a1    a2     b\n",
       "0  MainScreenAppear  2450  2476  2493"
      ]
     },
     "metadata": {},
     "output_type": "display_data"
    }
   ],
   "source": [
    "main_screen = data_new_one.query('event_name==\"MainScreenAppear\"').pivot_table(index=['event_name'], values = 'device_id',columns=['group'], aggfunc='nunique')\n",
    "main_screen = main_screen.reset_index()\n",
    "main_screen.columns = ['event_name', 'a1','a2','b']\n",
    "display(main_screen)"
   ]
  },
  {
   "cell_type": "markdown",
   "metadata": {},
   "source": [
    "Посчитаем долю пользователей, совершивших это событие."
   ]
  },
  {
   "cell_type": "code",
   "execution_count": 148,
   "metadata": {},
   "outputs": [
    {
     "data": {
      "text/plain": [
       "99"
      ]
     },
     "metadata": {},
     "output_type": "display_data"
    },
    {
     "data": {
      "text/plain": [
       "99"
      ]
     },
     "metadata": {},
     "output_type": "display_data"
    }
   ],
   "source": [
    "main_246 = display(round(2450*100/2484))\n",
    "main_247 = display(round(2476*100/2513))"
   ]
  },
  {
   "cell_type": "markdown",
   "metadata": {},
   "source": [
    "\n",
    "Проверим, будет ли отличие между группами статистически достоверным. Проделаем то же самое для всех других событий (удобно обернуть проверку в отдельную функцию). Можно ли сказать, что разбиение на группы работает корректно?"
   ]
  },
  {
   "cell_type": "code",
   "execution_count": 149,
   "metadata": {},
   "outputs": [
    {
     "data": {
      "text/html": [
       "<div>\n",
       "<style scoped>\n",
       "    .dataframe tbody tr th:only-of-type {\n",
       "        vertical-align: middle;\n",
       "    }\n",
       "\n",
       "    .dataframe tbody tr th {\n",
       "        vertical-align: top;\n",
       "    }\n",
       "\n",
       "    .dataframe thead th {\n",
       "        text-align: right;\n",
       "    }\n",
       "</style>\n",
       "<table border=\"1\" class=\"dataframe\">\n",
       "  <thead>\n",
       "    <tr style=\"text-align: right;\">\n",
       "      <th></th>\n",
       "      <th>event_name</th>\n",
       "      <th>a1</th>\n",
       "      <th>a2</th>\n",
       "      <th>b</th>\n",
       "    </tr>\n",
       "  </thead>\n",
       "  <tbody>\n",
       "    <tr>\n",
       "      <th>0</th>\n",
       "      <td>CartScreenAppear</td>\n",
       "      <td>1266</td>\n",
       "      <td>1238</td>\n",
       "      <td>1230</td>\n",
       "    </tr>\n",
       "    <tr>\n",
       "      <th>1</th>\n",
       "      <td>MainScreenAppear</td>\n",
       "      <td>2450</td>\n",
       "      <td>2476</td>\n",
       "      <td>2493</td>\n",
       "    </tr>\n",
       "    <tr>\n",
       "      <th>2</th>\n",
       "      <td>OffersScreenAppear</td>\n",
       "      <td>1542</td>\n",
       "      <td>1520</td>\n",
       "      <td>1531</td>\n",
       "    </tr>\n",
       "    <tr>\n",
       "      <th>3</th>\n",
       "      <td>PaymentScreenSuccessful</td>\n",
       "      <td>1200</td>\n",
       "      <td>1158</td>\n",
       "      <td>1181</td>\n",
       "    </tr>\n",
       "  </tbody>\n",
       "</table>\n",
       "</div>"
      ],
      "text/plain": [
       "                event_name    a1    a2     b\n",
       "0         CartScreenAppear  1266  1238  1230\n",
       "1         MainScreenAppear  2450  2476  2493\n",
       "2       OffersScreenAppear  1542  1520  1531\n",
       "3  PaymentScreenSuccessful  1200  1158  1181"
      ]
     },
     "metadata": {},
     "output_type": "display_data"
    }
   ],
   "source": [
    "funnel = (data_new_one.pivot_table(index='event_name', values = 'device_id',columns=['group'], aggfunc='nunique')).reset_index()\n",
    "funnel.columns= ['event_name','a1','a2','b']\n",
    "display(funnel)"
   ]
  },
  {
   "cell_type": "code",
   "execution_count": 150,
   "metadata": {},
   "outputs": [
    {
     "name": "stdout",
     "output_type": "stream",
     "text": [
      "p-значение:  0.7526703436483038\n",
      "Не получилось отвергнуть нулевую гипотезу, нет оснований считать доли разными\n"
     ]
    }
   ],
   "source": [
    "#Проверим, будет ли отличие между группами по событию MainScreenAppear статистически достоверным\n",
    "\n",
    "#func(2450, 2476, 2483, 2512)\n",
    "\n",
    "\n",
    "successes1 = funnel.loc[1,\"a1\"] \n",
    "successes2 = funnel.loc[1,\"a2\"] \n",
    "trials1 = total.loc[0,'device_id']\n",
    "trials2 = total.loc[1,'device_id']\n",
    "\n",
    "func(successes1, successes2, trials1, trials2)"
   ]
  },
  {
   "cell_type": "code",
   "execution_count": 151,
   "metadata": {},
   "outputs": [
    {
     "name": "stdout",
     "output_type": "stream",
     "text": [
      "p-значение:  0.24786096925282264\n",
      "Не получилось отвергнуть нулевую гипотезу, нет оснований считать доли разными\n"
     ]
    }
   ],
   "source": [
    "#Проверим, будет ли отличие между группами по событию OffersScreenAppear статистически достоверным\n",
    "\n",
    "#func(1542,1520, 2483, 2512)\n",
    "\n",
    "successes1 = funnel.loc[2,\"a1\"] \n",
    "successes2 = funnel.loc[2,\"a2\"] \n",
    "trials1 = total.loc[0,'device_id']\n",
    "trials2 = total.loc[1,'device_id']\n",
    "\n",
    "func(successes1, successes2, trials1, trials2)"
   ]
  },
  {
   "cell_type": "code",
   "execution_count": 152,
   "metadata": {},
   "outputs": [
    {
     "name": "stdout",
     "output_type": "stream",
     "text": [
      "p-значение:  0.22867643757335676\n",
      "Не получилось отвергнуть нулевую гипотезу, нет оснований считать доли разными\n"
     ]
    }
   ],
   "source": [
    "#Проверим, будет ли отличие между группами по событию CartScreenAppear статистически достоверным\n",
    "\n",
    "#func(1266, 1238, 2483, 2512)\n",
    "\n",
    "successes1 = funnel.loc[0,\"a1\"] \n",
    "successes2 = funnel.loc[0,\"a2\"] \n",
    "trials1 = total.loc[0,'device_id']\n",
    "trials2 = total.loc[1,'device_id']\n",
    "\n",
    "func(successes1, successes2, trials1, trials2)\n"
   ]
  },
  {
   "cell_type": "code",
   "execution_count": 153,
   "metadata": {},
   "outputs": [
    {
     "name": "stdout",
     "output_type": "stream",
     "text": [
      "p-значение:  0.11446627829276612\n",
      "Не получилось отвергнуть нулевую гипотезу, нет оснований считать доли разными\n"
     ]
    }
   ],
   "source": [
    "#Проверим, будет ли отличие между группами по событию PaymentScreenSuccessful статистически достоверным\n",
    "\n",
    "#func(1200, 1158, 2483, 2512)\n",
    "\n",
    "successes1 = funnel.loc[3,\"a1\"] \n",
    "successes2 = funnel.loc[3,\"a2\"] \n",
    "trials1 = total.loc[0,'device_id']\n",
    "trials2 = total.loc[1,'device_id']\n",
    "\n",
    "func(successes1, successes2, trials1, trials2)"
   ]
  },
  {
   "cell_type": "markdown",
   "metadata": {},
   "source": [
    "По всем событиям для двух контрольных групп нет оснований считать доли этих событий разными. Таким образом, трафик выделен корректно, можно продолжать анализ данных и сравнивать группы А с группой B. "
   ]
  },
  {
   "cell_type": "markdown",
   "metadata": {},
   "source": [
    "Аналогично поступим с группой с изменённым шрифтом. Сравним результаты с каждой из контрольных групп в отдельности по каждому событию. Сравним результаты с объединённой контрольной группой. Посмотрим, какие выводы из эксперимента можно сделать."
   ]
  },
  {
   "cell_type": "markdown",
   "metadata": {},
   "source": [
    "В начале сравним контрольную группу 246 с экспериментальной группой 248.\n"
   ]
  },
  {
   "cell_type": "code",
   "execution_count": 154,
   "metadata": {},
   "outputs": [
    {
     "name": "stdout",
     "output_type": "stream",
     "text": [
      "p-значение:  0.3387114076159288\n",
      "Не получилось отвергнуть нулевую гипотезу, нет оснований считать доли разными\n"
     ]
    }
   ],
   "source": [
    "#Проверим, будет ли отличие между группами по событию MainScreenAppear статистически достоверным\n",
    "\n",
    "#func(2450, 2493, 2483, 2535)\n",
    "\n",
    "successes1 = funnel.loc[1,\"a1\"] \n",
    "successes2 = funnel.loc[1,\"b\"] \n",
    "trials1 = total.loc[0,'device_id']\n",
    "trials2 = total.loc[2,'device_id']\n",
    "\n",
    "func(successes1, successes2, trials1, trials2)"
   ]
  },
  {
   "cell_type": "code",
   "execution_count": 155,
   "metadata": {},
   "outputs": [
    {
     "name": "stdout",
     "output_type": "stream",
     "text": [
      "p-значение:  0.21442476639710506\n",
      "Не получилось отвергнуть нулевую гипотезу, нет оснований считать доли разными\n"
     ]
    }
   ],
   "source": [
    "#Проверим, будет ли отличие между группами по событию OffersScreenAppear статистически достоверным\n",
    "\n",
    "#func(1542, 1531, 2483, 2535)\n",
    "\n",
    "successes1 = funnel.loc[2,\"a1\"] \n",
    "successes2 = funnel.loc[2,\"b\"] \n",
    "trials1 = total.loc[0,'device_id']\n",
    "trials2 = total.loc[2,'device_id']\n",
    "\n",
    "func(successes1, successes2, trials1, trials2)"
   ]
  },
  {
   "cell_type": "code",
   "execution_count": 156,
   "metadata": {},
   "outputs": [
    {
     "name": "stdout",
     "output_type": "stream",
     "text": [
      "p-значение:  0.08067367598823139\n",
      "Не получилось отвергнуть нулевую гипотезу, нет оснований считать доли разными\n"
     ]
    }
   ],
   "source": [
    "#Проверим, будет ли отличие между группами по событию CartScreenAppear статистически достоверным\n",
    "\n",
    "#func(1266, 1230, 2483, 2535)\n",
    "\n",
    "successes1 = funnel.loc[0,\"a1\"] \n",
    "successes2 = funnel.loc[0,\"b\"] \n",
    "trials1 = total.loc[0,'device_id']\n",
    "trials2 = total.loc[2,'device_id']\n",
    "\n",
    "func(successes1, successes2, trials1, trials2)"
   ]
  },
  {
   "cell_type": "code",
   "execution_count": 157,
   "metadata": {},
   "outputs": [
    {
     "name": "stdout",
     "output_type": "stream",
     "text": [
      "p-значение:  0.21693033984516674\n",
      "Не получилось отвергнуть нулевую гипотезу, нет оснований считать доли разными\n"
     ]
    }
   ],
   "source": [
    "#Проверим, будет ли отличие между группами по событию PaymentScreenSuccessful статистически достоверным\n",
    "\n",
    "#func(1200, 1181, 2483, 2535)\n",
    "\n",
    "successes1 = funnel.loc[3,\"a1\"] \n",
    "successes2 = funnel.loc[3,\"b\"] \n",
    "trials1 = total.loc[0,'device_id']\n",
    "trials2 = total.loc[2,'device_id']\n",
    "\n",
    "func(successes1, successes2, trials1, trials2)"
   ]
  },
  {
   "cell_type": "markdown",
   "metadata": {},
   "source": [
    "Статистически значимой разницы между группами 246 и 248 не оказалось."
   ]
  },
  {
   "cell_type": "markdown",
   "metadata": {},
   "source": [
    "Теперь сравним контрольную группу 247 с экспериментальной группой 248"
   ]
  },
  {
   "cell_type": "code",
   "execution_count": 158,
   "metadata": {},
   "outputs": [
    {
     "name": "stdout",
     "output_type": "stream",
     "text": [
      "p-значение:  0.5194964354051703\n",
      "Не получилось отвергнуть нулевую гипотезу, нет оснований считать доли разными\n"
     ]
    }
   ],
   "source": [
    "#Проверим, будет ли отличие между группами по событию MainScreenAppear статистически достоверным\n",
    "\n",
    "#func(2476, 2493, 2512, 2535)\n",
    "\n",
    "successes1 = funnel.loc[1,\"a2\"] \n",
    "successes2 = funnel.loc[1,\"b\"] \n",
    "trials1 = total.loc[1,'device_id']\n",
    "trials2 = total.loc[2,'device_id']\n",
    "\n",
    "func(successes1, successes2, trials1, trials2)"
   ]
  },
  {
   "cell_type": "code",
   "execution_count": 159,
   "metadata": {},
   "outputs": [
    {
     "name": "stdout",
     "output_type": "stream",
     "text": [
      "p-значение:  0.9333751305879443\n",
      "Не получилось отвергнуть нулевую гипотезу, нет оснований считать доли разными\n"
     ]
    }
   ],
   "source": [
    "#Проверим, будет ли отличие между группами по событию OffersScreenAppear статистически достоверным\n",
    "\n",
    "#func(1520, 1531, 2512, 2535)\n",
    "\n",
    "successes1 = funnel.loc[2,\"a2\"] \n",
    "successes2 = funnel.loc[2,\"b\"] \n",
    "trials1 = total.loc[1,'device_id']\n",
    "trials2 = total.loc[2,'device_id']\n",
    "\n",
    "func(successes1, successes2, trials1, trials2)"
   ]
  },
  {
   "cell_type": "code",
   "execution_count": 160,
   "metadata": {},
   "outputs": [
    {
     "name": "stdout",
     "output_type": "stream",
     "text": [
      "p-значение:  0.5878284605111943\n",
      "Не получилось отвергнуть нулевую гипотезу, нет оснований считать доли разными\n"
     ]
    }
   ],
   "source": [
    "#Проверим, будет ли отличие между группами по событию CartScreenAppear статистически достоверным\n",
    "\n",
    "#func(1238, 1230, 2512, 2535)\n",
    "\n",
    "successes1 = funnel.loc[0,\"a2\"] \n",
    "successes2 = funnel.loc[0,\"b\"] \n",
    "trials1 = total.loc[1,'device_id']\n",
    "trials2 = total.loc[2,'device_id']\n",
    "\n",
    "func(successes1, successes2, trials1, trials2)"
   ]
  },
  {
   "cell_type": "code",
   "execution_count": 161,
   "metadata": {},
   "outputs": [
    {
     "name": "stdout",
     "output_type": "stream",
     "text": [
      "p-значение:  0.7275718682261119\n",
      "Не получилось отвергнуть нулевую гипотезу, нет оснований считать доли разными\n"
     ]
    }
   ],
   "source": [
    "#Проверим, будет ли отличие между группами по событию PaymentScreenSuccessful статистически достоверным\n",
    "\n",
    "#func(1158, 1181, 2512, 2535)\n",
    "\n",
    "successes1 = funnel.loc[3,\"a2\"] \n",
    "successes2 = funnel.loc[3,\"b\"] \n",
    "trials1 = total.loc[1,'device_id']\n",
    "trials2 = total.loc[2,'device_id']\n",
    "\n",
    "func(successes1, successes2, trials1, trials2)"
   ]
  },
  {
   "cell_type": "markdown",
   "metadata": {},
   "source": [
    "Статистически значимой разницы между группами 247 и 248 не оказалось. Сравним результаты с объединённой контрольной группой"
   ]
  },
  {
   "cell_type": "code",
   "execution_count": 162,
   "metadata": {},
   "outputs": [
    {
     "data": {
      "text/html": [
       "<div>\n",
       "<style scoped>\n",
       "    .dataframe tbody tr th:only-of-type {\n",
       "        vertical-align: middle;\n",
       "    }\n",
       "\n",
       "    .dataframe tbody tr th {\n",
       "        vertical-align: top;\n",
       "    }\n",
       "\n",
       "    .dataframe thead th {\n",
       "        text-align: right;\n",
       "    }\n",
       "</style>\n",
       "<table border=\"1\" class=\"dataframe\">\n",
       "  <thead>\n",
       "    <tr style=\"text-align: right;\">\n",
       "      <th></th>\n",
       "      <th>event_name</th>\n",
       "      <th>a1</th>\n",
       "      <th>a2</th>\n",
       "      <th>b</th>\n",
       "      <th>a3</th>\n",
       "    </tr>\n",
       "  </thead>\n",
       "  <tbody>\n",
       "    <tr>\n",
       "      <th>0</th>\n",
       "      <td>CartScreenAppear</td>\n",
       "      <td>1266</td>\n",
       "      <td>1238</td>\n",
       "      <td>1230</td>\n",
       "      <td>2504</td>\n",
       "    </tr>\n",
       "    <tr>\n",
       "      <th>1</th>\n",
       "      <td>MainScreenAppear</td>\n",
       "      <td>2450</td>\n",
       "      <td>2476</td>\n",
       "      <td>2493</td>\n",
       "      <td>4926</td>\n",
       "    </tr>\n",
       "    <tr>\n",
       "      <th>2</th>\n",
       "      <td>OffersScreenAppear</td>\n",
       "      <td>1542</td>\n",
       "      <td>1520</td>\n",
       "      <td>1531</td>\n",
       "      <td>3062</td>\n",
       "    </tr>\n",
       "    <tr>\n",
       "      <th>3</th>\n",
       "      <td>PaymentScreenSuccessful</td>\n",
       "      <td>1200</td>\n",
       "      <td>1158</td>\n",
       "      <td>1181</td>\n",
       "      <td>2358</td>\n",
       "    </tr>\n",
       "  </tbody>\n",
       "</table>\n",
       "</div>"
      ],
      "text/plain": [
       "                event_name    a1    a2     b    a3\n",
       "0         CartScreenAppear  1266  1238  1230  2504\n",
       "1         MainScreenAppear  2450  2476  2493  4926\n",
       "2       OffersScreenAppear  1542  1520  1531  3062\n",
       "3  PaymentScreenSuccessful  1200  1158  1181  2358"
      ]
     },
     "execution_count": 162,
     "metadata": {},
     "output_type": "execute_result"
    }
   ],
   "source": [
    "funnel['a3']=funnel['a1']+funnel['a2'] #считаем сумму по двум контрольным группам в новой колонке\n",
    "funnel"
   ]
  },
  {
   "cell_type": "code",
   "execution_count": 163,
   "metadata": {},
   "outputs": [
    {
     "data": {
      "text/plain": [
       "4995"
      ]
     },
     "metadata": {},
     "output_type": "display_data"
    }
   ],
   "source": [
    "#сумма уникальных айди пользователей в двух группах\n",
    "\n",
    "total_a = data_new_one.query('group == 246 or group == 247')['device_id'].nunique()\n",
    "display(total_a)"
   ]
  },
  {
   "cell_type": "code",
   "execution_count": 164,
   "metadata": {},
   "outputs": [
    {
     "name": "stdout",
     "output_type": "stream",
     "text": [
      "p-значение:  0.3486684291093256\n",
      "Не получилось отвергнуть нулевую гипотезу, нет оснований считать доли разными\n"
     ]
    }
   ],
   "source": [
    "#Проверим, будет ли отличие между группами по событию MainScreenAppear статистически достоверным\n",
    "\n",
    "#func(4926, 2493, 4995, 2535)\n",
    "\n",
    "successes1 = funnel.loc[1,\"a3\"] \n",
    "successes2 = funnel.loc[1,\"b\"] \n",
    "trials1 = total_a\n",
    "trials2 = total.loc[2,'device_id']\n",
    "\n",
    "func(successes1, successes2, trials1, trials2)"
   ]
  },
  {
   "cell_type": "code",
   "execution_count": 165,
   "metadata": {},
   "outputs": [
    {
     "name": "stdout",
     "output_type": "stream",
     "text": [
      "p-значение:  0.44582745409482394\n",
      "Не получилось отвергнуть нулевую гипотезу, нет оснований считать доли разными\n"
     ]
    }
   ],
   "source": [
    "#Проверим, будет ли отличие между группами по событию OffersScreenAppear статистически достоверным\n",
    "\n",
    "#func(3062, 1531, 4995, 2535)\n",
    "\n",
    "successes1 = funnel.loc[2,\"a3\"] \n",
    "successes2 = funnel.loc[2,\"b\"] \n",
    "trials1 = total_a\n",
    "trials2 = total.loc[2,'device_id']\n",
    "\n",
    "func(successes1, successes2, trials1, trials2)"
   ]
  },
  {
   "cell_type": "code",
   "execution_count": 166,
   "metadata": {},
   "outputs": [
    {
     "name": "stdout",
     "output_type": "stream",
     "text": [
      "p-значение:  0.18683558686831558\n",
      "Не получилось отвергнуть нулевую гипотезу, нет оснований считать доли разными\n"
     ]
    }
   ],
   "source": [
    "#Проверим, будет ли отличие между группами по событию CartScreenAppear статистически достоверным\n",
    "\n",
    "#func(2504, 1230, 4995, 2535)\n",
    "\n",
    "successes1 = funnel.loc[0,\"a3\"] \n",
    "successes2 = funnel.loc[0,\"b\"] \n",
    "trials1 = total_a\n",
    "trials2 = total.loc[2,'device_id']\n",
    "\n",
    "func(successes1, successes2, trials1, trials2)"
   ]
  },
  {
   "cell_type": "code",
   "execution_count": 167,
   "metadata": {},
   "outputs": [
    {
     "name": "stdout",
     "output_type": "stream",
     "text": [
      "p-значение:  0.6107918742187335\n",
      "Не получилось отвергнуть нулевую гипотезу, нет оснований считать доли разными\n"
     ]
    }
   ],
   "source": [
    "#Проверим, будет ли отличие между группами по событию PaymentScreenSuccessful статистически достоверным\n",
    "\n",
    "#func(2358, 1181, 4995, 2535)\n",
    "\n",
    "successes1 = funnel.loc[3,\"a3\"] \n",
    "successes2 = funnel.loc[3,\"b\"] \n",
    "trials1 = total_a\n",
    "trials2 = total.loc[2,'device_id']\n",
    "\n",
    "func(successes1, successes2, trials1, trials2)"
   ]
  },
  {
   "cell_type": "markdown",
   "metadata": {},
   "source": [
    "Статистически значимой разницы между объединенной контрольной группой и экспериментальной группой не оказалось. Таким образом, новые шрифты никак не влияют на конверсию пользователей на каждом этапе воронки. "
   ]
  },
  {
   "cell_type": "markdown",
   "metadata": {},
   "source": [
    "При проверке статистических гипотез выше был выбран уровент значимости 5%. Общее количество проверок статистических гипотез равно 1 (только однна экспериментальная группа с измененным шрифтом). При общем числе гипотез m = 1, FWER = ɑ, то есть 5%. Считаю возможным оставить текущий уровень значимости. \n"
   ]
  },
  {
   "cell_type": "markdown",
   "metadata": {},
   "source": [
    "# Выводы\n",
    "<a id=\"summary\"></a>\n",
    "\n",
    "[К ОГЛАВЛЕНИЮ](#back_to_title)"
   ]
  },
  {
   "cell_type": "markdown",
   "metadata": {},
   "source": [
    "**Предобработка данных**\n",
    "\n",
    "В ходе предобработки данных были переименованы колонки, данные изучены на пропущенные значения и дубликаты. Пропущенных значений не выявлено. Дубликаты выявлены и удалены. Колонка 'event_date' преведена к типу данных datetime. Из этой же колонки извлечена отдельно дата и создана новая колонка, содержащая только дату (без времени).\n",
    "\n",
    "Расчитано общее количество событий в логе (243713) и общее количество пользователей в логе (7551). На одного пользователя приходится в среднем 32 события. \n",
    "\n",
    "В датасете изначально охвачен период с 25 июля по 7 августа 2019 года. Была построена гистограмм с целью обнаружить период , данные за которые не являются полные. Такой период обнаружен - это данные до 1 августа.  В результате для дальнейшего анализа использовался период  с 1 по 7 августа 2019 года. Отбросив старые данные, мы потеряли 1,2% событий и 0,2% пользователей, что является вполне допустимым и не превышает 5%.\n",
    "\n",
    "**Анализ воронки продаж**\n",
    "\n",
    "Выявлены события, встречающиеся в логах (в порядке убывания встречаемости): \n",
    " 1) MainScreenAppear, 2) OffersScreenAppear , 3) CartScreenAppear, 4) PaymentScreenSuccessful, 5) Tutorial. \n",
    " \n",
    "События , указанные в предыдущем абзаце - это:\n",
    "1) Появление главного экрана, \n",
    "2) Появление экрана с предложениями покупок, 3) Появление экрана с корзиной, 4) Экран с успешно выполненной оплатой, 5) Обучающие материалы по продукту. Если убрать пункт с Обучающими материалами, то получается логичная и последовательная воронка продаж. \n",
    "\n",
    "По воронке расчитано, какая доля пользователей проходит на следующий шаг воронки (от числа пользователей на предыдущем). Больше всего пользователей в процентных пунктах (38 пп) теряется на этапе перехода с первого шага воронки на второй, а именно с Главного экрана на Экран предложений. От первого события (главный экран) до оплаты доходит 48% пользователей. \n",
    "\n",
    "**Результаты А/А/B теста**\n",
    "\n",
    "\n",
    "Проверили, является ли отличие между группами А и А статистически достоверным (по каждому событию воронки). Выявлено, что разбиение на группы работает корректно. По всем событиям для двух контрольных групп нет оснований считать доли этих событий разными. Таким образом, трафик выделен корректно. \n",
    "\n",
    "Далее сравнили результаты экспериментальной группы с каждой из контрольных групп в отдельности по каждому событию. Также сравнили результаты с объединённой контрольной группой. \n",
    "\n",
    "Статистически значимой разницы между 1) первой контрольной группой и экспериментальной группой, 2) второй контрольной группой и экспериментальной группой, 3) объединенной контрольной группой и экспериментальной группой **не оказалось**. \n",
    "\n",
    "Таким образом, новые шрифты никак не влияют на конверсию пользователей на каждом этапе воронки. \n"
   ]
  },
  {
   "cell_type": "markdown",
   "metadata": {},
   "source": [
    "[К ОГЛАВЛЕНИЮ](#back_to_title)"
   ]
  },
  {
   "cell_type": "code",
   "execution_count": null,
   "metadata": {},
   "outputs": [],
   "source": []
  }
 ],
 "metadata": {
  "ExecuteTimeLog": [
   {
    "duration": 1283,
    "start_time": "2022-12-22T21:45:30.495Z"
   },
   {
    "duration": 1143,
    "start_time": "2022-12-22T21:46:36.795Z"
   },
   {
    "duration": 73,
    "start_time": "2022-12-22T21:46:59.528Z"
   },
   {
    "duration": 299,
    "start_time": "2022-12-22T21:47:22.315Z"
   },
   {
    "duration": 278,
    "start_time": "2022-12-22T21:47:34.368Z"
   },
   {
    "duration": 98,
    "start_time": "2022-12-22T21:47:47.815Z"
   },
   {
    "duration": 303,
    "start_time": "2022-12-22T21:47:56.891Z"
   },
   {
    "duration": 77,
    "start_time": "2022-12-22T21:49:46.952Z"
   },
   {
    "duration": 286,
    "start_time": "2022-12-22T21:49:51.246Z"
   },
   {
    "duration": 297,
    "start_time": "2022-12-22T21:50:03.296Z"
   },
   {
    "duration": 266,
    "start_time": "2022-12-22T21:50:35.130Z"
   },
   {
    "duration": 302,
    "start_time": "2022-12-22T21:54:37.978Z"
   },
   {
    "duration": 285,
    "start_time": "2022-12-22T21:55:05.407Z"
   },
   {
    "duration": 282,
    "start_time": "2022-12-22T21:57:07.476Z"
   },
   {
    "duration": 2,
    "start_time": "2022-12-22T21:57:13.974Z"
   },
   {
    "duration": 265,
    "start_time": "2022-12-22T21:57:15.342Z"
   },
   {
    "duration": 3,
    "start_time": "2022-12-22T21:57:28.894Z"
   },
   {
    "duration": 139,
    "start_time": "2022-12-22T21:58:48.846Z"
   },
   {
    "duration": 147,
    "start_time": "2022-12-22T21:58:58.981Z"
   },
   {
    "duration": 153,
    "start_time": "2022-12-22T22:00:06.813Z"
   },
   {
    "duration": 8,
    "start_time": "2022-12-22T22:02:21.710Z"
   },
   {
    "duration": 3,
    "start_time": "2022-12-22T22:02:28.932Z"
   },
   {
    "duration": 7,
    "start_time": "2022-12-22T22:02:40.572Z"
   },
   {
    "duration": 18,
    "start_time": "2022-12-22T22:03:40.283Z"
   },
   {
    "duration": 57,
    "start_time": "2022-12-22T22:03:58.098Z"
   },
   {
    "duration": 10,
    "start_time": "2022-12-22T22:05:23.307Z"
   },
   {
    "duration": 67,
    "start_time": "2022-12-22T22:06:38.083Z"
   },
   {
    "duration": 3,
    "start_time": "2022-12-22T22:23:06.730Z"
   },
   {
    "duration": 150,
    "start_time": "2022-12-22T22:23:06.738Z"
   },
   {
    "duration": 8,
    "start_time": "2022-12-22T22:23:06.890Z"
   },
   {
    "duration": 28,
    "start_time": "2022-12-22T22:23:06.899Z"
   },
   {
    "duration": 53,
    "start_time": "2022-12-22T22:23:06.929Z"
   },
   {
    "duration": 79,
    "start_time": "2022-12-22T22:23:06.984Z"
   },
   {
    "duration": 63,
    "start_time": "2022-12-22T22:23:07.065Z"
   },
   {
    "duration": 56,
    "start_time": "2022-12-22T22:23:30.220Z"
   },
   {
    "duration": 58,
    "start_time": "2022-12-22T22:23:47.124Z"
   },
   {
    "duration": 63,
    "start_time": "2022-12-22T22:26:14.323Z"
   },
   {
    "duration": 57,
    "start_time": "2022-12-22T22:26:17.141Z"
   },
   {
    "duration": 7,
    "start_time": "2022-12-22T22:26:28.268Z"
   },
   {
    "duration": 11,
    "start_time": "2022-12-22T22:31:44.707Z"
   },
   {
    "duration": 19,
    "start_time": "2022-12-22T22:31:57.022Z"
   },
   {
    "duration": 10,
    "start_time": "2022-12-22T22:32:35.055Z"
   },
   {
    "duration": 16,
    "start_time": "2022-12-22T22:33:05.338Z"
   },
   {
    "duration": 17,
    "start_time": "2022-12-22T22:38:02.930Z"
   },
   {
    "duration": 17,
    "start_time": "2022-12-22T22:38:42.834Z"
   },
   {
    "duration": 16,
    "start_time": "2022-12-22T22:39:05.690Z"
   },
   {
    "duration": 94,
    "start_time": "2022-12-22T22:45:28.799Z"
   },
   {
    "duration": 9,
    "start_time": "2022-12-22T22:46:01.250Z"
   },
   {
    "duration": 19,
    "start_time": "2022-12-22T22:50:33.316Z"
   },
   {
    "duration": 17,
    "start_time": "2022-12-22T22:50:52.652Z"
   },
   {
    "duration": 16,
    "start_time": "2022-12-22T22:50:57.365Z"
   },
   {
    "duration": 17,
    "start_time": "2022-12-22T22:51:13.670Z"
   },
   {
    "duration": 135,
    "start_time": "2022-12-22T22:54:17.194Z"
   },
   {
    "duration": 4,
    "start_time": "2022-12-22T23:07:36.604Z"
   },
   {
    "duration": 167,
    "start_time": "2022-12-22T23:07:36.610Z"
   },
   {
    "duration": 7,
    "start_time": "2022-12-22T23:07:36.778Z"
   },
   {
    "duration": 21,
    "start_time": "2022-12-22T23:07:36.787Z"
   },
   {
    "duration": 22,
    "start_time": "2022-12-22T23:07:36.809Z"
   },
   {
    "duration": 60,
    "start_time": "2022-12-22T23:07:36.833Z"
   },
   {
    "duration": 81,
    "start_time": "2022-12-22T23:07:36.894Z"
   },
   {
    "duration": 72,
    "start_time": "2022-12-22T23:07:36.976Z"
   },
   {
    "duration": 85,
    "start_time": "2022-12-22T23:07:37.050Z"
   },
   {
    "duration": 10,
    "start_time": "2022-12-22T23:11:09.752Z"
   },
   {
    "duration": 6,
    "start_time": "2022-12-22T23:11:17.246Z"
   },
   {
    "duration": 6,
    "start_time": "2022-12-22T23:11:28.995Z"
   },
   {
    "duration": 9,
    "start_time": "2022-12-22T23:11:36.438Z"
   },
   {
    "duration": 8,
    "start_time": "2022-12-22T23:12:42.139Z"
   },
   {
    "duration": 10,
    "start_time": "2022-12-22T23:13:44.695Z"
   },
   {
    "duration": 7,
    "start_time": "2022-12-22T23:14:43.368Z"
   },
   {
    "duration": 84,
    "start_time": "2022-12-22T23:14:47.875Z"
   },
   {
    "duration": 14,
    "start_time": "2022-12-22T23:16:16.570Z"
   },
   {
    "duration": 14,
    "start_time": "2022-12-22T23:18:03.362Z"
   },
   {
    "duration": 14,
    "start_time": "2022-12-22T23:18:19.692Z"
   },
   {
    "duration": 13,
    "start_time": "2022-12-22T23:19:41.494Z"
   },
   {
    "duration": 13,
    "start_time": "2022-12-22T23:19:42.526Z"
   },
   {
    "duration": 221,
    "start_time": "2022-12-22T23:20:25.985Z"
   },
   {
    "duration": 145,
    "start_time": "2022-12-22T23:20:38.486Z"
   },
   {
    "duration": 166,
    "start_time": "2022-12-22T23:21:09.602Z"
   },
   {
    "duration": 272,
    "start_time": "2022-12-22T23:21:42.232Z"
   },
   {
    "duration": 202,
    "start_time": "2022-12-22T23:21:53.042Z"
   },
   {
    "duration": 186,
    "start_time": "2022-12-22T23:22:40.974Z"
   },
   {
    "duration": 177,
    "start_time": "2022-12-22T23:23:13.032Z"
   },
   {
    "duration": 197,
    "start_time": "2022-12-22T23:23:57.456Z"
   },
   {
    "duration": 104,
    "start_time": "2022-12-22T23:30:42.243Z"
   },
   {
    "duration": 345,
    "start_time": "2022-12-22T23:30:55.439Z"
   },
   {
    "duration": 97,
    "start_time": "2022-12-22T23:31:48.874Z"
   },
   {
    "duration": 37,
    "start_time": "2022-12-22T23:33:12.288Z"
   },
   {
    "duration": 35,
    "start_time": "2022-12-22T23:33:28.873Z"
   },
   {
    "duration": 11,
    "start_time": "2022-12-22T23:34:48.089Z"
   },
   {
    "duration": 11,
    "start_time": "2022-12-22T23:35:02.501Z"
   },
   {
    "duration": 8,
    "start_time": "2022-12-22T23:35:26.155Z"
   },
   {
    "duration": 11,
    "start_time": "2022-12-22T23:35:53.069Z"
   },
   {
    "duration": 10,
    "start_time": "2022-12-22T23:35:57.903Z"
   },
   {
    "duration": 17,
    "start_time": "2022-12-22T23:36:22.108Z"
   },
   {
    "duration": 16,
    "start_time": "2022-12-22T23:36:39.371Z"
   },
   {
    "duration": 11,
    "start_time": "2022-12-22T23:36:48.169Z"
   },
   {
    "duration": 9,
    "start_time": "2022-12-22T23:36:58.134Z"
   },
   {
    "duration": 16,
    "start_time": "2022-12-22T23:37:19.787Z"
   },
   {
    "duration": 33,
    "start_time": "2022-12-22T23:38:58.708Z"
   },
   {
    "duration": 9,
    "start_time": "2022-12-22T23:39:25.905Z"
   },
   {
    "duration": 31,
    "start_time": "2022-12-22T23:45:31.106Z"
   },
   {
    "duration": 25,
    "start_time": "2022-12-22T23:45:45.612Z"
   },
   {
    "duration": 26,
    "start_time": "2022-12-22T23:45:59.870Z"
   },
   {
    "duration": 10,
    "start_time": "2022-12-22T23:46:09.686Z"
   },
   {
    "duration": 26,
    "start_time": "2022-12-22T23:46:14.300Z"
   },
   {
    "duration": 26,
    "start_time": "2022-12-22T23:46:20.828Z"
   },
   {
    "duration": 28,
    "start_time": "2022-12-22T23:46:26.198Z"
   },
   {
    "duration": 20,
    "start_time": "2022-12-22T23:49:40.777Z"
   },
   {
    "duration": 47,
    "start_time": "2022-12-22T23:50:12.690Z"
   },
   {
    "duration": 43,
    "start_time": "2022-12-22T23:50:41.986Z"
   },
   {
    "duration": 46,
    "start_time": "2022-12-22T23:50:54.204Z"
   },
   {
    "duration": 53,
    "start_time": "2022-12-22T23:52:35.712Z"
   },
   {
    "duration": 57,
    "start_time": "2022-12-22T23:52:55.798Z"
   },
   {
    "duration": 1345,
    "start_time": "2022-12-26T16:13:11.902Z"
   },
   {
    "duration": 659,
    "start_time": "2022-12-26T16:13:13.249Z"
   },
   {
    "duration": 7,
    "start_time": "2022-12-26T16:13:13.910Z"
   },
   {
    "duration": 23,
    "start_time": "2022-12-26T16:13:13.919Z"
   },
   {
    "duration": 18,
    "start_time": "2022-12-26T16:13:13.944Z"
   },
   {
    "duration": 88,
    "start_time": "2022-12-26T16:13:13.964Z"
   },
   {
    "duration": 69,
    "start_time": "2022-12-26T16:13:14.053Z"
   },
   {
    "duration": 66,
    "start_time": "2022-12-26T16:13:14.124Z"
   },
   {
    "duration": 95,
    "start_time": "2022-12-26T16:13:14.192Z"
   },
   {
    "duration": 12,
    "start_time": "2022-12-26T16:13:14.289Z"
   },
   {
    "duration": 17,
    "start_time": "2022-12-26T16:13:14.302Z"
   },
   {
    "duration": 26,
    "start_time": "2022-12-26T16:13:14.321Z"
   },
   {
    "duration": 16,
    "start_time": "2022-12-26T16:13:14.349Z"
   },
   {
    "duration": 34,
    "start_time": "2022-12-26T16:13:14.368Z"
   },
   {
    "duration": 274,
    "start_time": "2022-12-26T16:13:14.404Z"
   },
   {
    "duration": 62,
    "start_time": "2022-12-26T16:13:14.680Z"
   },
   {
    "duration": 21,
    "start_time": "2022-12-26T16:13:14.743Z"
   },
   {
    "duration": 15,
    "start_time": "2022-12-26T16:13:14.766Z"
   },
   {
    "duration": 7,
    "start_time": "2022-12-26T16:13:14.782Z"
   },
   {
    "duration": 71,
    "start_time": "2022-12-26T16:13:14.791Z"
   },
   {
    "duration": 57,
    "start_time": "2022-12-26T16:13:14.863Z"
   },
   {
    "duration": 4,
    "start_time": "2022-12-26T16:17:13.384Z"
   },
   {
    "duration": 196,
    "start_time": "2022-12-26T16:17:13.391Z"
   },
   {
    "duration": 8,
    "start_time": "2022-12-26T16:17:13.589Z"
   },
   {
    "duration": 29,
    "start_time": "2022-12-26T16:17:13.599Z"
   },
   {
    "duration": 13,
    "start_time": "2022-12-26T16:17:13.637Z"
   },
   {
    "duration": 70,
    "start_time": "2022-12-26T16:17:13.652Z"
   },
   {
    "duration": 72,
    "start_time": "2022-12-26T16:17:13.736Z"
   },
   {
    "duration": 75,
    "start_time": "2022-12-26T16:17:13.810Z"
   },
   {
    "duration": 111,
    "start_time": "2022-12-26T16:17:13.888Z"
   },
   {
    "duration": 38,
    "start_time": "2022-12-26T16:17:14.001Z"
   },
   {
    "duration": 8,
    "start_time": "2022-12-26T16:17:14.043Z"
   },
   {
    "duration": 17,
    "start_time": "2022-12-26T16:17:14.052Z"
   },
   {
    "duration": 19,
    "start_time": "2022-12-26T16:17:14.071Z"
   },
   {
    "duration": 50,
    "start_time": "2022-12-26T16:17:14.092Z"
   },
   {
    "duration": 219,
    "start_time": "2022-12-26T16:17:14.144Z"
   },
   {
    "duration": 51,
    "start_time": "2022-12-26T16:17:14.365Z"
   },
   {
    "duration": 39,
    "start_time": "2022-12-26T16:17:14.418Z"
   },
   {
    "duration": 11,
    "start_time": "2022-12-26T16:17:14.459Z"
   },
   {
    "duration": 11,
    "start_time": "2022-12-26T16:17:14.471Z"
   },
   {
    "duration": 60,
    "start_time": "2022-12-26T16:17:14.484Z"
   },
   {
    "duration": 53,
    "start_time": "2022-12-26T16:17:14.545Z"
   },
   {
    "duration": 44,
    "start_time": "2022-12-26T16:25:47.078Z"
   },
   {
    "duration": 50,
    "start_time": "2022-12-26T16:25:53.234Z"
   },
   {
    "duration": 126,
    "start_time": "2022-12-26T16:25:58.391Z"
   },
   {
    "duration": 5,
    "start_time": "2022-12-26T16:26:30.761Z"
   },
   {
    "duration": 3,
    "start_time": "2022-12-26T16:26:52.466Z"
   },
   {
    "duration": 4,
    "start_time": "2022-12-26T16:27:01.237Z"
   },
   {
    "duration": 5,
    "start_time": "2022-12-26T16:27:26.924Z"
   },
   {
    "duration": 8,
    "start_time": "2022-12-26T16:27:54.429Z"
   },
   {
    "duration": 8,
    "start_time": "2022-12-26T16:29:17.666Z"
   },
   {
    "duration": 7,
    "start_time": "2022-12-26T16:29:56.713Z"
   },
   {
    "duration": 6,
    "start_time": "2022-12-26T16:33:36.787Z"
   },
   {
    "duration": 4,
    "start_time": "2022-12-26T16:34:57.897Z"
   },
   {
    "duration": 9,
    "start_time": "2022-12-26T16:37:13.413Z"
   },
   {
    "duration": 4,
    "start_time": "2022-12-26T17:06:02.191Z"
   },
   {
    "duration": 15,
    "start_time": "2022-12-26T17:06:23.639Z"
   },
   {
    "duration": 4,
    "start_time": "2022-12-26T17:06:37.504Z"
   },
   {
    "duration": 49,
    "start_time": "2022-12-26T17:06:44.800Z"
   },
   {
    "duration": 24,
    "start_time": "2022-12-26T17:07:21.550Z"
   },
   {
    "duration": 12,
    "start_time": "2022-12-26T17:07:43.853Z"
   },
   {
    "duration": 50,
    "start_time": "2022-12-26T17:07:51.242Z"
   },
   {
    "duration": 71,
    "start_time": "2022-12-26T17:08:29.914Z"
   },
   {
    "duration": 93,
    "start_time": "2022-12-26T17:10:51.515Z"
   },
   {
    "duration": 35,
    "start_time": "2022-12-26T17:11:00.874Z"
   },
   {
    "duration": 37,
    "start_time": "2022-12-26T17:13:12.826Z"
   },
   {
    "duration": 10,
    "start_time": "2022-12-26T17:14:11.571Z"
   },
   {
    "duration": 9,
    "start_time": "2022-12-26T17:14:25.958Z"
   },
   {
    "duration": 33,
    "start_time": "2022-12-26T17:14:36.779Z"
   },
   {
    "duration": 21,
    "start_time": "2022-12-26T17:15:50.522Z"
   },
   {
    "duration": 21,
    "start_time": "2022-12-26T17:16:09.533Z"
   },
   {
    "duration": 22,
    "start_time": "2022-12-26T17:16:49.748Z"
   },
   {
    "duration": 67,
    "start_time": "2022-12-26T17:17:13.897Z"
   },
   {
    "duration": 2,
    "start_time": "2022-12-26T17:21:44.050Z"
   },
   {
    "duration": 55,
    "start_time": "2022-12-26T17:21:47.518Z"
   },
   {
    "duration": 52,
    "start_time": "2022-12-26T17:22:27.495Z"
   },
   {
    "duration": 9,
    "start_time": "2022-12-26T17:22:41.973Z"
   },
   {
    "duration": 12,
    "start_time": "2022-12-26T17:22:50.318Z"
   },
   {
    "duration": 9,
    "start_time": "2022-12-26T17:23:34.342Z"
   },
   {
    "duration": 10,
    "start_time": "2022-12-26T17:23:41.804Z"
   },
   {
    "duration": 48,
    "start_time": "2022-12-26T17:23:59.540Z"
   },
   {
    "duration": 49,
    "start_time": "2022-12-26T17:24:30.553Z"
   },
   {
    "duration": 9,
    "start_time": "2022-12-26T17:26:11.358Z"
   },
   {
    "duration": 10,
    "start_time": "2022-12-26T17:26:19.206Z"
   },
   {
    "duration": 9,
    "start_time": "2022-12-26T17:26:24.220Z"
   },
   {
    "duration": 11,
    "start_time": "2022-12-26T17:26:33.807Z"
   },
   {
    "duration": 9,
    "start_time": "2022-12-26T17:26:50.107Z"
   },
   {
    "duration": 50,
    "start_time": "2022-12-26T17:26:59.790Z"
   },
   {
    "duration": 9,
    "start_time": "2022-12-26T17:27:12.207Z"
   },
   {
    "duration": 25,
    "start_time": "2022-12-26T17:27:19.844Z"
   },
   {
    "duration": 10,
    "start_time": "2022-12-26T17:27:49.376Z"
   },
   {
    "duration": 9,
    "start_time": "2022-12-26T17:28:02.372Z"
   },
   {
    "duration": 1197,
    "start_time": "2022-12-26T19:31:03.745Z"
   },
   {
    "duration": 679,
    "start_time": "2022-12-26T19:31:04.945Z"
   },
   {
    "duration": 8,
    "start_time": "2022-12-26T19:31:05.625Z"
   },
   {
    "duration": 24,
    "start_time": "2022-12-26T19:31:05.634Z"
   },
   {
    "duration": 20,
    "start_time": "2022-12-26T19:31:05.660Z"
   },
   {
    "duration": 86,
    "start_time": "2022-12-26T19:31:05.682Z"
   },
   {
    "duration": 85,
    "start_time": "2022-12-26T19:31:05.769Z"
   },
   {
    "duration": 56,
    "start_time": "2022-12-26T19:31:05.856Z"
   },
   {
    "duration": 82,
    "start_time": "2022-12-26T19:31:05.914Z"
   },
   {
    "duration": 28,
    "start_time": "2022-12-26T19:31:05.998Z"
   },
   {
    "duration": 8,
    "start_time": "2022-12-26T19:31:06.028Z"
   },
   {
    "duration": 18,
    "start_time": "2022-12-26T19:31:06.038Z"
   },
   {
    "duration": 40,
    "start_time": "2022-12-26T19:31:06.058Z"
   },
   {
    "duration": 15,
    "start_time": "2022-12-26T19:31:06.102Z"
   },
   {
    "duration": 276,
    "start_time": "2022-12-26T19:31:06.119Z"
   },
   {
    "duration": 50,
    "start_time": "2022-12-26T19:31:06.397Z"
   },
   {
    "duration": 17,
    "start_time": "2022-12-26T19:31:06.448Z"
   },
   {
    "duration": 11,
    "start_time": "2022-12-26T19:31:06.467Z"
   },
   {
    "duration": 7,
    "start_time": "2022-12-26T19:31:06.479Z"
   },
   {
    "duration": 49,
    "start_time": "2022-12-26T19:31:06.488Z"
   },
   {
    "duration": 44,
    "start_time": "2022-12-26T19:31:06.539Z"
   },
   {
    "duration": 7,
    "start_time": "2022-12-26T19:31:06.584Z"
   },
   {
    "duration": 9,
    "start_time": "2022-12-26T19:31:06.592Z"
   },
   {
    "duration": 26,
    "start_time": "2022-12-26T19:31:06.602Z"
   },
   {
    "duration": 10,
    "start_time": "2022-12-26T19:31:06.630Z"
   },
   {
    "duration": 97,
    "start_time": "2022-12-26T19:31:06.641Z"
   },
   {
    "duration": 0,
    "start_time": "2022-12-26T19:31:06.739Z"
   },
   {
    "duration": 8,
    "start_time": "2022-12-26T19:36:28.129Z"
   },
   {
    "duration": 12,
    "start_time": "2022-12-26T19:36:40.634Z"
   },
   {
    "duration": 11,
    "start_time": "2022-12-26T19:36:52.959Z"
   },
   {
    "duration": 71,
    "start_time": "2022-12-26T19:37:16.356Z"
   },
   {
    "duration": 74,
    "start_time": "2022-12-26T19:37:32.089Z"
   },
   {
    "duration": 128,
    "start_time": "2022-12-26T19:37:52.208Z"
   },
   {
    "duration": 123,
    "start_time": "2022-12-26T19:38:16.751Z"
   },
   {
    "duration": 76,
    "start_time": "2022-12-26T19:38:40.453Z"
   },
   {
    "duration": 92,
    "start_time": "2022-12-26T19:40:12.345Z"
   },
   {
    "duration": 75,
    "start_time": "2022-12-26T19:40:23.173Z"
   },
   {
    "duration": 89,
    "start_time": "2022-12-26T19:40:34.748Z"
   },
   {
    "duration": 27,
    "start_time": "2022-12-26T19:41:35.014Z"
   },
   {
    "duration": 19,
    "start_time": "2022-12-26T19:45:52.480Z"
   },
   {
    "duration": 18,
    "start_time": "2022-12-26T19:45:56.556Z"
   },
   {
    "duration": 23,
    "start_time": "2022-12-26T19:46:12.883Z"
   },
   {
    "duration": 90,
    "start_time": "2022-12-26T19:46:21.014Z"
   },
   {
    "duration": 90,
    "start_time": "2022-12-26T19:46:40.447Z"
   },
   {
    "duration": 92,
    "start_time": "2022-12-26T19:47:03.917Z"
   },
   {
    "duration": 90,
    "start_time": "2022-12-26T19:49:01.262Z"
   },
   {
    "duration": 1180,
    "start_time": "2022-12-26T19:50:20.514Z"
   },
   {
    "duration": 22,
    "start_time": "2022-12-26T19:51:14.632Z"
   },
   {
    "duration": 10,
    "start_time": "2022-12-26T19:55:21.276Z"
   },
   {
    "duration": 3,
    "start_time": "2022-12-26T19:55:38.876Z"
   },
   {
    "duration": 170,
    "start_time": "2022-12-26T19:55:38.881Z"
   },
   {
    "duration": 7,
    "start_time": "2022-12-26T19:55:39.052Z"
   },
   {
    "duration": 29,
    "start_time": "2022-12-26T19:55:39.061Z"
   },
   {
    "duration": 22,
    "start_time": "2022-12-26T19:55:39.091Z"
   },
   {
    "duration": 73,
    "start_time": "2022-12-26T19:55:39.114Z"
   },
   {
    "duration": 64,
    "start_time": "2022-12-26T19:55:39.189Z"
   },
   {
    "duration": 52,
    "start_time": "2022-12-26T19:55:39.255Z"
   },
   {
    "duration": 84,
    "start_time": "2022-12-26T19:55:39.308Z"
   },
   {
    "duration": 11,
    "start_time": "2022-12-26T19:55:39.393Z"
   },
   {
    "duration": 22,
    "start_time": "2022-12-26T19:55:39.405Z"
   },
   {
    "duration": 17,
    "start_time": "2022-12-26T19:55:39.428Z"
   },
   {
    "duration": 29,
    "start_time": "2022-12-26T19:55:39.446Z"
   },
   {
    "duration": 28,
    "start_time": "2022-12-26T19:55:39.477Z"
   },
   {
    "duration": 194,
    "start_time": "2022-12-26T19:55:39.507Z"
   },
   {
    "duration": 50,
    "start_time": "2022-12-26T19:55:39.703Z"
   },
   {
    "duration": 18,
    "start_time": "2022-12-26T19:55:39.755Z"
   },
   {
    "duration": 11,
    "start_time": "2022-12-26T19:55:39.774Z"
   },
   {
    "duration": 7,
    "start_time": "2022-12-26T19:55:39.786Z"
   },
   {
    "duration": 54,
    "start_time": "2022-12-26T19:55:39.795Z"
   },
   {
    "duration": 47,
    "start_time": "2022-12-26T19:55:39.850Z"
   },
   {
    "duration": 27,
    "start_time": "2022-12-26T19:55:39.899Z"
   },
   {
    "duration": 6,
    "start_time": "2022-12-26T19:55:39.928Z"
   },
   {
    "duration": 4,
    "start_time": "2022-12-26T19:55:39.935Z"
   },
   {
    "duration": 10,
    "start_time": "2022-12-26T19:55:39.940Z"
   },
   {
    "duration": 11,
    "start_time": "2022-12-26T19:55:39.952Z"
   },
   {
    "duration": 0,
    "start_time": "2022-12-26T19:55:39.964Z"
   },
   {
    "duration": 0,
    "start_time": "2022-12-26T19:55:39.965Z"
   },
   {
    "duration": 72,
    "start_time": "2022-12-26T19:57:05.829Z"
   },
   {
    "duration": 66,
    "start_time": "2022-12-26T19:57:12.544Z"
   },
   {
    "duration": 65,
    "start_time": "2022-12-26T19:57:36.892Z"
   },
   {
    "duration": 70,
    "start_time": "2022-12-26T19:57:51.730Z"
   },
   {
    "duration": 3,
    "start_time": "2022-12-26T19:58:34.421Z"
   },
   {
    "duration": 3,
    "start_time": "2022-12-26T19:58:36.856Z"
   },
   {
    "duration": 163,
    "start_time": "2022-12-26T19:58:36.861Z"
   },
   {
    "duration": 8,
    "start_time": "2022-12-26T19:58:37.027Z"
   },
   {
    "duration": 23,
    "start_time": "2022-12-26T19:58:37.037Z"
   },
   {
    "duration": 22,
    "start_time": "2022-12-26T19:58:37.062Z"
   },
   {
    "duration": 67,
    "start_time": "2022-12-26T19:58:37.086Z"
   },
   {
    "duration": 56,
    "start_time": "2022-12-26T19:58:37.155Z"
   },
   {
    "duration": 65,
    "start_time": "2022-12-26T19:58:37.213Z"
   },
   {
    "duration": 82,
    "start_time": "2022-12-26T19:58:37.279Z"
   },
   {
    "duration": 10,
    "start_time": "2022-12-26T19:58:37.363Z"
   },
   {
    "duration": 14,
    "start_time": "2022-12-26T19:58:37.375Z"
   },
   {
    "duration": 19,
    "start_time": "2022-12-26T19:58:37.391Z"
   },
   {
    "duration": 24,
    "start_time": "2022-12-26T19:58:37.412Z"
   },
   {
    "duration": 16,
    "start_time": "2022-12-26T19:58:37.437Z"
   },
   {
    "duration": 190,
    "start_time": "2022-12-26T19:58:37.454Z"
   },
   {
    "duration": 41,
    "start_time": "2022-12-26T19:58:37.646Z"
   },
   {
    "duration": 17,
    "start_time": "2022-12-26T19:58:37.688Z"
   },
   {
    "duration": 24,
    "start_time": "2022-12-26T19:58:37.707Z"
   },
   {
    "duration": 7,
    "start_time": "2022-12-26T19:58:37.732Z"
   },
   {
    "duration": 24,
    "start_time": "2022-12-26T19:58:37.741Z"
   },
   {
    "duration": 65,
    "start_time": "2022-12-26T19:58:37.767Z"
   },
   {
    "duration": 6,
    "start_time": "2022-12-26T19:58:37.834Z"
   },
   {
    "duration": 7,
    "start_time": "2022-12-26T19:58:37.841Z"
   },
   {
    "duration": 10,
    "start_time": "2022-12-26T19:58:37.849Z"
   },
   {
    "duration": 31,
    "start_time": "2022-12-26T19:58:37.860Z"
   },
   {
    "duration": 17,
    "start_time": "2022-12-26T19:58:37.893Z"
   },
   {
    "duration": 0,
    "start_time": "2022-12-26T19:58:37.912Z"
   },
   {
    "duration": 0,
    "start_time": "2022-12-26T19:58:37.913Z"
   },
   {
    "duration": 67,
    "start_time": "2022-12-26T19:58:47.698Z"
   },
   {
    "duration": 4,
    "start_time": "2022-12-26T19:58:50.888Z"
   },
   {
    "duration": 161,
    "start_time": "2022-12-26T19:58:50.894Z"
   },
   {
    "duration": 7,
    "start_time": "2022-12-26T19:58:51.057Z"
   },
   {
    "duration": 22,
    "start_time": "2022-12-26T19:58:51.066Z"
   },
   {
    "duration": 12,
    "start_time": "2022-12-26T19:58:51.090Z"
   },
   {
    "duration": 65,
    "start_time": "2022-12-26T19:58:51.103Z"
   },
   {
    "duration": 58,
    "start_time": "2022-12-26T19:58:51.170Z"
   },
   {
    "duration": 53,
    "start_time": "2022-12-26T19:58:51.229Z"
   },
   {
    "duration": 84,
    "start_time": "2022-12-26T19:58:51.283Z"
   },
   {
    "duration": 11,
    "start_time": "2022-12-26T19:58:51.369Z"
   },
   {
    "duration": 14,
    "start_time": "2022-12-26T19:58:51.381Z"
   },
   {
    "duration": 18,
    "start_time": "2022-12-26T19:58:51.396Z"
   },
   {
    "duration": 21,
    "start_time": "2022-12-26T19:58:51.416Z"
   },
   {
    "duration": 19,
    "start_time": "2022-12-26T19:58:51.439Z"
   },
   {
    "duration": 208,
    "start_time": "2022-12-26T19:58:51.459Z"
   },
   {
    "duration": 40,
    "start_time": "2022-12-26T19:58:51.668Z"
   },
   {
    "duration": 30,
    "start_time": "2022-12-26T19:58:51.710Z"
   },
   {
    "duration": 10,
    "start_time": "2022-12-26T19:58:51.742Z"
   },
   {
    "duration": 10,
    "start_time": "2022-12-26T19:58:51.753Z"
   },
   {
    "duration": 25,
    "start_time": "2022-12-26T19:58:51.764Z"
   },
   {
    "duration": 74,
    "start_time": "2022-12-26T19:58:51.791Z"
   },
   {
    "duration": 6,
    "start_time": "2022-12-26T19:58:51.867Z"
   },
   {
    "duration": 26,
    "start_time": "2022-12-26T19:58:51.875Z"
   },
   {
    "duration": 16,
    "start_time": "2022-12-26T19:58:51.902Z"
   },
   {
    "duration": 15,
    "start_time": "2022-12-26T19:58:51.919Z"
   },
   {
    "duration": 77,
    "start_time": "2022-12-26T19:58:51.937Z"
   },
   {
    "duration": 0,
    "start_time": "2022-12-26T19:58:52.015Z"
   },
   {
    "duration": 0,
    "start_time": "2022-12-26T19:58:52.016Z"
   },
   {
    "duration": 68,
    "start_time": "2022-12-26T19:59:34.080Z"
   },
   {
    "duration": 73,
    "start_time": "2022-12-26T19:59:49.106Z"
   },
   {
    "duration": 5,
    "start_time": "2022-12-26T20:00:01.619Z"
   },
   {
    "duration": 104,
    "start_time": "2022-12-26T20:00:05.818Z"
   },
   {
    "duration": 69,
    "start_time": "2022-12-26T20:00:09.296Z"
   },
   {
    "duration": 5,
    "start_time": "2022-12-26T20:01:01.668Z"
   },
   {
    "duration": 75,
    "start_time": "2022-12-26T20:01:05.988Z"
   },
   {
    "duration": 95,
    "start_time": "2022-12-26T20:02:21.167Z"
   },
   {
    "duration": 5,
    "start_time": "2022-12-26T20:03:39.153Z"
   },
   {
    "duration": 85,
    "start_time": "2022-12-26T20:03:45.819Z"
   },
   {
    "duration": 73,
    "start_time": "2022-12-26T20:06:13.749Z"
   },
   {
    "duration": 4,
    "start_time": "2022-12-26T20:06:30.208Z"
   },
   {
    "duration": 87,
    "start_time": "2022-12-26T20:06:32.975Z"
   },
   {
    "duration": 4,
    "start_time": "2022-12-26T20:06:56.543Z"
   },
   {
    "duration": 88,
    "start_time": "2022-12-26T20:06:58.156Z"
   },
   {
    "duration": 86,
    "start_time": "2022-12-26T20:07:01.841Z"
   },
   {
    "duration": 25,
    "start_time": "2022-12-26T20:18:41.449Z"
   },
   {
    "duration": 72,
    "start_time": "2022-12-26T20:19:16.742Z"
   },
   {
    "duration": 24,
    "start_time": "2022-12-26T20:19:27.081Z"
   },
   {
    "duration": 36,
    "start_time": "2022-12-26T20:19:55.710Z"
   },
   {
    "duration": 37,
    "start_time": "2022-12-26T20:20:09.884Z"
   },
   {
    "duration": 23,
    "start_time": "2022-12-26T20:20:22.417Z"
   },
   {
    "duration": 38,
    "start_time": "2022-12-26T20:20:28.168Z"
   },
   {
    "duration": 52,
    "start_time": "2022-12-26T20:21:20.821Z"
   },
   {
    "duration": 1400,
    "start_time": "2022-12-26T22:17:14.915Z"
   },
   {
    "duration": 704,
    "start_time": "2022-12-26T22:17:16.318Z"
   },
   {
    "duration": 11,
    "start_time": "2022-12-26T22:17:17.024Z"
   },
   {
    "duration": 50,
    "start_time": "2022-12-26T22:17:17.037Z"
   },
   {
    "duration": 20,
    "start_time": "2022-12-26T22:17:17.089Z"
   },
   {
    "duration": 77,
    "start_time": "2022-12-26T22:17:17.111Z"
   },
   {
    "duration": 85,
    "start_time": "2022-12-26T22:17:17.190Z"
   },
   {
    "duration": 77,
    "start_time": "2022-12-26T22:17:17.276Z"
   },
   {
    "duration": 110,
    "start_time": "2022-12-26T22:17:17.359Z"
   },
   {
    "duration": 18,
    "start_time": "2022-12-26T22:17:17.471Z"
   },
   {
    "duration": 9,
    "start_time": "2022-12-26T22:17:17.491Z"
   },
   {
    "duration": 17,
    "start_time": "2022-12-26T22:17:17.502Z"
   },
   {
    "duration": 19,
    "start_time": "2022-12-26T22:17:17.551Z"
   },
   {
    "duration": 19,
    "start_time": "2022-12-26T22:17:17.574Z"
   },
   {
    "duration": 377,
    "start_time": "2022-12-26T22:17:17.595Z"
   },
   {
    "duration": 58,
    "start_time": "2022-12-26T22:17:17.974Z"
   },
   {
    "duration": 44,
    "start_time": "2022-12-26T22:17:18.034Z"
   },
   {
    "duration": 15,
    "start_time": "2022-12-26T22:17:18.080Z"
   },
   {
    "duration": 9,
    "start_time": "2022-12-26T22:17:18.097Z"
   },
   {
    "duration": 65,
    "start_time": "2022-12-26T22:17:18.108Z"
   },
   {
    "duration": 94,
    "start_time": "2022-12-26T22:17:18.176Z"
   },
   {
    "duration": 9,
    "start_time": "2022-12-26T22:17:18.273Z"
   },
   {
    "duration": 6,
    "start_time": "2022-12-26T22:17:18.284Z"
   },
   {
    "duration": 7,
    "start_time": "2022-12-26T22:17:18.292Z"
   },
   {
    "duration": 69,
    "start_time": "2022-12-26T22:17:18.301Z"
   },
   {
    "duration": 5,
    "start_time": "2022-12-26T22:17:18.371Z"
   },
   {
    "duration": 95,
    "start_time": "2022-12-26T22:17:18.378Z"
   },
   {
    "duration": 63,
    "start_time": "2022-12-26T22:17:18.475Z"
   },
   {
    "duration": 77,
    "start_time": "2022-12-26T22:17:18.551Z"
   },
   {
    "duration": 2,
    "start_time": "2022-12-26T22:18:17.816Z"
   },
   {
    "duration": 3,
    "start_time": "2022-12-26T22:18:38.389Z"
   },
   {
    "duration": 5,
    "start_time": "2022-12-26T22:18:47.591Z"
   },
   {
    "duration": 7,
    "start_time": "2022-12-26T22:18:58.908Z"
   },
   {
    "duration": 9,
    "start_time": "2022-12-26T22:19:13.057Z"
   },
   {
    "duration": 8,
    "start_time": "2022-12-26T22:19:24.975Z"
   },
   {
    "duration": 71,
    "start_time": "2022-12-26T22:24:59.070Z"
   },
   {
    "duration": 274,
    "start_time": "2022-12-26T22:25:15.035Z"
   },
   {
    "duration": 86,
    "start_time": "2022-12-26T22:30:06.247Z"
   },
   {
    "duration": 5,
    "start_time": "2022-12-26T22:30:40.672Z"
   },
   {
    "duration": 4,
    "start_time": "2022-12-26T22:30:46.729Z"
   },
   {
    "duration": 198,
    "start_time": "2022-12-26T22:30:46.735Z"
   },
   {
    "duration": 9,
    "start_time": "2022-12-26T22:30:46.935Z"
   },
   {
    "duration": 38,
    "start_time": "2022-12-26T22:30:46.951Z"
   },
   {
    "duration": 13,
    "start_time": "2022-12-26T22:30:46.991Z"
   },
   {
    "duration": 72,
    "start_time": "2022-12-26T22:30:47.321Z"
   },
   {
    "duration": 88,
    "start_time": "2022-12-26T22:30:47.395Z"
   },
   {
    "duration": 80,
    "start_time": "2022-12-26T22:30:47.485Z"
   },
   {
    "duration": 96,
    "start_time": "2022-12-26T22:30:47.566Z"
   },
   {
    "duration": 14,
    "start_time": "2022-12-26T22:30:47.664Z"
   },
   {
    "duration": 10,
    "start_time": "2022-12-26T22:30:47.680Z"
   },
   {
    "duration": 18,
    "start_time": "2022-12-26T22:30:47.692Z"
   },
   {
    "duration": 47,
    "start_time": "2022-12-26T22:30:47.712Z"
   },
   {
    "duration": 22,
    "start_time": "2022-12-26T22:30:47.766Z"
   },
   {
    "duration": 233,
    "start_time": "2022-12-26T22:30:47.790Z"
   },
   {
    "duration": 68,
    "start_time": "2022-12-26T22:30:48.025Z"
   },
   {
    "duration": 24,
    "start_time": "2022-12-26T22:30:48.095Z"
   },
   {
    "duration": 40,
    "start_time": "2022-12-26T22:30:48.121Z"
   },
   {
    "duration": 12,
    "start_time": "2022-12-26T22:30:48.168Z"
   },
   {
    "duration": 54,
    "start_time": "2022-12-26T22:30:48.182Z"
   },
   {
    "duration": 73,
    "start_time": "2022-12-26T22:30:48.250Z"
   },
   {
    "duration": 28,
    "start_time": "2022-12-26T22:30:48.324Z"
   },
   {
    "duration": 11,
    "start_time": "2022-12-26T22:30:48.360Z"
   },
   {
    "duration": 7,
    "start_time": "2022-12-26T22:30:48.372Z"
   },
   {
    "duration": 37,
    "start_time": "2022-12-26T22:30:48.381Z"
   },
   {
    "duration": 6,
    "start_time": "2022-12-26T22:30:48.419Z"
   },
   {
    "duration": 118,
    "start_time": "2022-12-26T22:30:48.426Z"
   },
   {
    "duration": 0,
    "start_time": "2022-12-26T22:30:48.545Z"
   },
   {
    "duration": 0,
    "start_time": "2022-12-26T22:30:48.553Z"
   },
   {
    "duration": 0,
    "start_time": "2022-12-26T22:30:48.554Z"
   },
   {
    "duration": 0,
    "start_time": "2022-12-26T22:30:48.557Z"
   },
   {
    "duration": 104,
    "start_time": "2022-12-26T22:31:28.505Z"
   },
   {
    "duration": 12,
    "start_time": "2022-12-26T22:31:47.750Z"
   },
   {
    "duration": 92,
    "start_time": "2022-12-26T22:31:51.513Z"
   },
   {
    "duration": 83,
    "start_time": "2022-12-26T22:32:01.262Z"
   },
   {
    "duration": 84,
    "start_time": "2022-12-26T22:32:05.377Z"
   },
   {
    "duration": 4,
    "start_time": "2022-12-26T22:32:56.284Z"
   },
   {
    "duration": 195,
    "start_time": "2022-12-26T22:32:56.296Z"
   },
   {
    "duration": 11,
    "start_time": "2022-12-26T22:32:56.493Z"
   },
   {
    "duration": 23,
    "start_time": "2022-12-26T22:32:56.506Z"
   },
   {
    "duration": 33,
    "start_time": "2022-12-26T22:32:56.532Z"
   },
   {
    "duration": 93,
    "start_time": "2022-12-26T22:32:56.569Z"
   },
   {
    "duration": 72,
    "start_time": "2022-12-26T22:32:56.664Z"
   },
   {
    "duration": 73,
    "start_time": "2022-12-26T22:32:56.738Z"
   },
   {
    "duration": 133,
    "start_time": "2022-12-26T22:32:56.813Z"
   },
   {
    "duration": 23,
    "start_time": "2022-12-26T22:32:56.947Z"
   },
   {
    "duration": 13,
    "start_time": "2022-12-26T22:32:56.973Z"
   },
   {
    "duration": 19,
    "start_time": "2022-12-26T22:32:56.988Z"
   },
   {
    "duration": 52,
    "start_time": "2022-12-26T22:32:57.008Z"
   },
   {
    "duration": 55,
    "start_time": "2022-12-26T22:32:57.064Z"
   },
   {
    "duration": 260,
    "start_time": "2022-12-26T22:32:57.121Z"
   },
   {
    "duration": 89,
    "start_time": "2022-12-26T22:32:57.383Z"
   },
   {
    "duration": 41,
    "start_time": "2022-12-26T22:32:57.474Z"
   },
   {
    "duration": 44,
    "start_time": "2022-12-26T22:32:57.517Z"
   },
   {
    "duration": 9,
    "start_time": "2022-12-26T22:32:57.566Z"
   },
   {
    "duration": 34,
    "start_time": "2022-12-26T22:32:57.577Z"
   },
   {
    "duration": 72,
    "start_time": "2022-12-26T22:32:57.613Z"
   },
   {
    "duration": 8,
    "start_time": "2022-12-26T22:32:57.686Z"
   },
   {
    "duration": 6,
    "start_time": "2022-12-26T22:32:57.696Z"
   },
   {
    "duration": 9,
    "start_time": "2022-12-26T22:32:57.704Z"
   },
   {
    "duration": 65,
    "start_time": "2022-12-26T22:32:57.715Z"
   },
   {
    "duration": 5,
    "start_time": "2022-12-26T22:32:57.782Z"
   },
   {
    "duration": 103,
    "start_time": "2022-12-26T22:32:57.788Z"
   },
   {
    "duration": 78,
    "start_time": "2022-12-26T22:32:57.893Z"
   },
   {
    "duration": 8,
    "start_time": "2022-12-26T22:32:57.974Z"
   },
   {
    "duration": 103,
    "start_time": "2022-12-26T22:32:57.984Z"
   },
   {
    "duration": 0,
    "start_time": "2022-12-26T22:32:58.089Z"
   },
   {
    "duration": 1250,
    "start_time": "2023-01-17T20:37:01.133Z"
   },
   {
    "duration": 731,
    "start_time": "2023-01-17T20:37:02.386Z"
   },
   {
    "duration": 7,
    "start_time": "2023-01-17T20:37:03.118Z"
   },
   {
    "duration": 30,
    "start_time": "2023-01-17T20:37:03.127Z"
   },
   {
    "duration": 17,
    "start_time": "2023-01-17T20:37:03.159Z"
   },
   {
    "duration": 83,
    "start_time": "2023-01-17T20:37:03.178Z"
   },
   {
    "duration": 60,
    "start_time": "2023-01-17T20:37:03.263Z"
   },
   {
    "duration": 73,
    "start_time": "2023-01-17T20:37:03.324Z"
   },
   {
    "duration": 91,
    "start_time": "2023-01-17T20:37:03.398Z"
   },
   {
    "duration": 12,
    "start_time": "2023-01-17T20:37:03.491Z"
   },
   {
    "duration": 12,
    "start_time": "2023-01-17T20:37:03.504Z"
   },
   {
    "duration": 29,
    "start_time": "2023-01-17T20:37:03.517Z"
   },
   {
    "duration": 20,
    "start_time": "2023-01-17T20:37:03.548Z"
   },
   {
    "duration": 23,
    "start_time": "2023-01-17T20:37:03.569Z"
   },
   {
    "duration": 292,
    "start_time": "2023-01-17T20:37:03.594Z"
   },
   {
    "duration": 75,
    "start_time": "2023-01-17T20:37:03.887Z"
   },
   {
    "duration": 20,
    "start_time": "2023-01-17T20:37:03.964Z"
   },
   {
    "duration": 21,
    "start_time": "2023-01-17T20:37:03.986Z"
   },
   {
    "duration": 8,
    "start_time": "2023-01-17T20:37:04.009Z"
   },
   {
    "duration": 50,
    "start_time": "2023-01-17T20:37:04.018Z"
   },
   {
    "duration": 44,
    "start_time": "2023-01-17T20:37:04.069Z"
   },
   {
    "duration": 6,
    "start_time": "2023-01-17T20:37:04.114Z"
   },
   {
    "duration": 6,
    "start_time": "2023-01-17T20:37:04.156Z"
   },
   {
    "duration": 3,
    "start_time": "2023-01-17T20:37:04.163Z"
   },
   {
    "duration": 31,
    "start_time": "2023-01-17T20:37:04.168Z"
   },
   {
    "duration": 4,
    "start_time": "2023-01-17T20:37:04.200Z"
   },
   {
    "duration": 94,
    "start_time": "2023-01-17T20:37:04.206Z"
   },
   {
    "duration": 66,
    "start_time": "2023-01-17T20:37:04.302Z"
   },
   {
    "duration": 8,
    "start_time": "2023-01-17T20:37:04.369Z"
   },
   {
    "duration": 181,
    "start_time": "2023-01-17T20:37:04.378Z"
   },
   {
    "duration": 0,
    "start_time": "2023-01-17T20:37:04.561Z"
   },
   {
    "duration": 4,
    "start_time": "2023-01-17T20:38:11.668Z"
   },
   {
    "duration": 5,
    "start_time": "2023-01-17T20:38:29.618Z"
   },
   {
    "duration": 21,
    "start_time": "2023-01-17T20:38:46.558Z"
   },
   {
    "duration": 4,
    "start_time": "2023-01-17T20:38:55.828Z"
   },
   {
    "duration": 7,
    "start_time": "2023-01-17T20:39:00.040Z"
   },
   {
    "duration": 8,
    "start_time": "2023-01-17T20:40:06.264Z"
   },
   {
    "duration": 9,
    "start_time": "2023-01-17T20:40:21.599Z"
   },
   {
    "duration": 9,
    "start_time": "2023-01-17T20:40:36.567Z"
   },
   {
    "duration": 31,
    "start_time": "2023-01-17T20:40:44.131Z"
   },
   {
    "duration": 35,
    "start_time": "2023-01-17T20:40:50.633Z"
   },
   {
    "duration": 33,
    "start_time": "2023-01-17T20:41:58.596Z"
   },
   {
    "duration": 61,
    "start_time": "2023-01-17T20:42:09.313Z"
   },
   {
    "duration": 61,
    "start_time": "2023-01-17T20:42:17.872Z"
   },
   {
    "duration": 72,
    "start_time": "2023-01-17T20:42:41.565Z"
   },
   {
    "duration": 59,
    "start_time": "2023-01-17T20:42:52.188Z"
   },
   {
    "duration": 8,
    "start_time": "2023-01-17T20:43:18.321Z"
   },
   {
    "duration": 63,
    "start_time": "2023-01-17T20:45:38.178Z"
   },
   {
    "duration": 66,
    "start_time": "2023-01-17T20:46:16.273Z"
   },
   {
    "duration": 66,
    "start_time": "2023-01-17T20:46:31.922Z"
   },
   {
    "duration": 8,
    "start_time": "2023-01-17T20:47:20.648Z"
   },
   {
    "duration": 8,
    "start_time": "2023-01-17T20:47:35.117Z"
   },
   {
    "duration": 9,
    "start_time": "2023-01-17T20:47:42.911Z"
   },
   {
    "duration": 8,
    "start_time": "2023-01-17T20:47:48.049Z"
   },
   {
    "duration": 7,
    "start_time": "2023-01-17T20:47:52.617Z"
   },
   {
    "duration": 64,
    "start_time": "2023-01-17T20:48:39.426Z"
   },
   {
    "duration": 11,
    "start_time": "2023-01-17T20:51:58.010Z"
   },
   {
    "duration": 8,
    "start_time": "2023-01-17T20:52:15.985Z"
   },
   {
    "duration": 7,
    "start_time": "2023-01-17T20:52:29.785Z"
   },
   {
    "duration": 4,
    "start_time": "2023-01-17T20:53:18.821Z"
   },
   {
    "duration": 10,
    "start_time": "2023-01-17T20:55:37.120Z"
   },
   {
    "duration": 32,
    "start_time": "2023-01-17T20:55:55.693Z"
   },
   {
    "duration": 22,
    "start_time": "2023-01-17T20:56:50.877Z"
   },
   {
    "duration": 38,
    "start_time": "2023-01-17T20:57:30.538Z"
   },
   {
    "duration": 19,
    "start_time": "2023-01-17T20:57:39.121Z"
   },
   {
    "duration": 22,
    "start_time": "2023-01-17T20:58:15.468Z"
   },
   {
    "duration": 29,
    "start_time": "2023-01-17T20:58:23.471Z"
   },
   {
    "duration": 154,
    "start_time": "2023-01-17T20:59:46.459Z"
   },
   {
    "duration": 50,
    "start_time": "2023-01-17T21:01:30.198Z"
   },
   {
    "duration": 5,
    "start_time": "2023-01-17T21:02:56.118Z"
   },
   {
    "duration": 43,
    "start_time": "2023-01-17T21:05:35.048Z"
   },
   {
    "duration": 51,
    "start_time": "2023-01-17T21:06:30.152Z"
   },
   {
    "duration": 51,
    "start_time": "2023-01-17T21:08:25.857Z"
   },
   {
    "duration": 51,
    "start_time": "2023-01-17T21:08:42.267Z"
   },
   {
    "duration": 52,
    "start_time": "2023-01-17T21:09:06.545Z"
   },
   {
    "duration": 70,
    "start_time": "2023-01-17T21:10:32.061Z"
   },
   {
    "duration": 51,
    "start_time": "2023-01-17T21:13:47.854Z"
   },
   {
    "duration": 76,
    "start_time": "2023-01-17T21:13:52.879Z"
   },
   {
    "duration": 79,
    "start_time": "2023-01-17T21:14:19.054Z"
   },
   {
    "duration": 83,
    "start_time": "2023-01-17T21:14:37.213Z"
   },
   {
    "duration": 77,
    "start_time": "2023-01-17T21:14:51.448Z"
   },
   {
    "duration": 74,
    "start_time": "2023-01-17T21:15:11.964Z"
   },
   {
    "duration": 71,
    "start_time": "2023-01-17T21:16:17.145Z"
   },
   {
    "duration": 75,
    "start_time": "2023-01-17T21:16:42.299Z"
   },
   {
    "duration": 77,
    "start_time": "2023-01-17T21:17:02.851Z"
   },
   {
    "duration": 8,
    "start_time": "2023-01-17T21:17:18.972Z"
   },
   {
    "duration": 75,
    "start_time": "2023-01-17T21:17:30.305Z"
   },
   {
    "duration": 79,
    "start_time": "2023-01-17T21:18:10.387Z"
   },
   {
    "duration": 77,
    "start_time": "2023-01-17T21:18:17.544Z"
   },
   {
    "duration": 72,
    "start_time": "2023-01-17T21:19:38.101Z"
   },
   {
    "duration": 4,
    "start_time": "2023-01-17T22:11:15.234Z"
   },
   {
    "duration": 152,
    "start_time": "2023-01-17T22:11:15.240Z"
   },
   {
    "duration": 7,
    "start_time": "2023-01-17T22:11:15.394Z"
   },
   {
    "duration": 18,
    "start_time": "2023-01-17T22:11:15.404Z"
   },
   {
    "duration": 28,
    "start_time": "2023-01-17T22:11:15.424Z"
   },
   {
    "duration": 58,
    "start_time": "2023-01-17T22:11:15.454Z"
   },
   {
    "duration": 79,
    "start_time": "2023-01-17T22:11:15.514Z"
   },
   {
    "duration": 66,
    "start_time": "2023-01-17T22:11:15.595Z"
   },
   {
    "duration": 85,
    "start_time": "2023-01-17T22:11:15.662Z"
   },
   {
    "duration": 11,
    "start_time": "2023-01-17T22:11:15.750Z"
   },
   {
    "duration": 10,
    "start_time": "2023-01-17T22:11:15.762Z"
   },
   {
    "duration": 14,
    "start_time": "2023-01-17T22:11:15.773Z"
   },
   {
    "duration": 14,
    "start_time": "2023-01-17T22:11:15.789Z"
   },
   {
    "duration": 39,
    "start_time": "2023-01-17T22:11:15.805Z"
   },
   {
    "duration": 178,
    "start_time": "2023-01-17T22:11:15.846Z"
   },
   {
    "duration": 54,
    "start_time": "2023-01-17T22:11:16.026Z"
   },
   {
    "duration": 20,
    "start_time": "2023-01-17T22:11:16.081Z"
   },
   {
    "duration": 12,
    "start_time": "2023-01-17T22:11:16.103Z"
   },
   {
    "duration": 27,
    "start_time": "2023-01-17T22:11:16.117Z"
   },
   {
    "duration": 30,
    "start_time": "2023-01-17T22:11:16.146Z"
   },
   {
    "duration": 66,
    "start_time": "2023-01-17T22:11:16.178Z"
   },
   {
    "duration": 7,
    "start_time": "2023-01-17T22:11:16.245Z"
   },
   {
    "duration": 6,
    "start_time": "2023-01-17T22:11:16.253Z"
   },
   {
    "duration": 5,
    "start_time": "2023-01-17T22:11:16.260Z"
   },
   {
    "duration": 21,
    "start_time": "2023-01-17T22:11:16.266Z"
   },
   {
    "duration": 59,
    "start_time": "2023-01-17T22:11:16.289Z"
   },
   {
    "duration": 4,
    "start_time": "2023-01-17T22:11:16.349Z"
   },
   {
    "duration": 155,
    "start_time": "2023-01-17T22:11:16.356Z"
   },
   {
    "duration": 55,
    "start_time": "2023-01-17T22:11:16.512Z"
   },
   {
    "duration": 4,
    "start_time": "2023-01-17T22:11:16.569Z"
   },
   {
    "duration": 79,
    "start_time": "2023-01-17T22:11:16.574Z"
   },
   {
    "duration": 12,
    "start_time": "2023-01-17T22:16:30.656Z"
   },
   {
    "duration": 3,
    "start_time": "2023-01-17T22:17:05.887Z"
   },
   {
    "duration": 160,
    "start_time": "2023-01-17T22:17:05.892Z"
   },
   {
    "duration": 6,
    "start_time": "2023-01-17T22:17:06.054Z"
   },
   {
    "duration": 22,
    "start_time": "2023-01-17T22:17:06.062Z"
   },
   {
    "duration": 11,
    "start_time": "2023-01-17T22:17:06.086Z"
   },
   {
    "duration": 58,
    "start_time": "2023-01-17T22:17:06.098Z"
   },
   {
    "duration": 56,
    "start_time": "2023-01-17T22:17:06.157Z"
   },
   {
    "duration": 59,
    "start_time": "2023-01-17T22:17:06.214Z"
   },
   {
    "duration": 113,
    "start_time": "2023-01-17T22:17:06.274Z"
   },
   {
    "duration": 12,
    "start_time": "2023-01-17T22:17:06.388Z"
   },
   {
    "duration": 45,
    "start_time": "2023-01-17T22:17:06.402Z"
   },
   {
    "duration": 18,
    "start_time": "2023-01-17T22:17:06.449Z"
   },
   {
    "duration": 20,
    "start_time": "2023-01-17T22:17:06.468Z"
   },
   {
    "duration": 17,
    "start_time": "2023-01-17T22:17:06.490Z"
   },
   {
    "duration": 222,
    "start_time": "2023-01-17T22:17:06.509Z"
   },
   {
    "duration": 54,
    "start_time": "2023-01-17T22:17:06.733Z"
   },
   {
    "duration": 23,
    "start_time": "2023-01-17T22:17:06.789Z"
   },
   {
    "duration": 31,
    "start_time": "2023-01-17T22:17:06.813Z"
   },
   {
    "duration": 8,
    "start_time": "2023-01-17T22:17:06.845Z"
   },
   {
    "duration": 49,
    "start_time": "2023-01-17T22:17:06.855Z"
   },
   {
    "duration": 59,
    "start_time": "2023-01-17T22:17:06.906Z"
   },
   {
    "duration": 7,
    "start_time": "2023-01-17T22:17:06.967Z"
   },
   {
    "duration": 10,
    "start_time": "2023-01-17T22:17:06.976Z"
   },
   {
    "duration": 6,
    "start_time": "2023-01-17T22:17:06.988Z"
   },
   {
    "duration": 21,
    "start_time": "2023-01-17T22:17:06.996Z"
   },
   {
    "duration": 54,
    "start_time": "2023-01-17T22:17:07.018Z"
   },
   {
    "duration": 5,
    "start_time": "2023-01-17T22:17:07.073Z"
   },
   {
    "duration": 168,
    "start_time": "2023-01-17T22:17:07.079Z"
   },
   {
    "duration": 53,
    "start_time": "2023-01-17T22:17:07.249Z"
   },
   {
    "duration": 4,
    "start_time": "2023-01-17T22:17:07.304Z"
   },
   {
    "duration": 90,
    "start_time": "2023-01-17T22:17:07.309Z"
   },
   {
    "duration": 11,
    "start_time": "2023-01-17T22:17:07.401Z"
   },
   {
    "duration": 10,
    "start_time": "2023-01-17T22:17:41.494Z"
   },
   {
    "duration": 10,
    "start_time": "2023-01-17T22:18:22.976Z"
   },
   {
    "duration": 12,
    "start_time": "2023-01-17T22:18:31.572Z"
   },
   {
    "duration": 11,
    "start_time": "2023-01-17T22:21:09.511Z"
   },
   {
    "duration": 10,
    "start_time": "2023-01-17T22:21:13.488Z"
   },
   {
    "duration": 11,
    "start_time": "2023-01-17T22:27:02.492Z"
   },
   {
    "duration": 11,
    "start_time": "2023-01-17T22:27:26.579Z"
   },
   {
    "duration": 4,
    "start_time": "2023-01-17T22:28:47.401Z"
   },
   {
    "duration": 156,
    "start_time": "2023-01-17T22:28:47.408Z"
   },
   {
    "duration": 7,
    "start_time": "2023-01-17T22:28:47.566Z"
   },
   {
    "duration": 28,
    "start_time": "2023-01-17T22:28:47.574Z"
   },
   {
    "duration": 15,
    "start_time": "2023-01-17T22:28:47.604Z"
   },
   {
    "duration": 71,
    "start_time": "2023-01-17T22:28:47.621Z"
   },
   {
    "duration": 62,
    "start_time": "2023-01-17T22:28:47.694Z"
   },
   {
    "duration": 58,
    "start_time": "2023-01-17T22:28:47.758Z"
   },
   {
    "duration": 90,
    "start_time": "2023-01-17T22:28:47.818Z"
   },
   {
    "duration": 12,
    "start_time": "2023-01-17T22:28:47.910Z"
   },
   {
    "duration": 22,
    "start_time": "2023-01-17T22:28:47.924Z"
   },
   {
    "duration": 26,
    "start_time": "2023-01-17T22:28:47.947Z"
   },
   {
    "duration": 20,
    "start_time": "2023-01-17T22:28:47.975Z"
   },
   {
    "duration": 21,
    "start_time": "2023-01-17T22:28:47.996Z"
   },
   {
    "duration": 183,
    "start_time": "2023-01-17T22:28:48.019Z"
   },
   {
    "duration": 58,
    "start_time": "2023-01-17T22:28:48.204Z"
   },
   {
    "duration": 22,
    "start_time": "2023-01-17T22:28:48.264Z"
   },
   {
    "duration": 15,
    "start_time": "2023-01-17T22:28:48.288Z"
   },
   {
    "duration": 14,
    "start_time": "2023-01-17T22:28:48.304Z"
   },
   {
    "duration": 47,
    "start_time": "2023-01-17T22:28:48.319Z"
   },
   {
    "duration": 56,
    "start_time": "2023-01-17T22:28:48.368Z"
   },
   {
    "duration": 19,
    "start_time": "2023-01-17T22:28:48.425Z"
   },
   {
    "duration": 8,
    "start_time": "2023-01-17T22:28:48.445Z"
   },
   {
    "duration": 10,
    "start_time": "2023-01-17T22:28:48.455Z"
   },
   {
    "duration": 29,
    "start_time": "2023-01-17T22:28:48.467Z"
   },
   {
    "duration": 45,
    "start_time": "2023-01-17T22:28:48.498Z"
   },
   {
    "duration": 4,
    "start_time": "2023-01-17T22:28:48.544Z"
   },
   {
    "duration": 161,
    "start_time": "2023-01-17T22:28:48.549Z"
   },
   {
    "duration": 54,
    "start_time": "2023-01-17T22:28:48.712Z"
   },
   {
    "duration": 5,
    "start_time": "2023-01-17T22:28:48.767Z"
   },
   {
    "duration": 73,
    "start_time": "2023-01-17T22:28:48.773Z"
   },
   {
    "duration": 10,
    "start_time": "2023-01-17T22:28:48.848Z"
   },
   {
    "duration": 3,
    "start_time": "2023-01-17T22:29:02.273Z"
   },
   {
    "duration": 12,
    "start_time": "2023-01-17T22:32:29.162Z"
   },
   {
    "duration": 4,
    "start_time": "2023-01-17T22:36:34.989Z"
   },
   {
    "duration": 4,
    "start_time": "2023-01-17T22:37:37.271Z"
   },
   {
    "duration": 4,
    "start_time": "2023-01-17T22:38:21.875Z"
   },
   {
    "duration": 5,
    "start_time": "2023-01-17T22:38:55.595Z"
   },
   {
    "duration": 5,
    "start_time": "2023-01-17T22:43:49.384Z"
   },
   {
    "duration": 3,
    "start_time": "2023-01-17T22:44:46.198Z"
   },
   {
    "duration": 4,
    "start_time": "2023-01-17T22:45:27.938Z"
   },
   {
    "duration": 5,
    "start_time": "2023-01-17T22:46:12.965Z"
   },
   {
    "duration": 4,
    "start_time": "2023-01-17T22:49:24.897Z"
   },
   {
    "duration": 4,
    "start_time": "2023-01-17T22:49:56.766Z"
   },
   {
    "duration": 4,
    "start_time": "2023-01-17T22:52:27.709Z"
   },
   {
    "duration": 5,
    "start_time": "2023-01-17T22:52:58.284Z"
   },
   {
    "duration": 580,
    "start_time": "2023-01-17T22:56:30.566Z"
   },
   {
    "duration": 9,
    "start_time": "2023-01-17T22:58:06.773Z"
   },
   {
    "duration": 12,
    "start_time": "2023-01-17T22:58:14.513Z"
   },
   {
    "duration": 3,
    "start_time": "2023-01-17T22:58:43.066Z"
   },
   {
    "duration": 7,
    "start_time": "2023-01-17T22:58:51.165Z"
   },
   {
    "duration": 8,
    "start_time": "2023-01-17T22:59:23.131Z"
   },
   {
    "duration": 3,
    "start_time": "2023-01-17T23:02:32.694Z"
   },
   {
    "duration": 4,
    "start_time": "2023-01-17T23:03:46.840Z"
   },
   {
    "duration": 4,
    "start_time": "2023-01-17T23:04:18.261Z"
   },
   {
    "duration": 4,
    "start_time": "2023-01-17T23:04:48.314Z"
   },
   {
    "duration": 4,
    "start_time": "2023-01-17T23:05:31.219Z"
   },
   {
    "duration": 1178,
    "start_time": "2023-01-18T19:39:49.936Z"
   },
   {
    "duration": 994,
    "start_time": "2023-01-18T19:39:51.116Z"
   },
   {
    "duration": 7,
    "start_time": "2023-01-18T19:39:52.112Z"
   },
   {
    "duration": 25,
    "start_time": "2023-01-18T19:39:52.121Z"
   },
   {
    "duration": 19,
    "start_time": "2023-01-18T19:39:52.148Z"
   },
   {
    "duration": 78,
    "start_time": "2023-01-18T19:39:52.168Z"
   },
   {
    "duration": 82,
    "start_time": "2023-01-18T19:39:52.247Z"
   },
   {
    "duration": 81,
    "start_time": "2023-01-18T19:39:52.331Z"
   },
   {
    "duration": 104,
    "start_time": "2023-01-18T19:39:52.414Z"
   },
   {
    "duration": 20,
    "start_time": "2023-01-18T19:39:52.520Z"
   },
   {
    "duration": 39,
    "start_time": "2023-01-18T19:39:52.541Z"
   },
   {
    "duration": 34,
    "start_time": "2023-01-18T19:39:52.583Z"
   },
   {
    "duration": 18,
    "start_time": "2023-01-18T19:39:52.620Z"
   },
   {
    "duration": 30,
    "start_time": "2023-01-18T19:39:52.642Z"
   },
   {
    "duration": 320,
    "start_time": "2023-01-18T19:39:52.674Z"
   },
   {
    "duration": 55,
    "start_time": "2023-01-18T19:39:52.996Z"
   },
   {
    "duration": 47,
    "start_time": "2023-01-18T19:39:53.053Z"
   },
   {
    "duration": 31,
    "start_time": "2023-01-18T19:39:53.102Z"
   },
   {
    "duration": 36,
    "start_time": "2023-01-18T19:39:53.135Z"
   },
   {
    "duration": 59,
    "start_time": "2023-01-18T19:39:53.173Z"
   },
   {
    "duration": 66,
    "start_time": "2023-01-18T19:39:53.234Z"
   },
   {
    "duration": 7,
    "start_time": "2023-01-18T19:39:53.302Z"
   },
   {
    "duration": 25,
    "start_time": "2023-01-18T19:39:53.310Z"
   },
   {
    "duration": 14,
    "start_time": "2023-01-18T19:39:53.337Z"
   },
   {
    "duration": 36,
    "start_time": "2023-01-18T19:39:53.353Z"
   },
   {
    "duration": 33,
    "start_time": "2023-01-18T19:39:53.390Z"
   },
   {
    "duration": 5,
    "start_time": "2023-01-18T19:39:53.424Z"
   },
   {
    "duration": 66,
    "start_time": "2023-01-18T19:39:53.430Z"
   },
   {
    "duration": 5,
    "start_time": "2023-01-18T19:39:53.498Z"
   },
   {
    "duration": 91,
    "start_time": "2023-01-18T19:39:53.504Z"
   },
   {
    "duration": 4,
    "start_time": "2023-01-18T19:39:53.597Z"
   },
   {
    "duration": 17,
    "start_time": "2023-01-18T19:39:53.603Z"
   },
   {
    "duration": 9,
    "start_time": "2023-01-18T19:39:53.621Z"
   },
   {
    "duration": 10,
    "start_time": "2023-01-18T19:39:53.632Z"
   },
   {
    "duration": 11,
    "start_time": "2023-01-18T19:39:53.644Z"
   },
   {
    "duration": 7,
    "start_time": "2023-01-18T19:39:53.657Z"
   },
   {
    "duration": 13,
    "start_time": "2023-01-18T19:39:53.666Z"
   },
   {
    "duration": 4,
    "start_time": "2023-01-18T19:39:53.694Z"
   },
   {
    "duration": 70,
    "start_time": "2023-01-18T19:39:53.700Z"
   },
   {
    "duration": 0,
    "start_time": "2023-01-18T19:39:53.772Z"
   },
   {
    "duration": 0,
    "start_time": "2023-01-18T19:39:53.773Z"
   },
   {
    "duration": 0,
    "start_time": "2023-01-18T19:39:53.774Z"
   },
   {
    "duration": 0,
    "start_time": "2023-01-18T19:39:53.775Z"
   },
   {
    "duration": 0,
    "start_time": "2023-01-18T19:39:53.777Z"
   },
   {
    "duration": 0,
    "start_time": "2023-01-18T19:39:53.778Z"
   },
   {
    "duration": 0,
    "start_time": "2023-01-18T19:39:53.779Z"
   },
   {
    "duration": 0,
    "start_time": "2023-01-18T19:39:53.780Z"
   },
   {
    "duration": 0,
    "start_time": "2023-01-18T19:39:53.781Z"
   },
   {
    "duration": 0,
    "start_time": "2023-01-18T19:39:53.782Z"
   },
   {
    "duration": 1313,
    "start_time": "2023-01-18T19:55:41.450Z"
   },
   {
    "duration": 1027,
    "start_time": "2023-01-18T19:55:42.765Z"
   },
   {
    "duration": 7,
    "start_time": "2023-01-18T19:55:43.794Z"
   },
   {
    "duration": 25,
    "start_time": "2023-01-18T19:55:43.804Z"
   },
   {
    "duration": 19,
    "start_time": "2023-01-18T19:55:43.831Z"
   },
   {
    "duration": 90,
    "start_time": "2023-01-18T19:55:43.851Z"
   },
   {
    "duration": 87,
    "start_time": "2023-01-18T19:55:43.943Z"
   },
   {
    "duration": 83,
    "start_time": "2023-01-18T19:55:44.033Z"
   },
   {
    "duration": 90,
    "start_time": "2023-01-18T19:55:44.117Z"
   },
   {
    "duration": 10,
    "start_time": "2023-01-18T19:55:44.210Z"
   },
   {
    "duration": 12,
    "start_time": "2023-01-18T19:55:44.221Z"
   },
   {
    "duration": 14,
    "start_time": "2023-01-18T19:55:44.235Z"
   },
   {
    "duration": 14,
    "start_time": "2023-01-18T19:55:44.250Z"
   },
   {
    "duration": 39,
    "start_time": "2023-01-18T19:55:44.266Z"
   },
   {
    "duration": 284,
    "start_time": "2023-01-18T19:55:44.307Z"
   },
   {
    "duration": 50,
    "start_time": "2023-01-18T19:55:44.593Z"
   },
   {
    "duration": 18,
    "start_time": "2023-01-18T19:55:44.645Z"
   },
   {
    "duration": 42,
    "start_time": "2023-01-18T19:55:44.665Z"
   },
   {
    "duration": 9,
    "start_time": "2023-01-18T19:55:44.709Z"
   },
   {
    "duration": 34,
    "start_time": "2023-01-18T19:55:44.720Z"
   },
   {
    "duration": 85,
    "start_time": "2023-01-18T19:55:44.755Z"
   },
   {
    "duration": 7,
    "start_time": "2023-01-18T19:55:44.841Z"
   },
   {
    "duration": 9,
    "start_time": "2023-01-18T19:55:44.849Z"
   },
   {
    "duration": 4,
    "start_time": "2023-01-18T19:55:44.859Z"
   },
   {
    "duration": 42,
    "start_time": "2023-01-18T19:55:44.865Z"
   },
   {
    "duration": 31,
    "start_time": "2023-01-18T19:55:44.909Z"
   },
   {
    "duration": 4,
    "start_time": "2023-01-18T19:55:44.942Z"
   },
   {
    "duration": 67,
    "start_time": "2023-01-18T19:55:44.949Z"
   },
   {
    "duration": 5,
    "start_time": "2023-01-18T19:55:45.018Z"
   },
   {
    "duration": 90,
    "start_time": "2023-01-18T19:55:45.024Z"
   },
   {
    "duration": 5,
    "start_time": "2023-01-18T19:55:45.116Z"
   },
   {
    "duration": 15,
    "start_time": "2023-01-18T19:55:45.122Z"
   },
   {
    "duration": 26,
    "start_time": "2023-01-18T19:55:45.138Z"
   },
   {
    "duration": 22,
    "start_time": "2023-01-18T19:55:45.165Z"
   },
   {
    "duration": 22,
    "start_time": "2023-01-18T19:55:45.189Z"
   },
   {
    "duration": 18,
    "start_time": "2023-01-18T19:55:45.213Z"
   },
   {
    "duration": 13,
    "start_time": "2023-01-18T19:55:45.233Z"
   },
   {
    "duration": 15,
    "start_time": "2023-01-18T19:55:45.247Z"
   },
   {
    "duration": 70,
    "start_time": "2023-01-18T19:55:45.264Z"
   },
   {
    "duration": 0,
    "start_time": "2023-01-18T19:55:45.336Z"
   },
   {
    "duration": 0,
    "start_time": "2023-01-18T19:55:45.337Z"
   },
   {
    "duration": 0,
    "start_time": "2023-01-18T19:55:45.339Z"
   },
   {
    "duration": 0,
    "start_time": "2023-01-18T19:55:45.340Z"
   },
   {
    "duration": 0,
    "start_time": "2023-01-18T19:55:45.341Z"
   },
   {
    "duration": 0,
    "start_time": "2023-01-18T19:55:45.343Z"
   },
   {
    "duration": 0,
    "start_time": "2023-01-18T19:55:45.345Z"
   },
   {
    "duration": 0,
    "start_time": "2023-01-18T19:55:45.346Z"
   },
   {
    "duration": 0,
    "start_time": "2023-01-18T19:55:45.347Z"
   },
   {
    "duration": 0,
    "start_time": "2023-01-18T19:55:45.348Z"
   },
   {
    "duration": 3,
    "start_time": "2023-01-18T21:00:55.115Z"
   },
   {
    "duration": 160,
    "start_time": "2023-01-18T21:00:55.146Z"
   },
   {
    "duration": 7,
    "start_time": "2023-01-18T21:00:55.308Z"
   },
   {
    "duration": 23,
    "start_time": "2023-01-18T21:00:55.317Z"
   },
   {
    "duration": 13,
    "start_time": "2023-01-18T21:00:55.343Z"
   },
   {
    "duration": 84,
    "start_time": "2023-01-18T21:00:55.358Z"
   },
   {
    "duration": 67,
    "start_time": "2023-01-18T21:00:55.443Z"
   },
   {
    "duration": 59,
    "start_time": "2023-01-18T21:00:55.512Z"
   },
   {
    "duration": 89,
    "start_time": "2023-01-18T21:00:55.572Z"
   },
   {
    "duration": 11,
    "start_time": "2023-01-18T21:00:55.663Z"
   },
   {
    "duration": 13,
    "start_time": "2023-01-18T21:00:55.676Z"
   },
   {
    "duration": 14,
    "start_time": "2023-01-18T21:00:55.699Z"
   },
   {
    "duration": 15,
    "start_time": "2023-01-18T21:00:55.714Z"
   },
   {
    "duration": 18,
    "start_time": "2023-01-18T21:00:55.731Z"
   },
   {
    "duration": 220,
    "start_time": "2023-01-18T21:00:55.751Z"
   },
   {
    "duration": 51,
    "start_time": "2023-01-18T21:00:55.973Z"
   },
   {
    "duration": 18,
    "start_time": "2023-01-18T21:00:56.026Z"
   },
   {
    "duration": 11,
    "start_time": "2023-01-18T21:00:56.046Z"
   },
   {
    "duration": 8,
    "start_time": "2023-01-18T21:00:56.058Z"
   },
   {
    "duration": 55,
    "start_time": "2023-01-18T21:00:56.067Z"
   },
   {
    "duration": 57,
    "start_time": "2023-01-18T21:00:56.124Z"
   },
   {
    "duration": 19,
    "start_time": "2023-01-18T21:00:56.182Z"
   },
   {
    "duration": 5,
    "start_time": "2023-01-18T21:00:56.202Z"
   },
   {
    "duration": 6,
    "start_time": "2023-01-18T21:00:56.209Z"
   },
   {
    "duration": 21,
    "start_time": "2023-01-18T21:00:56.216Z"
   },
   {
    "duration": 28,
    "start_time": "2023-01-18T21:00:56.239Z"
   },
   {
    "duration": 4,
    "start_time": "2023-01-18T21:00:56.269Z"
   },
   {
    "duration": 71,
    "start_time": "2023-01-18T21:00:56.275Z"
   },
   {
    "duration": 4,
    "start_time": "2023-01-18T21:00:56.349Z"
   },
   {
    "duration": 91,
    "start_time": "2023-01-18T21:00:56.355Z"
   },
   {
    "duration": 4,
    "start_time": "2023-01-18T21:00:56.448Z"
   },
   {
    "duration": 9,
    "start_time": "2023-01-18T21:00:56.453Z"
   },
   {
    "duration": 7,
    "start_time": "2023-01-18T21:00:56.463Z"
   },
   {
    "duration": 7,
    "start_time": "2023-01-18T21:00:56.472Z"
   },
   {
    "duration": 19,
    "start_time": "2023-01-18T21:00:56.481Z"
   },
   {
    "duration": 5,
    "start_time": "2023-01-18T21:00:56.501Z"
   },
   {
    "duration": 7,
    "start_time": "2023-01-18T21:00:56.507Z"
   },
   {
    "duration": 8,
    "start_time": "2023-01-18T21:00:56.516Z"
   },
   {
    "duration": 71,
    "start_time": "2023-01-18T21:00:56.526Z"
   },
   {
    "duration": 0,
    "start_time": "2023-01-18T21:00:56.599Z"
   },
   {
    "duration": 0,
    "start_time": "2023-01-18T21:00:56.600Z"
   },
   {
    "duration": 0,
    "start_time": "2023-01-18T21:00:56.601Z"
   },
   {
    "duration": 0,
    "start_time": "2023-01-18T21:00:56.602Z"
   },
   {
    "duration": 0,
    "start_time": "2023-01-18T21:00:56.603Z"
   },
   {
    "duration": 0,
    "start_time": "2023-01-18T21:00:56.604Z"
   },
   {
    "duration": 0,
    "start_time": "2023-01-18T21:00:56.605Z"
   },
   {
    "duration": 0,
    "start_time": "2023-01-18T21:00:56.606Z"
   },
   {
    "duration": 0,
    "start_time": "2023-01-18T21:00:56.607Z"
   },
   {
    "duration": 0,
    "start_time": "2023-01-18T21:00:56.608Z"
   },
   {
    "duration": 3,
    "start_time": "2023-01-18T21:06:49.592Z"
   },
   {
    "duration": 151,
    "start_time": "2023-01-18T21:06:49.597Z"
   },
   {
    "duration": 8,
    "start_time": "2023-01-18T21:06:49.750Z"
   },
   {
    "duration": 24,
    "start_time": "2023-01-18T21:06:49.759Z"
   },
   {
    "duration": 12,
    "start_time": "2023-01-18T21:06:49.801Z"
   },
   {
    "duration": 58,
    "start_time": "2023-01-18T21:06:49.815Z"
   },
   {
    "duration": 76,
    "start_time": "2023-01-18T21:06:49.875Z"
   },
   {
    "duration": 78,
    "start_time": "2023-01-18T21:06:49.953Z"
   },
   {
    "duration": 87,
    "start_time": "2023-01-18T21:06:50.032Z"
   },
   {
    "duration": 13,
    "start_time": "2023-01-18T21:06:50.121Z"
   },
   {
    "duration": 11,
    "start_time": "2023-01-18T21:06:50.137Z"
   },
   {
    "duration": 15,
    "start_time": "2023-01-18T21:06:50.149Z"
   },
   {
    "duration": 40,
    "start_time": "2023-01-18T21:06:50.165Z"
   },
   {
    "duration": 14,
    "start_time": "2023-01-18T21:06:50.206Z"
   },
   {
    "duration": 229,
    "start_time": "2023-01-18T21:06:50.222Z"
   },
   {
    "duration": 62,
    "start_time": "2023-01-18T21:06:50.453Z"
   },
   {
    "duration": 21,
    "start_time": "2023-01-18T21:06:50.517Z"
   },
   {
    "duration": 16,
    "start_time": "2023-01-18T21:06:50.541Z"
   },
   {
    "duration": 8,
    "start_time": "2023-01-18T21:06:50.559Z"
   },
   {
    "duration": 50,
    "start_time": "2023-01-18T21:06:50.569Z"
   },
   {
    "duration": 78,
    "start_time": "2023-01-18T21:06:50.621Z"
   },
   {
    "duration": 8,
    "start_time": "2023-01-18T21:06:50.701Z"
   },
   {
    "duration": 19,
    "start_time": "2023-01-18T21:06:50.710Z"
   },
   {
    "duration": 7,
    "start_time": "2023-01-18T21:06:50.730Z"
   },
   {
    "duration": 25,
    "start_time": "2023-01-18T21:06:50.738Z"
   },
   {
    "duration": 54,
    "start_time": "2023-01-18T21:06:50.765Z"
   },
   {
    "duration": 5,
    "start_time": "2023-01-18T21:06:50.821Z"
   },
   {
    "duration": 71,
    "start_time": "2023-01-18T21:06:50.828Z"
   },
   {
    "duration": 5,
    "start_time": "2023-01-18T21:06:50.902Z"
   },
   {
    "duration": 72,
    "start_time": "2023-01-18T21:06:50.908Z"
   },
   {
    "duration": 17,
    "start_time": "2023-01-18T21:06:50.982Z"
   },
   {
    "duration": 5,
    "start_time": "2023-01-18T21:06:51.000Z"
   },
   {
    "duration": 11,
    "start_time": "2023-01-18T21:06:51.006Z"
   },
   {
    "duration": 14,
    "start_time": "2023-01-18T21:06:51.019Z"
   },
   {
    "duration": 10,
    "start_time": "2023-01-18T21:06:51.035Z"
   },
   {
    "duration": 7,
    "start_time": "2023-01-18T21:06:51.047Z"
   },
   {
    "duration": 8,
    "start_time": "2023-01-18T21:06:51.055Z"
   },
   {
    "duration": 6,
    "start_time": "2023-01-18T21:06:51.064Z"
   },
   {
    "duration": 27,
    "start_time": "2023-01-18T21:06:51.072Z"
   },
   {
    "duration": 8,
    "start_time": "2023-01-18T21:06:51.101Z"
   },
   {
    "duration": 7,
    "start_time": "2023-01-18T21:06:51.110Z"
   },
   {
    "duration": 11,
    "start_time": "2023-01-18T21:06:51.118Z"
   },
   {
    "duration": 14,
    "start_time": "2023-01-18T21:06:51.131Z"
   },
   {
    "duration": 26,
    "start_time": "2023-01-18T21:06:51.146Z"
   },
   {
    "duration": 17,
    "start_time": "2023-01-18T21:06:51.173Z"
   },
   {
    "duration": 14,
    "start_time": "2023-01-18T21:06:51.192Z"
   },
   {
    "duration": 20,
    "start_time": "2023-01-18T21:06:51.208Z"
   },
   {
    "duration": 13,
    "start_time": "2023-01-18T21:06:51.230Z"
   },
   {
    "duration": 1188,
    "start_time": "2023-01-21T20:13:57.092Z"
   },
   {
    "duration": 526,
    "start_time": "2023-01-21T20:13:58.282Z"
   },
   {
    "duration": 7,
    "start_time": "2023-01-21T20:13:58.810Z"
   },
   {
    "duration": 28,
    "start_time": "2023-01-21T20:13:58.818Z"
   },
   {
    "duration": 19,
    "start_time": "2023-01-21T20:13:58.849Z"
   },
   {
    "duration": 79,
    "start_time": "2023-01-21T20:13:58.870Z"
   },
   {
    "duration": 69,
    "start_time": "2023-01-21T20:13:58.951Z"
   },
   {
    "duration": 65,
    "start_time": "2023-01-21T20:13:59.022Z"
   },
   {
    "duration": 118,
    "start_time": "2023-01-21T20:13:59.088Z"
   },
   {
    "duration": 70,
    "start_time": "2023-01-21T20:13:59.208Z"
   },
   {
    "duration": 9,
    "start_time": "2023-01-21T20:13:59.280Z"
   },
   {
    "duration": 22,
    "start_time": "2023-01-21T20:13:59.291Z"
   },
   {
    "duration": 20,
    "start_time": "2023-01-21T20:13:59.315Z"
   },
   {
    "duration": 30,
    "start_time": "2023-01-21T20:13:59.349Z"
   },
   {
    "duration": 336,
    "start_time": "2023-01-21T20:13:59.381Z"
   },
   {
    "duration": 87,
    "start_time": "2023-01-21T20:13:59.719Z"
   },
   {
    "duration": 40,
    "start_time": "2023-01-21T20:13:59.809Z"
   },
   {
    "duration": 15,
    "start_time": "2023-01-21T20:13:59.851Z"
   },
   {
    "duration": 8,
    "start_time": "2023-01-21T20:13:59.868Z"
   },
   {
    "duration": 35,
    "start_time": "2023-01-21T20:13:59.878Z"
   },
   {
    "duration": 120,
    "start_time": "2023-01-21T20:13:59.915Z"
   },
   {
    "duration": 17,
    "start_time": "2023-01-21T20:14:00.037Z"
   },
   {
    "duration": 13,
    "start_time": "2023-01-21T20:14:00.055Z"
   },
   {
    "duration": 5,
    "start_time": "2023-01-21T20:14:00.070Z"
   },
   {
    "duration": 20,
    "start_time": "2023-01-21T20:14:00.076Z"
   },
   {
    "duration": 56,
    "start_time": "2023-01-21T20:14:00.098Z"
   },
   {
    "duration": 5,
    "start_time": "2023-01-21T20:14:00.156Z"
   },
   {
    "duration": 72,
    "start_time": "2023-01-21T20:14:00.163Z"
   },
   {
    "duration": 16,
    "start_time": "2023-01-21T20:14:00.237Z"
   },
   {
    "duration": 95,
    "start_time": "2023-01-21T20:14:00.255Z"
   },
   {
    "duration": 5,
    "start_time": "2023-01-21T20:14:00.352Z"
   },
   {
    "duration": 46,
    "start_time": "2023-01-21T20:14:00.359Z"
   },
   {
    "duration": 47,
    "start_time": "2023-01-21T20:14:00.406Z"
   },
   {
    "duration": 27,
    "start_time": "2023-01-21T20:14:00.455Z"
   },
   {
    "duration": 20,
    "start_time": "2023-01-21T20:14:00.485Z"
   },
   {
    "duration": 18,
    "start_time": "2023-01-21T20:14:00.508Z"
   },
   {
    "duration": 49,
    "start_time": "2023-01-21T20:14:00.528Z"
   },
   {
    "duration": 31,
    "start_time": "2023-01-21T20:14:00.580Z"
   },
   {
    "duration": 34,
    "start_time": "2023-01-21T20:14:00.613Z"
   },
   {
    "duration": 34,
    "start_time": "2023-01-21T20:14:00.649Z"
   },
   {
    "duration": 32,
    "start_time": "2023-01-21T20:14:00.688Z"
   },
   {
    "duration": 44,
    "start_time": "2023-01-21T20:14:00.721Z"
   },
   {
    "duration": 37,
    "start_time": "2023-01-21T20:14:00.767Z"
   },
   {
    "duration": 38,
    "start_time": "2023-01-21T20:14:00.806Z"
   },
   {
    "duration": 33,
    "start_time": "2023-01-21T20:14:00.846Z"
   },
   {
    "duration": 32,
    "start_time": "2023-01-21T20:14:00.881Z"
   },
   {
    "duration": 90,
    "start_time": "2023-01-21T20:14:00.915Z"
   },
   {
    "duration": 34,
    "start_time": "2023-01-21T20:14:01.007Z"
   },
   {
    "duration": 587,
    "start_time": "2023-01-21T20:15:24.474Z"
   },
   {
    "duration": 5,
    "start_time": "2023-01-21T20:20:30.976Z"
   },
   {
    "duration": 11,
    "start_time": "2023-01-21T20:20:43.727Z"
   },
   {
    "duration": 11,
    "start_time": "2023-01-21T20:21:12.655Z"
   },
   {
    "duration": 13,
    "start_time": "2023-01-21T20:21:24.258Z"
   },
   {
    "duration": 14,
    "start_time": "2023-01-21T20:22:20.927Z"
   },
   {
    "duration": 14,
    "start_time": "2023-01-21T20:22:28.369Z"
   },
   {
    "duration": 45,
    "start_time": "2023-01-21T20:22:39.811Z"
   },
   {
    "duration": 10,
    "start_time": "2023-01-21T20:22:44.623Z"
   },
   {
    "duration": 157,
    "start_time": "2023-01-21T20:23:25.475Z"
   },
   {
    "duration": 18,
    "start_time": "2023-01-21T20:23:35.409Z"
   },
   {
    "duration": 9,
    "start_time": "2023-01-21T20:23:41.823Z"
   },
   {
    "duration": 12,
    "start_time": "2023-01-21T20:24:01.340Z"
   },
   {
    "duration": 12,
    "start_time": "2023-01-21T20:24:07.389Z"
   },
   {
    "duration": 8,
    "start_time": "2023-01-21T20:24:22.393Z"
   },
   {
    "duration": 13,
    "start_time": "2023-01-21T20:24:26.608Z"
   },
   {
    "duration": 11,
    "start_time": "2023-01-21T20:24:49.907Z"
   },
   {
    "duration": 11,
    "start_time": "2023-01-21T20:25:03.108Z"
   },
   {
    "duration": 12,
    "start_time": "2023-01-21T20:25:20.756Z"
   },
   {
    "duration": 12,
    "start_time": "2023-01-21T20:25:28.725Z"
   },
   {
    "duration": 13,
    "start_time": "2023-01-21T20:28:12.634Z"
   },
   {
    "duration": 12,
    "start_time": "2023-01-21T20:28:36.473Z"
   },
   {
    "duration": 14,
    "start_time": "2023-01-21T20:29:14.928Z"
   },
   {
    "duration": 11,
    "start_time": "2023-01-21T20:31:47.958Z"
   },
   {
    "duration": 11,
    "start_time": "2023-01-21T20:31:55.690Z"
   },
   {
    "duration": 11,
    "start_time": "2023-01-21T20:32:08.856Z"
   },
   {
    "duration": 11,
    "start_time": "2023-01-21T20:32:17.378Z"
   },
   {
    "duration": 10,
    "start_time": "2023-01-21T20:36:16.589Z"
   },
   {
    "duration": 367,
    "start_time": "2023-01-21T20:37:57.184Z"
   },
   {
    "duration": 7,
    "start_time": "2023-01-21T20:38:21.653Z"
   },
   {
    "duration": 16,
    "start_time": "2023-01-21T20:39:35.597Z"
   },
   {
    "duration": 15,
    "start_time": "2023-01-21T20:40:09.306Z"
   },
   {
    "duration": 43,
    "start_time": "2023-01-21T20:41:01.674Z"
   },
   {
    "duration": 41,
    "start_time": "2023-01-21T20:41:24.459Z"
   },
   {
    "duration": 14,
    "start_time": "2023-01-21T20:47:39.615Z"
   },
   {
    "duration": 14,
    "start_time": "2023-01-21T20:51:15.996Z"
   },
   {
    "duration": 24,
    "start_time": "2023-01-21T20:51:23.654Z"
   },
   {
    "duration": 27,
    "start_time": "2023-01-21T20:51:59.327Z"
   },
   {
    "duration": 44,
    "start_time": "2023-01-21T20:57:01.776Z"
   },
   {
    "duration": 42,
    "start_time": "2023-01-21T20:57:10.253Z"
   },
   {
    "duration": 48,
    "start_time": "2023-01-21T20:58:27.297Z"
   },
   {
    "duration": 42,
    "start_time": "2023-01-21T20:58:46.882Z"
   },
   {
    "duration": 56,
    "start_time": "2023-01-21T21:00:17.813Z"
   },
   {
    "duration": 51,
    "start_time": "2023-01-21T21:00:26.077Z"
   },
   {
    "duration": 4,
    "start_time": "2023-01-21T21:46:18.411Z"
   },
   {
    "duration": 240,
    "start_time": "2023-01-21T21:46:18.417Z"
   },
   {
    "duration": 10,
    "start_time": "2023-01-21T21:46:18.659Z"
   },
   {
    "duration": 42,
    "start_time": "2023-01-21T21:46:18.672Z"
   },
   {
    "duration": 16,
    "start_time": "2023-01-21T21:46:18.716Z"
   },
   {
    "duration": 90,
    "start_time": "2023-01-21T21:46:18.749Z"
   },
   {
    "duration": 107,
    "start_time": "2023-01-21T21:46:18.848Z"
   },
   {
    "duration": 92,
    "start_time": "2023-01-21T21:46:18.958Z"
   },
   {
    "duration": 134,
    "start_time": "2023-01-21T21:46:19.052Z"
   },
   {
    "duration": 24,
    "start_time": "2023-01-21T21:46:19.193Z"
   },
   {
    "duration": 21,
    "start_time": "2023-01-21T21:46:19.219Z"
   },
   {
    "duration": 41,
    "start_time": "2023-01-21T21:46:19.242Z"
   },
   {
    "duration": 50,
    "start_time": "2023-01-21T21:46:19.285Z"
   },
   {
    "duration": 29,
    "start_time": "2023-01-21T21:46:19.337Z"
   },
   {
    "duration": 288,
    "start_time": "2023-01-21T21:46:19.368Z"
   },
   {
    "duration": 80,
    "start_time": "2023-01-21T21:46:19.658Z"
   },
   {
    "duration": 40,
    "start_time": "2023-01-21T21:46:19.749Z"
   },
   {
    "duration": 32,
    "start_time": "2023-01-21T21:46:19.791Z"
   },
   {
    "duration": 27,
    "start_time": "2023-01-21T21:46:19.825Z"
   },
   {
    "duration": 83,
    "start_time": "2023-01-21T21:46:19.853Z"
   },
   {
    "duration": 96,
    "start_time": "2023-01-21T21:46:19.938Z"
   },
   {
    "duration": 18,
    "start_time": "2023-01-21T21:46:20.036Z"
   },
   {
    "duration": 25,
    "start_time": "2023-01-21T21:46:20.056Z"
   },
   {
    "duration": 14,
    "start_time": "2023-01-21T21:46:20.083Z"
   },
   {
    "duration": 66,
    "start_time": "2023-01-21T21:46:20.099Z"
   },
   {
    "duration": 20,
    "start_time": "2023-01-21T21:46:20.167Z"
   },
   {
    "duration": 41,
    "start_time": "2023-01-21T21:46:20.189Z"
   },
   {
    "duration": 79,
    "start_time": "2023-01-21T21:46:20.234Z"
   },
   {
    "duration": 9,
    "start_time": "2023-01-21T21:46:20.316Z"
   },
   {
    "duration": 76,
    "start_time": "2023-01-21T21:46:20.349Z"
   },
   {
    "duration": 22,
    "start_time": "2023-01-21T21:46:20.427Z"
   },
   {
    "duration": 117,
    "start_time": "2023-01-21T21:46:20.451Z"
   },
   {
    "duration": 66,
    "start_time": "2023-01-21T21:46:20.570Z"
   },
   {
    "duration": 0,
    "start_time": "2023-01-21T21:46:20.638Z"
   },
   {
    "duration": 0,
    "start_time": "2023-01-21T21:46:20.639Z"
   },
   {
    "duration": 0,
    "start_time": "2023-01-21T21:46:20.640Z"
   },
   {
    "duration": 0,
    "start_time": "2023-01-21T21:46:20.641Z"
   },
   {
    "duration": 0,
    "start_time": "2023-01-21T21:46:20.642Z"
   },
   {
    "duration": 0,
    "start_time": "2023-01-21T21:46:20.644Z"
   },
   {
    "duration": 0,
    "start_time": "2023-01-21T21:46:20.646Z"
   },
   {
    "duration": 0,
    "start_time": "2023-01-21T21:46:20.647Z"
   },
   {
    "duration": 0,
    "start_time": "2023-01-21T21:46:20.648Z"
   },
   {
    "duration": 0,
    "start_time": "2023-01-21T21:46:20.649Z"
   },
   {
    "duration": 0,
    "start_time": "2023-01-21T21:46:20.650Z"
   },
   {
    "duration": 0,
    "start_time": "2023-01-21T21:46:20.652Z"
   },
   {
    "duration": 0,
    "start_time": "2023-01-21T21:46:20.654Z"
   },
   {
    "duration": 0,
    "start_time": "2023-01-21T21:46:20.657Z"
   },
   {
    "duration": 0,
    "start_time": "2023-01-21T21:46:20.659Z"
   },
   {
    "duration": 0,
    "start_time": "2023-01-21T21:46:20.661Z"
   },
   {
    "duration": 0,
    "start_time": "2023-01-21T21:46:20.664Z"
   },
   {
    "duration": 571,
    "start_time": "2023-01-21T21:51:03.512Z"
   },
   {
    "duration": 501,
    "start_time": "2023-01-21T21:51:35.107Z"
   },
   {
    "duration": 556,
    "start_time": "2023-01-21T21:54:04.606Z"
   },
   {
    "duration": 559,
    "start_time": "2023-01-21T21:54:13.014Z"
   },
   {
    "duration": 70,
    "start_time": "2023-01-21T21:55:06.663Z"
   },
   {
    "duration": 90,
    "start_time": "2023-01-21T21:55:13.589Z"
   },
   {
    "duration": 662,
    "start_time": "2023-01-21T21:55:16.324Z"
   },
   {
    "duration": 549,
    "start_time": "2023-01-21T21:55:28.694Z"
   },
   {
    "duration": 541,
    "start_time": "2023-01-21T21:56:02.056Z"
   },
   {
    "duration": 14,
    "start_time": "2023-01-21T21:56:25.973Z"
   },
   {
    "duration": 528,
    "start_time": "2023-01-21T21:56:53.205Z"
   },
   {
    "duration": 62,
    "start_time": "2023-01-21T21:57:26.024Z"
   },
   {
    "duration": 538,
    "start_time": "2023-01-21T21:57:30.888Z"
   },
   {
    "duration": 9,
    "start_time": "2023-01-21T21:58:01.056Z"
   },
   {
    "duration": 550,
    "start_time": "2023-01-21T21:58:38.241Z"
   },
   {
    "duration": 524,
    "start_time": "2023-01-21T21:58:46.855Z"
   },
   {
    "duration": 556,
    "start_time": "2023-01-21T21:59:58.156Z"
   },
   {
    "duration": 578,
    "start_time": "2023-01-21T22:00:18.270Z"
   },
   {
    "duration": 720,
    "start_time": "2023-01-21T22:00:39.947Z"
   },
   {
    "duration": 52,
    "start_time": "2023-01-21T22:01:50.358Z"
   },
   {
    "duration": 17,
    "start_time": "2023-01-21T22:02:05.571Z"
   },
   {
    "duration": 287,
    "start_time": "2023-01-21T22:03:27.756Z"
   },
   {
    "duration": 102,
    "start_time": "2023-01-21T22:03:50.697Z"
   },
   {
    "duration": 98,
    "start_time": "2023-01-21T22:04:27.791Z"
   },
   {
    "duration": 20,
    "start_time": "2023-01-21T22:04:59.472Z"
   },
   {
    "duration": 598,
    "start_time": "2023-01-21T22:05:29.481Z"
   },
   {
    "duration": 664,
    "start_time": "2023-01-21T22:06:44.109Z"
   },
   {
    "duration": 97,
    "start_time": "2023-01-21T22:07:05.042Z"
   },
   {
    "duration": 119,
    "start_time": "2023-01-21T22:14:30.949Z"
   },
   {
    "duration": 103,
    "start_time": "2023-01-21T22:15:26.298Z"
   },
   {
    "duration": 108,
    "start_time": "2023-01-21T22:19:22.408Z"
   },
   {
    "duration": 107,
    "start_time": "2023-01-21T22:29:50.549Z"
   },
   {
    "duration": 78,
    "start_time": "2023-01-21T22:35:10.146Z"
   },
   {
    "duration": 104,
    "start_time": "2023-01-21T22:35:26.825Z"
   },
   {
    "duration": 109,
    "start_time": "2023-01-21T22:35:31.858Z"
   },
   {
    "duration": 98,
    "start_time": "2023-01-21T22:35:39.560Z"
   },
   {
    "duration": 538,
    "start_time": "2023-01-21T22:35:55.062Z"
   },
   {
    "duration": 102,
    "start_time": "2023-01-21T22:38:56.364Z"
   },
   {
    "duration": 72,
    "start_time": "2023-01-21T22:39:51.641Z"
   },
   {
    "duration": 802,
    "start_time": "2023-01-21T22:40:08.088Z"
   },
   {
    "duration": 816,
    "start_time": "2023-01-21T22:40:25.602Z"
   },
   {
    "duration": 780,
    "start_time": "2023-01-21T22:41:23.447Z"
   },
   {
    "duration": 12,
    "start_time": "2023-01-21T22:41:49.572Z"
   },
   {
    "duration": 4,
    "start_time": "2023-01-21T22:55:17.361Z"
   },
   {
    "duration": 241,
    "start_time": "2023-01-21T22:55:17.368Z"
   },
   {
    "duration": 10,
    "start_time": "2023-01-21T22:55:17.611Z"
   },
   {
    "duration": 49,
    "start_time": "2023-01-21T22:55:17.624Z"
   },
   {
    "duration": 25,
    "start_time": "2023-01-21T22:55:17.675Z"
   },
   {
    "duration": 66,
    "start_time": "2023-01-21T22:55:17.702Z"
   },
   {
    "duration": 65,
    "start_time": "2023-01-21T22:55:17.769Z"
   },
   {
    "duration": 70,
    "start_time": "2023-01-21T22:55:17.836Z"
   },
   {
    "duration": 121,
    "start_time": "2023-01-21T22:55:17.909Z"
   },
   {
    "duration": 20,
    "start_time": "2023-01-21T22:55:18.033Z"
   },
   {
    "duration": 11,
    "start_time": "2023-01-21T22:55:18.055Z"
   },
   {
    "duration": 26,
    "start_time": "2023-01-21T22:55:18.069Z"
   },
   {
    "duration": 56,
    "start_time": "2023-01-21T22:55:18.097Z"
   },
   {
    "duration": 30,
    "start_time": "2023-01-21T22:55:18.156Z"
   },
   {
    "duration": 207,
    "start_time": "2023-01-21T22:55:18.188Z"
   },
   {
    "duration": 90,
    "start_time": "2023-01-21T22:55:18.397Z"
   },
   {
    "duration": 42,
    "start_time": "2023-01-21T22:55:18.489Z"
   },
   {
    "duration": 27,
    "start_time": "2023-01-21T22:55:18.534Z"
   },
   {
    "duration": 11,
    "start_time": "2023-01-21T22:55:18.563Z"
   },
   {
    "duration": 75,
    "start_time": "2023-01-21T22:55:18.576Z"
   },
   {
    "duration": 98,
    "start_time": "2023-01-21T22:55:18.653Z"
   },
   {
    "duration": 13,
    "start_time": "2023-01-21T22:55:18.753Z"
   },
   {
    "duration": 14,
    "start_time": "2023-01-21T22:55:18.768Z"
   },
   {
    "duration": 6,
    "start_time": "2023-01-21T22:55:18.784Z"
   },
   {
    "duration": 62,
    "start_time": "2023-01-21T22:55:18.792Z"
   },
   {
    "duration": 15,
    "start_time": "2023-01-21T22:55:18.855Z"
   },
   {
    "duration": 29,
    "start_time": "2023-01-21T22:55:18.872Z"
   },
   {
    "duration": 77,
    "start_time": "2023-01-21T22:55:18.905Z"
   },
   {
    "duration": 7,
    "start_time": "2023-01-21T22:55:18.984Z"
   },
   {
    "duration": 69,
    "start_time": "2023-01-21T22:55:18.993Z"
   },
   {
    "duration": 6,
    "start_time": "2023-01-21T22:55:19.064Z"
   },
   {
    "duration": 83,
    "start_time": "2023-01-21T22:55:19.072Z"
   },
   {
    "duration": 706,
    "start_time": "2023-01-21T22:55:19.157Z"
   },
   {
    "duration": 0,
    "start_time": "2023-01-21T22:55:19.865Z"
   },
   {
    "duration": 0,
    "start_time": "2023-01-21T22:55:19.867Z"
   },
   {
    "duration": 0,
    "start_time": "2023-01-21T22:55:19.868Z"
   },
   {
    "duration": 0,
    "start_time": "2023-01-21T22:55:19.869Z"
   },
   {
    "duration": 0,
    "start_time": "2023-01-21T22:55:19.871Z"
   },
   {
    "duration": 0,
    "start_time": "2023-01-21T22:55:19.872Z"
   },
   {
    "duration": 0,
    "start_time": "2023-01-21T22:55:19.873Z"
   },
   {
    "duration": 0,
    "start_time": "2023-01-21T22:55:19.874Z"
   },
   {
    "duration": 0,
    "start_time": "2023-01-21T22:55:19.876Z"
   },
   {
    "duration": 0,
    "start_time": "2023-01-21T22:55:19.878Z"
   },
   {
    "duration": 0,
    "start_time": "2023-01-21T22:55:19.879Z"
   },
   {
    "duration": 0,
    "start_time": "2023-01-21T22:55:19.880Z"
   },
   {
    "duration": 0,
    "start_time": "2023-01-21T22:55:19.885Z"
   },
   {
    "duration": 0,
    "start_time": "2023-01-21T22:55:19.886Z"
   },
   {
    "duration": 0,
    "start_time": "2023-01-21T22:55:19.887Z"
   },
   {
    "duration": 0,
    "start_time": "2023-01-21T22:55:19.888Z"
   },
   {
    "duration": 0,
    "start_time": "2023-01-21T22:55:19.889Z"
   },
   {
    "duration": 744,
    "start_time": "2023-01-21T22:56:22.974Z"
   },
   {
    "duration": 5,
    "start_time": "2023-01-21T22:56:37.621Z"
   },
   {
    "duration": 8,
    "start_time": "2023-01-21T22:56:58.798Z"
   },
   {
    "duration": 9,
    "start_time": "2023-01-21T22:57:22.609Z"
   },
   {
    "duration": 740,
    "start_time": "2023-01-21T22:57:39.187Z"
   },
   {
    "duration": 260,
    "start_time": "2023-01-21T22:58:42.610Z"
   },
   {
    "duration": 115,
    "start_time": "2023-01-21T22:58:53.890Z"
   },
   {
    "duration": 801,
    "start_time": "2023-01-21T22:59:14.955Z"
   },
   {
    "duration": 10,
    "start_time": "2023-01-21T22:59:24.238Z"
   },
   {
    "duration": 20,
    "start_time": "2023-01-21T23:02:17.923Z"
   },
   {
    "duration": 18,
    "start_time": "2023-01-21T23:10:45.130Z"
   },
   {
    "duration": 15,
    "start_time": "2023-01-21T23:10:55.669Z"
   },
   {
    "duration": 19,
    "start_time": "2023-01-21T23:11:01.767Z"
   },
   {
    "duration": 19,
    "start_time": "2023-01-21T23:12:40.608Z"
   },
   {
    "duration": 45,
    "start_time": "2023-01-21T23:20:09.620Z"
   },
   {
    "duration": 4,
    "start_time": "2023-01-21T23:20:19.520Z"
   },
   {
    "duration": 14,
    "start_time": "2023-01-21T23:24:19.870Z"
   },
   {
    "duration": 16,
    "start_time": "2023-01-21T23:24:32.382Z"
   },
   {
    "duration": 17,
    "start_time": "2023-01-21T23:25:28.244Z"
   },
   {
    "duration": 7,
    "start_time": "2023-01-21T23:25:41.476Z"
   },
   {
    "duration": 14,
    "start_time": "2023-01-21T23:26:44.326Z"
   },
   {
    "duration": 4,
    "start_time": "2023-01-21T23:27:03.221Z"
   },
   {
    "duration": 4,
    "start_time": "2023-01-21T23:27:53.385Z"
   },
   {
    "duration": 74,
    "start_time": "2023-01-21T23:28:46.094Z"
   },
   {
    "duration": 50,
    "start_time": "2023-01-21T23:30:15.334Z"
   },
   {
    "duration": 66,
    "start_time": "2023-01-21T23:30:26.352Z"
   },
   {
    "duration": 4,
    "start_time": "2023-01-21T23:31:25.917Z"
   },
   {
    "duration": 5,
    "start_time": "2023-01-21T23:31:37.396Z"
   },
   {
    "duration": 29,
    "start_time": "2023-01-21T23:32:22.598Z"
   },
   {
    "duration": 29,
    "start_time": "2023-01-21T23:32:33.638Z"
   },
   {
    "duration": 41,
    "start_time": "2023-01-21T23:32:43.466Z"
   },
   {
    "duration": 32,
    "start_time": "2023-01-21T23:32:56.612Z"
   },
   {
    "duration": 38,
    "start_time": "2023-01-21T23:33:08.580Z"
   },
   {
    "duration": 32,
    "start_time": "2023-01-21T23:33:52.585Z"
   },
   {
    "duration": 31,
    "start_time": "2023-01-21T23:34:03.631Z"
   },
   {
    "duration": 29,
    "start_time": "2023-01-21T23:34:14.383Z"
   },
   {
    "duration": 35,
    "start_time": "2023-01-21T23:34:24.967Z"
   },
   {
    "duration": 34,
    "start_time": "2023-01-21T23:34:41.464Z"
   },
   {
    "duration": 29,
    "start_time": "2023-01-21T23:34:49.592Z"
   },
   {
    "duration": 33,
    "start_time": "2023-01-21T23:34:55.800Z"
   },
   {
    "duration": 32,
    "start_time": "2023-01-21T23:35:05.763Z"
   },
   {
    "duration": 13,
    "start_time": "2023-01-21T23:35:28.948Z"
   },
   {
    "duration": 13,
    "start_time": "2023-01-21T23:35:57.317Z"
   },
   {
    "duration": 42,
    "start_time": "2023-01-21T23:43:33.945Z"
   },
   {
    "duration": 60,
    "start_time": "2023-01-21T23:43:45.094Z"
   },
   {
    "duration": 68,
    "start_time": "2023-01-21T23:43:56.032Z"
   },
   {
    "duration": 35,
    "start_time": "2023-01-21T23:44:10.853Z"
   },
   {
    "duration": 720,
    "start_time": "2023-01-21T23:44:22.228Z"
   },
   {
    "duration": 5,
    "start_time": "2023-01-21T23:44:41.252Z"
   },
   {
    "duration": 5,
    "start_time": "2023-01-21T23:44:48.780Z"
   },
   {
    "duration": 5,
    "start_time": "2023-01-21T23:45:17.802Z"
   },
   {
    "duration": 5,
    "start_time": "2023-01-21T23:47:41.513Z"
   },
   {
    "duration": 5,
    "start_time": "2023-01-21T23:48:14.247Z"
   },
   {
    "duration": 5,
    "start_time": "2023-01-21T23:48:41.971Z"
   },
   {
    "duration": 5,
    "start_time": "2023-01-21T23:49:54.649Z"
   },
   {
    "duration": 5,
    "start_time": "2023-01-21T23:50:26.643Z"
   },
   {
    "duration": 5,
    "start_time": "2023-01-21T23:50:51.069Z"
   },
   {
    "duration": 5,
    "start_time": "2023-01-21T23:51:06.047Z"
   },
   {
    "duration": 5,
    "start_time": "2023-01-21T23:51:50.353Z"
   },
   {
    "duration": 5,
    "start_time": "2023-01-21T23:52:21.747Z"
   },
   {
    "duration": 5,
    "start_time": "2023-01-21T23:52:50.180Z"
   },
   {
    "duration": 5,
    "start_time": "2023-01-21T23:53:03.294Z"
   },
   {
    "duration": 5,
    "start_time": "2023-01-21T23:53:21.354Z"
   },
   {
    "duration": 716,
    "start_time": "2023-01-21T23:53:46.806Z"
   },
   {
    "duration": 7,
    "start_time": "2023-01-21T23:54:08.529Z"
   },
   {
    "duration": 9,
    "start_time": "2023-01-21T23:54:18.601Z"
   },
   {
    "duration": 8,
    "start_time": "2023-01-21T23:54:25.751Z"
   },
   {
    "duration": 8,
    "start_time": "2023-01-21T23:54:34.365Z"
   },
   {
    "duration": 4,
    "start_time": "2023-01-21T23:54:43.244Z"
   },
   {
    "duration": 4,
    "start_time": "2023-01-21T23:55:45.650Z"
   },
   {
    "duration": 168,
    "start_time": "2023-01-21T23:55:45.657Z"
   },
   {
    "duration": 7,
    "start_time": "2023-01-21T23:55:45.826Z"
   },
   {
    "duration": 36,
    "start_time": "2023-01-21T23:55:45.835Z"
   },
   {
    "duration": 12,
    "start_time": "2023-01-21T23:55:45.873Z"
   },
   {
    "duration": 67,
    "start_time": "2023-01-21T23:55:45.887Z"
   },
   {
    "duration": 57,
    "start_time": "2023-01-21T23:55:45.956Z"
   },
   {
    "duration": 69,
    "start_time": "2023-01-21T23:55:46.014Z"
   },
   {
    "duration": 82,
    "start_time": "2023-01-21T23:55:46.085Z"
   },
   {
    "duration": 13,
    "start_time": "2023-01-21T23:55:46.169Z"
   },
   {
    "duration": 9,
    "start_time": "2023-01-21T23:55:46.183Z"
   },
   {
    "duration": 24,
    "start_time": "2023-01-21T23:55:46.193Z"
   },
   {
    "duration": 48,
    "start_time": "2023-01-21T23:55:46.219Z"
   },
   {
    "duration": 25,
    "start_time": "2023-01-21T23:55:46.271Z"
   },
   {
    "duration": 232,
    "start_time": "2023-01-21T23:55:46.298Z"
   },
   {
    "duration": 62,
    "start_time": "2023-01-21T23:55:46.532Z"
   },
   {
    "duration": 27,
    "start_time": "2023-01-21T23:55:46.596Z"
   },
   {
    "duration": 27,
    "start_time": "2023-01-21T23:55:46.625Z"
   },
   {
    "duration": 8,
    "start_time": "2023-01-21T23:55:46.654Z"
   },
   {
    "duration": 33,
    "start_time": "2023-01-21T23:55:46.664Z"
   },
   {
    "duration": 87,
    "start_time": "2023-01-21T23:55:46.700Z"
   },
   {
    "duration": 12,
    "start_time": "2023-01-21T23:55:46.789Z"
   },
   {
    "duration": 13,
    "start_time": "2023-01-21T23:55:46.803Z"
   },
   {
    "duration": 8,
    "start_time": "2023-01-21T23:55:46.818Z"
   },
   {
    "duration": 57,
    "start_time": "2023-01-21T23:55:46.828Z"
   },
   {
    "duration": 15,
    "start_time": "2023-01-21T23:55:46.887Z"
   },
   {
    "duration": 58,
    "start_time": "2023-01-21T23:55:46.904Z"
   },
   {
    "duration": 48,
    "start_time": "2023-01-21T23:55:46.963Z"
   },
   {
    "duration": 5,
    "start_time": "2023-01-21T23:55:47.012Z"
   },
   {
    "duration": 78,
    "start_time": "2023-01-21T23:55:47.018Z"
   },
   {
    "duration": 5,
    "start_time": "2023-01-21T23:55:47.098Z"
   },
   {
    "duration": 111,
    "start_time": "2023-01-21T23:55:47.105Z"
   },
   {
    "duration": 6,
    "start_time": "2023-01-21T23:55:47.217Z"
   },
   {
    "duration": 12,
    "start_time": "2023-01-21T23:55:47.224Z"
   },
   {
    "duration": 12,
    "start_time": "2023-01-21T23:55:47.237Z"
   },
   {
    "duration": 5,
    "start_time": "2023-01-21T23:55:47.251Z"
   },
   {
    "duration": 6,
    "start_time": "2023-01-21T23:55:47.258Z"
   },
   {
    "duration": 7,
    "start_time": "2023-01-21T23:55:47.265Z"
   },
   {
    "duration": 9,
    "start_time": "2023-01-21T23:55:47.274Z"
   },
   {
    "duration": 6,
    "start_time": "2023-01-21T23:55:47.285Z"
   },
   {
    "duration": 5,
    "start_time": "2023-01-21T23:55:47.295Z"
   },
   {
    "duration": 7,
    "start_time": "2023-01-21T23:55:47.301Z"
   },
   {
    "duration": 40,
    "start_time": "2023-01-21T23:55:47.310Z"
   },
   {
    "duration": 5,
    "start_time": "2023-01-21T23:55:47.352Z"
   },
   {
    "duration": 14,
    "start_time": "2023-01-21T23:55:47.358Z"
   },
   {
    "duration": 8,
    "start_time": "2023-01-21T23:55:47.374Z"
   },
   {
    "duration": 10,
    "start_time": "2023-01-21T23:55:47.384Z"
   },
   {
    "duration": 6,
    "start_time": "2023-01-21T23:55:47.396Z"
   },
   {
    "duration": 8,
    "start_time": "2023-01-21T23:55:47.404Z"
   },
   {
    "duration": 14,
    "start_time": "2023-01-21T23:55:47.414Z"
   },
   {
    "duration": 1447,
    "start_time": "2023-01-22T14:28:12.970Z"
   },
   {
    "duration": 848,
    "start_time": "2023-01-22T14:28:14.419Z"
   },
   {
    "duration": 11,
    "start_time": "2023-01-22T14:28:15.269Z"
   },
   {
    "duration": 37,
    "start_time": "2023-01-22T14:28:15.282Z"
   },
   {
    "duration": 21,
    "start_time": "2023-01-22T14:28:15.322Z"
   },
   {
    "duration": 86,
    "start_time": "2023-01-22T14:28:15.345Z"
   },
   {
    "duration": 87,
    "start_time": "2023-01-22T14:28:15.433Z"
   },
   {
    "duration": 96,
    "start_time": "2023-01-22T14:28:15.522Z"
   },
   {
    "duration": 105,
    "start_time": "2023-01-22T14:28:15.621Z"
   },
   {
    "duration": 14,
    "start_time": "2023-01-22T14:28:15.728Z"
   },
   {
    "duration": 14,
    "start_time": "2023-01-22T14:28:15.744Z"
   },
   {
    "duration": 38,
    "start_time": "2023-01-22T14:28:15.760Z"
   },
   {
    "duration": 22,
    "start_time": "2023-01-22T14:28:15.800Z"
   },
   {
    "duration": 20,
    "start_time": "2023-01-22T14:28:15.826Z"
   },
   {
    "duration": 341,
    "start_time": "2023-01-22T14:28:15.849Z"
   },
   {
    "duration": 57,
    "start_time": "2023-01-22T14:28:16.192Z"
   },
   {
    "duration": 40,
    "start_time": "2023-01-22T14:28:16.252Z"
   },
   {
    "duration": 16,
    "start_time": "2023-01-22T14:28:16.294Z"
   },
   {
    "duration": 8,
    "start_time": "2023-01-22T14:28:16.312Z"
   },
   {
    "duration": 70,
    "start_time": "2023-01-22T14:28:16.322Z"
   },
   {
    "duration": 76,
    "start_time": "2023-01-22T14:28:16.394Z"
   },
   {
    "duration": 14,
    "start_time": "2023-01-22T14:28:16.483Z"
   },
   {
    "duration": 13,
    "start_time": "2023-01-22T14:28:16.499Z"
   },
   {
    "duration": 6,
    "start_time": "2023-01-22T14:28:16.514Z"
   },
   {
    "duration": 621,
    "start_time": "2023-01-22T14:28:16.523Z"
   },
   {
    "duration": 23,
    "start_time": "2023-01-22T14:28:17.146Z"
   },
   {
    "duration": 291,
    "start_time": "2023-01-22T14:28:17.171Z"
   },
   {
    "duration": 0,
    "start_time": "2023-01-22T14:28:17.464Z"
   },
   {
    "duration": 0,
    "start_time": "2023-01-22T14:28:17.466Z"
   },
   {
    "duration": 0,
    "start_time": "2023-01-22T14:28:17.467Z"
   },
   {
    "duration": 0,
    "start_time": "2023-01-22T14:28:17.468Z"
   },
   {
    "duration": 0,
    "start_time": "2023-01-22T14:28:17.484Z"
   },
   {
    "duration": 0,
    "start_time": "2023-01-22T14:28:17.485Z"
   },
   {
    "duration": 0,
    "start_time": "2023-01-22T14:28:17.487Z"
   },
   {
    "duration": 0,
    "start_time": "2023-01-22T14:28:17.489Z"
   },
   {
    "duration": 0,
    "start_time": "2023-01-22T14:28:17.490Z"
   },
   {
    "duration": 0,
    "start_time": "2023-01-22T14:28:17.491Z"
   },
   {
    "duration": 0,
    "start_time": "2023-01-22T14:28:17.492Z"
   },
   {
    "duration": 0,
    "start_time": "2023-01-22T14:28:17.493Z"
   },
   {
    "duration": 0,
    "start_time": "2023-01-22T14:28:17.494Z"
   },
   {
    "duration": 0,
    "start_time": "2023-01-22T14:28:17.495Z"
   },
   {
    "duration": 0,
    "start_time": "2023-01-22T14:28:17.496Z"
   },
   {
    "duration": 0,
    "start_time": "2023-01-22T14:28:17.497Z"
   },
   {
    "duration": 0,
    "start_time": "2023-01-22T14:28:17.498Z"
   },
   {
    "duration": 0,
    "start_time": "2023-01-22T14:28:17.500Z"
   },
   {
    "duration": 0,
    "start_time": "2023-01-22T14:28:17.501Z"
   },
   {
    "duration": 0,
    "start_time": "2023-01-22T14:28:17.502Z"
   },
   {
    "duration": 0,
    "start_time": "2023-01-22T14:28:17.503Z"
   },
   {
    "duration": 0,
    "start_time": "2023-01-22T14:28:17.504Z"
   },
   {
    "duration": 0,
    "start_time": "2023-01-22T14:28:17.505Z"
   },
   {
    "duration": 19,
    "start_time": "2023-01-22T14:30:03.769Z"
   },
   {
    "duration": 29,
    "start_time": "2023-01-22T14:30:21.585Z"
   },
   {
    "duration": 24,
    "start_time": "2023-01-22T14:30:45.891Z"
   },
   {
    "duration": 23,
    "start_time": "2023-01-22T14:30:56.874Z"
   },
   {
    "duration": 29,
    "start_time": "2023-01-22T14:31:09.613Z"
   },
   {
    "duration": 17,
    "start_time": "2023-01-22T14:31:41.771Z"
   },
   {
    "duration": 38,
    "start_time": "2023-01-22T14:32:15.587Z"
   },
   {
    "duration": 26,
    "start_time": "2023-01-22T14:32:21.838Z"
   },
   {
    "duration": 21,
    "start_time": "2023-01-22T14:33:32.985Z"
   },
   {
    "duration": 12,
    "start_time": "2023-01-22T14:33:34.435Z"
   },
   {
    "duration": 26,
    "start_time": "2023-01-22T14:33:53.884Z"
   },
   {
    "duration": 20,
    "start_time": "2023-01-22T14:33:58.077Z"
   },
   {
    "duration": 19,
    "start_time": "2023-01-22T14:34:08.257Z"
   },
   {
    "duration": 4,
    "start_time": "2023-01-22T14:34:19.423Z"
   },
   {
    "duration": 204,
    "start_time": "2023-01-22T14:34:19.429Z"
   },
   {
    "duration": 9,
    "start_time": "2023-01-22T14:34:19.635Z"
   },
   {
    "duration": 44,
    "start_time": "2023-01-22T14:34:19.646Z"
   },
   {
    "duration": 27,
    "start_time": "2023-01-22T14:34:19.693Z"
   },
   {
    "duration": 79,
    "start_time": "2023-01-22T14:34:19.722Z"
   },
   {
    "duration": 67,
    "start_time": "2023-01-22T14:34:19.803Z"
   },
   {
    "duration": 78,
    "start_time": "2023-01-22T14:34:19.872Z"
   },
   {
    "duration": 123,
    "start_time": "2023-01-22T14:34:19.951Z"
   },
   {
    "duration": 17,
    "start_time": "2023-01-22T14:34:20.083Z"
   },
   {
    "duration": 21,
    "start_time": "2023-01-22T14:34:20.102Z"
   },
   {
    "duration": 42,
    "start_time": "2023-01-22T14:34:20.125Z"
   },
   {
    "duration": 29,
    "start_time": "2023-01-22T14:34:20.169Z"
   },
   {
    "duration": 38,
    "start_time": "2023-01-22T14:34:20.203Z"
   },
   {
    "duration": 252,
    "start_time": "2023-01-22T14:34:20.244Z"
   },
   {
    "duration": 54,
    "start_time": "2023-01-22T14:34:20.498Z"
   },
   {
    "duration": 46,
    "start_time": "2023-01-22T14:34:20.554Z"
   },
   {
    "duration": 20,
    "start_time": "2023-01-22T14:34:20.602Z"
   },
   {
    "duration": 12,
    "start_time": "2023-01-22T14:34:20.624Z"
   },
   {
    "duration": 68,
    "start_time": "2023-01-22T14:34:20.638Z"
   },
   {
    "duration": 82,
    "start_time": "2023-01-22T14:34:20.709Z"
   },
   {
    "duration": 16,
    "start_time": "2023-01-22T14:34:20.793Z"
   },
   {
    "duration": 15,
    "start_time": "2023-01-22T14:34:20.811Z"
   },
   {
    "duration": 26,
    "start_time": "2023-01-22T14:34:20.827Z"
   },
   {
    "duration": 52,
    "start_time": "2023-01-22T14:34:20.855Z"
   },
   {
    "duration": 17,
    "start_time": "2023-01-22T14:34:20.909Z"
   },
   {
    "duration": 80,
    "start_time": "2023-01-22T14:34:20.928Z"
   },
   {
    "duration": 0,
    "start_time": "2023-01-22T14:34:21.011Z"
   },
   {
    "duration": 0,
    "start_time": "2023-01-22T14:34:21.012Z"
   },
   {
    "duration": 0,
    "start_time": "2023-01-22T14:34:21.014Z"
   },
   {
    "duration": 0,
    "start_time": "2023-01-22T14:34:21.016Z"
   },
   {
    "duration": 0,
    "start_time": "2023-01-22T14:34:21.017Z"
   },
   {
    "duration": 0,
    "start_time": "2023-01-22T14:34:21.019Z"
   },
   {
    "duration": 0,
    "start_time": "2023-01-22T14:34:21.020Z"
   },
   {
    "duration": 0,
    "start_time": "2023-01-22T14:34:21.022Z"
   },
   {
    "duration": 0,
    "start_time": "2023-01-22T14:34:21.024Z"
   },
   {
    "duration": 0,
    "start_time": "2023-01-22T14:34:21.025Z"
   },
   {
    "duration": 0,
    "start_time": "2023-01-22T14:34:21.026Z"
   },
   {
    "duration": 0,
    "start_time": "2023-01-22T14:34:21.028Z"
   },
   {
    "duration": 0,
    "start_time": "2023-01-22T14:34:21.029Z"
   },
   {
    "duration": 0,
    "start_time": "2023-01-22T14:34:21.030Z"
   },
   {
    "duration": 0,
    "start_time": "2023-01-22T14:34:21.032Z"
   },
   {
    "duration": 0,
    "start_time": "2023-01-22T14:34:21.033Z"
   },
   {
    "duration": 0,
    "start_time": "2023-01-22T14:34:21.035Z"
   },
   {
    "duration": 0,
    "start_time": "2023-01-22T14:34:21.036Z"
   },
   {
    "duration": 0,
    "start_time": "2023-01-22T14:34:21.037Z"
   },
   {
    "duration": 0,
    "start_time": "2023-01-22T14:34:21.039Z"
   },
   {
    "duration": 0,
    "start_time": "2023-01-22T14:34:21.040Z"
   },
   {
    "duration": 0,
    "start_time": "2023-01-22T14:34:21.084Z"
   },
   {
    "duration": 0,
    "start_time": "2023-01-22T14:34:21.086Z"
   },
   {
    "duration": 17,
    "start_time": "2023-01-22T14:34:59.466Z"
   },
   {
    "duration": 60,
    "start_time": "2023-01-22T14:35:42.135Z"
   },
   {
    "duration": 5,
    "start_time": "2023-01-22T14:35:47.590Z"
   },
   {
    "duration": 239,
    "start_time": "2023-01-22T14:35:47.597Z"
   },
   {
    "duration": 9,
    "start_time": "2023-01-22T14:35:47.838Z"
   },
   {
    "duration": 40,
    "start_time": "2023-01-22T14:35:47.849Z"
   },
   {
    "duration": 15,
    "start_time": "2023-01-22T14:35:47.891Z"
   },
   {
    "duration": 114,
    "start_time": "2023-01-22T14:35:47.908Z"
   },
   {
    "duration": 78,
    "start_time": "2023-01-22T14:35:48.024Z"
   },
   {
    "duration": 84,
    "start_time": "2023-01-22T14:35:48.104Z"
   },
   {
    "duration": 100,
    "start_time": "2023-01-22T14:35:48.190Z"
   },
   {
    "duration": 15,
    "start_time": "2023-01-22T14:35:48.292Z"
   },
   {
    "duration": 11,
    "start_time": "2023-01-22T14:35:48.309Z"
   },
   {
    "duration": 19,
    "start_time": "2023-01-22T14:35:48.322Z"
   },
   {
    "duration": 56,
    "start_time": "2023-01-22T14:35:48.343Z"
   },
   {
    "duration": 27,
    "start_time": "2023-01-22T14:35:48.404Z"
   },
   {
    "duration": 248,
    "start_time": "2023-01-22T14:35:48.433Z"
   },
   {
    "duration": 56,
    "start_time": "2023-01-22T14:35:48.684Z"
   },
   {
    "duration": 45,
    "start_time": "2023-01-22T14:35:48.742Z"
   },
   {
    "duration": 13,
    "start_time": "2023-01-22T14:35:48.789Z"
   },
   {
    "duration": 10,
    "start_time": "2023-01-22T14:35:48.803Z"
   },
   {
    "duration": 37,
    "start_time": "2023-01-22T14:35:48.815Z"
   },
   {
    "duration": 74,
    "start_time": "2023-01-22T14:35:48.885Z"
   },
   {
    "duration": 30,
    "start_time": "2023-01-22T14:35:48.961Z"
   },
   {
    "duration": 18,
    "start_time": "2023-01-22T14:35:48.993Z"
   },
   {
    "duration": 7,
    "start_time": "2023-01-22T14:35:49.013Z"
   },
   {
    "duration": 73,
    "start_time": "2023-01-22T14:35:49.022Z"
   },
   {
    "duration": 18,
    "start_time": "2023-01-22T14:35:49.097Z"
   },
   {
    "duration": 44,
    "start_time": "2023-01-22T14:35:49.117Z"
   },
   {
    "duration": 79,
    "start_time": "2023-01-22T14:35:49.163Z"
   },
   {
    "duration": 6,
    "start_time": "2023-01-22T14:35:49.244Z"
   },
   {
    "duration": 107,
    "start_time": "2023-01-22T14:35:49.252Z"
   },
   {
    "duration": 6,
    "start_time": "2023-01-22T14:35:49.361Z"
   },
   {
    "duration": 121,
    "start_time": "2023-01-22T14:35:49.369Z"
   },
   {
    "duration": 6,
    "start_time": "2023-01-22T14:35:49.491Z"
   },
   {
    "duration": 23,
    "start_time": "2023-01-22T14:35:49.499Z"
   },
   {
    "duration": 20,
    "start_time": "2023-01-22T14:35:49.524Z"
   },
   {
    "duration": 24,
    "start_time": "2023-01-22T14:35:49.546Z"
   },
   {
    "duration": 23,
    "start_time": "2023-01-22T14:35:49.573Z"
   },
   {
    "duration": 38,
    "start_time": "2023-01-22T14:35:49.599Z"
   },
   {
    "duration": 27,
    "start_time": "2023-01-22T14:35:49.639Z"
   },
   {
    "duration": 18,
    "start_time": "2023-01-22T14:35:49.668Z"
   },
   {
    "duration": 15,
    "start_time": "2023-01-22T14:35:49.690Z"
   },
   {
    "duration": 14,
    "start_time": "2023-01-22T14:35:49.707Z"
   },
   {
    "duration": 17,
    "start_time": "2023-01-22T14:35:49.724Z"
   },
   {
    "duration": 19,
    "start_time": "2023-01-22T14:35:49.744Z"
   },
   {
    "duration": 23,
    "start_time": "2023-01-22T14:35:49.767Z"
   },
   {
    "duration": 40,
    "start_time": "2023-01-22T14:35:49.793Z"
   },
   {
    "duration": 7,
    "start_time": "2023-01-22T14:35:49.835Z"
   },
   {
    "duration": 9,
    "start_time": "2023-01-22T14:35:49.844Z"
   },
   {
    "duration": 13,
    "start_time": "2023-01-22T14:35:49.856Z"
   },
   {
    "duration": 8,
    "start_time": "2023-01-22T14:35:49.886Z"
   },
   {
    "duration": 9,
    "start_time": "2023-01-22T14:37:06.523Z"
   },
   {
    "duration": 7,
    "start_time": "2023-01-22T14:37:11.115Z"
   },
   {
    "duration": 8,
    "start_time": "2023-01-22T14:37:43.473Z"
   },
   {
    "duration": 8,
    "start_time": "2023-01-22T14:38:09.914Z"
   },
   {
    "duration": 6,
    "start_time": "2023-01-22T14:38:46.013Z"
   },
   {
    "duration": 4,
    "start_time": "2023-01-22T14:39:56.041Z"
   },
   {
    "duration": 187,
    "start_time": "2023-01-22T14:39:56.047Z"
   },
   {
    "duration": 12,
    "start_time": "2023-01-22T14:39:56.237Z"
   },
   {
    "duration": 40,
    "start_time": "2023-01-22T14:39:56.252Z"
   },
   {
    "duration": 17,
    "start_time": "2023-01-22T14:39:56.294Z"
   },
   {
    "duration": 92,
    "start_time": "2023-01-22T14:39:56.313Z"
   },
   {
    "duration": 90,
    "start_time": "2023-01-22T14:39:56.406Z"
   },
   {
    "duration": 66,
    "start_time": "2023-01-22T14:39:56.498Z"
   },
   {
    "duration": 127,
    "start_time": "2023-01-22T14:39:56.566Z"
   },
   {
    "duration": 22,
    "start_time": "2023-01-22T14:39:56.697Z"
   },
   {
    "duration": 12,
    "start_time": "2023-01-22T14:39:56.721Z"
   },
   {
    "duration": 52,
    "start_time": "2023-01-22T14:39:56.736Z"
   },
   {
    "duration": 24,
    "start_time": "2023-01-22T14:39:56.791Z"
   },
   {
    "duration": 30,
    "start_time": "2023-01-22T14:39:56.818Z"
   },
   {
    "duration": 255,
    "start_time": "2023-01-22T14:39:56.850Z"
   },
   {
    "duration": 77,
    "start_time": "2023-01-22T14:39:57.107Z"
   },
   {
    "duration": 31,
    "start_time": "2023-01-22T14:39:57.187Z"
   },
   {
    "duration": 12,
    "start_time": "2023-01-22T14:39:57.220Z"
   },
   {
    "duration": 9,
    "start_time": "2023-01-22T14:39:57.234Z"
   },
   {
    "duration": 62,
    "start_time": "2023-01-22T14:39:57.245Z"
   },
   {
    "duration": 86,
    "start_time": "2023-01-22T14:39:57.309Z"
   },
   {
    "duration": 13,
    "start_time": "2023-01-22T14:39:57.397Z"
   },
   {
    "duration": 13,
    "start_time": "2023-01-22T14:39:57.412Z"
   },
   {
    "duration": 6,
    "start_time": "2023-01-22T14:39:57.427Z"
   },
   {
    "duration": 71,
    "start_time": "2023-01-22T14:39:57.434Z"
   },
   {
    "duration": 19,
    "start_time": "2023-01-22T14:39:57.507Z"
   },
   {
    "duration": 69,
    "start_time": "2023-01-22T14:39:57.528Z"
   },
   {
    "duration": 62,
    "start_time": "2023-01-22T14:39:57.601Z"
   },
   {
    "duration": 7,
    "start_time": "2023-01-22T14:39:57.685Z"
   },
   {
    "duration": 97,
    "start_time": "2023-01-22T14:39:57.694Z"
   },
   {
    "duration": 6,
    "start_time": "2023-01-22T14:39:57.793Z"
   },
   {
    "duration": 118,
    "start_time": "2023-01-22T14:39:57.801Z"
   },
   {
    "duration": 6,
    "start_time": "2023-01-22T14:39:57.921Z"
   },
   {
    "duration": 28,
    "start_time": "2023-01-22T14:39:57.929Z"
   },
   {
    "duration": 44,
    "start_time": "2023-01-22T14:39:57.959Z"
   },
   {
    "duration": 25,
    "start_time": "2023-01-22T14:39:58.005Z"
   },
   {
    "duration": 41,
    "start_time": "2023-01-22T14:39:58.032Z"
   },
   {
    "duration": 37,
    "start_time": "2023-01-22T14:39:58.076Z"
   },
   {
    "duration": 21,
    "start_time": "2023-01-22T14:39:58.115Z"
   },
   {
    "duration": 44,
    "start_time": "2023-01-22T14:39:58.138Z"
   },
   {
    "duration": 30,
    "start_time": "2023-01-22T14:39:58.184Z"
   },
   {
    "duration": 33,
    "start_time": "2023-01-22T14:39:58.217Z"
   },
   {
    "duration": 36,
    "start_time": "2023-01-22T14:39:58.253Z"
   },
   {
    "duration": 27,
    "start_time": "2023-01-22T14:39:58.292Z"
   },
   {
    "duration": 37,
    "start_time": "2023-01-22T14:39:58.321Z"
   },
   {
    "duration": 57,
    "start_time": "2023-01-22T14:39:58.360Z"
   },
   {
    "duration": 7,
    "start_time": "2023-01-22T14:39:58.419Z"
   },
   {
    "duration": 30,
    "start_time": "2023-01-22T14:39:58.428Z"
   },
   {
    "duration": 31,
    "start_time": "2023-01-22T14:39:58.460Z"
   },
   {
    "duration": 18,
    "start_time": "2023-01-22T14:39:58.493Z"
   },
   {
    "duration": 1084,
    "start_time": "2023-01-22T16:07:15.391Z"
   },
   {
    "duration": 186,
    "start_time": "2023-01-22T16:07:16.477Z"
   },
   {
    "duration": 8,
    "start_time": "2023-01-22T16:07:16.664Z"
   },
   {
    "duration": 38,
    "start_time": "2023-01-22T16:07:16.674Z"
   },
   {
    "duration": 40,
    "start_time": "2023-01-22T16:07:16.714Z"
   },
   {
    "duration": 80,
    "start_time": "2023-01-22T16:07:16.755Z"
   },
   {
    "duration": 66,
    "start_time": "2023-01-22T16:07:16.837Z"
   },
   {
    "duration": 71,
    "start_time": "2023-01-22T16:07:16.905Z"
   },
   {
    "duration": 86,
    "start_time": "2023-01-22T16:07:16.978Z"
   },
   {
    "duration": 20,
    "start_time": "2023-01-22T16:07:17.067Z"
   },
   {
    "duration": 15,
    "start_time": "2023-01-22T16:07:17.089Z"
   },
   {
    "duration": 24,
    "start_time": "2023-01-22T16:07:17.106Z"
   },
   {
    "duration": 24,
    "start_time": "2023-01-22T16:07:17.140Z"
   },
   {
    "duration": 21,
    "start_time": "2023-01-22T16:07:17.165Z"
   },
   {
    "duration": 308,
    "start_time": "2023-01-22T16:07:17.188Z"
   },
   {
    "duration": 69,
    "start_time": "2023-01-22T16:07:17.498Z"
   },
   {
    "duration": 27,
    "start_time": "2023-01-22T16:07:17.569Z"
   },
   {
    "duration": 15,
    "start_time": "2023-01-22T16:07:17.598Z"
   },
   {
    "duration": 30,
    "start_time": "2023-01-22T16:07:17.615Z"
   },
   {
    "duration": 35,
    "start_time": "2023-01-22T16:07:17.647Z"
   },
   {
    "duration": 89,
    "start_time": "2023-01-22T16:07:17.684Z"
   },
   {
    "duration": 12,
    "start_time": "2023-01-22T16:07:17.775Z"
   },
   {
    "duration": 13,
    "start_time": "2023-01-22T16:07:17.789Z"
   },
   {
    "duration": 9,
    "start_time": "2023-01-22T16:07:17.803Z"
   },
   {
    "duration": 641,
    "start_time": "2023-01-22T16:07:17.814Z"
   },
   {
    "duration": 20,
    "start_time": "2023-01-22T16:07:18.457Z"
   },
   {
    "duration": 95,
    "start_time": "2023-01-22T16:07:18.479Z"
   },
   {
    "duration": 98,
    "start_time": "2023-01-22T16:07:18.578Z"
   },
   {
    "duration": 5,
    "start_time": "2023-01-22T16:07:18.678Z"
   },
   {
    "duration": 93,
    "start_time": "2023-01-22T16:07:18.684Z"
   },
   {
    "duration": 5,
    "start_time": "2023-01-22T16:07:18.779Z"
   },
   {
    "duration": 113,
    "start_time": "2023-01-22T16:07:18.785Z"
   },
   {
    "duration": 8,
    "start_time": "2023-01-22T16:07:18.900Z"
   },
   {
    "duration": 21,
    "start_time": "2023-01-22T16:07:18.910Z"
   },
   {
    "duration": 21,
    "start_time": "2023-01-22T16:07:18.933Z"
   },
   {
    "duration": 14,
    "start_time": "2023-01-22T16:07:18.957Z"
   },
   {
    "duration": 23,
    "start_time": "2023-01-22T16:07:18.973Z"
   },
   {
    "duration": 28,
    "start_time": "2023-01-22T16:07:18.998Z"
   },
   {
    "duration": 16,
    "start_time": "2023-01-22T16:07:19.028Z"
   },
   {
    "duration": 23,
    "start_time": "2023-01-22T16:07:19.046Z"
   },
   {
    "duration": 13,
    "start_time": "2023-01-22T16:07:19.071Z"
   },
   {
    "duration": 27,
    "start_time": "2023-01-22T16:07:19.086Z"
   },
   {
    "duration": 30,
    "start_time": "2023-01-22T16:07:19.115Z"
   },
   {
    "duration": 19,
    "start_time": "2023-01-22T16:07:19.147Z"
   },
   {
    "duration": 35,
    "start_time": "2023-01-22T16:07:19.167Z"
   },
   {
    "duration": 23,
    "start_time": "2023-01-22T16:07:19.204Z"
   },
   {
    "duration": 6,
    "start_time": "2023-01-22T16:07:19.228Z"
   },
   {
    "duration": 14,
    "start_time": "2023-01-22T16:07:19.236Z"
   },
   {
    "duration": 18,
    "start_time": "2023-01-22T16:07:19.252Z"
   },
   {
    "duration": 16,
    "start_time": "2023-01-22T16:07:19.272Z"
   },
   {
    "duration": 4,
    "start_time": "2023-01-22T16:09:49.004Z"
   },
   {
    "duration": 172,
    "start_time": "2023-01-22T16:09:49.176Z"
   },
   {
    "duration": 8,
    "start_time": "2023-01-22T16:09:49.917Z"
   },
   {
    "duration": 22,
    "start_time": "2023-01-22T16:09:50.297Z"
   },
   {
    "duration": 17,
    "start_time": "2023-01-22T16:09:50.449Z"
   },
   {
    "duration": 63,
    "start_time": "2023-01-22T16:09:50.622Z"
   },
   {
    "duration": 72,
    "start_time": "2023-01-22T16:09:50.791Z"
   },
   {
    "duration": 58,
    "start_time": "2023-01-22T16:09:50.962Z"
   },
   {
    "duration": 80,
    "start_time": "2023-01-22T16:09:51.332Z"
   },
   {
    "duration": 15,
    "start_time": "2023-01-22T16:09:52.067Z"
   },
   {
    "duration": 7,
    "start_time": "2023-01-22T16:09:52.580Z"
   },
   {
    "duration": 19,
    "start_time": "2023-01-22T16:09:53.120Z"
   },
   {
    "duration": 19,
    "start_time": "2023-01-22T16:09:53.693Z"
   },
   {
    "duration": 20,
    "start_time": "2023-01-22T16:09:53.879Z"
   },
   {
    "duration": 195,
    "start_time": "2023-01-22T16:09:54.448Z"
   },
   {
    "duration": 57,
    "start_time": "2023-01-22T16:09:54.827Z"
   },
   {
    "duration": 28,
    "start_time": "2023-01-22T16:09:55.421Z"
   },
   {
    "duration": 10,
    "start_time": "2023-01-22T16:09:55.630Z"
   },
   {
    "duration": 9,
    "start_time": "2023-01-22T16:09:56.188Z"
   },
   {
    "duration": 33,
    "start_time": "2023-01-22T16:09:57.026Z"
   },
   {
    "duration": 64,
    "start_time": "2023-01-22T16:09:57.576Z"
   },
   {
    "duration": 11,
    "start_time": "2023-01-22T16:09:58.767Z"
   },
   {
    "duration": 10,
    "start_time": "2023-01-22T16:09:59.822Z"
   },
   {
    "duration": 4,
    "start_time": "2023-01-22T16:10:00.478Z"
   },
   {
    "duration": 42,
    "start_time": "2023-01-22T16:10:02.319Z"
   },
   {
    "duration": 16,
    "start_time": "2023-01-22T16:10:03.552Z"
   },
   {
    "duration": 39,
    "start_time": "2023-01-22T16:10:03.743Z"
   },
   {
    "duration": 52,
    "start_time": "2023-01-22T16:10:04.603Z"
   },
   {
    "duration": 39,
    "start_time": "2023-01-22T16:10:05.330Z"
   },
   {
    "duration": 1354,
    "start_time": "2023-01-22T16:18:29.229Z"
   },
   {
    "duration": 779,
    "start_time": "2023-01-22T16:18:30.585Z"
   },
   {
    "duration": 15,
    "start_time": "2023-01-22T16:18:31.366Z"
   },
   {
    "duration": 40,
    "start_time": "2023-01-22T16:18:31.382Z"
   },
   {
    "duration": 18,
    "start_time": "2023-01-22T16:18:31.424Z"
   },
   {
    "duration": 80,
    "start_time": "2023-01-22T16:18:31.444Z"
   },
   {
    "duration": 86,
    "start_time": "2023-01-22T16:18:31.525Z"
   },
   {
    "duration": 71,
    "start_time": "2023-01-22T16:18:31.613Z"
   },
   {
    "duration": 90,
    "start_time": "2023-01-22T16:18:31.686Z"
   },
   {
    "duration": 31,
    "start_time": "2023-01-22T16:18:31.778Z"
   },
   {
    "duration": 20,
    "start_time": "2023-01-22T16:18:31.810Z"
   },
   {
    "duration": 45,
    "start_time": "2023-01-22T16:18:31.832Z"
   },
   {
    "duration": 37,
    "start_time": "2023-01-22T16:18:31.879Z"
   },
   {
    "duration": 46,
    "start_time": "2023-01-22T16:18:31.918Z"
   },
   {
    "duration": 310,
    "start_time": "2023-01-22T16:18:31.966Z"
   },
   {
    "duration": 55,
    "start_time": "2023-01-22T16:18:32.278Z"
   },
   {
    "duration": 49,
    "start_time": "2023-01-22T16:18:32.334Z"
   },
   {
    "duration": 18,
    "start_time": "2023-01-22T16:18:32.385Z"
   },
   {
    "duration": 12,
    "start_time": "2023-01-22T16:18:32.404Z"
   },
   {
    "duration": 47,
    "start_time": "2023-01-22T16:18:32.418Z"
   },
   {
    "duration": 66,
    "start_time": "2023-01-22T16:18:32.467Z"
   },
   {
    "duration": 32,
    "start_time": "2023-01-22T16:18:32.534Z"
   },
   {
    "duration": 35,
    "start_time": "2023-01-22T16:18:32.567Z"
   },
   {
    "duration": 13,
    "start_time": "2023-01-22T16:18:32.603Z"
   },
   {
    "duration": 545,
    "start_time": "2023-01-22T16:18:32.618Z"
   },
   {
    "duration": 23,
    "start_time": "2023-01-22T16:18:33.166Z"
   },
   {
    "duration": 100,
    "start_time": "2023-01-22T16:18:33.191Z"
   },
   {
    "duration": 113,
    "start_time": "2023-01-22T16:18:33.293Z"
   },
   {
    "duration": 64,
    "start_time": "2023-01-22T16:18:33.407Z"
   },
   {
    "duration": 14,
    "start_time": "2023-01-22T16:18:33.476Z"
   },
   {
    "duration": 109,
    "start_time": "2023-01-22T16:18:33.492Z"
   },
   {
    "duration": 8,
    "start_time": "2023-01-22T16:18:33.603Z"
   },
   {
    "duration": 132,
    "start_time": "2023-01-22T16:18:33.613Z"
   },
   {
    "duration": 12,
    "start_time": "2023-01-22T16:18:33.752Z"
   },
   {
    "duration": 38,
    "start_time": "2023-01-22T16:18:33.767Z"
   },
   {
    "duration": 44,
    "start_time": "2023-01-22T16:18:33.808Z"
   },
   {
    "duration": 59,
    "start_time": "2023-01-22T16:18:33.854Z"
   },
   {
    "duration": 45,
    "start_time": "2023-01-22T16:18:33.915Z"
   },
   {
    "duration": 42,
    "start_time": "2023-01-22T16:18:33.961Z"
   },
   {
    "duration": 14,
    "start_time": "2023-01-22T16:18:34.005Z"
   },
   {
    "duration": 43,
    "start_time": "2023-01-22T16:18:34.023Z"
   },
   {
    "duration": 39,
    "start_time": "2023-01-22T16:18:34.068Z"
   },
   {
    "duration": 34,
    "start_time": "2023-01-22T16:18:34.108Z"
   },
   {
    "duration": 67,
    "start_time": "2023-01-22T16:18:34.143Z"
   },
   {
    "duration": 38,
    "start_time": "2023-01-22T16:18:34.212Z"
   },
   {
    "duration": 35,
    "start_time": "2023-01-22T16:18:34.252Z"
   },
   {
    "duration": 43,
    "start_time": "2023-01-22T16:18:34.289Z"
   },
   {
    "duration": 5,
    "start_time": "2023-01-22T16:18:34.333Z"
   },
   {
    "duration": 32,
    "start_time": "2023-01-22T16:18:34.340Z"
   },
   {
    "duration": 35,
    "start_time": "2023-01-22T16:18:34.374Z"
   },
   {
    "duration": 26,
    "start_time": "2023-01-22T16:18:34.410Z"
   },
   {
    "duration": 48,
    "start_time": "2023-01-22T16:19:08.033Z"
   }
  ],
  "kernelspec": {
   "display_name": "Python 3 (ipykernel)",
   "language": "python",
   "name": "python3"
  },
  "language_info": {
   "codemirror_mode": {
    "name": "ipython",
    "version": 3
   },
   "file_extension": ".py",
   "mimetype": "text/x-python",
   "name": "python",
   "nbconvert_exporter": "python",
   "pygments_lexer": "ipython3",
   "version": "3.9.12"
  },
  "toc": {
   "base_numbering": 1,
   "nav_menu": {},
   "number_sections": true,
   "sideBar": true,
   "skip_h1_title": true,
   "title_cell": "Table of Contents",
   "title_sidebar": "Contents",
   "toc_cell": false,
   "toc_position": {},
   "toc_section_display": true,
   "toc_window_display": false
  }
 },
 "nbformat": 4,
 "nbformat_minor": 2
}
