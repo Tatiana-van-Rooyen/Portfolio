{
 "cells": [
  {
   "cell_type": "markdown",
   "metadata": {},
   "source": [
    "# Приоритизация гипотиз. Анализ результатов А/В тестирования."
   ]
  },
  {
   "cell_type": "markdown",
   "metadata": {},
   "source": [
    "# Оглавление\n",
    "\n",
    "1. [Описание исследования](#description)\n",
    "2. [Часть 1. Приоритизация гипотез](#hypothesis)\n",
    "3. [Часть 2. Анализ A/B теста](#analisys)\n",
    "\n",
    "<a id=\"back_to_title\"></a>"
   ]
  },
  {
   "cell_type": "markdown",
   "metadata": {},
   "source": [
    "На базе данных крупного интернет-магазина приоритизиру гипотезы, подготовленные отделом маркетинга для увеличения выручки. \n",
    "\n",
    "Кроме того , проанализирую результаты А/В-тестирования."
   ]
  },
  {
   "cell_type": "markdown",
   "metadata": {},
   "source": [
    "# Описание исследования\n",
    "<a id=\"description\"></a>\n",
    "\n",
    "В распоряжении 2 датасета, на базе каждого из которых проведу отдельное иследование:\n",
    "\n",
    "I) Приоритизация гипотез.\n",
    "\n",
    "**Цель исследования** - приоритизировать 9 гипотез по увеличению выручки интернет-магазина с указанными параметрами Reach, Impact, Confidence, Effort.\n",
    "\n",
    "**Ход исследования** - для определения приоритетов гипотез будет использовано 2 модели: ICE и RICE. Будет проведена оценка изменения приоритетов гипотез в зависимости от используемой модели (фреймворка)\n",
    "\n",
    "II) Анализ A/B-теста.\n",
    "\n",
    "**Цель исследования** — выяснить, наблюдаются ли статистически значимые различия в результатах теста между группами А и В.\n",
    "\n",
    "**Ход исследования** - Анализ А/В теста будет выполнен в соответствии со следующей этапностью:\n",
    "\n",
    "- График кумулятивной выручки по группам. Выводы и предположения.\n",
    "- График кумулятивного среднего чека по группам. Выводы и предположения.\n",
    "- График относительного изменения кумулятивного среднего чека группы B к группе A. Выводы и предположения.\n",
    "- График кумулятивного среднего количества заказов на посетителя по группам. Выводы и предположения.\n",
    "- График относительного изменения кумулятивного среднего количества заказов на посетителя группы B к группе A. Выводы и предположения.\n",
    "- Точечный график количества заказов по пользователям. Выводы и предположения.\n",
    "- Расчет 95-го и 99-го перцентилей количества заказов на пользователя. Установление границы для определения аномальных пользователей.\n",
    "- Точечный график стоимостей заказов. Выводы и предположения.\n",
    "- Расчет 95-го и 99-го перцентилей стоимости заказов. Установление границы для определения аномальных заказов.\n",
    "- Расчет статистической значимости различий в среднем количестве заказов на посетителя между группами по «сырым» данным. Выводы и предположения.\n",
    "- Расчет статистической значимости различий в среднем чеке заказа между группами по «сырым» данным. Выводы и предположения.\n",
    "- Расчет статистической значимости различий в среднем количестве заказов на посетителя между группами по «очищенным» данным. Выводы и предположения.\n",
    "- Расчет статистической значимости различий в среднем чеке заказа между группами по «очищенным» данным. Выводы и предположения.\n",
    "- Принятие решения по результатам теста и его объяснение. Варианты решений: 1. Остановить тест, зафиксировать победу одной из групп. 2. Остановить тест, зафиксировать отсутствие различий между группами. 3. Продолжить тест.\n",
    "\n",
    "[К ОГЛАВЛЕНИЮ](#back_to_title)"
   ]
  },
  {
   "cell_type": "markdown",
   "metadata": {},
   "source": [
    "# Часть 1. Приоритизация гипотез\n",
    "<a id=\"hypothesis\"></a>\n",
    "\n",
    "[К ОГЛАВЛЕНИЮ](#back_to_title)"
   ]
  },
  {
   "cell_type": "code",
   "execution_count": 130,
   "metadata": {},
   "outputs": [],
   "source": [
    "#импортирую все библиотеки, которые понадобятся в исследованиях\n",
    "import pandas as pd\n",
    "import datetime as dt\n",
    "import numpy as np\n",
    "import scipy.stats as stats\n",
    "import matplotlib.pyplot as plt\n",
    "from pandas.plotting import register_matplotlib_converters\n",
    "import warnings\n",
    "\n",
    "# конвертеры, которые позволяют использовать типы pandas в matplotlib  \n",
    "register_matplotlib_converters()"
   ]
  },
  {
   "cell_type": "code",
   "execution_count": 131,
   "metadata": {},
   "outputs": [
    {
     "data": {
      "text/html": [
       "<div>\n",
       "<style scoped>\n",
       "    .dataframe tbody tr th:only-of-type {\n",
       "        vertical-align: middle;\n",
       "    }\n",
       "\n",
       "    .dataframe tbody tr th {\n",
       "        vertical-align: top;\n",
       "    }\n",
       "\n",
       "    .dataframe thead th {\n",
       "        text-align: right;\n",
       "    }\n",
       "</style>\n",
       "<table border=\"1\" class=\"dataframe\">\n",
       "  <thead>\n",
       "    <tr style=\"text-align: right;\">\n",
       "      <th></th>\n",
       "      <th>Hypothesis</th>\n",
       "      <th>Reach</th>\n",
       "      <th>Impact</th>\n",
       "      <th>Confidence</th>\n",
       "      <th>Efforts</th>\n",
       "    </tr>\n",
       "  </thead>\n",
       "  <tbody>\n",
       "    <tr>\n",
       "      <th>0</th>\n",
       "      <td>Добавить два новых канала привлечения трафика, что позволит привлекать на 30% больше пользователей</td>\n",
       "      <td>3</td>\n",
       "      <td>10</td>\n",
       "      <td>8</td>\n",
       "      <td>6</td>\n",
       "    </tr>\n",
       "    <tr>\n",
       "      <th>1</th>\n",
       "      <td>Запустить собственную службу доставки, что сократит срок доставки заказов</td>\n",
       "      <td>2</td>\n",
       "      <td>5</td>\n",
       "      <td>4</td>\n",
       "      <td>10</td>\n",
       "    </tr>\n",
       "    <tr>\n",
       "      <th>2</th>\n",
       "      <td>Добавить блоки рекомендаций товаров на сайт интернет магазина, чтобы повысить конверсию и средний чек заказа</td>\n",
       "      <td>8</td>\n",
       "      <td>3</td>\n",
       "      <td>7</td>\n",
       "      <td>3</td>\n",
       "    </tr>\n",
       "    <tr>\n",
       "      <th>3</th>\n",
       "      <td>Изменить структура категорий, что увеличит конверсию, т.к. пользователи быстрее найдут нужный товар</td>\n",
       "      <td>8</td>\n",
       "      <td>3</td>\n",
       "      <td>3</td>\n",
       "      <td>8</td>\n",
       "    </tr>\n",
       "    <tr>\n",
       "      <th>4</th>\n",
       "      <td>Изменить цвет фона главной страницы, чтобы увеличить вовлеченность пользователей</td>\n",
       "      <td>3</td>\n",
       "      <td>1</td>\n",
       "      <td>1</td>\n",
       "      <td>1</td>\n",
       "    </tr>\n",
       "    <tr>\n",
       "      <th>5</th>\n",
       "      <td>Добавить страницу отзывов клиентов о магазине, что позволит увеличить количество заказов</td>\n",
       "      <td>3</td>\n",
       "      <td>2</td>\n",
       "      <td>2</td>\n",
       "      <td>3</td>\n",
       "    </tr>\n",
       "    <tr>\n",
       "      <th>6</th>\n",
       "      <td>Показать на главной странице баннеры с актуальными акциями и распродажами, чтобы увеличить конверсию</td>\n",
       "      <td>5</td>\n",
       "      <td>3</td>\n",
       "      <td>8</td>\n",
       "      <td>3</td>\n",
       "    </tr>\n",
       "    <tr>\n",
       "      <th>7</th>\n",
       "      <td>Добавить форму подписки на все основные страницы, чтобы собрать базу клиентов для email-рассылок</td>\n",
       "      <td>10</td>\n",
       "      <td>7</td>\n",
       "      <td>8</td>\n",
       "      <td>5</td>\n",
       "    </tr>\n",
       "    <tr>\n",
       "      <th>8</th>\n",
       "      <td>Запустить акцию, дающую скидку на товар в день рождения</td>\n",
       "      <td>1</td>\n",
       "      <td>9</td>\n",
       "      <td>9</td>\n",
       "      <td>5</td>\n",
       "    </tr>\n",
       "  </tbody>\n",
       "</table>\n",
       "</div>"
      ],
      "text/plain": [
       "                                                                                                     Hypothesis  \\\n",
       "0            Добавить два новых канала привлечения трафика, что позволит привлекать на 30% больше пользователей   \n",
       "1                                     Запустить собственную службу доставки, что сократит срок доставки заказов   \n",
       "2  Добавить блоки рекомендаций товаров на сайт интернет магазина, чтобы повысить конверсию и средний чек заказа   \n",
       "3           Изменить структура категорий, что увеличит конверсию, т.к. пользователи быстрее найдут нужный товар   \n",
       "4                              Изменить цвет фона главной страницы, чтобы увеличить вовлеченность пользователей   \n",
       "5                      Добавить страницу отзывов клиентов о магазине, что позволит увеличить количество заказов   \n",
       "6          Показать на главной странице баннеры с актуальными акциями и распродажами, чтобы увеличить конверсию   \n",
       "7              Добавить форму подписки на все основные страницы, чтобы собрать базу клиентов для email-рассылок   \n",
       "8                                                       Запустить акцию, дающую скидку на товар в день рождения   \n",
       "\n",
       "   Reach  Impact  Confidence  Efforts  \n",
       "0      3      10           8        6  \n",
       "1      2       5           4       10  \n",
       "2      8       3           7        3  \n",
       "3      8       3           3        8  \n",
       "4      3       1           1        1  \n",
       "5      3       2           2        3  \n",
       "6      5       3           8        3  \n",
       "7     10       7           8        5  \n",
       "8      1       9           9        5  "
      ]
     },
     "metadata": {},
     "output_type": "display_data"
    }
   ],
   "source": [
    "hypothesis = pd.read_csv('/Users/tatanakondrahina/hypothesis.csv',sep=',') #знакомимся с датасетом с гипотезами\n",
    "display(hypothesis)"
   ]
  },
  {
   "cell_type": "code",
   "execution_count": 132,
   "metadata": {},
   "outputs": [
    {
     "data": {
      "text/html": [
       "<div>\n",
       "<style scoped>\n",
       "    .dataframe tbody tr th:only-of-type {\n",
       "        vertical-align: middle;\n",
       "    }\n",
       "\n",
       "    .dataframe tbody tr th {\n",
       "        vertical-align: top;\n",
       "    }\n",
       "\n",
       "    .dataframe thead th {\n",
       "        text-align: right;\n",
       "    }\n",
       "</style>\n",
       "<table border=\"1\" class=\"dataframe\">\n",
       "  <thead>\n",
       "    <tr style=\"text-align: right;\">\n",
       "      <th></th>\n",
       "      <th>Hypothesis</th>\n",
       "      <th>ICE</th>\n",
       "    </tr>\n",
       "  </thead>\n",
       "  <tbody>\n",
       "    <tr>\n",
       "      <th>8</th>\n",
       "      <td>Запустить акцию, дающую скидку на товар в день рождения</td>\n",
       "      <td>16.200000</td>\n",
       "    </tr>\n",
       "    <tr>\n",
       "      <th>0</th>\n",
       "      <td>Добавить два новых канала привлечения трафика, что позволит привлекать на 30% больше пользователей</td>\n",
       "      <td>13.333333</td>\n",
       "    </tr>\n",
       "    <tr>\n",
       "      <th>7</th>\n",
       "      <td>Добавить форму подписки на все основные страницы, чтобы собрать базу клиентов для email-рассылок</td>\n",
       "      <td>11.200000</td>\n",
       "    </tr>\n",
       "    <tr>\n",
       "      <th>6</th>\n",
       "      <td>Показать на главной странице баннеры с актуальными акциями и распродажами, чтобы увеличить конверсию</td>\n",
       "      <td>8.000000</td>\n",
       "    </tr>\n",
       "    <tr>\n",
       "      <th>2</th>\n",
       "      <td>Добавить блоки рекомендаций товаров на сайт интернет магазина, чтобы повысить конверсию и средний чек заказа</td>\n",
       "      <td>7.000000</td>\n",
       "    </tr>\n",
       "    <tr>\n",
       "      <th>1</th>\n",
       "      <td>Запустить собственную службу доставки, что сократит срок доставки заказов</td>\n",
       "      <td>2.000000</td>\n",
       "    </tr>\n",
       "    <tr>\n",
       "      <th>5</th>\n",
       "      <td>Добавить страницу отзывов клиентов о магазине, что позволит увеличить количество заказов</td>\n",
       "      <td>1.333333</td>\n",
       "    </tr>\n",
       "    <tr>\n",
       "      <th>3</th>\n",
       "      <td>Изменить структура категорий, что увеличит конверсию, т.к. пользователи быстрее найдут нужный товар</td>\n",
       "      <td>1.125000</td>\n",
       "    </tr>\n",
       "    <tr>\n",
       "      <th>4</th>\n",
       "      <td>Изменить цвет фона главной страницы, чтобы увеличить вовлеченность пользователей</td>\n",
       "      <td>1.000000</td>\n",
       "    </tr>\n",
       "  </tbody>\n",
       "</table>\n",
       "</div>"
      ],
      "text/plain": [
       "                                                                                                     Hypothesis  \\\n",
       "8                                                       Запустить акцию, дающую скидку на товар в день рождения   \n",
       "0            Добавить два новых канала привлечения трафика, что позволит привлекать на 30% больше пользователей   \n",
       "7              Добавить форму подписки на все основные страницы, чтобы собрать базу клиентов для email-рассылок   \n",
       "6          Показать на главной странице баннеры с актуальными акциями и распродажами, чтобы увеличить конверсию   \n",
       "2  Добавить блоки рекомендаций товаров на сайт интернет магазина, чтобы повысить конверсию и средний чек заказа   \n",
       "1                                     Запустить собственную службу доставки, что сократит срок доставки заказов   \n",
       "5                      Добавить страницу отзывов клиентов о магазине, что позволит увеличить количество заказов   \n",
       "3           Изменить структура категорий, что увеличит конверсию, т.к. пользователи быстрее найдут нужный товар   \n",
       "4                              Изменить цвет фона главной страницы, чтобы увеличить вовлеченность пользователей   \n",
       "\n",
       "         ICE  \n",
       "8  16.200000  \n",
       "0  13.333333  \n",
       "7  11.200000  \n",
       "6   8.000000  \n",
       "2   7.000000  \n",
       "1   2.000000  \n",
       "5   1.333333  \n",
       "3   1.125000  \n",
       "4   1.000000  "
      ]
     },
     "metadata": {},
     "output_type": "display_data"
    }
   ],
   "source": [
    "hypothesis['ICE'] = hypothesis['Impact']*hypothesis['Confidence']/hypothesis['Efforts'] #применяю формулу ICE\n",
    "pd.set_option('display.max_colwidth', None) #расширяю отображаемость колонок\n",
    "display(hypothesis[['Hypothesis','ICE']].sort_values (by='ICE',ascending=False)) #вывожу на экран и сортирую "
   ]
  },
  {
   "cell_type": "markdown",
   "metadata": {},
   "source": [
    "Согласно модели ICE, наиболее приоритетная гипотеза - Запустить акцию, дающую скидку на товар в день рождения"
   ]
  },
  {
   "cell_type": "code",
   "execution_count": 133,
   "metadata": {},
   "outputs": [
    {
     "data": {
      "text/html": [
       "<div>\n",
       "<style scoped>\n",
       "    .dataframe tbody tr th:only-of-type {\n",
       "        vertical-align: middle;\n",
       "    }\n",
       "\n",
       "    .dataframe tbody tr th {\n",
       "        vertical-align: top;\n",
       "    }\n",
       "\n",
       "    .dataframe thead th {\n",
       "        text-align: right;\n",
       "    }\n",
       "</style>\n",
       "<table border=\"1\" class=\"dataframe\">\n",
       "  <thead>\n",
       "    <tr style=\"text-align: right;\">\n",
       "      <th></th>\n",
       "      <th>Hypothesis</th>\n",
       "      <th>RICE</th>\n",
       "    </tr>\n",
       "  </thead>\n",
       "  <tbody>\n",
       "    <tr>\n",
       "      <th>7</th>\n",
       "      <td>Добавить форму подписки на все основные страницы, чтобы собрать базу клиентов для email-рассылок</td>\n",
       "      <td>112.0</td>\n",
       "    </tr>\n",
       "    <tr>\n",
       "      <th>2</th>\n",
       "      <td>Добавить блоки рекомендаций товаров на сайт интернет магазина, чтобы повысить конверсию и средний чек заказа</td>\n",
       "      <td>56.0</td>\n",
       "    </tr>\n",
       "    <tr>\n",
       "      <th>0</th>\n",
       "      <td>Добавить два новых канала привлечения трафика, что позволит привлекать на 30% больше пользователей</td>\n",
       "      <td>40.0</td>\n",
       "    </tr>\n",
       "    <tr>\n",
       "      <th>6</th>\n",
       "      <td>Показать на главной странице баннеры с актуальными акциями и распродажами, чтобы увеличить конверсию</td>\n",
       "      <td>40.0</td>\n",
       "    </tr>\n",
       "    <tr>\n",
       "      <th>8</th>\n",
       "      <td>Запустить акцию, дающую скидку на товар в день рождения</td>\n",
       "      <td>16.2</td>\n",
       "    </tr>\n",
       "    <tr>\n",
       "      <th>3</th>\n",
       "      <td>Изменить структура категорий, что увеличит конверсию, т.к. пользователи быстрее найдут нужный товар</td>\n",
       "      <td>9.0</td>\n",
       "    </tr>\n",
       "    <tr>\n",
       "      <th>1</th>\n",
       "      <td>Запустить собственную службу доставки, что сократит срок доставки заказов</td>\n",
       "      <td>4.0</td>\n",
       "    </tr>\n",
       "    <tr>\n",
       "      <th>5</th>\n",
       "      <td>Добавить страницу отзывов клиентов о магазине, что позволит увеличить количество заказов</td>\n",
       "      <td>4.0</td>\n",
       "    </tr>\n",
       "    <tr>\n",
       "      <th>4</th>\n",
       "      <td>Изменить цвет фона главной страницы, чтобы увеличить вовлеченность пользователей</td>\n",
       "      <td>3.0</td>\n",
       "    </tr>\n",
       "  </tbody>\n",
       "</table>\n",
       "</div>"
      ],
      "text/plain": [
       "                                                                                                     Hypothesis  \\\n",
       "7              Добавить форму подписки на все основные страницы, чтобы собрать базу клиентов для email-рассылок   \n",
       "2  Добавить блоки рекомендаций товаров на сайт интернет магазина, чтобы повысить конверсию и средний чек заказа   \n",
       "0            Добавить два новых канала привлечения трафика, что позволит привлекать на 30% больше пользователей   \n",
       "6          Показать на главной странице баннеры с актуальными акциями и распродажами, чтобы увеличить конверсию   \n",
       "8                                                       Запустить акцию, дающую скидку на товар в день рождения   \n",
       "3           Изменить структура категорий, что увеличит конверсию, т.к. пользователи быстрее найдут нужный товар   \n",
       "1                                     Запустить собственную службу доставки, что сократит срок доставки заказов   \n",
       "5                      Добавить страницу отзывов клиентов о магазине, что позволит увеличить количество заказов   \n",
       "4                              Изменить цвет фона главной страницы, чтобы увеличить вовлеченность пользователей   \n",
       "\n",
       "    RICE  \n",
       "7  112.0  \n",
       "2   56.0  \n",
       "0   40.0  \n",
       "6   40.0  \n",
       "8   16.2  \n",
       "3    9.0  \n",
       "1    4.0  \n",
       "5    4.0  \n",
       "4    3.0  "
      ]
     },
     "metadata": {},
     "output_type": "display_data"
    }
   ],
   "source": [
    "#применяю формулу RICE\n",
    "hypothesis['RICE'] = hypothesis['Reach']*hypothesis['Impact']*hypothesis['Confidence']/hypothesis['Efforts']\n",
    "#вывожу на экран и сортирую \n",
    "display(hypothesis[['Hypothesis','RICE']].sort_values (by='RICE',ascending=False)) "
   ]
  },
  {
   "cell_type": "markdown",
   "metadata": {},
   "source": [
    "Согласно модели RICE, наиболее приоритетная гипотеза -  Добавить форму подписки на все основные страницы, чтобы собрать базу клиентов для email-рассылок.\n",
    "\n",
    "Результаты в рамках разных фреймворков приоритизации получились неодинаковыми. Это объясняется разницей в подходах к оценке. Модель ICE не использует для оценки параметр Reach (охват) или  скольких пользователей затронет изменение, заключенное в гипотезе. "
   ]
  },
  {
   "cell_type": "markdown",
   "metadata": {},
   "source": [
    "# Часть 2. Анализ A/B-теста\n",
    "<a id=\"analysis\"></a>\n",
    "\n",
    "[К ОГЛАВЛЕНИЮ](#back_to_title)"
   ]
  },
  {
   "cell_type": "markdown",
   "metadata": {},
   "source": [
    "Построю график кумулятивной выручки"
   ]
  },
  {
   "cell_type": "code",
   "execution_count": 134,
   "metadata": {},
   "outputs": [
    {
     "data": {
      "text/html": [
       "<div>\n",
       "<style scoped>\n",
       "    .dataframe tbody tr th:only-of-type {\n",
       "        vertical-align: middle;\n",
       "    }\n",
       "\n",
       "    .dataframe tbody tr th {\n",
       "        vertical-align: top;\n",
       "    }\n",
       "\n",
       "    .dataframe thead th {\n",
       "        text-align: right;\n",
       "    }\n",
       "</style>\n",
       "<table border=\"1\" class=\"dataframe\">\n",
       "  <thead>\n",
       "    <tr style=\"text-align: right;\">\n",
       "      <th></th>\n",
       "      <th>transactionId</th>\n",
       "      <th>visitorId</th>\n",
       "      <th>date</th>\n",
       "      <th>revenue</th>\n",
       "      <th>group</th>\n",
       "    </tr>\n",
       "  </thead>\n",
       "  <tbody>\n",
       "    <tr>\n",
       "      <th>0</th>\n",
       "      <td>3667963787</td>\n",
       "      <td>3312258926</td>\n",
       "      <td>2019-08-15</td>\n",
       "      <td>1650</td>\n",
       "      <td>B</td>\n",
       "    </tr>\n",
       "    <tr>\n",
       "      <th>1</th>\n",
       "      <td>2804400009</td>\n",
       "      <td>3642806036</td>\n",
       "      <td>2019-08-15</td>\n",
       "      <td>730</td>\n",
       "      <td>B</td>\n",
       "    </tr>\n",
       "    <tr>\n",
       "      <th>2</th>\n",
       "      <td>2961555356</td>\n",
       "      <td>4069496402</td>\n",
       "      <td>2019-08-15</td>\n",
       "      <td>400</td>\n",
       "      <td>A</td>\n",
       "    </tr>\n",
       "    <tr>\n",
       "      <th>3</th>\n",
       "      <td>3797467345</td>\n",
       "      <td>1196621759</td>\n",
       "      <td>2019-08-15</td>\n",
       "      <td>9759</td>\n",
       "      <td>B</td>\n",
       "    </tr>\n",
       "    <tr>\n",
       "      <th>4</th>\n",
       "      <td>2282983706</td>\n",
       "      <td>2322279887</td>\n",
       "      <td>2019-08-15</td>\n",
       "      <td>2308</td>\n",
       "      <td>B</td>\n",
       "    </tr>\n",
       "  </tbody>\n",
       "</table>\n",
       "</div>"
      ],
      "text/plain": [
       "   transactionId   visitorId       date  revenue group\n",
       "0     3667963787  3312258926 2019-08-15     1650     B\n",
       "1     2804400009  3642806036 2019-08-15      730     B\n",
       "2     2961555356  4069496402 2019-08-15      400     A\n",
       "3     3797467345  1196621759 2019-08-15     9759     B\n",
       "4     2282983706  2322279887 2019-08-15     2308     B"
      ]
     },
     "metadata": {},
     "output_type": "display_data"
    },
    {
     "data": {
      "text/html": [
       "<div>\n",
       "<style scoped>\n",
       "    .dataframe tbody tr th:only-of-type {\n",
       "        vertical-align: middle;\n",
       "    }\n",
       "\n",
       "    .dataframe tbody tr th {\n",
       "        vertical-align: top;\n",
       "    }\n",
       "\n",
       "    .dataframe thead th {\n",
       "        text-align: right;\n",
       "    }\n",
       "</style>\n",
       "<table border=\"1\" class=\"dataframe\">\n",
       "  <thead>\n",
       "    <tr style=\"text-align: right;\">\n",
       "      <th></th>\n",
       "      <th>date</th>\n",
       "      <th>group</th>\n",
       "      <th>visitors</th>\n",
       "    </tr>\n",
       "  </thead>\n",
       "  <tbody>\n",
       "    <tr>\n",
       "      <th>0</th>\n",
       "      <td>2019-08-01</td>\n",
       "      <td>A</td>\n",
       "      <td>719</td>\n",
       "    </tr>\n",
       "    <tr>\n",
       "      <th>1</th>\n",
       "      <td>2019-08-02</td>\n",
       "      <td>A</td>\n",
       "      <td>619</td>\n",
       "    </tr>\n",
       "    <tr>\n",
       "      <th>2</th>\n",
       "      <td>2019-08-03</td>\n",
       "      <td>A</td>\n",
       "      <td>507</td>\n",
       "    </tr>\n",
       "    <tr>\n",
       "      <th>3</th>\n",
       "      <td>2019-08-04</td>\n",
       "      <td>A</td>\n",
       "      <td>717</td>\n",
       "    </tr>\n",
       "    <tr>\n",
       "      <th>4</th>\n",
       "      <td>2019-08-05</td>\n",
       "      <td>A</td>\n",
       "      <td>756</td>\n",
       "    </tr>\n",
       "  </tbody>\n",
       "</table>\n",
       "</div>"
      ],
      "text/plain": [
       "        date group  visitors\n",
       "0 2019-08-01     A       719\n",
       "1 2019-08-02     A       619\n",
       "2 2019-08-03     A       507\n",
       "3 2019-08-04     A       717\n",
       "4 2019-08-05     A       756"
      ]
     },
     "metadata": {},
     "output_type": "display_data"
    }
   ],
   "source": [
    "orders = pd.read_csv('/Users/tatanakondrahina/orders.csv', sep=',') #читаю файл\n",
    "orders['date'] = pd.to_datetime(orders['date']) #перевожу столбец date в формат даты\n",
    "\n",
    "\n",
    "visitors = pd.read_csv('/Users/tatanakondrahina/visitors.csv', sep=',') #читаю файл\n",
    "visitors['date'] =  pd.to_datetime(visitors['date'])#перевожу столбец date в формат даты\n",
    "\n",
    "\n",
    "display(orders.head(5))\n",
    "display(visitors.head(5))\n"
   ]
  },
  {
   "cell_type": "markdown",
   "metadata": {},
   "source": [
    "Переименую столбцы таблицы orders, уберем заглавные буквы:"
   ]
  },
  {
   "cell_type": "code",
   "execution_count": 135,
   "metadata": {},
   "outputs": [],
   "source": [
    "orders.columns = ('orderId','userId','date','revenue','group')"
   ]
  },
  {
   "cell_type": "markdown",
   "metadata": {},
   "source": [
    "Проверю данные на пропуски и дубликаты."
   ]
  },
  {
   "cell_type": "code",
   "execution_count": 136,
   "metadata": {},
   "outputs": [
    {
     "name": "stdout",
     "output_type": "stream",
     "text": [
      "<class 'pandas.core.frame.DataFrame'>\n",
      "RangeIndex: 1197 entries, 0 to 1196\n",
      "Data columns (total 5 columns):\n",
      " #   Column   Non-Null Count  Dtype         \n",
      "---  ------   --------------  -----         \n",
      " 0   orderId  1197 non-null   int64         \n",
      " 1   userId   1197 non-null   int64         \n",
      " 2   date     1197 non-null   datetime64[ns]\n",
      " 3   revenue  1197 non-null   int64         \n",
      " 4   group    1197 non-null   object        \n",
      "dtypes: datetime64[ns](1), int64(3), object(1)\n",
      "memory usage: 46.9+ KB\n",
      "<class 'pandas.core.frame.DataFrame'>\n",
      "RangeIndex: 62 entries, 0 to 61\n",
      "Data columns (total 3 columns):\n",
      " #   Column    Non-Null Count  Dtype         \n",
      "---  ------    --------------  -----         \n",
      " 0   date      62 non-null     datetime64[ns]\n",
      " 1   group     62 non-null     object        \n",
      " 2   visitors  62 non-null     int64         \n",
      "dtypes: datetime64[ns](1), int64(1), object(1)\n",
      "memory usage: 1.6+ KB\n"
     ]
    }
   ],
   "source": [
    "#проверяю данные на пропуски\n",
    "orders.info() \n",
    "visitors.info()"
   ]
  },
  {
   "cell_type": "code",
   "execution_count": 137,
   "metadata": {},
   "outputs": [
    {
     "data": {
      "text/plain": [
       "0"
      ]
     },
     "metadata": {},
     "output_type": "display_data"
    },
    {
     "data": {
      "text/plain": [
       "0"
      ]
     },
     "metadata": {},
     "output_type": "display_data"
    }
   ],
   "source": [
    "#проверяю данные на дубликаты\n",
    "display(orders.duplicated().sum()) \n",
    "display(visitors.duplicated().sum()) \n"
   ]
  },
  {
   "cell_type": "markdown",
   "metadata": {},
   "source": [
    "Посмотрю, сколько пользователей участвует в тесте в каждой из групп.  "
   ]
  },
  {
   "cell_type": "code",
   "execution_count": 138,
   "metadata": {},
   "outputs": [
    {
     "data": {
      "text/html": [
       "<div>\n",
       "<style scoped>\n",
       "    .dataframe tbody tr th:only-of-type {\n",
       "        vertical-align: middle;\n",
       "    }\n",
       "\n",
       "    .dataframe tbody tr th {\n",
       "        vertical-align: top;\n",
       "    }\n",
       "\n",
       "    .dataframe thead th {\n",
       "        text-align: right;\n",
       "    }\n",
       "</style>\n",
       "<table border=\"1\" class=\"dataframe\">\n",
       "  <thead>\n",
       "    <tr style=\"text-align: right;\">\n",
       "      <th></th>\n",
       "      <th>group</th>\n",
       "      <th>userId</th>\n",
       "    </tr>\n",
       "  </thead>\n",
       "  <tbody>\n",
       "    <tr>\n",
       "      <th>0</th>\n",
       "      <td>A</td>\n",
       "      <td>503</td>\n",
       "    </tr>\n",
       "    <tr>\n",
       "      <th>1</th>\n",
       "      <td>B</td>\n",
       "      <td>586</td>\n",
       "    </tr>\n",
       "  </tbody>\n",
       "</table>\n",
       "</div>"
      ],
      "text/plain": [
       "  group  userId\n",
       "0     A     503\n",
       "1     B     586"
      ]
     },
     "execution_count": 138,
     "metadata": {},
     "output_type": "execute_result"
    }
   ],
   "source": [
    "orders.pivot_table(index='group', values='userId', aggfunc='nunique').reset_index()"
   ]
  },
  {
   "cell_type": "markdown",
   "metadata": {},
   "source": [
    "503 пользователя в группе А и 586 пользователей в группе В. Пользователи распределены неравномерно по количеству, что может повлиять на результаты теста. "
   ]
  },
  {
   "cell_type": "markdown",
   "metadata": {},
   "source": [
    "Посмотрю, не пересекаются ли они (случаи, когда заказы одного пользователя попадают то в одну, то в другую группу теста)."
   ]
  },
  {
   "cell_type": "code",
   "execution_count": 139,
   "metadata": {},
   "outputs": [
    {
     "name": "stdout",
     "output_type": "stream",
     "text": [
      "<class 'pandas.core.frame.DataFrame'>\n",
      "Int64Index: 58 entries, 2 to 1026\n",
      "Data columns (total 2 columns):\n",
      " #   Column  Non-Null Count  Dtype\n",
      "---  ------  --------------  -----\n",
      " 0   userId  58 non-null     int64\n",
      " 1   group   58 non-null     int64\n",
      "dtypes: int64(2)\n",
      "memory usage: 1.4 KB\n"
     ]
    }
   ],
   "source": [
    "#найду и отберу пользователей, которые встречались в двух группах\n",
    "double=orders.pivot_table(index='userId',values='group', aggfunc='nunique').reset_index()\n",
    "double=double.query('group>=2')\n",
    "double.info()"
   ]
  },
  {
   "cell_type": "markdown",
   "metadata": {},
   "source": [
    "Найдено 58 задублированных пользователя. "
   ]
  },
  {
   "cell_type": "code",
   "execution_count": 140,
   "metadata": {},
   "outputs": [],
   "source": [
    "#перевожу найденных пользователей в список, чтобы затем удалить из датасета\n",
    "list_1=double['userId'].to_list()"
   ]
  },
  {
   "cell_type": "code",
   "execution_count": 141,
   "metadata": {},
   "outputs": [],
   "source": [
    "orders=orders.query('userId not in @list_1')"
   ]
  },
  {
   "cell_type": "markdown",
   "metadata": {},
   "source": [
    "Проверю распределение пользователей по группам после удаления задублированных пользователй. "
   ]
  },
  {
   "cell_type": "code",
   "execution_count": 142,
   "metadata": {},
   "outputs": [
    {
     "data": {
      "text/html": [
       "<div>\n",
       "<style scoped>\n",
       "    .dataframe tbody tr th:only-of-type {\n",
       "        vertical-align: middle;\n",
       "    }\n",
       "\n",
       "    .dataframe tbody tr th {\n",
       "        vertical-align: top;\n",
       "    }\n",
       "\n",
       "    .dataframe thead th {\n",
       "        text-align: right;\n",
       "    }\n",
       "</style>\n",
       "<table border=\"1\" class=\"dataframe\">\n",
       "  <thead>\n",
       "    <tr style=\"text-align: right;\">\n",
       "      <th></th>\n",
       "      <th>group</th>\n",
       "      <th>userId</th>\n",
       "    </tr>\n",
       "  </thead>\n",
       "  <tbody>\n",
       "    <tr>\n",
       "      <th>0</th>\n",
       "      <td>A</td>\n",
       "      <td>445</td>\n",
       "    </tr>\n",
       "    <tr>\n",
       "      <th>1</th>\n",
       "      <td>B</td>\n",
       "      <td>528</td>\n",
       "    </tr>\n",
       "  </tbody>\n",
       "</table>\n",
       "</div>"
      ],
      "text/plain": [
       "  group  userId\n",
       "0     A     445\n",
       "1     B     528"
      ]
     },
     "execution_count": 142,
     "metadata": {},
     "output_type": "execute_result"
    }
   ],
   "source": [
    "orders.pivot_table(index='group', values='userId', aggfunc='nunique').reset_index()"
   ]
  },
  {
   "cell_type": "markdown",
   "metadata": {},
   "source": [
    "Датасеты не содержат пропусков или дубликатов. Задублированные пользователи удалены. Можно продолжать исследование."
   ]
  },
  {
   "cell_type": "markdown",
   "metadata": {},
   "source": [
    "Создам датафрейм datesGroups с уникальными парами значений 'date' и 'group', таблицы orders. \n",
    "Избавлюсь от дубликатов методом drop_duplicates()"
   ]
  },
  {
   "cell_type": "code",
   "execution_count": 143,
   "metadata": {},
   "outputs": [
    {
     "data": {
      "text/html": [
       "<div>\n",
       "<style scoped>\n",
       "    .dataframe tbody tr th:only-of-type {\n",
       "        vertical-align: middle;\n",
       "    }\n",
       "\n",
       "    .dataframe tbody tr th {\n",
       "        vertical-align: top;\n",
       "    }\n",
       "\n",
       "    .dataframe thead th {\n",
       "        text-align: right;\n",
       "    }\n",
       "</style>\n",
       "<table border=\"1\" class=\"dataframe\">\n",
       "  <thead>\n",
       "    <tr style=\"text-align: right;\">\n",
       "      <th></th>\n",
       "      <th>date</th>\n",
       "      <th>group</th>\n",
       "    </tr>\n",
       "  </thead>\n",
       "  <tbody>\n",
       "    <tr>\n",
       "      <th>0</th>\n",
       "      <td>2019-08-15</td>\n",
       "      <td>B</td>\n",
       "    </tr>\n",
       "    <tr>\n",
       "      <th>7</th>\n",
       "      <td>2019-08-15</td>\n",
       "      <td>A</td>\n",
       "    </tr>\n",
       "    <tr>\n",
       "      <th>45</th>\n",
       "      <td>2019-08-16</td>\n",
       "      <td>A</td>\n",
       "    </tr>\n",
       "    <tr>\n",
       "      <th>47</th>\n",
       "      <td>2019-08-16</td>\n",
       "      <td>B</td>\n",
       "    </tr>\n",
       "    <tr>\n",
       "      <th>55</th>\n",
       "      <td>2019-08-01</td>\n",
       "      <td>A</td>\n",
       "    </tr>\n",
       "    <tr>\n",
       "      <th>...</th>\n",
       "      <td>...</td>\n",
       "      <td>...</td>\n",
       "    </tr>\n",
       "    <tr>\n",
       "      <th>1068</th>\n",
       "      <td>2019-08-12</td>\n",
       "      <td>A</td>\n",
       "    </tr>\n",
       "    <tr>\n",
       "      <th>1114</th>\n",
       "      <td>2019-08-13</td>\n",
       "      <td>B</td>\n",
       "    </tr>\n",
       "    <tr>\n",
       "      <th>1116</th>\n",
       "      <td>2019-08-13</td>\n",
       "      <td>A</td>\n",
       "    </tr>\n",
       "    <tr>\n",
       "      <th>1149</th>\n",
       "      <td>2019-08-14</td>\n",
       "      <td>B</td>\n",
       "    </tr>\n",
       "    <tr>\n",
       "      <th>1150</th>\n",
       "      <td>2019-08-14</td>\n",
       "      <td>A</td>\n",
       "    </tr>\n",
       "  </tbody>\n",
       "</table>\n",
       "<p>62 rows × 2 columns</p>\n",
       "</div>"
      ],
      "text/plain": [
       "           date group\n",
       "0    2019-08-15     B\n",
       "7    2019-08-15     A\n",
       "45   2019-08-16     A\n",
       "47   2019-08-16     B\n",
       "55   2019-08-01     A\n",
       "...         ...   ...\n",
       "1068 2019-08-12     A\n",
       "1114 2019-08-13     B\n",
       "1116 2019-08-13     A\n",
       "1149 2019-08-14     B\n",
       "1150 2019-08-14     A\n",
       "\n",
       "[62 rows x 2 columns]"
      ]
     },
     "execution_count": 143,
     "metadata": {},
     "output_type": "execute_result"
    }
   ],
   "source": [
    "datesGroups = orders[['date','group']].drop_duplicates() \n",
    "datesGroups"
   ]
  },
  {
   "cell_type": "markdown",
   "metadata": {},
   "source": [
    "Объявлю переменную ordersAggregated, содержащую:\n",
    "- дату;\n",
    "- группу A/B-теста;\n",
    "- число уникальных заказов в группе теста по указанную дату включительно;\n",
    "- число уникальных пользователей, совершивших хотя бы 1 заказ в группе теста по указанную дату включительно;\n",
    "- суммарную выручку заказов в группе теста по указанную дату включительно."
   ]
  },
  {
   "cell_type": "code",
   "execution_count": 144,
   "metadata": {},
   "outputs": [
    {
     "data": {
      "text/html": [
       "<div>\n",
       "<style scoped>\n",
       "    .dataframe tbody tr th:only-of-type {\n",
       "        vertical-align: middle;\n",
       "    }\n",
       "\n",
       "    .dataframe tbody tr th {\n",
       "        vertical-align: top;\n",
       "    }\n",
       "\n",
       "    .dataframe thead th {\n",
       "        text-align: right;\n",
       "    }\n",
       "</style>\n",
       "<table border=\"1\" class=\"dataframe\">\n",
       "  <thead>\n",
       "    <tr style=\"text-align: right;\">\n",
       "      <th></th>\n",
       "      <th>date</th>\n",
       "      <th>group</th>\n",
       "      <th>orderId</th>\n",
       "      <th>userId</th>\n",
       "      <th>revenue</th>\n",
       "    </tr>\n",
       "  </thead>\n",
       "  <tbody>\n",
       "    <tr>\n",
       "      <th>55</th>\n",
       "      <td>2019-08-01</td>\n",
       "      <td>A</td>\n",
       "      <td>23</td>\n",
       "      <td>19</td>\n",
       "      <td>142779</td>\n",
       "    </tr>\n",
       "    <tr>\n",
       "      <th>66</th>\n",
       "      <td>2019-08-01</td>\n",
       "      <td>B</td>\n",
       "      <td>17</td>\n",
       "      <td>17</td>\n",
       "      <td>59758</td>\n",
       "    </tr>\n",
       "    <tr>\n",
       "      <th>175</th>\n",
       "      <td>2019-08-02</td>\n",
       "      <td>A</td>\n",
       "      <td>42</td>\n",
       "      <td>36</td>\n",
       "      <td>234381</td>\n",
       "    </tr>\n",
       "    <tr>\n",
       "      <th>173</th>\n",
       "      <td>2019-08-02</td>\n",
       "      <td>B</td>\n",
       "      <td>40</td>\n",
       "      <td>39</td>\n",
       "      <td>221801</td>\n",
       "    </tr>\n",
       "    <tr>\n",
       "      <th>291</th>\n",
       "      <td>2019-08-03</td>\n",
       "      <td>A</td>\n",
       "      <td>66</td>\n",
       "      <td>60</td>\n",
       "      <td>346854</td>\n",
       "    </tr>\n",
       "    <tr>\n",
       "      <th>...</th>\n",
       "      <td>...</td>\n",
       "      <td>...</td>\n",
       "      <td>...</td>\n",
       "      <td>...</td>\n",
       "      <td>...</td>\n",
       "    </tr>\n",
       "    <tr>\n",
       "      <th>533</th>\n",
       "      <td>2019-08-29</td>\n",
       "      <td>B</td>\n",
       "      <td>510</td>\n",
       "      <td>490</td>\n",
       "      <td>4746610</td>\n",
       "    </tr>\n",
       "    <tr>\n",
       "      <th>757</th>\n",
       "      <td>2019-08-30</td>\n",
       "      <td>A</td>\n",
       "      <td>460</td>\n",
       "      <td>437</td>\n",
       "      <td>3311413</td>\n",
       "    </tr>\n",
       "    <tr>\n",
       "      <th>690</th>\n",
       "      <td>2019-08-30</td>\n",
       "      <td>B</td>\n",
       "      <td>531</td>\n",
       "      <td>511</td>\n",
       "      <td>4955833</td>\n",
       "    </tr>\n",
       "    <tr>\n",
       "      <th>958</th>\n",
       "      <td>2019-08-31</td>\n",
       "      <td>A</td>\n",
       "      <td>468</td>\n",
       "      <td>445</td>\n",
       "      <td>3364656</td>\n",
       "    </tr>\n",
       "    <tr>\n",
       "      <th>930</th>\n",
       "      <td>2019-08-31</td>\n",
       "      <td>B</td>\n",
       "      <td>548</td>\n",
       "      <td>528</td>\n",
       "      <td>5068972</td>\n",
       "    </tr>\n",
       "  </tbody>\n",
       "</table>\n",
       "<p>62 rows × 5 columns</p>\n",
       "</div>"
      ],
      "text/plain": [
       "          date group  orderId  userId  revenue\n",
       "55  2019-08-01     A       23      19   142779\n",
       "66  2019-08-01     B       17      17    59758\n",
       "175 2019-08-02     A       42      36   234381\n",
       "173 2019-08-02     B       40      39   221801\n",
       "291 2019-08-03     A       66      60   346854\n",
       "..         ...   ...      ...     ...      ...\n",
       "533 2019-08-29     B      510     490  4746610\n",
       "757 2019-08-30     A      460     437  3311413\n",
       "690 2019-08-30     B      531     511  4955833\n",
       "958 2019-08-31     A      468     445  3364656\n",
       "930 2019-08-31     B      548     528  5068972\n",
       "\n",
       "[62 rows x 5 columns]"
      ]
     },
     "execution_count": 144,
     "metadata": {},
     "output_type": "execute_result"
    }
   ],
   "source": [
    "ordersAggregated = datesGroups.apply(lambda x: orders[np.logical_and(orders['date'] <= x['date'], orders['group'] == x['group'])]\\\n",
    "                              .agg({'date' : 'max', 'group' : 'max', 'orderId' : 'nunique', 'userId' : 'nunique', 'revenue' : 'sum'}), axis=1)\\\n",
    "                              .sort_values(by=['date','group']) \n",
    "ordersAggregated"
   ]
  },
  {
   "cell_type": "markdown",
   "metadata": {},
   "source": [
    "Объявлю переменную visitorsAggregated, содержащую:\n",
    "- дату;\n",
    "- группу A/B-теста;\n",
    "- количество уникальных посетителей в группе теста по указанную дату включительно."
   ]
  },
  {
   "cell_type": "code",
   "execution_count": 145,
   "metadata": {},
   "outputs": [
    {
     "data": {
      "text/html": [
       "<div>\n",
       "<style scoped>\n",
       "    .dataframe tbody tr th:only-of-type {\n",
       "        vertical-align: middle;\n",
       "    }\n",
       "\n",
       "    .dataframe tbody tr th {\n",
       "        vertical-align: top;\n",
       "    }\n",
       "\n",
       "    .dataframe thead th {\n",
       "        text-align: right;\n",
       "    }\n",
       "</style>\n",
       "<table border=\"1\" class=\"dataframe\">\n",
       "  <thead>\n",
       "    <tr style=\"text-align: right;\">\n",
       "      <th></th>\n",
       "      <th>date</th>\n",
       "      <th>group</th>\n",
       "      <th>visitors</th>\n",
       "    </tr>\n",
       "  </thead>\n",
       "  <tbody>\n",
       "    <tr>\n",
       "      <th>55</th>\n",
       "      <td>2019-08-01</td>\n",
       "      <td>A</td>\n",
       "      <td>719</td>\n",
       "    </tr>\n",
       "    <tr>\n",
       "      <th>66</th>\n",
       "      <td>2019-08-01</td>\n",
       "      <td>B</td>\n",
       "      <td>713</td>\n",
       "    </tr>\n",
       "    <tr>\n",
       "      <th>175</th>\n",
       "      <td>2019-08-02</td>\n",
       "      <td>A</td>\n",
       "      <td>1338</td>\n",
       "    </tr>\n",
       "    <tr>\n",
       "      <th>173</th>\n",
       "      <td>2019-08-02</td>\n",
       "      <td>B</td>\n",
       "      <td>1294</td>\n",
       "    </tr>\n",
       "    <tr>\n",
       "      <th>291</th>\n",
       "      <td>2019-08-03</td>\n",
       "      <td>A</td>\n",
       "      <td>1845</td>\n",
       "    </tr>\n",
       "    <tr>\n",
       "      <th>...</th>\n",
       "      <td>...</td>\n",
       "      <td>...</td>\n",
       "      <td>...</td>\n",
       "    </tr>\n",
       "    <tr>\n",
       "      <th>533</th>\n",
       "      <td>2019-08-29</td>\n",
       "      <td>B</td>\n",
       "      <td>17708</td>\n",
       "    </tr>\n",
       "    <tr>\n",
       "      <th>757</th>\n",
       "      <td>2019-08-30</td>\n",
       "      <td>A</td>\n",
       "      <td>18037</td>\n",
       "    </tr>\n",
       "    <tr>\n",
       "      <th>690</th>\n",
       "      <td>2019-08-30</td>\n",
       "      <td>B</td>\n",
       "      <td>18198</td>\n",
       "    </tr>\n",
       "    <tr>\n",
       "      <th>958</th>\n",
       "      <td>2019-08-31</td>\n",
       "      <td>A</td>\n",
       "      <td>18736</td>\n",
       "    </tr>\n",
       "    <tr>\n",
       "      <th>930</th>\n",
       "      <td>2019-08-31</td>\n",
       "      <td>B</td>\n",
       "      <td>18916</td>\n",
       "    </tr>\n",
       "  </tbody>\n",
       "</table>\n",
       "<p>62 rows × 3 columns</p>\n",
       "</div>"
      ],
      "text/plain": [
       "          date group  visitors\n",
       "55  2019-08-01     A       719\n",
       "66  2019-08-01     B       713\n",
       "175 2019-08-02     A      1338\n",
       "173 2019-08-02     B      1294\n",
       "291 2019-08-03     A      1845\n",
       "..         ...   ...       ...\n",
       "533 2019-08-29     B     17708\n",
       "757 2019-08-30     A     18037\n",
       "690 2019-08-30     B     18198\n",
       "958 2019-08-31     A     18736\n",
       "930 2019-08-31     B     18916\n",
       "\n",
       "[62 rows x 3 columns]"
      ]
     },
     "execution_count": 145,
     "metadata": {},
     "output_type": "execute_result"
    }
   ],
   "source": [
    "visitorsAggregated = datesGroups.apply(lambda x: visitors[np.logical_and(visitors['date'] <= x['date'], visitors['group'] == x['group'])]\\\n",
    "                                .agg({'date' : 'max', 'group' : 'max', 'visitors' : 'sum'}), axis=1)\\\n",
    "                                .sort_values(by=['date','group']) \n",
    "visitorsAggregated"
   ]
  },
  {
   "cell_type": "markdown",
   "metadata": {},
   "source": [
    "Определю переменную cumulativeData, объединив ordersAggregated и visitorsAggregated по колонкам 'date', 'group' методом merge()"
   ]
  },
  {
   "cell_type": "code",
   "execution_count": 146,
   "metadata": {},
   "outputs": [
    {
     "data": {
      "text/html": [
       "<div>\n",
       "<style scoped>\n",
       "    .dataframe tbody tr th:only-of-type {\n",
       "        vertical-align: middle;\n",
       "    }\n",
       "\n",
       "    .dataframe tbody tr th {\n",
       "        vertical-align: top;\n",
       "    }\n",
       "\n",
       "    .dataframe thead th {\n",
       "        text-align: right;\n",
       "    }\n",
       "</style>\n",
       "<table border=\"1\" class=\"dataframe\">\n",
       "  <thead>\n",
       "    <tr style=\"text-align: right;\">\n",
       "      <th></th>\n",
       "      <th>date</th>\n",
       "      <th>group</th>\n",
       "      <th>orders</th>\n",
       "      <th>buyers</th>\n",
       "      <th>revenue</th>\n",
       "      <th>visitors</th>\n",
       "    </tr>\n",
       "  </thead>\n",
       "  <tbody>\n",
       "    <tr>\n",
       "      <th>0</th>\n",
       "      <td>2019-08-01</td>\n",
       "      <td>A</td>\n",
       "      <td>23</td>\n",
       "      <td>19</td>\n",
       "      <td>142779</td>\n",
       "      <td>719</td>\n",
       "    </tr>\n",
       "    <tr>\n",
       "      <th>1</th>\n",
       "      <td>2019-08-01</td>\n",
       "      <td>B</td>\n",
       "      <td>17</td>\n",
       "      <td>17</td>\n",
       "      <td>59758</td>\n",
       "      <td>713</td>\n",
       "    </tr>\n",
       "    <tr>\n",
       "      <th>2</th>\n",
       "      <td>2019-08-02</td>\n",
       "      <td>A</td>\n",
       "      <td>42</td>\n",
       "      <td>36</td>\n",
       "      <td>234381</td>\n",
       "      <td>1338</td>\n",
       "    </tr>\n",
       "    <tr>\n",
       "      <th>3</th>\n",
       "      <td>2019-08-02</td>\n",
       "      <td>B</td>\n",
       "      <td>40</td>\n",
       "      <td>39</td>\n",
       "      <td>221801</td>\n",
       "      <td>1294</td>\n",
       "    </tr>\n",
       "    <tr>\n",
       "      <th>4</th>\n",
       "      <td>2019-08-03</td>\n",
       "      <td>A</td>\n",
       "      <td>66</td>\n",
       "      <td>60</td>\n",
       "      <td>346854</td>\n",
       "      <td>1845</td>\n",
       "    </tr>\n",
       "  </tbody>\n",
       "</table>\n",
       "</div>"
      ],
      "text/plain": [
       "        date group  orders  buyers  revenue  visitors\n",
       "0 2019-08-01     A      23      19   142779       719\n",
       "1 2019-08-01     B      17      17    59758       713\n",
       "2 2019-08-02     A      42      36   234381      1338\n",
       "3 2019-08-02     B      40      39   221801      1294\n",
       "4 2019-08-03     A      66      60   346854      1845"
      ]
     },
     "metadata": {},
     "output_type": "display_data"
    }
   ],
   "source": [
    "cumulativeData = ordersAggregated.merge(visitorsAggregated, left_on=['date', 'group'], right_on=['date', 'group'])\n",
    "\n",
    "cumulativeData.columns = ['date', 'group', 'orders', 'buyers', 'revenue', 'visitors']\n",
    "\n",
    "display(cumulativeData.head(5))"
   ]
  },
  {
   "cell_type": "markdown",
   "metadata": {},
   "source": [
    "Объявлю переменные cumulativeRevenueA и cumulativeRevenueB, в которых сохраню данные о датах, выручке и числе заказов в группах A и B."
   ]
  },
  {
   "cell_type": "code",
   "execution_count": 147,
   "metadata": {},
   "outputs": [
    {
     "data": {
      "text/html": [
       "<div>\n",
       "<style scoped>\n",
       "    .dataframe tbody tr th:only-of-type {\n",
       "        vertical-align: middle;\n",
       "    }\n",
       "\n",
       "    .dataframe tbody tr th {\n",
       "        vertical-align: top;\n",
       "    }\n",
       "\n",
       "    .dataframe thead th {\n",
       "        text-align: right;\n",
       "    }\n",
       "</style>\n",
       "<table border=\"1\" class=\"dataframe\">\n",
       "  <thead>\n",
       "    <tr style=\"text-align: right;\">\n",
       "      <th></th>\n",
       "      <th>date</th>\n",
       "      <th>revenue</th>\n",
       "      <th>orders</th>\n",
       "    </tr>\n",
       "  </thead>\n",
       "  <tbody>\n",
       "    <tr>\n",
       "      <th>0</th>\n",
       "      <td>2019-08-01</td>\n",
       "      <td>142779</td>\n",
       "      <td>23</td>\n",
       "    </tr>\n",
       "    <tr>\n",
       "      <th>2</th>\n",
       "      <td>2019-08-02</td>\n",
       "      <td>234381</td>\n",
       "      <td>42</td>\n",
       "    </tr>\n",
       "    <tr>\n",
       "      <th>4</th>\n",
       "      <td>2019-08-03</td>\n",
       "      <td>346854</td>\n",
       "      <td>66</td>\n",
       "    </tr>\n",
       "    <tr>\n",
       "      <th>6</th>\n",
       "      <td>2019-08-04</td>\n",
       "      <td>388030</td>\n",
       "      <td>77</td>\n",
       "    </tr>\n",
       "    <tr>\n",
       "      <th>8</th>\n",
       "      <td>2019-08-05</td>\n",
       "      <td>474413</td>\n",
       "      <td>99</td>\n",
       "    </tr>\n",
       "  </tbody>\n",
       "</table>\n",
       "</div>"
      ],
      "text/plain": [
       "        date  revenue  orders\n",
       "0 2019-08-01   142779      23\n",
       "2 2019-08-02   234381      42\n",
       "4 2019-08-03   346854      66\n",
       "6 2019-08-04   388030      77\n",
       "8 2019-08-05   474413      99"
      ]
     },
     "metadata": {},
     "output_type": "display_data"
    },
    {
     "data": {
      "text/html": [
       "<div>\n",
       "<style scoped>\n",
       "    .dataframe tbody tr th:only-of-type {\n",
       "        vertical-align: middle;\n",
       "    }\n",
       "\n",
       "    .dataframe tbody tr th {\n",
       "        vertical-align: top;\n",
       "    }\n",
       "\n",
       "    .dataframe thead th {\n",
       "        text-align: right;\n",
       "    }\n",
       "</style>\n",
       "<table border=\"1\" class=\"dataframe\">\n",
       "  <thead>\n",
       "    <tr style=\"text-align: right;\">\n",
       "      <th></th>\n",
       "      <th>date</th>\n",
       "      <th>revenue</th>\n",
       "      <th>orders</th>\n",
       "    </tr>\n",
       "  </thead>\n",
       "  <tbody>\n",
       "    <tr>\n",
       "      <th>1</th>\n",
       "      <td>2019-08-01</td>\n",
       "      <td>59758</td>\n",
       "      <td>17</td>\n",
       "    </tr>\n",
       "    <tr>\n",
       "      <th>3</th>\n",
       "      <td>2019-08-02</td>\n",
       "      <td>221801</td>\n",
       "      <td>40</td>\n",
       "    </tr>\n",
       "    <tr>\n",
       "      <th>5</th>\n",
       "      <td>2019-08-03</td>\n",
       "      <td>288850</td>\n",
       "      <td>54</td>\n",
       "    </tr>\n",
       "    <tr>\n",
       "      <th>7</th>\n",
       "      <td>2019-08-04</td>\n",
       "      <td>385740</td>\n",
       "      <td>68</td>\n",
       "    </tr>\n",
       "    <tr>\n",
       "      <th>9</th>\n",
       "      <td>2019-08-05</td>\n",
       "      <td>475648</td>\n",
       "      <td>89</td>\n",
       "    </tr>\n",
       "  </tbody>\n",
       "</table>\n",
       "</div>"
      ],
      "text/plain": [
       "        date  revenue  orders\n",
       "1 2019-08-01    59758      17\n",
       "3 2019-08-02   221801      40\n",
       "5 2019-08-03   288850      54\n",
       "7 2019-08-04   385740      68\n",
       "9 2019-08-05   475648      89"
      ]
     },
     "metadata": {},
     "output_type": "display_data"
    }
   ],
   "source": [
    "# датафрейм с кумулятивным количеством заказов и кумулятивной выручкой по дням в группе А\n",
    "cumulativeRevenueA = cumulativeData[cumulativeData['group']=='A'][['date','revenue', 'orders']]\n",
    "\n",
    "# датафрейм с кумулятивным количеством заказов и кумулятивной выручкой по дням в группе B\n",
    "cumulativeRevenueB = cumulativeData[cumulativeData['group']=='B'][['date','revenue', 'orders']]\n",
    "\n",
    "display(cumulativeRevenueA.head(5))\n",
    "display(cumulativeRevenueB.head(5))"
   ]
  },
  {
   "cell_type": "markdown",
   "metadata": {},
   "source": [
    "Построю графики кумулятивной выручки по дням по группам."
   ]
  },
  {
   "cell_type": "code",
   "execution_count": 148,
   "metadata": {},
   "outputs": [
    {
     "data": {
      "image/png": "[encoded data removed]",
      "text/plain": [
       "<Figure size 936x576 with 1 Axes>"
      ]
     },
     "metadata": {
      "needs_background": "light"
     },
     "output_type": "display_data"
    }
   ],
   "source": [
    "plt.figure (figsize=(13,8))\n",
    "# Строю график выручки группы А\n",
    "plt.plot(cumulativeRevenueA['date'], cumulativeRevenueA['revenue'], label='A')\n",
    "\n",
    "# Строю график выручки группы B\n",
    "plt.plot(cumulativeRevenueB['date'], cumulativeRevenueB['revenue'], label='B')\n",
    "\n",
    "plt.legend()\n",
    "plt.title('Кумулятивная выручка по дням')\n",
    "plt.xlabel('дата')\n",
    "plt.xticks(rotation=45)\n",
    "plt.ylabel('выручка')\n",
    "plt.show()"
   ]
  },
  {
   "cell_type": "markdown",
   "metadata": {},
   "source": [
    "Показатели выручки группы B в какой-то момент сильно начинают опережать показатели выручки группы А. Однако на графике группы B наблюдается сильный скачок в один из дней. Это может говорить о выбросах, потому выводы делать рано. Выбросы могут быть связаны как с тем , что какие-то пользователи совершают аномально крупные по стоимости покупки, так и с тем, что некоторые пользователи могут совершать аномальное количество покупок."
   ]
  },
  {
   "cell_type": "markdown",
   "metadata": {},
   "source": [
    "Для каждой группы построю графики кумулятивного среднего чека по дням."
   ]
  },
  {
   "cell_type": "code",
   "execution_count": 149,
   "metadata": {},
   "outputs": [
    {
     "data": {
      "image/png": "[encoded data removed]",
      "text/plain": [
       "<Figure size 936x576 with 1 Axes>"
      ]
     },
     "metadata": {
      "needs_background": "light"
     },
     "output_type": "display_data"
    }
   ],
   "source": [
    "plt.figure (figsize=(13,8))\n",
    "plt.plot(cumulativeRevenueA['date'], cumulativeRevenueA['revenue']/cumulativeRevenueA['orders'], label='A')\n",
    "plt.plot(cumulativeRevenueB['date'], cumulativeRevenueB['revenue']/cumulativeRevenueB['orders'], label='B')\n",
    "plt.legend() \n",
    "plt.title('Кумулятивный средний чек по дням')\n",
    "plt.xlabel('дата')\n",
    "plt.xticks(rotation=45)\n",
    "plt.ylabel('средний чек')\n",
    "\n",
    "\n",
    "plt.show()"
   ]
  },
  {
   "cell_type": "markdown",
   "metadata": {},
   "source": [
    "Показатели среднего чека группы B в какой-то момент также сильно начинают опережать показатели среднего чека группы А. На графике группы B, как и в случае с выручкой, наблюдается сильный скачок в один из дней. Это также может говорить о выбросах, поэтому выводы делать по-прежнему рано. Выбросы могут быть связаны как с тем , что какие-то пользователи совершают аномально крупные по стоимости покупки, так и с тем, что некоторые пользователи могут совершать аномальное количество покупок. \n",
    "\n",
    "Также стоит отметить, что не смотря на общее превосходство группы В в конце наблюдаемого периода график этой группы начинает стремиться вниз, в то время как группа А , кажется, переходит в плавный рост. "
   ]
  },
  {
   "cell_type": "markdown",
   "metadata": {},
   "source": [
    "Построю графики относительного различия кумулятивного среднего чека группы B к группе A."
   ]
  },
  {
   "cell_type": "markdown",
   "metadata": {},
   "source": [
    "\n",
    "Объединю таблицы cumulativeRevenueA и cumulativeRevenueB методом merge() так, чтобы она содержала столбцы: ['date', 'revenueA', 'revenueB', 'ordersA', 'ordersB']. Сохраню в переменной mergedCumulativeRevenue."
   ]
  },
  {
   "cell_type": "code",
   "execution_count": 150,
   "metadata": {},
   "outputs": [
    {
     "data": {
      "image/png": "[encoded data removed]",
      "text/plain": [
       "<Figure size 936x576 with 1 Axes>"
      ]
     },
     "metadata": {
      "needs_background": "light"
     },
     "output_type": "display_data"
    }
   ],
   "source": [
    "plt.figure (figsize=(13,8))\n",
    "# собираю данные в одном датафрейме\n",
    "mergedCumulativeRevenue = cumulativeRevenueA.merge(cumulativeRevenueB, left_on='date', right_on='date', how='left', suffixes=['A', 'B'])\n",
    "\n",
    "# cтрою отношение средних чеков\n",
    "plt.plot(mergedCumulativeRevenue['date'], (mergedCumulativeRevenue['revenueB']/mergedCumulativeRevenue['ordersB'])/(mergedCumulativeRevenue['revenueA']/mergedCumulativeRevenue['ordersA'])-1)\n",
    "\n",
    "# добавляю ось X\n",
    "plt.axhline(y=0, color='black', linestyle='--') \n",
    "plt.title('График относительного различия кумулятивного среднего чека группы B к группе A')\n",
    "plt.xlabel('дата')\n",
    "plt.xticks(rotation=45)\n",
    "plt.ylabel('относительное различие')\n",
    "\n",
    "plt.show()"
   ]
  },
  {
   "cell_type": "markdown",
   "metadata": {},
   "source": [
    "По графику относительного различия среднего чека также видно , что группа B вышла на более высокие результаты, чем группа А. Но график достаточно нестабильный."
   ]
  },
  {
   "cell_type": "markdown",
   "metadata": {},
   "source": [
    "Пострю график кумулятивного среднего количества заказов на посетителя по группам \n",
    "\n"
   ]
  },
  {
   "cell_type": "code",
   "execution_count": 151,
   "metadata": {},
   "outputs": [
    {
     "data": {
      "image/png": "[encoded data removed]",
      "text/plain": [
       "<Figure size 936x576 with 1 Axes>"
      ]
     },
     "metadata": {
      "needs_background": "light"
     },
     "output_type": "display_data"
    }
   ],
   "source": [
    "plt.figure (figsize=(13,8))\n",
    "# считаю кумулятивное количество заказов\n",
    "cumulativeData['conversion'] = cumulativeData['orders']/cumulativeData['visitors']\n",
    "\n",
    "# отделяю данные по группе A\n",
    "cumulativeDataA = cumulativeData[cumulativeData['group']=='A']\n",
    "\n",
    "# отделяю данные по группе B\n",
    "cumulativeDataB = cumulativeData[cumulativeData['group']=='B']\n",
    "\n",
    "# строю графики\n",
    "plt.plot(cumulativeDataA['date'], cumulativeDataA['conversion'], label='A')\n",
    "plt.plot(cumulativeDataB['date'], cumulativeDataB['conversion'], label='B')\n",
    "plt.legend()\n",
    "plt.title('График кумулятивного среднего количества заказов на посетителя по группам')\n",
    "plt.xlabel('дата')\n",
    "plt.xticks(rotation=45)\n",
    "plt.ylabel('кумулятивное количество заказов')\n",
    "plt.show()"
   ]
  },
  {
   "cell_type": "markdown",
   "metadata": {},
   "source": [
    "Количество заказов по группе B вышло на более высокий уровень и стабилизировалось."
   ]
  },
  {
   "cell_type": "markdown",
   "metadata": {},
   "source": [
    "Построю график относительного различия кумулятивного количества заказов группы B к группе A."
   ]
  },
  {
   "cell_type": "code",
   "execution_count": 152,
   "metadata": {},
   "outputs": [
    {
     "data": {
      "image/png": "[encoded data removed]",
      "text/plain": [
       "<Figure size 936x576 with 1 Axes>"
      ]
     },
     "metadata": {
      "needs_background": "light"
     },
     "output_type": "display_data"
    }
   ],
   "source": [
    "mergedCumulativeConversions = cumulativeDataA[['date','conversion']].merge(cumulativeDataB[['date','conversion']], left_on='date', right_on='date', how='left', suffixes=['A', 'B'])\n",
    "plt.figure (figsize=(13,8))\n",
    "plt.plot(mergedCumulativeConversions['date'], mergedCumulativeConversions['conversionB']/mergedCumulativeConversions['conversionA']-1, label=\"Относительный прирост кумулятивного количеста заказов группы B относительно группы A\")\n",
    "plt.legend()\n",
    "\n",
    "plt.axhline(y=0, color='black', linestyle='--')\n",
    "plt.axhline(y=0.2, color='grey', linestyle='--')\n",
    "plt.title('График относительного различия кумулятивного количества заказов группы B к группе A')\n",
    "plt.xlabel('дата')\n",
    "plt.xticks(rotation=45)\n",
    "plt.ylabel('относительное различие')\n",
    "plt.show()"
   ]
  },
  {
   "cell_type": "markdown",
   "metadata": {},
   "source": [
    "По графику относительного различия кумулятивного количества заказов таже видно значительно более высокий показатель группы В по сравнению с группой А. "
   ]
  },
  {
   "cell_type": "markdown",
   "metadata": {},
   "source": [
    "Построю точечный график количества заказов по пользователям. "
   ]
  },
  {
   "cell_type": "code",
   "execution_count": 153,
   "metadata": {},
   "outputs": [
    {
     "name": "stdout",
     "output_type": "stream",
     "text": [
      "         userId  orders\n",
      "908  3967698036       3\n",
      "55    249864742       3\n",
      "478  2108163459       3\n",
      "687  2988190573       3\n",
      "890  3908431265       3\n",
      "138   611059232       3\n",
      "632  2742574263       3\n",
      "157   678354126       2\n",
      "323  1404560065       2\n",
      "452  1985475298       2\n"
     ]
    },
    {
     "data": {
      "image/png": "[encoded data removed]",
      "text/plain": [
       "<Figure size 936x576 with 1 Axes>"
      ]
     },
     "metadata": {
      "needs_background": "light"
     },
     "output_type": "display_data"
    }
   ],
   "source": [
    "ordersByUsers = (\n",
    "    orders.groupby('userId', as_index=False)\n",
    "    .agg({'orderId': 'nunique'})\n",
    ")\n",
    "ordersByUsers.columns = ['userId', 'orders']\n",
    "\n",
    "print(ordersByUsers.sort_values(by='orders', ascending=False).head(10))\n",
    "\n",
    "# серия из чисел от 0 до количества наблюдений в ordersByUsers\n",
    "x_values = pd.Series(range(0, len(ordersByUsers)))\n",
    "plt.figure (figsize=(13,8))\n",
    "plt.scatter(x_values, ordersByUsers['orders'])\n",
    "plt.title('График количества заказов по пользователям')\n",
    "plt.xlabel('пользователи')\n",
    "plt.ylabel('количество заказов')\n",
    "plt.show()"
   ]
  },
  {
   "cell_type": "markdown",
   "metadata": {},
   "source": [
    "Основная часть посетителей делаеn 1 покупку. Но 2, 3 и 4 покупки также совершаются достаточно часто. "
   ]
  },
  {
   "cell_type": "markdown",
   "metadata": {},
   "source": [
    "Однако для того чтобы убедиться, сколько точно покупок являются выбросами посчитаем 95-й и 99-й перцентили количества заказов на пользователя и выберу границу для определения аномальных пользователей."
   ]
  },
  {
   "cell_type": "code",
   "execution_count": 154,
   "metadata": {},
   "outputs": [
    {
     "name": "stdout",
     "output_type": "stream",
     "text": [
      "[1. 2.]\n"
     ]
    }
   ],
   "source": [
    "print(np.percentile(ordersByUsers['orders'], [95, 99]))"
   ]
  },
  {
   "cell_type": "markdown",
   "metadata": {},
   "source": [
    "Не более 5% заказов в количестве 2 и не более 1% заказов в количестве 4. Возьму 2 заказа на одного пользователя за верхнюю границу числа заказов."
   ]
  },
  {
   "cell_type": "markdown",
   "metadata": {},
   "source": [
    "Построю точечный график стоимостей заказов. "
   ]
  },
  {
   "cell_type": "code",
   "execution_count": 155,
   "metadata": {},
   "outputs": [
    {
     "data": {
      "image/png": "[encoded data removed]",
      "text/plain": [
       "<Figure size 936x576 with 1 Axes>"
      ]
     },
     "metadata": {
      "needs_background": "light"
     },
     "output_type": "display_data"
    }
   ],
   "source": [
    "x_values = pd.Series(range(0, len(orders['revenue'])))\n",
    "plt.figure (figsize=(13,8))\n",
    "plt.scatter(x_values, orders['revenue'])\n",
    "plt.title('График стоимостей заказов')\n",
    "plt.xlabel('пользователи')\n",
    "plt.ylabel('стоимость заказов')\n",
    "plt.show()"
   ]
  },
  {
   "cell_type": "markdown",
   "metadata": {},
   "source": [
    "Из-за двух выбросов график стал неинформативным. Cделаю еще один график без выбросов."
   ]
  },
  {
   "cell_type": "code",
   "execution_count": 156,
   "metadata": {},
   "outputs": [
    {
     "data": {
      "image/png": "[encoded data removed]",
      "text/plain": [
       "<Figure size 936x576 with 1 Axes>"
      ]
     },
     "metadata": {
      "needs_background": "light"
     },
     "output_type": "display_data"
    }
   ],
   "source": [
    "orders_1=orders.query('revenue<100000')\n",
    "\n",
    "x_values = pd.Series(range(0, len(orders_1['revenue'])))\n",
    "plt.figure (figsize=(13,8))\n",
    "plt.scatter(x_values, orders_1['revenue'])\n",
    "plt.title('График стоимостей заказов')\n",
    "plt.xlabel('пользователи')\n",
    "plt.ylabel('стоимость заказов')\n",
    "plt.show()"
   ]
  },
  {
   "cell_type": "markdown",
   "metadata": {},
   "source": [
    "Из уточненного графика картина становится яснее. Верхняя граница стоимости заказа находится в районе 20000. \n",
    "Расчитаю перцентили для более ясного понимания.\n",
    "\n",
    "Посчитаю  95-й и 99-й перцентили стоимости заказов. Выберу границу для определения аномальных заказов."
   ]
  },
  {
   "cell_type": "code",
   "execution_count": 157,
   "metadata": {},
   "outputs": [
    {
     "name": "stdout",
     "output_type": "stream",
     "text": [
      "[26785. 53904.]\n"
     ]
    }
   ],
   "source": [
    "print(np.percentile(orders['revenue'], [95, 99])) "
   ]
  },
  {
   "cell_type": "markdown",
   "metadata": {},
   "source": [
    "Не более 5% заказов со стоимостью 26785 и не более 1% заказов со стоимостью 53904. Возьму стоимость заказа 27000 за верхнюю границу числа заказов."
   ]
  },
  {
   "cell_type": "markdown",
   "metadata": {},
   "source": [
    "Посчитаю статистическую значимость различий в среднем числе заказов на пользователя и среднем чеке между группами по «сырым» данным.\n",
    "\n",
    "\n",
    "Сформулируюгипотезы. Нулевая гипотеза: различий в среднем количестве заказов между группами нет. Альтернативная: различия в среднем между группами есть.\n",
    "\n",
    "Значение  alpha примем за 5%."
   ]
  },
  {
   "cell_type": "markdown",
   "metadata": {},
   "source": [
    "Подготовлю данные:"
   ]
  },
  {
   "cell_type": "code",
   "execution_count": 158,
   "metadata": {},
   "outputs": [
    {
     "data": {
      "text/html": [
       "<div>\n",
       "<style scoped>\n",
       "    .dataframe tbody tr th:only-of-type {\n",
       "        vertical-align: middle;\n",
       "    }\n",
       "\n",
       "    .dataframe tbody tr th {\n",
       "        vertical-align: top;\n",
       "    }\n",
       "\n",
       "    .dataframe thead th {\n",
       "        text-align: right;\n",
       "    }\n",
       "</style>\n",
       "<table border=\"1\" class=\"dataframe\">\n",
       "  <thead>\n",
       "    <tr style=\"text-align: right;\">\n",
       "      <th></th>\n",
       "      <th>date</th>\n",
       "      <th>ordersPerDateA</th>\n",
       "      <th>revenuePerDateA</th>\n",
       "      <th>ordersPerDateB</th>\n",
       "      <th>revenuePerDateB</th>\n",
       "      <th>ordersCummulativeA</th>\n",
       "      <th>revenueCummulativeA</th>\n",
       "      <th>ordersCummulativeB</th>\n",
       "      <th>revenueCummulativeB</th>\n",
       "      <th>visitorsPerDateA</th>\n",
       "      <th>visitorsPerDateB</th>\n",
       "      <th>visitorsCummulativeA</th>\n",
       "      <th>visitorsCummulativeB</th>\n",
       "    </tr>\n",
       "  </thead>\n",
       "  <tbody>\n",
       "    <tr>\n",
       "      <th>0</th>\n",
       "      <td>2019-08-01</td>\n",
       "      <td>23</td>\n",
       "      <td>142779</td>\n",
       "      <td>17</td>\n",
       "      <td>59758</td>\n",
       "      <td>23</td>\n",
       "      <td>142779</td>\n",
       "      <td>17</td>\n",
       "      <td>59758</td>\n",
       "      <td>719</td>\n",
       "      <td>713</td>\n",
       "      <td>719</td>\n",
       "      <td>713</td>\n",
       "    </tr>\n",
       "    <tr>\n",
       "      <th>1</th>\n",
       "      <td>2019-08-02</td>\n",
       "      <td>19</td>\n",
       "      <td>91602</td>\n",
       "      <td>23</td>\n",
       "      <td>162043</td>\n",
       "      <td>42</td>\n",
       "      <td>234381</td>\n",
       "      <td>40</td>\n",
       "      <td>221801</td>\n",
       "      <td>619</td>\n",
       "      <td>581</td>\n",
       "      <td>1338</td>\n",
       "      <td>1294</td>\n",
       "    </tr>\n",
       "    <tr>\n",
       "      <th>2</th>\n",
       "      <td>2019-08-03</td>\n",
       "      <td>24</td>\n",
       "      <td>112473</td>\n",
       "      <td>14</td>\n",
       "      <td>67049</td>\n",
       "      <td>66</td>\n",
       "      <td>346854</td>\n",
       "      <td>54</td>\n",
       "      <td>288850</td>\n",
       "      <td>507</td>\n",
       "      <td>509</td>\n",
       "      <td>1845</td>\n",
       "      <td>1803</td>\n",
       "    </tr>\n",
       "    <tr>\n",
       "      <th>3</th>\n",
       "      <td>2019-08-04</td>\n",
       "      <td>11</td>\n",
       "      <td>41176</td>\n",
       "      <td>14</td>\n",
       "      <td>96890</td>\n",
       "      <td>77</td>\n",
       "      <td>388030</td>\n",
       "      <td>68</td>\n",
       "      <td>385740</td>\n",
       "      <td>717</td>\n",
       "      <td>770</td>\n",
       "      <td>2562</td>\n",
       "      <td>2573</td>\n",
       "    </tr>\n",
       "    <tr>\n",
       "      <th>4</th>\n",
       "      <td>2019-08-05</td>\n",
       "      <td>22</td>\n",
       "      <td>86383</td>\n",
       "      <td>21</td>\n",
       "      <td>89908</td>\n",
       "      <td>99</td>\n",
       "      <td>474413</td>\n",
       "      <td>89</td>\n",
       "      <td>475648</td>\n",
       "      <td>756</td>\n",
       "      <td>707</td>\n",
       "      <td>3318</td>\n",
       "      <td>3280</td>\n",
       "    </tr>\n",
       "  </tbody>\n",
       "</table>\n",
       "</div>"
      ],
      "text/plain": [
       "        date  ordersPerDateA  revenuePerDateA  ordersPerDateB  \\\n",
       "0 2019-08-01              23           142779              17   \n",
       "1 2019-08-02              19            91602              23   \n",
       "2 2019-08-03              24           112473              14   \n",
       "3 2019-08-04              11            41176              14   \n",
       "4 2019-08-05              22            86383              21   \n",
       "\n",
       "   revenuePerDateB  ordersCummulativeA  revenueCummulativeA  \\\n",
       "0            59758                  23               142779   \n",
       "1           162043                  42               234381   \n",
       "2            67049                  66               346854   \n",
       "3            96890                  77               388030   \n",
       "4            89908                  99               474413   \n",
       "\n",
       "   ordersCummulativeB  revenueCummulativeB  visitorsPerDateA  \\\n",
       "0                  17                59758               719   \n",
       "1                  40               221801               619   \n",
       "2                  54               288850               507   \n",
       "3                  68               385740               717   \n",
       "4                  89               475648               756   \n",
       "\n",
       "   visitorsPerDateB  visitorsCummulativeA  visitorsCummulativeB  \n",
       "0               713                   719                   713  \n",
       "1               581                  1338                  1294  \n",
       "2               509                  1845                  1803  \n",
       "3               770                  2562                  2573  \n",
       "4               707                  3318                  3280  "
      ]
     },
     "metadata": {},
     "output_type": "display_data"
    }
   ],
   "source": [
    "#количество пользователей в выбранную дату в группе A\n",
    "\n",
    "visitorsADaily = visitors[visitors['group'] == 'A'][['date', 'visitors']]\n",
    "visitorsADaily.columns = ['date', 'visitorsPerDateA']\n",
    "\n",
    "#количество пользователей до выбранной даты включительно в группе A\n",
    "visitorsACummulative = visitorsADaily.apply(\n",
    "    lambda x: visitorsADaily[visitorsADaily['date'] <= x['date']].agg(\n",
    "        {'date': 'max', 'visitorsPerDateA': 'sum'}\n",
    "    ),\n",
    "    axis=1,\n",
    ")\n",
    "visitorsACummulative.columns = ['date', 'visitorsCummulativeA']\n",
    "\n",
    "#количество пользователей в выбранную дату в группе B\n",
    "visitorsBDaily = visitors[visitors['group'] == 'B'][['date', 'visitors']]\n",
    "visitorsBDaily.columns = ['date', 'visitorsPerDateB']\n",
    "\n",
    "#количество пользователей до выбранной даты включительно в группе B\n",
    "visitorsBCummulative = visitorsBDaily.apply(\n",
    "    lambda x: visitorsBDaily[visitorsBDaily['date'] <= x['date']].agg(\n",
    "        {'date': 'max', 'visitorsPerDateB': 'sum'}\n",
    "    ),\n",
    "    axis=1,\n",
    ")\n",
    "visitorsBCummulative.columns = ['date', 'visitorsCummulativeB']\n",
    "\n",
    "#количество заказов и выручка в выбранную дату в группе A\n",
    "ordersADaily = (\n",
    "    orders[orders['group'] == 'A'][['date', 'orderId', 'userId', 'revenue']]\n",
    "    .groupby('date', as_index=False)\n",
    "    .agg({'orderId': pd.Series.nunique, 'revenue': 'sum'})\n",
    ")\n",
    "ordersADaily.columns = ['date', 'ordersPerDateA', 'revenuePerDateA']\n",
    "\n",
    "#суммарное число заказов и суммарная выручка до выбранной даты включительно в группе A\n",
    "ordersACummulative = ordersADaily.apply(\n",
    "    lambda x: ordersADaily[ordersADaily['date'] <= x['date']].agg(\n",
    "        {'date': 'max', 'ordersPerDateA': 'sum', 'revenuePerDateA': 'sum'}\n",
    "    ),\n",
    "    axis=1,\n",
    ").sort_values(by=['date'])\n",
    "ordersACummulative.columns = [\n",
    "    'date',\n",
    "    'ordersCummulativeA',\n",
    "    'revenueCummulativeA',\n",
    "]\n",
    "\n",
    "#количество заказов и выручка в выбранную дату в группе В\n",
    "ordersBDaily = (\n",
    "    orders[orders['group'] == 'B'][['date', 'orderId', 'userId', 'revenue']]\n",
    "    .groupby('date', as_index=False)\n",
    "    .agg({'orderId': pd.Series.nunique, 'revenue': 'sum'})\n",
    ")\n",
    "ordersBDaily.columns = ['date', 'ordersPerDateB', 'revenuePerDateB']\n",
    "\n",
    "\n",
    "#суммарное число заказов и суммарная выручка до выбранной даты включительно в группе В\n",
    "ordersBCummulative = ordersBDaily.apply(\n",
    "    lambda x: ordersBDaily[ordersBDaily['date'] <= x['date']].agg(\n",
    "        {'date': 'max', 'ordersPerDateB': 'sum', 'revenuePerDateB': 'sum'}\n",
    "    ),\n",
    "    axis=1,\n",
    ").sort_values(by=['date'])\n",
    "ordersBCummulative.columns = [\n",
    "    'date',\n",
    "    'ordersCummulativeB',\n",
    "    'revenueCummulativeB',\n",
    "]\n",
    "\n",
    "data = (\n",
    "    ordersADaily.merge(\n",
    "        ordersBDaily, left_on='date', right_on='date', how='left'\n",
    "    )\n",
    "    .merge(ordersACummulative, left_on='date', right_on='date', how='left')\n",
    "    .merge(ordersBCummulative, left_on='date', right_on='date', how='left')\n",
    "    .merge(visitorsADaily, left_on='date', right_on='date', how='left')\n",
    "    .merge(visitorsBDaily, left_on='date', right_on='date', how='left')\n",
    "    .merge(visitorsACummulative, left_on='date', right_on='date', how='left')\n",
    "    .merge(visitorsBCummulative, left_on='date', right_on='date', how='left')\n",
    ")\n",
    "\n",
    "display(data.head(5))"
   ]
  },
  {
   "cell_type": "markdown",
   "metadata": {},
   "source": [
    "Создам переменные ordersByUsersA и ordersByUsersB со столбцами ['userId', 'orders']. В них для пользователей, которые заказывали хотя бы 1 раз, укажу число совершённых заказов"
   ]
  },
  {
   "cell_type": "code",
   "execution_count": 159,
   "metadata": {},
   "outputs": [],
   "source": [
    "ordersByUsersA = (\n",
    "    orders[orders['group'] == 'A']\n",
    "    .groupby('userId', as_index=False)\n",
    "    .agg({'orderId': pd.Series.nunique})\n",
    ")\n",
    "ordersByUsersA.columns = ['userId', 'orders']\n",
    "\n",
    "ordersByUsersB = (\n",
    "    orders[orders['group'] == 'B']\n",
    "    .groupby('userId', as_index=False)\n",
    "    .agg({'orderId': pd.Series.nunique})\n",
    ")\n",
    "ordersByUsersB.columns = ['userId', 'orders']\n"
   ]
  },
  {
   "cell_type": "markdown",
   "metadata": {},
   "source": [
    "Объявлю переменные sampleA и sampleB, в которых пользователям из разных групп будет соответствовать количество заказов. Тем, кто ничего не заказал, будут соответствовать нули. Это нужно, чтобы подготовить выборки к проверке критерием Манна-Уитни."
   ]
  },
  {
   "cell_type": "code",
   "execution_count": 160,
   "metadata": {},
   "outputs": [
    {
     "data": {
      "text/plain": [
       "'p-value = 0.01102'"
      ]
     },
     "metadata": {},
     "output_type": "display_data"
    },
    {
     "data": {
      "text/plain": [
       "'Относительный выигрыш группы B = 0.160'"
      ]
     },
     "metadata": {},
     "output_type": "display_data"
    }
   ],
   "source": [
    "sampleA = pd.concat([ordersByUsersA['orders'],pd.Series(0, index=np.arange(data['visitorsPerDateA'].sum() - len(ordersByUsersA['orders'])), name='orders')],axis=0)\n",
    "\n",
    "sampleB = pd.concat([ordersByUsersB['orders'],pd.Series(0, index=np.arange(data['visitorsPerDateB'].sum() - len(ordersByUsersB['orders'])), name='orders')],axis=0)\n",
    "\n",
    "display(\"p-value = {0:.5f}\".format(stats.mannwhitneyu(sampleA, sampleB)[1]))\n",
    "\n",
    "display(\"Относительный выигрыш группы B = {0:.3f}\".format(sampleB.mean() / sampleA.mean() - 1))"
   ]
  },
  {
   "cell_type": "markdown",
   "metadata": {},
   "source": [
    "p-value 0,011 (меньше 0,05). Значит, нулевую гипотезу о том, что статистически значимых различий в среднем числе заказов между группами нет, отвергаю. Относительный выигрыш группы B равен 16% — второе число в выводе. По «сырым» данным различия в среднем числе заказов групп A и B есть."
   ]
  },
  {
   "cell_type": "markdown",
   "metadata": {},
   "source": [
    "Теперь проверю статистическую значимость различий в среднем чеке между сегментами. Нулевая гипотеза: различий в среднем чеке между группами нет. Альтернативная гипотеза: различия в среднем чеке между группами есть."
   ]
  },
  {
   "cell_type": "code",
   "execution_count": 161,
   "metadata": {},
   "outputs": [
    {
     "data": {
      "text/plain": [
       "'p-value = 0.829'"
      ]
     },
     "metadata": {},
     "output_type": "display_data"
    },
    {
     "data": {
      "text/plain": [
       "'Относительный выигрыш группы B = 0.287'"
      ]
     },
     "metadata": {},
     "output_type": "display_data"
    }
   ],
   "source": [
    "display('p-value = {0:.3f}'.format(stats.mannwhitneyu(orders[orders['group']=='A']['revenue'], orders[orders['group']=='B']['revenue'])[1]))\n",
    "display('Относительный выигрыш группы B = {0:.3f}'.format(orders[orders['group']=='B']['revenue'].mean()/orders[orders['group']=='A']['revenue'].mean()-1))"
   ]
  },
  {
   "cell_type": "markdown",
   "metadata": {},
   "source": [
    "P-value значительно больше 0.05. Причин отвергать нулевую гипотезу и считать, что в среднем чеке есть различия, нет. Средний чек группы B значительно выше среднего чека группы A (28,7%)\n",
    "\n",
    "Таким образом, различий в среднем чеке заказа между группами А и В нет, а наблюдаемое превышение среднего чека группы В на 28,7% не является значимым, получено случайно"
   ]
  },
  {
   "cell_type": "markdown",
   "metadata": {},
   "source": [
    "Посчитаю статистическую значимость различий в среднем количестве заказов на посетителя а также в среднем чеке  между группами по «очищенным» данным. Ранее мы расчитали 95й и 99й перцентили, которые составили 2 и 4 для количества заказов. Взяла количество заказов в размере 2 в качестве верхней границы числа заказов .\n",
    "Для среднего чека 95й и 99й перцентили составили  26785 и 53904. Взяла стоимость заказа 27000 за верхнюю границу числа заказов."
   ]
  },
  {
   "cell_type": "markdown",
   "metadata": {},
   "source": [
    "Сделаю срезы пользователей с числом заказов больше 2 — usersWithManyOrders и пользователей, совершивших заказы дороже 27 000 — usersWithExpensiveOrders. Объединим их в таблице abnormalUsers."
   ]
  },
  {
   "cell_type": "code",
   "execution_count": 162,
   "metadata": {},
   "outputs": [
    {
     "data": {
      "text/plain": [
       "568     113298937\n",
       "1099    148427295\n",
       "928     204675465\n",
       "33      249864742\n",
       "684     358944393\n",
       "Name: userId, dtype: int64"
      ]
     },
     "metadata": {},
     "output_type": "display_data"
    },
    {
     "data": {
      "text/plain": [
       "58"
      ]
     },
     "metadata": {},
     "output_type": "display_data"
    }
   ],
   "source": [
    "usersWithManyOrders = pd.concat(\n",
    "    [\n",
    "        ordersByUsersA[ordersByUsersA['orders'] > 2]['userId'],\n",
    "        ordersByUsersB[ordersByUsersB['orders'] > 2]['userId'],\n",
    "    ],\n",
    "    axis=0,\n",
    ")\n",
    "usersWithExpensiveOrders = orders[orders['revenue'] > np.percentile(orders['revenue'], [95])[0]]['userId']\n",
    "abnormalUsers = (\n",
    "    pd.concat([usersWithManyOrders, usersWithExpensiveOrders], axis=0)\n",
    "    .drop_duplicates()\n",
    "    .sort_values()\n",
    ")\n",
    "\n",
    "display(abnormalUsers.head(5))\n",
    "display(abnormalUsers.shape[0]) #считаю количество аномальных пользователей"
   ]
  },
  {
   "cell_type": "markdown",
   "metadata": {},
   "source": [
    "Всего 58 аномальных пользователя.\n",
    "Узнаю, как их действия повлияли на результаты теста. \n",
    "\n",
    "Посчитаю статистическую значимость различий в среднем числе заказов на пользователя и среднем чеке между группами по «очищенным» данным.\n",
    "Сформулирую гипотезы. Нулевая: различий в среднем количестве заказов между группами нет. Альтернативная: различия в среднем между группами есть.\n",
    "\n",
    "Значение  alpha примем за 5%."
   ]
  },
  {
   "cell_type": "code",
   "execution_count": 163,
   "metadata": {},
   "outputs": [
    {
     "data": {
      "text/plain": [
       "'p-value = 0.01235'"
      ]
     },
     "metadata": {},
     "output_type": "display_data"
    },
    {
     "data": {
      "text/plain": [
       "'Относительный выигрыш группы B = 0.182'"
      ]
     },
     "metadata": {},
     "output_type": "display_data"
    }
   ],
   "source": [
    "sampleAFiltered = pd.concat(\n",
    "    [\n",
    "        ordersByUsersA[\n",
    "            np.logical_not(ordersByUsersA['userId'].isin(abnormalUsers))\n",
    "        ]['orders'],\n",
    "        pd.Series(\n",
    "            0,\n",
    "            index=np.arange(\n",
    "                data['visitorsPerDateA'].sum() - len(ordersByUsersA['orders'])\n",
    "            ),\n",
    "            name='orders',\n",
    "        ),\n",
    "    ],\n",
    "    axis=0,\n",
    ")\n",
    "\n",
    "sampleBFiltered = pd.concat(\n",
    "    [\n",
    "        ordersByUsersB[\n",
    "            np.logical_not(ordersByUsersB['userId'].isin(abnormalUsers))\n",
    "        ]['orders'],\n",
    "        pd.Series(\n",
    "            0,\n",
    "            index=np.arange(\n",
    "                data['visitorsPerDateB'].sum() - len(ordersByUsersB['orders'])\n",
    "            ),\n",
    "            name='orders',\n",
    "        ),\n",
    "    ],\n",
    "    axis=0,\n",
    ")\n",
    "\n",
    "display('p-value = {0:.5f}'.format(stats.mannwhitneyu(sampleAFiltered, sampleBFiltered)[1]))\n",
    "display('Относительный выигрыш группы B = {0:.3f}'.format(sampleBFiltered.mean()/sampleAFiltered.mean()-1))"
   ]
  },
  {
   "cell_type": "markdown",
   "metadata": {},
   "source": [
    "Результаты по среднему количеству заказов для очищенных данных несколько изменились. p-value был 0,011 (стал 0,012). Относительный выигрыш группы B был 16% стал 18,2%. Но в целом на общий вывод это не повлияло: нулевую гипотезу о том, что статистически значимых различий в среднем числе заказов между группами нет, отвергаю. Группа В показала результат значительно лучше.  Произошло ли что-нибудь с результатами по среднему чеку? Проверю: "
   ]
  },
  {
   "cell_type": "code",
   "execution_count": 164,
   "metadata": {},
   "outputs": [
    {
     "data": {
      "text/plain": [
       "'p-value = 0.646'"
      ]
     },
     "metadata": {},
     "output_type": "display_data"
    },
    {
     "data": {
      "text/plain": [
       "'Относительный выигрыш группы B = -0.048'"
      ]
     },
     "metadata": {},
     "output_type": "display_data"
    }
   ],
   "source": [
    "display(\n",
    "    'p-value = {0:.3f}'.format(\n",
    "        stats.mannwhitneyu(\n",
    "            orders[\n",
    "                np.logical_and(\n",
    "                    orders['group'] == 'A',\n",
    "                    np.logical_not(orders['userId'].isin(abnormalUsers)),\n",
    "                )\n",
    "            ]['revenue'],\n",
    "            orders[\n",
    "                np.logical_and(\n",
    "                    orders['group'] == 'B',\n",
    "                    np.logical_not(orders['userId'].isin(abnormalUsers)),\n",
    "                )\n",
    "            ]['revenue'],\n",
    "        )[1]\n",
    "    )\n",
    ")\n",
    "\n",
    "display(\n",
    "    \"Относительный выигрыш группы B = {0:.3f}\".format(\n",
    "        orders[\n",
    "            np.logical_and(\n",
    "                orders['group'] == 'B',\n",
    "                np.logical_not(orders['userId'].isin(abnormalUsers)),\n",
    "            )\n",
    "        ]['revenue'].mean()\n",
    "        / orders[\n",
    "            np.logical_and(\n",
    "                orders['group'] == 'A',\n",
    "                np.logical_not(orders['userId'].isin(abnormalUsers)),\n",
    "            )\n",
    "        ]['revenue'].mean()\n",
    "        - 1\n",
    "    )\n",
    ")\n",
    "\n",
    "\n"
   ]
  },
  {
   "cell_type": "markdown",
   "metadata": {},
   "source": [
    "P-value по-прежнему значительно больше 0,05 и составил 0,646 (был 0,829). Причин отвергать нулевую гипотезу и считать, что в среднем чеке есть различия, нет. Различий нет. Однако относительная разница между сегментами стала -4.8% (была 28,7%). Это значит, что группа А превосходит группу В на 4.8%, а до этого группа В была выше на целых 28,7% - аномальные данные влияли на результат."
   ]
  },
  {
   "cell_type": "markdown",
   "metadata": {},
   "source": [
    "Выводы:\n",
    "\n",
    "Количество заказов. Нулевую гипотезу о том, что статистически значимых различий в среднем числе заказов между группами нет, отвергаю и по сырым и по очищенным данным . График различия количества заказов между группами, построенный ранее, также сообщает, что результаты группы B лучше группы A.\n",
    "\n",
    "Средний чек. Причин отвергать нулевую гипотезу и считать, что в среднем чеке есть различия, нет ни по сырым ни по очищенным данным.Различий нет. По графику относительного различия среднего чека ранее было видно , что группа B вышла на более высокие результаты, чем группа А, но данные были неочищенные , а график нестабильный, поэтому по нему и нельзя было делать какого-либо вывода.\n",
    "\n",
    "Таким образом, победила группа В - количество заказов по ней выше, хоть средний чек и не отличается от группы А. При одинаковых средних чеках и бОльшему количеству заказов группы В выручка в этой группе тоже будет выше."
   ]
  },
  {
   "cell_type": "markdown",
   "metadata": {},
   "source": [
    "Тест следует остановить и признать его успешным."
   ]
  },
  {
   "cell_type": "markdown",
   "metadata": {},
   "source": [
    "[К ОГЛАВЛЕНИЮ](#back_to_title)"
   ]
  }
 ],
 "metadata": {
  "ExecuteTimeLog": [
   {
    "duration": 47,
    "start_time": "2022-12-15T22:24:05.878Z"
   },
   {
    "duration": 375,
    "start_time": "2022-12-15T22:24:09.740Z"
   },
   {
    "duration": 3,
    "start_time": "2022-12-15T22:25:09.638Z"
   },
   {
    "duration": 78,
    "start_time": "2022-12-15T22:25:11.663Z"
   },
   {
    "duration": 27,
    "start_time": "2022-12-15T22:28:59.124Z"
   },
   {
    "duration": 2,
    "start_time": "2022-12-15T22:29:10.160Z"
   },
   {
    "duration": 29,
    "start_time": "2022-12-15T22:29:11.867Z"
   },
   {
    "duration": 14,
    "start_time": "2022-12-15T22:29:15.139Z"
   },
   {
    "duration": 7,
    "start_time": "2022-12-15T22:30:32.248Z"
   },
   {
    "duration": 31,
    "start_time": "2022-12-15T22:31:57.652Z"
   },
   {
    "duration": 12,
    "start_time": "2022-12-15T22:32:18.247Z"
   },
   {
    "duration": 11,
    "start_time": "2022-12-15T22:33:08.777Z"
   },
   {
    "duration": 14,
    "start_time": "2022-12-15T22:34:41.792Z"
   },
   {
    "duration": 3,
    "start_time": "2022-12-15T22:34:51.644Z"
   },
   {
    "duration": 4,
    "start_time": "2022-12-15T22:35:02.938Z"
   },
   {
    "duration": 4,
    "start_time": "2022-12-15T22:35:06.654Z"
   },
   {
    "duration": 42,
    "start_time": "2022-12-15T22:35:28.236Z"
   },
   {
    "duration": 41,
    "start_time": "2022-12-15T22:35:45.695Z"
   },
   {
    "duration": 53,
    "start_time": "2022-12-15T22:35:49.682Z"
   },
   {
    "duration": 48,
    "start_time": "2022-12-15T22:35:53.640Z"
   },
   {
    "duration": 48,
    "start_time": "2022-12-15T22:36:08.873Z"
   },
   {
    "duration": 48,
    "start_time": "2022-12-15T22:36:12.665Z"
   },
   {
    "duration": 15,
    "start_time": "2022-12-15T22:36:54.678Z"
   },
   {
    "duration": 15,
    "start_time": "2022-12-15T22:37:24.017Z"
   },
   {
    "duration": 26,
    "start_time": "2022-12-15T22:38:17.856Z"
   },
   {
    "duration": 13,
    "start_time": "2022-12-15T22:38:26.474Z"
   },
   {
    "duration": 10,
    "start_time": "2022-12-15T22:38:45.168Z"
   },
   {
    "duration": 10,
    "start_time": "2022-12-15T22:39:54.570Z"
   },
   {
    "duration": 17,
    "start_time": "2022-12-15T22:41:52.174Z"
   },
   {
    "duration": 8,
    "start_time": "2022-12-15T22:42:00.429Z"
   },
   {
    "duration": 11,
    "start_time": "2022-12-15T22:46:21.185Z"
   },
   {
    "duration": 32,
    "start_time": "2022-12-15T22:46:50.913Z"
   },
   {
    "duration": 403,
    "start_time": "2022-12-15T22:49:13.832Z"
   },
   {
    "duration": 4,
    "start_time": "2022-12-15T22:49:32.587Z"
   },
   {
    "duration": 53,
    "start_time": "2022-12-15T22:53:12.946Z"
   },
   {
    "duration": 292,
    "start_time": "2022-12-15T22:53:27.210Z"
   },
   {
    "duration": 245,
    "start_time": "2022-12-15T22:54:37.076Z"
   },
   {
    "duration": 235,
    "start_time": "2022-12-15T22:54:57.547Z"
   },
   {
    "duration": 4,
    "start_time": "2022-12-15T22:55:25.790Z"
   },
   {
    "duration": 4,
    "start_time": "2022-12-15T22:55:54.941Z"
   },
   {
    "duration": 4,
    "start_time": "2022-12-15T22:56:07.921Z"
   },
   {
    "duration": 798,
    "start_time": "2022-12-16T22:13:38.009Z"
   },
   {
    "duration": 82,
    "start_time": "2022-12-16T22:13:38.809Z"
   },
   {
    "duration": 13,
    "start_time": "2022-12-16T22:13:38.893Z"
   },
   {
    "duration": 11,
    "start_time": "2022-12-16T22:13:38.908Z"
   },
   {
    "duration": 160,
    "start_time": "2022-12-16T22:13:38.920Z"
   },
   {
    "duration": 5,
    "start_time": "2022-12-16T22:13:39.081Z"
   },
   {
    "duration": 0,
    "start_time": "2022-12-16T22:13:39.088Z"
   },
   {
    "duration": 329,
    "start_time": "2022-12-16T22:13:56.241Z"
   },
   {
    "duration": 814,
    "start_time": "2022-12-16T22:15:49.401Z"
   },
   {
    "duration": 92,
    "start_time": "2022-12-16T22:15:50.217Z"
   },
   {
    "duration": 12,
    "start_time": "2022-12-16T22:15:50.312Z"
   },
   {
    "duration": 14,
    "start_time": "2022-12-16T22:15:50.326Z"
   },
   {
    "duration": 153,
    "start_time": "2022-12-16T22:15:50.342Z"
   },
   {
    "duration": 5,
    "start_time": "2022-12-16T22:15:50.497Z"
   },
   {
    "duration": 0,
    "start_time": "2022-12-16T22:15:50.503Z"
   },
   {
    "duration": 334,
    "start_time": "2022-12-16T22:16:16.171Z"
   },
   {
    "duration": 5,
    "start_time": "2022-12-16T22:16:48.660Z"
   },
   {
    "duration": 4,
    "start_time": "2022-12-16T22:17:04.384Z"
   },
   {
    "duration": 4,
    "start_time": "2022-12-16T22:17:15.686Z"
   },
   {
    "duration": 5,
    "start_time": "2022-12-16T22:17:31.862Z"
   },
   {
    "duration": 6,
    "start_time": "2022-12-16T22:17:49.007Z"
   },
   {
    "duration": 5,
    "start_time": "2022-12-16T22:17:57.099Z"
   },
   {
    "duration": 235,
    "start_time": "2022-12-16T22:19:00.499Z"
   },
   {
    "duration": 1299,
    "start_time": "2022-12-16T22:19:30.170Z"
   },
   {
    "duration": 875,
    "start_time": "2022-12-16T22:24:36.230Z"
   },
   {
    "duration": 94,
    "start_time": "2022-12-16T22:24:37.107Z"
   },
   {
    "duration": 14,
    "start_time": "2022-12-16T22:24:37.203Z"
   },
   {
    "duration": 11,
    "start_time": "2022-12-16T22:24:37.219Z"
   },
   {
    "duration": 162,
    "start_time": "2022-12-16T22:24:37.232Z"
   },
   {
    "duration": 251,
    "start_time": "2022-12-16T22:24:37.396Z"
   },
   {
    "duration": 0,
    "start_time": "2022-12-16T22:24:37.650Z"
   },
   {
    "duration": 1232,
    "start_time": "2022-12-16T22:24:49.556Z"
   },
   {
    "duration": 1152,
    "start_time": "2022-12-16T22:25:08.241Z"
   },
   {
    "duration": 77,
    "start_time": "2022-12-16T22:25:53.713Z"
   },
   {
    "duration": 76,
    "start_time": "2022-12-16T22:26:25.891Z"
   },
   {
    "duration": 87,
    "start_time": "2022-12-16T22:26:44.653Z"
   },
   {
    "duration": 76,
    "start_time": "2022-12-16T22:27:17.757Z"
   },
   {
    "duration": 8,
    "start_time": "2022-12-16T22:33:29.553Z"
   },
   {
    "duration": 6,
    "start_time": "2022-12-16T22:33:51.025Z"
   },
   {
    "duration": 8,
    "start_time": "2022-12-16T22:38:17.834Z"
   },
   {
    "duration": 9,
    "start_time": "2022-12-16T22:38:46.052Z"
   },
   {
    "duration": 9,
    "start_time": "2022-12-16T22:40:30.715Z"
   },
   {
    "duration": 3,
    "start_time": "2022-12-16T22:41:01.225Z"
   },
   {
    "duration": 177,
    "start_time": "2022-12-16T22:41:14.160Z"
   },
   {
    "duration": 7,
    "start_time": "2022-12-16T22:42:24.195Z"
   },
   {
    "duration": 178,
    "start_time": "2022-12-16T22:43:09.493Z"
   },
   {
    "duration": 117,
    "start_time": "2022-12-16T22:44:11.377Z"
   },
   {
    "duration": 13,
    "start_time": "2022-12-16T22:45:47.669Z"
   },
   {
    "duration": 7,
    "start_time": "2022-12-16T22:47:27.781Z"
   },
   {
    "duration": 309,
    "start_time": "2022-12-16T22:47:53.596Z"
   },
   {
    "duration": 185,
    "start_time": "2022-12-16T22:48:09.302Z"
   },
   {
    "duration": 177,
    "start_time": "2022-12-16T22:50:19.802Z"
   },
   {
    "duration": 186,
    "start_time": "2022-12-16T22:50:39.078Z"
   },
   {
    "duration": 177,
    "start_time": "2022-12-16T22:50:53.979Z"
   },
   {
    "duration": 173,
    "start_time": "2022-12-16T22:50:59.750Z"
   },
   {
    "duration": 182,
    "start_time": "2022-12-16T22:51:05.760Z"
   },
   {
    "duration": 181,
    "start_time": "2022-12-16T22:51:13.202Z"
   },
   {
    "duration": 203,
    "start_time": "2022-12-16T22:51:19.932Z"
   },
   {
    "duration": 184,
    "start_time": "2022-12-16T22:51:26.482Z"
   },
   {
    "duration": 166,
    "start_time": "2022-12-16T22:52:47.401Z"
   },
   {
    "duration": 186,
    "start_time": "2022-12-16T22:52:57.370Z"
   },
   {
    "duration": 305,
    "start_time": "2022-12-16T22:55:47.726Z"
   },
   {
    "duration": 172,
    "start_time": "2022-12-16T22:56:00.913Z"
   },
   {
    "duration": 317,
    "start_time": "2022-12-16T22:58:52.852Z"
   },
   {
    "duration": 288,
    "start_time": "2022-12-16T22:59:08.156Z"
   },
   {
    "duration": 4,
    "start_time": "2022-12-16T23:25:08.867Z"
   },
   {
    "duration": 44,
    "start_time": "2022-12-16T23:25:08.877Z"
   },
   {
    "duration": 10,
    "start_time": "2022-12-16T23:25:08.923Z"
   },
   {
    "duration": 27,
    "start_time": "2022-12-16T23:25:08.935Z"
   },
   {
    "duration": 66,
    "start_time": "2022-12-16T23:25:08.965Z"
   },
   {
    "duration": 3,
    "start_time": "2022-12-16T23:25:09.033Z"
   },
   {
    "duration": 14,
    "start_time": "2022-12-16T23:25:09.038Z"
   },
   {
    "duration": 166,
    "start_time": "2022-12-16T23:25:09.054Z"
   },
   {
    "duration": 142,
    "start_time": "2022-12-16T23:25:09.221Z"
   },
   {
    "duration": 14,
    "start_time": "2022-12-16T23:25:09.365Z"
   },
   {
    "duration": 24,
    "start_time": "2022-12-16T23:25:09.382Z"
   },
   {
    "duration": 184,
    "start_time": "2022-12-16T23:25:09.409Z"
   },
   {
    "duration": 183,
    "start_time": "2022-12-16T23:25:09.596Z"
   },
   {
    "duration": 267,
    "start_time": "2022-12-16T23:25:09.781Z"
   },
   {
    "duration": 170,
    "start_time": "2022-12-16T23:25:10.050Z"
   },
   {
    "duration": 202,
    "start_time": "2022-12-16T23:25:20.963Z"
   },
   {
    "duration": 209,
    "start_time": "2022-12-16T23:29:10.617Z"
   },
   {
    "duration": 302,
    "start_time": "2022-12-16T23:31:15.581Z"
   },
   {
    "duration": 402,
    "start_time": "2022-12-16T23:31:30.771Z"
   },
   {
    "duration": 9,
    "start_time": "2022-12-16T23:35:44.049Z"
   },
   {
    "duration": 133,
    "start_time": "2022-12-16T23:36:10.419Z"
   },
   {
    "duration": 115,
    "start_time": "2022-12-16T23:36:24.183Z"
   },
   {
    "duration": 5,
    "start_time": "2022-12-16T23:39:59.852Z"
   },
   {
    "duration": 8,
    "start_time": "2022-12-16T23:46:48.051Z"
   },
   {
    "duration": 135,
    "start_time": "2022-12-16T23:46:55.847Z"
   },
   {
    "duration": 140,
    "start_time": "2022-12-16T23:47:06.562Z"
   },
   {
    "duration": 6,
    "start_time": "2022-12-16T23:48:42.203Z"
   },
   {
    "duration": 4,
    "start_time": "2022-12-16T23:48:52.363Z"
   },
   {
    "duration": 9,
    "start_time": "2022-12-16T23:56:11.972Z"
   },
   {
    "duration": 157,
    "start_time": "2022-12-16T23:56:42.658Z"
   },
   {
    "duration": 933,
    "start_time": "2022-12-16T23:57:33.146Z"
   },
   {
    "duration": 869,
    "start_time": "2022-12-19T22:45:05.439Z"
   },
   {
    "duration": 87,
    "start_time": "2022-12-19T22:45:06.310Z"
   },
   {
    "duration": 13,
    "start_time": "2022-12-19T22:45:06.398Z"
   },
   {
    "duration": 12,
    "start_time": "2022-12-19T22:45:06.412Z"
   },
   {
    "duration": 169,
    "start_time": "2022-12-19T22:45:06.426Z"
   },
   {
    "duration": 3,
    "start_time": "2022-12-19T22:45:06.597Z"
   },
   {
    "duration": 13,
    "start_time": "2022-12-19T22:45:06.602Z"
   },
   {
    "duration": 173,
    "start_time": "2022-12-19T22:45:06.616Z"
   },
   {
    "duration": 136,
    "start_time": "2022-12-19T22:45:06.790Z"
   },
   {
    "duration": 13,
    "start_time": "2022-12-19T22:45:06.927Z"
   },
   {
    "duration": 21,
    "start_time": "2022-12-19T22:45:06.942Z"
   },
   {
    "duration": 306,
    "start_time": "2022-12-19T22:45:06.966Z"
   },
   {
    "duration": 196,
    "start_time": "2022-12-19T22:45:07.274Z"
   },
   {
    "duration": 296,
    "start_time": "2022-12-19T22:45:07.472Z"
   },
   {
    "duration": 251,
    "start_time": "2022-12-19T22:45:07.769Z"
   },
   {
    "duration": 422,
    "start_time": "2022-12-19T22:45:08.023Z"
   },
   {
    "duration": 134,
    "start_time": "2022-12-19T22:45:08.447Z"
   },
   {
    "duration": 4,
    "start_time": "2022-12-19T22:45:08.582Z"
   },
   {
    "duration": 148,
    "start_time": "2022-12-19T22:45:08.588Z"
   },
   {
    "duration": 4,
    "start_time": "2022-12-19T22:45:08.738Z"
   },
   {
    "duration": 483,
    "start_time": "2022-12-19T22:49:55.719Z"
   },
   {
    "duration": 489,
    "start_time": "2022-12-19T22:50:34.018Z"
   },
   {
    "duration": 31,
    "start_time": "2022-12-19T22:50:34.510Z"
   },
   {
    "duration": 28,
    "start_time": "2022-12-19T22:50:34.544Z"
   },
   {
    "duration": 37,
    "start_time": "2022-12-19T22:50:34.580Z"
   },
   {
    "duration": 107,
    "start_time": "2022-12-19T22:50:34.619Z"
   },
   {
    "duration": 3,
    "start_time": "2022-12-19T22:50:34.728Z"
   },
   {
    "duration": 52,
    "start_time": "2022-12-19T22:50:34.733Z"
   },
   {
    "duration": 230,
    "start_time": "2022-12-19T22:50:34.787Z"
   },
   {
    "duration": 143,
    "start_time": "2022-12-19T22:50:35.019Z"
   },
   {
    "duration": 18,
    "start_time": "2022-12-19T22:50:35.168Z"
   },
   {
    "duration": 17,
    "start_time": "2022-12-19T22:50:35.188Z"
   },
   {
    "duration": 295,
    "start_time": "2022-12-19T22:50:35.207Z"
   },
   {
    "duration": 211,
    "start_time": "2022-12-19T22:50:35.504Z"
   },
   {
    "duration": 358,
    "start_time": "2022-12-19T22:50:35.718Z"
   },
   {
    "duration": 258,
    "start_time": "2022-12-19T22:50:36.078Z"
   },
   {
    "duration": 392,
    "start_time": "2022-12-19T22:50:36.338Z"
   },
   {
    "duration": 147,
    "start_time": "2022-12-19T22:50:36.732Z"
   },
   {
    "duration": 4,
    "start_time": "2022-12-19T22:50:36.881Z"
   },
   {
    "duration": 224,
    "start_time": "2022-12-19T22:50:36.887Z"
   },
   {
    "duration": 4,
    "start_time": "2022-12-19T22:50:37.113Z"
   },
   {
    "duration": 451,
    "start_time": "2022-12-19T22:50:37.119Z"
   },
   {
    "duration": 235,
    "start_time": "2022-12-19T23:04:53.120Z"
   },
   {
    "duration": 168,
    "start_time": "2022-12-19T23:07:51.520Z"
   },
   {
    "duration": 51,
    "start_time": "2022-12-19T23:09:17.831Z"
   },
   {
    "duration": 15,
    "start_time": "2022-12-19T23:13:57.787Z"
   },
   {
    "duration": 10,
    "start_time": "2022-12-19T23:25:04.865Z"
   },
   {
    "duration": 13,
    "start_time": "2022-12-19T23:25:38.811Z"
   },
   {
    "duration": 23,
    "start_time": "2022-12-19T23:27:21.164Z"
   },
   {
    "duration": 40,
    "start_time": "2022-12-19T23:28:32.419Z"
   },
   {
    "duration": 33,
    "start_time": "2022-12-19T23:33:05.232Z"
   },
   {
    "duration": 1134,
    "start_time": "2022-12-20T23:29:47.176Z"
   },
   {
    "duration": 70,
    "start_time": "2022-12-20T23:29:48.311Z"
   },
   {
    "duration": 11,
    "start_time": "2022-12-20T23:29:48.383Z"
   },
   {
    "duration": 9,
    "start_time": "2022-12-20T23:29:48.395Z"
   },
   {
    "duration": 153,
    "start_time": "2022-12-20T23:29:48.406Z"
   },
   {
    "duration": 3,
    "start_time": "2022-12-20T23:29:48.560Z"
   },
   {
    "duration": 8,
    "start_time": "2022-12-20T23:29:48.564Z"
   },
   {
    "duration": 151,
    "start_time": "2022-12-20T23:29:48.574Z"
   },
   {
    "duration": 105,
    "start_time": "2022-12-20T23:29:48.726Z"
   },
   {
    "duration": 12,
    "start_time": "2022-12-20T23:29:48.833Z"
   },
   {
    "duration": 7,
    "start_time": "2022-12-20T23:29:48.846Z"
   },
   {
    "duration": 225,
    "start_time": "2022-12-20T23:29:48.855Z"
   },
   {
    "duration": 166,
    "start_time": "2022-12-20T23:29:49.082Z"
   },
   {
    "duration": 305,
    "start_time": "2022-12-20T23:29:49.250Z"
   },
   {
    "duration": 181,
    "start_time": "2022-12-20T23:29:49.557Z"
   },
   {
    "duration": 276,
    "start_time": "2022-12-20T23:29:49.739Z"
   },
   {
    "duration": 115,
    "start_time": "2022-12-20T23:29:50.017Z"
   },
   {
    "duration": 5,
    "start_time": "2022-12-20T23:29:50.133Z"
   },
   {
    "duration": 131,
    "start_time": "2022-12-20T23:29:50.140Z"
   },
   {
    "duration": 4,
    "start_time": "2022-12-20T23:29:50.273Z"
   },
   {
    "duration": 215,
    "start_time": "2022-12-20T23:29:50.278Z"
   },
   {
    "duration": 137,
    "start_time": "2022-12-20T23:29:50.494Z"
   },
   {
    "duration": 27,
    "start_time": "2022-12-20T23:29:50.632Z"
   },
   {
    "duration": 11,
    "start_time": "2022-12-20T23:29:50.660Z"
   },
   {
    "duration": 9,
    "start_time": "2022-12-20T23:29:50.673Z"
   },
   {
    "duration": 52,
    "start_time": "2022-12-20T23:29:50.683Z"
   },
   {
    "duration": 14,
    "start_time": "2022-12-20T23:29:50.736Z"
   },
   {
    "duration": 1284,
    "start_time": "2022-12-21T09:49:33.529Z"
   },
   {
    "duration": 82,
    "start_time": "2022-12-21T09:49:34.815Z"
   },
   {
    "duration": 11,
    "start_time": "2022-12-21T09:49:34.899Z"
   },
   {
    "duration": 11,
    "start_time": "2022-12-21T09:49:34.912Z"
   },
   {
    "duration": 137,
    "start_time": "2022-12-21T09:49:34.925Z"
   },
   {
    "duration": 3,
    "start_time": "2022-12-21T09:49:35.064Z"
   },
   {
    "duration": 8,
    "start_time": "2022-12-21T09:49:35.069Z"
   },
   {
    "duration": 181,
    "start_time": "2022-12-21T09:49:35.079Z"
   },
   {
    "duration": 131,
    "start_time": "2022-12-21T09:49:35.262Z"
   },
   {
    "duration": 13,
    "start_time": "2022-12-21T09:49:35.395Z"
   },
   {
    "duration": 28,
    "start_time": "2022-12-21T09:49:35.410Z"
   },
   {
    "duration": 253,
    "start_time": "2022-12-21T09:49:35.440Z"
   },
   {
    "duration": 189,
    "start_time": "2022-12-21T09:49:35.695Z"
   },
   {
    "duration": 345,
    "start_time": "2022-12-21T09:49:35.888Z"
   },
   {
    "duration": 200,
    "start_time": "2022-12-21T09:49:36.237Z"
   },
   {
    "duration": 337,
    "start_time": "2022-12-21T09:49:36.439Z"
   },
   {
    "duration": 134,
    "start_time": "2022-12-21T09:49:36.778Z"
   },
   {
    "duration": 5,
    "start_time": "2022-12-21T09:49:36.913Z"
   },
   {
    "duration": 158,
    "start_time": "2022-12-21T09:49:36.920Z"
   },
   {
    "duration": 4,
    "start_time": "2022-12-21T09:49:37.081Z"
   },
   {
    "duration": 258,
    "start_time": "2022-12-21T09:49:37.087Z"
   },
   {
    "duration": 147,
    "start_time": "2022-12-21T09:49:37.347Z"
   },
   {
    "duration": 46,
    "start_time": "2022-12-21T09:49:37.496Z"
   },
   {
    "duration": 13,
    "start_time": "2022-12-21T09:49:37.544Z"
   },
   {
    "duration": 21,
    "start_time": "2022-12-21T09:49:37.558Z"
   },
   {
    "duration": 32,
    "start_time": "2022-12-21T09:49:37.581Z"
   },
   {
    "duration": 16,
    "start_time": "2022-12-21T09:49:37.638Z"
   },
   {
    "duration": 11,
    "start_time": "2022-12-21T09:56:25.510Z"
   },
   {
    "duration": 19,
    "start_time": "2022-12-21T09:56:44.883Z"
   },
   {
    "duration": 102,
    "start_time": "2022-12-21T09:58:05.942Z"
   },
   {
    "duration": 10,
    "start_time": "2022-12-21T09:59:10.287Z"
   },
   {
    "duration": 6,
    "start_time": "2022-12-21T09:59:20.195Z"
   },
   {
    "duration": 11,
    "start_time": "2022-12-21T09:59:38.699Z"
   },
   {
    "duration": 196,
    "start_time": "2022-12-21T10:03:36.919Z"
   },
   {
    "duration": 262,
    "start_time": "2022-12-21T10:03:59.065Z"
   },
   {
    "duration": 272,
    "start_time": "2022-12-21T10:04:28.348Z"
   },
   {
    "duration": 220,
    "start_time": "2022-12-21T10:04:57.302Z"
   },
   {
    "duration": 328,
    "start_time": "2022-12-21T10:05:24.550Z"
   },
   {
    "duration": 5,
    "start_time": "2022-12-21T10:23:04.456Z"
   },
   {
    "duration": 42,
    "start_time": "2022-12-21T10:23:04.464Z"
   },
   {
    "duration": 12,
    "start_time": "2022-12-21T10:23:04.507Z"
   },
   {
    "duration": 19,
    "start_time": "2022-12-21T10:23:04.520Z"
   },
   {
    "duration": 70,
    "start_time": "2022-12-21T10:23:04.541Z"
   },
   {
    "duration": 3,
    "start_time": "2022-12-21T10:23:04.613Z"
   },
   {
    "duration": 33,
    "start_time": "2022-12-21T10:23:04.618Z"
   },
   {
    "duration": 7,
    "start_time": "2022-12-21T10:23:04.653Z"
   },
   {
    "duration": 6,
    "start_time": "2022-12-21T10:23:04.662Z"
   },
   {
    "duration": 188,
    "start_time": "2022-12-21T10:23:04.669Z"
   },
   {
    "duration": 131,
    "start_time": "2022-12-21T10:23:04.859Z"
   },
   {
    "duration": 13,
    "start_time": "2022-12-21T10:23:04.992Z"
   },
   {
    "duration": 11,
    "start_time": "2022-12-21T10:23:05.006Z"
   },
   {
    "duration": 205,
    "start_time": "2022-12-21T10:23:05.020Z"
   },
   {
    "duration": 192,
    "start_time": "2022-12-21T10:23:05.227Z"
   },
   {
    "duration": 342,
    "start_time": "2022-12-21T10:23:05.421Z"
   },
   {
    "duration": 233,
    "start_time": "2022-12-21T10:23:05.766Z"
   },
   {
    "duration": 372,
    "start_time": "2022-12-21T10:23:06.000Z"
   },
   {
    "duration": 135,
    "start_time": "2022-12-21T10:23:06.374Z"
   },
   {
    "duration": 4,
    "start_time": "2022-12-21T10:23:06.511Z"
   },
   {
    "duration": 151,
    "start_time": "2022-12-21T10:23:06.517Z"
   },
   {
    "duration": 5,
    "start_time": "2022-12-21T10:23:06.670Z"
   },
   {
    "duration": 327,
    "start_time": "2022-12-21T10:23:06.677Z"
   },
   {
    "duration": 147,
    "start_time": "2022-12-21T10:23:07.005Z"
   },
   {
    "duration": 32,
    "start_time": "2022-12-21T10:23:07.153Z"
   },
   {
    "duration": 12,
    "start_time": "2022-12-21T10:23:07.186Z"
   },
   {
    "duration": 39,
    "start_time": "2022-12-21T10:23:07.200Z"
   },
   {
    "duration": 41,
    "start_time": "2022-12-21T10:23:07.241Z"
   },
   {
    "duration": 15,
    "start_time": "2022-12-21T10:23:07.284Z"
   },
   {
    "duration": 136,
    "start_time": "2022-12-21T10:23:43.582Z"
   },
   {
    "duration": 190,
    "start_time": "2022-12-21T10:25:29.325Z"
   },
   {
    "duration": 193,
    "start_time": "2022-12-21T10:25:34.329Z"
   },
   {
    "duration": 198,
    "start_time": "2022-12-21T10:25:47.167Z"
   },
   {
    "duration": 194,
    "start_time": "2022-12-21T10:25:58.656Z"
   },
   {
    "duration": 286,
    "start_time": "2022-12-21T10:26:28.063Z"
   },
   {
    "duration": 352,
    "start_time": "2022-12-21T10:26:38.111Z"
   },
   {
    "duration": 364,
    "start_time": "2022-12-21T10:27:03.694Z"
   },
   {
    "duration": 272,
    "start_time": "2022-12-21T10:27:18.171Z"
   },
   {
    "duration": 212,
    "start_time": "2022-12-21T10:28:01.491Z"
   },
   {
    "duration": 133,
    "start_time": "2022-12-21T10:28:56.844Z"
   },
   {
    "duration": 226,
    "start_time": "2022-12-21T10:29:09.838Z"
   },
   {
    "duration": 202,
    "start_time": "2022-12-21T10:30:57.882Z"
   },
   {
    "duration": 192,
    "start_time": "2022-12-21T10:31:05.970Z"
   },
   {
    "duration": 206,
    "start_time": "2022-12-21T10:31:20.939Z"
   },
   {
    "duration": 190,
    "start_time": "2022-12-21T10:31:29.469Z"
   },
   {
    "duration": 288,
    "start_time": "2022-12-21T10:31:35.488Z"
   },
   {
    "duration": 222,
    "start_time": "2022-12-21T10:31:41.487Z"
   },
   {
    "duration": 318,
    "start_time": "2022-12-21T10:31:47.394Z"
   },
   {
    "duration": 225,
    "start_time": "2022-12-21T10:33:27.741Z"
   },
   {
    "duration": 199,
    "start_time": "2022-12-21T10:33:34.424Z"
   },
   {
    "duration": 216,
    "start_time": "2022-12-21T10:33:46.121Z"
   },
   {
    "duration": 203,
    "start_time": "2022-12-21T10:33:52.987Z"
   },
   {
    "duration": 203,
    "start_time": "2022-12-21T10:34:09.469Z"
   },
   {
    "duration": 211,
    "start_time": "2022-12-21T10:34:44.326Z"
   },
   {
    "duration": 208,
    "start_time": "2022-12-21T10:35:52.091Z"
   },
   {
    "duration": 224,
    "start_time": "2022-12-21T10:35:58.313Z"
   },
   {
    "duration": 208,
    "start_time": "2022-12-21T10:36:31.885Z"
   },
   {
    "duration": 228,
    "start_time": "2022-12-21T10:37:03.429Z"
   },
   {
    "duration": 285,
    "start_time": "2022-12-21T10:37:09.541Z"
   },
   {
    "duration": 205,
    "start_time": "2022-12-21T10:37:40.571Z"
   },
   {
    "duration": 225,
    "start_time": "2022-12-21T10:37:57.726Z"
   },
   {
    "duration": 219,
    "start_time": "2022-12-21T10:38:03.674Z"
   },
   {
    "duration": 205,
    "start_time": "2022-12-21T10:38:18.613Z"
   },
   {
    "duration": 209,
    "start_time": "2022-12-21T10:38:23.761Z"
   },
   {
    "duration": 197,
    "start_time": "2022-12-21T10:38:29.191Z"
   },
   {
    "duration": 195,
    "start_time": "2022-12-21T10:38:33.143Z"
   },
   {
    "duration": 212,
    "start_time": "2022-12-21T10:38:50.481Z"
   },
   {
    "duration": 192,
    "start_time": "2022-12-21T10:38:56.323Z"
   },
   {
    "duration": 199,
    "start_time": "2022-12-21T10:39:00.309Z"
   },
   {
    "duration": 199,
    "start_time": "2022-12-21T10:39:05.606Z"
   },
   {
    "duration": 267,
    "start_time": "2022-12-21T10:40:11.974Z"
   },
   {
    "duration": 204,
    "start_time": "2022-12-21T10:40:18.358Z"
   },
   {
    "duration": 384,
    "start_time": "2022-12-21T10:40:51.276Z"
   },
   {
    "duration": 360,
    "start_time": "2022-12-21T10:40:59.676Z"
   },
   {
    "duration": 275,
    "start_time": "2022-12-21T10:41:07.897Z"
   },
   {
    "duration": 267,
    "start_time": "2022-12-21T10:41:17.542Z"
   },
   {
    "duration": 231,
    "start_time": "2022-12-21T10:41:33.412Z"
   },
   {
    "duration": 262,
    "start_time": "2022-12-21T10:41:49.208Z"
   },
   {
    "duration": 309,
    "start_time": "2022-12-21T10:42:00.679Z"
   },
   {
    "duration": 270,
    "start_time": "2022-12-21T10:42:06.489Z"
   },
   {
    "duration": 381,
    "start_time": "2022-12-21T10:42:14.312Z"
   },
   {
    "duration": 170,
    "start_time": "2022-12-21T10:42:20.446Z"
   },
   {
    "duration": 175,
    "start_time": "2022-12-21T10:42:25.458Z"
   },
   {
    "duration": 4,
    "start_time": "2022-12-21T11:53:36.052Z"
   },
   {
    "duration": 67,
    "start_time": "2022-12-21T11:53:36.059Z"
   },
   {
    "duration": 17,
    "start_time": "2022-12-21T11:53:36.129Z"
   },
   {
    "duration": 56,
    "start_time": "2022-12-21T11:53:36.147Z"
   },
   {
    "duration": 107,
    "start_time": "2022-12-21T11:53:36.206Z"
   },
   {
    "duration": 5,
    "start_time": "2022-12-21T11:53:36.316Z"
   },
   {
    "duration": 52,
    "start_time": "2022-12-21T11:53:36.323Z"
   },
   {
    "duration": 22,
    "start_time": "2022-12-21T11:53:36.377Z"
   },
   {
    "duration": 36,
    "start_time": "2022-12-21T11:53:36.401Z"
   },
   {
    "duration": 220,
    "start_time": "2022-12-21T11:53:36.439Z"
   },
   {
    "duration": 134,
    "start_time": "2022-12-21T11:53:36.661Z"
   },
   {
    "duration": 13,
    "start_time": "2022-12-21T11:53:36.797Z"
   },
   {
    "duration": 29,
    "start_time": "2022-12-21T11:53:36.812Z"
   },
   {
    "duration": 254,
    "start_time": "2022-12-21T11:53:36.845Z"
   },
   {
    "duration": 335,
    "start_time": "2022-12-21T11:53:37.102Z"
   },
   {
    "duration": 357,
    "start_time": "2022-12-21T11:53:37.439Z"
   },
   {
    "duration": 279,
    "start_time": "2022-12-21T11:53:37.798Z"
   },
   {
    "duration": 419,
    "start_time": "2022-12-21T11:53:38.079Z"
   },
   {
    "duration": 183,
    "start_time": "2022-12-21T11:53:38.500Z"
   },
   {
    "duration": 6,
    "start_time": "2022-12-21T11:53:38.685Z"
   },
   {
    "duration": 267,
    "start_time": "2022-12-21T11:53:38.693Z"
   },
   {
    "duration": 6,
    "start_time": "2022-12-21T11:53:38.962Z"
   },
   {
    "duration": 359,
    "start_time": "2022-12-21T11:53:38.971Z"
   },
   {
    "duration": 261,
    "start_time": "2022-12-21T11:53:39.332Z"
   },
   {
    "duration": 44,
    "start_time": "2022-12-21T11:53:39.595Z"
   },
   {
    "duration": 14,
    "start_time": "2022-12-21T11:53:39.641Z"
   },
   {
    "duration": 17,
    "start_time": "2022-12-21T11:53:39.658Z"
   },
   {
    "duration": 90,
    "start_time": "2022-12-21T11:53:39.677Z"
   },
   {
    "duration": 26,
    "start_time": "2022-12-21T11:53:39.769Z"
   },
   {
    "duration": 281,
    "start_time": "2022-12-21T11:55:21.635Z"
   },
   {
    "duration": 376,
    "start_time": "2022-12-21T11:56:16.272Z"
   },
   {
    "duration": 366,
    "start_time": "2022-12-21T11:56:41.344Z"
   },
   {
    "duration": 1320,
    "start_time": "2022-12-21T13:19:30.891Z"
   },
   {
    "duration": 92,
    "start_time": "2022-12-21T13:19:32.213Z"
   },
   {
    "duration": 14,
    "start_time": "2022-12-21T13:19:32.307Z"
   },
   {
    "duration": 19,
    "start_time": "2022-12-21T13:19:32.324Z"
   },
   {
    "duration": 224,
    "start_time": "2022-12-21T13:19:32.345Z"
   },
   {
    "duration": 4,
    "start_time": "2022-12-21T13:19:32.570Z"
   },
   {
    "duration": 34,
    "start_time": "2022-12-21T13:19:32.575Z"
   },
   {
    "duration": 13,
    "start_time": "2022-12-21T13:19:32.611Z"
   },
   {
    "duration": 8,
    "start_time": "2022-12-21T13:19:32.626Z"
   },
   {
    "duration": 206,
    "start_time": "2022-12-21T13:19:32.638Z"
   },
   {
    "duration": 128,
    "start_time": "2022-12-21T13:19:32.845Z"
   },
   {
    "duration": 15,
    "start_time": "2022-12-21T13:19:32.977Z"
   },
   {
    "duration": 17,
    "start_time": "2022-12-21T13:19:32.994Z"
   },
   {
    "duration": 323,
    "start_time": "2022-12-21T13:19:33.013Z"
   },
   {
    "duration": 254,
    "start_time": "2022-12-21T13:19:33.337Z"
   },
   {
    "duration": 465,
    "start_time": "2022-12-21T13:19:33.593Z"
   },
   {
    "duration": 310,
    "start_time": "2022-12-21T13:19:34.060Z"
   },
   {
    "duration": 417,
    "start_time": "2022-12-21T13:19:34.372Z"
   },
   {
    "duration": 217,
    "start_time": "2022-12-21T13:19:34.792Z"
   },
   {
    "duration": 5,
    "start_time": "2022-12-21T13:19:35.010Z"
   },
   {
    "duration": 196,
    "start_time": "2022-12-21T13:19:35.017Z"
   },
   {
    "duration": 4,
    "start_time": "2022-12-21T13:19:35.215Z"
   },
   {
    "duration": 254,
    "start_time": "2022-12-21T13:19:35.221Z"
   },
   {
    "duration": 170,
    "start_time": "2022-12-21T13:19:35.477Z"
   },
   {
    "duration": 43,
    "start_time": "2022-12-21T13:19:35.649Z"
   },
   {
    "duration": 15,
    "start_time": "2022-12-21T13:19:35.694Z"
   },
   {
    "duration": 15,
    "start_time": "2022-12-21T13:19:35.711Z"
   },
   {
    "duration": 35,
    "start_time": "2022-12-21T13:19:35.757Z"
   },
   {
    "duration": 18,
    "start_time": "2022-12-21T13:19:35.794Z"
   },
   {
    "duration": 1205,
    "start_time": "2022-12-22T12:28:19.257Z"
   },
   {
    "duration": 81,
    "start_time": "2022-12-22T12:28:20.463Z"
   },
   {
    "duration": 11,
    "start_time": "2022-12-22T12:28:20.546Z"
   },
   {
    "duration": 15,
    "start_time": "2022-12-22T12:28:20.559Z"
   },
   {
    "duration": 153,
    "start_time": "2022-12-22T12:28:22.786Z"
   },
   {
    "duration": 4,
    "start_time": "2022-12-22T12:28:22.941Z"
   },
   {
    "duration": 18,
    "start_time": "2022-12-22T12:28:23.013Z"
   },
   {
    "duration": 21,
    "start_time": "2022-12-22T12:28:23.033Z"
   },
   {
    "duration": 42,
    "start_time": "2022-12-22T12:28:23.056Z"
   },
   {
    "duration": 153,
    "start_time": "2022-12-22T12:28:26.694Z"
   },
   {
    "duration": 112,
    "start_time": "2022-12-22T12:28:26.849Z"
   },
   {
    "duration": 12,
    "start_time": "2022-12-22T12:28:31.967Z"
   },
   {
    "duration": 20,
    "start_time": "2022-12-22T12:28:31.981Z"
   },
   {
    "duration": 294,
    "start_time": "2022-12-22T12:28:37.667Z"
   },
   {
    "duration": 225,
    "start_time": "2022-12-22T12:28:37.963Z"
   },
   {
    "duration": 379,
    "start_time": "2022-12-22T12:28:38.189Z"
   },
   {
    "duration": 259,
    "start_time": "2022-12-22T12:28:38.570Z"
   },
   {
    "duration": 332,
    "start_time": "2022-12-22T12:28:38.831Z"
   },
   {
    "duration": 150,
    "start_time": "2022-12-22T12:28:41.274Z"
   },
   {
    "duration": 4,
    "start_time": "2022-12-22T12:28:41.426Z"
   },
   {
    "duration": 168,
    "start_time": "2022-12-22T12:28:41.431Z"
   },
   {
    "duration": 4,
    "start_time": "2022-12-22T12:28:41.685Z"
   },
   {
    "duration": 219,
    "start_time": "2022-12-22T12:28:49.933Z"
   },
   {
    "duration": 126,
    "start_time": "2022-12-22T12:28:50.153Z"
   },
   {
    "duration": 25,
    "start_time": "2022-12-22T12:28:50.833Z"
   },
   {
    "duration": 11,
    "start_time": "2022-12-22T12:28:50.860Z"
   },
   {
    "duration": 10,
    "start_time": "2022-12-22T12:28:50.961Z"
   },
   {
    "duration": 26,
    "start_time": "2022-12-22T12:28:51.473Z"
   },
   {
    "duration": 15,
    "start_time": "2022-12-22T12:28:51.500Z"
   }
  ],
  "kernelspec": {
   "display_name": "Python 3 (ipykernel)",
   "language": "python",
   "name": "python3"
  },
  "language_info": {
   "codemirror_mode": {
    "name": "ipython",
    "version": 3
   },
   "file_extension": ".py",
   "mimetype": "text/x-python",
   "name": "python",
   "nbconvert_exporter": "python",
   "pygments_lexer": "ipython3",
   "version": "3.9.12"
  },
  "toc": {
   "base_numbering": 1,
   "nav_menu": {},
   "number_sections": true,
   "sideBar": true,
   "skip_h1_title": true,
   "title_cell": "Table of Contents",
   "title_sidebar": "Contents",
   "toc_cell": false,
   "toc_position": {},
   "toc_section_display": true,
   "toc_window_display": false
  }
 },
 "nbformat": 4,
 "nbformat_minor": 2
}
