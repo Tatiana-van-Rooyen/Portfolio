{
 "cells": [
  {
   "cell_type": "markdown",
   "id": "42b05564",
   "metadata": {},
   "source": [
    "# Оглавление\n",
    "\n",
    "1. [Описание проекта](#description)\n",
    "2. [Предобработка данных](#preprocessing)\n",
    "3. [Анализ корректности данных](#analisys)\n",
    "4. [Исследовательский анализ данных](#research)\n",
    "5. [Анализ результатов А/B теста](#test)\n",
    "5. [Выводы](#summary)"
   ]
  },
  {
   "cell_type": "markdown",
   "id": "024a26eb",
   "metadata": {},
   "source": [
    "# Описание проекта\n",
    "\n",
    "<a id=\"description\"></a>"
   ]
  },
  {
   "cell_type": "markdown",
   "id": "64ec072d",
   "metadata": {},
   "source": [
    "**A/B-тестирование**\n",
    "\n",
    "Цель - тестирование изменений, связанных с внедрением улучшенной рекомендательной системы; Ожидается, что за 14 дней с момента регистрации пользователи покажут улучшение каждой метрики не менее, чем на 10%. Нужно оценить, есть ли значимые улучшения на каждом этапе тестовой воронки. \n",
    "\n",
    "Задача — провести оценку результатов A/B-теста. В нашем распоряжении есть датасет с действиями пользователей, техническое задание и несколько вспомогательных датасетов.\n",
    "\n",
    "- Оценим корректность проведения теста\n",
    "- Проанализируем результаты теста\n",
    "\n",
    "Чтобы оценить корректность проведения теста, проверим:\n",
    "\n",
    "- пересечение тестовой аудитории с конкурирующим тестом,\n",
    "- совпадение теста и маркетинговых событий, другие проблемы временных границ теста.\n",
    "\n",
    "**Техническое задание**\n",
    "\n",
    "- Название теста: `recommender_system_test`;\n",
    "- группы: А — контрольная, B — новая платёжная воронка;\n",
    "- дата запуска: 2020-12-07;\n",
    "- дата остановки набора новых пользователей: 2020-12-21;\n",
    "- дата остановки: 2021-01-04;\n",
    "- аудитория: 15% новых пользователей из региона EU;\n",
    "- назначение теста: тестирование изменений, связанных с внедрением улучшенной рекомендательной системы;\n",
    "- ожидаемое количество участников теста: 6000.\n",
    "- ожидаемый эффект: за 14 дней с момента регистрации пользователи покажут улучшение каждой метрики не менее, чем на 10%:\n",
    "    - конверсии в просмотр карточек товаров — событие `product_page`,\n",
    "    - просмотры корзины — `product_cart`,\n",
    "    - покупки — `purchase`."
   ]
  },
  {
   "cell_type": "markdown",
   "id": "6c714161",
   "metadata": {},
   "source": [
    "# Предобработка данных\n",
    "\n",
    "<a id=\"preprocessing\"></a>"
   ]
  },
  {
   "cell_type": "code",
   "execution_count": 1,
   "id": "fe490383",
   "metadata": {},
   "outputs": [],
   "source": [
    "#импортируем нужные библиотеки \n",
    "import pandas as pd\n",
    "import plotly.express as px\n",
    "import matplotlib.pyplot as plt\n",
    "from datetime import datetime\n",
    "import math as mth\n",
    "import numpy as np\n",
    "import scipy.stats as stats\n",
    "\n"
   ]
  },
  {
   "cell_type": "code",
   "execution_count": 2,
   "id": "b766279e",
   "metadata": {},
   "outputs": [],
   "source": [
    "#запускаем датасет - календарь маркетинговых событий на 2020 год\n",
    "\n",
    "try:\n",
    "    promo = pd.read_csv('https://code.s3.yandex.net//datasets/ab_project_marketing_events.csv')\n",
    "except:\n",
    "     promo = pd.read_csv('/Users/tatanakondrahina/ab_project_marketing_events.csv')"
   ]
  },
  {
   "cell_type": "code",
   "execution_count": 3,
   "id": "0a3d85da",
   "metadata": {},
   "outputs": [
    {
     "data": {
      "text/html": [
       "<div>\n",
       "<style scoped>\n",
       "    .dataframe tbody tr th:only-of-type {\n",
       "        vertical-align: middle;\n",
       "    }\n",
       "\n",
       "    .dataframe tbody tr th {\n",
       "        vertical-align: top;\n",
       "    }\n",
       "\n",
       "    .dataframe thead th {\n",
       "        text-align: right;\n",
       "    }\n",
       "</style>\n",
       "<table border=\"1\" class=\"dataframe\">\n",
       "  <thead>\n",
       "    <tr style=\"text-align: right;\">\n",
       "      <th></th>\n",
       "      <th>name</th>\n",
       "      <th>regions</th>\n",
       "      <th>start_dt</th>\n",
       "      <th>finish_dt</th>\n",
       "    </tr>\n",
       "  </thead>\n",
       "  <tbody>\n",
       "    <tr>\n",
       "      <th>0</th>\n",
       "      <td>Christmas&amp;New Year Promo</td>\n",
       "      <td>EU, N.America</td>\n",
       "      <td>2020-12-25</td>\n",
       "      <td>2021-01-03</td>\n",
       "    </tr>\n",
       "    <tr>\n",
       "      <th>1</th>\n",
       "      <td>St. Valentine's Day Giveaway</td>\n",
       "      <td>EU, CIS, APAC, N.America</td>\n",
       "      <td>2020-02-14</td>\n",
       "      <td>2020-02-16</td>\n",
       "    </tr>\n",
       "    <tr>\n",
       "      <th>2</th>\n",
       "      <td>St. Patric's Day Promo</td>\n",
       "      <td>EU, N.America</td>\n",
       "      <td>2020-03-17</td>\n",
       "      <td>2020-03-19</td>\n",
       "    </tr>\n",
       "    <tr>\n",
       "      <th>3</th>\n",
       "      <td>Easter Promo</td>\n",
       "      <td>EU, CIS, APAC, N.America</td>\n",
       "      <td>2020-04-12</td>\n",
       "      <td>2020-04-19</td>\n",
       "    </tr>\n",
       "    <tr>\n",
       "      <th>4</th>\n",
       "      <td>4th of July Promo</td>\n",
       "      <td>N.America</td>\n",
       "      <td>2020-07-04</td>\n",
       "      <td>2020-07-11</td>\n",
       "    </tr>\n",
       "    <tr>\n",
       "      <th>5</th>\n",
       "      <td>Black Friday Ads Campaign</td>\n",
       "      <td>EU, CIS, APAC, N.America</td>\n",
       "      <td>2020-11-26</td>\n",
       "      <td>2020-12-01</td>\n",
       "    </tr>\n",
       "    <tr>\n",
       "      <th>6</th>\n",
       "      <td>Chinese New Year Promo</td>\n",
       "      <td>APAC</td>\n",
       "      <td>2020-01-25</td>\n",
       "      <td>2020-02-07</td>\n",
       "    </tr>\n",
       "    <tr>\n",
       "      <th>7</th>\n",
       "      <td>Labor day (May 1st) Ads Campaign</td>\n",
       "      <td>EU, CIS, APAC</td>\n",
       "      <td>2020-05-01</td>\n",
       "      <td>2020-05-03</td>\n",
       "    </tr>\n",
       "    <tr>\n",
       "      <th>8</th>\n",
       "      <td>International Women's Day Promo</td>\n",
       "      <td>EU, CIS, APAC</td>\n",
       "      <td>2020-03-08</td>\n",
       "      <td>2020-03-10</td>\n",
       "    </tr>\n",
       "    <tr>\n",
       "      <th>9</th>\n",
       "      <td>Victory Day CIS (May 9th) Event</td>\n",
       "      <td>CIS</td>\n",
       "      <td>2020-05-09</td>\n",
       "      <td>2020-05-11</td>\n",
       "    </tr>\n",
       "    <tr>\n",
       "      <th>10</th>\n",
       "      <td>CIS New Year Gift Lottery</td>\n",
       "      <td>CIS</td>\n",
       "      <td>2020-12-30</td>\n",
       "      <td>2021-01-07</td>\n",
       "    </tr>\n",
       "    <tr>\n",
       "      <th>11</th>\n",
       "      <td>Dragon Boat Festival Giveaway</td>\n",
       "      <td>APAC</td>\n",
       "      <td>2020-06-25</td>\n",
       "      <td>2020-07-01</td>\n",
       "    </tr>\n",
       "    <tr>\n",
       "      <th>12</th>\n",
       "      <td>Single's Day Gift Promo</td>\n",
       "      <td>APAC</td>\n",
       "      <td>2020-11-11</td>\n",
       "      <td>2020-11-12</td>\n",
       "    </tr>\n",
       "    <tr>\n",
       "      <th>13</th>\n",
       "      <td>Chinese Moon Festival</td>\n",
       "      <td>APAC</td>\n",
       "      <td>2020-10-01</td>\n",
       "      <td>2020-10-07</td>\n",
       "    </tr>\n",
       "  </tbody>\n",
       "</table>\n",
       "</div>"
      ],
      "text/plain": [
       "                                name                   regions    start_dt  \\\n",
       "0           Christmas&New Year Promo             EU, N.America  2020-12-25   \n",
       "1       St. Valentine's Day Giveaway  EU, CIS, APAC, N.America  2020-02-14   \n",
       "2             St. Patric's Day Promo             EU, N.America  2020-03-17   \n",
       "3                       Easter Promo  EU, CIS, APAC, N.America  2020-04-12   \n",
       "4                  4th of July Promo                 N.America  2020-07-04   \n",
       "5          Black Friday Ads Campaign  EU, CIS, APAC, N.America  2020-11-26   \n",
       "6             Chinese New Year Promo                      APAC  2020-01-25   \n",
       "7   Labor day (May 1st) Ads Campaign             EU, CIS, APAC  2020-05-01   \n",
       "8    International Women's Day Promo             EU, CIS, APAC  2020-03-08   \n",
       "9    Victory Day CIS (May 9th) Event                       CIS  2020-05-09   \n",
       "10         CIS New Year Gift Lottery                       CIS  2020-12-30   \n",
       "11     Dragon Boat Festival Giveaway                      APAC  2020-06-25   \n",
       "12           Single's Day Gift Promo                      APAC  2020-11-11   \n",
       "13             Chinese Moon Festival                      APAC  2020-10-01   \n",
       "\n",
       "     finish_dt  \n",
       "0   2021-01-03  \n",
       "1   2020-02-16  \n",
       "2   2020-03-19  \n",
       "3   2020-04-19  \n",
       "4   2020-07-11  \n",
       "5   2020-12-01  \n",
       "6   2020-02-07  \n",
       "7   2020-05-03  \n",
       "8   2020-03-10  \n",
       "9   2020-05-11  \n",
       "10  2021-01-07  \n",
       "11  2020-07-01  \n",
       "12  2020-11-12  \n",
       "13  2020-10-07  "
      ]
     },
     "execution_count": 3,
     "metadata": {},
     "output_type": "execute_result"
    }
   ],
   "source": [
    "#просматриваем датасет\n",
    "promo"
   ]
  },
  {
   "cell_type": "code",
   "execution_count": 4,
   "id": "2804c47d",
   "metadata": {},
   "outputs": [
    {
     "name": "stdout",
     "output_type": "stream",
     "text": [
      "<class 'pandas.core.frame.DataFrame'>\n",
      "RangeIndex: 14 entries, 0 to 13\n",
      "Data columns (total 4 columns):\n",
      " #   Column     Non-Null Count  Dtype \n",
      "---  ------     --------------  ----- \n",
      " 0   name       14 non-null     object\n",
      " 1   regions    14 non-null     object\n",
      " 2   start_dt   14 non-null     object\n",
      " 3   finish_dt  14 non-null     object\n",
      "dtypes: object(4)\n",
      "memory usage: 576.0+ bytes\n"
     ]
    }
   ],
   "source": [
    "#смотрим общие данные о датасете\n",
    "promo.info()"
   ]
  },
  {
   "cell_type": "markdown",
   "id": "bf3353db",
   "metadata": {},
   "source": [
    "Пропусков нет. Колонки с датами start_dt и finish_dt нужно привести к формату даты: "
   ]
  },
  {
   "cell_type": "code",
   "execution_count": 5,
   "id": "e63b9594",
   "metadata": {},
   "outputs": [],
   "source": [
    "promo['start_dt'] = pd.to_datetime(promo['start_dt'],format=\"%Y/%m/%d\")\n",
    "promo['finish_dt'] = pd.to_datetime(promo['finish_dt'],format=\"%Y/%m/%d\")"
   ]
  },
  {
   "cell_type": "code",
   "execution_count": 6,
   "id": "92ce72be",
   "metadata": {},
   "outputs": [
    {
     "data": {
      "text/html": [
       "<div>\n",
       "<style scoped>\n",
       "    .dataframe tbody tr th:only-of-type {\n",
       "        vertical-align: middle;\n",
       "    }\n",
       "\n",
       "    .dataframe tbody tr th {\n",
       "        vertical-align: top;\n",
       "    }\n",
       "\n",
       "    .dataframe thead th {\n",
       "        text-align: right;\n",
       "    }\n",
       "</style>\n",
       "<table border=\"1\" class=\"dataframe\">\n",
       "  <thead>\n",
       "    <tr style=\"text-align: right;\">\n",
       "      <th></th>\n",
       "      <th>user_id</th>\n",
       "      <th>first_date</th>\n",
       "      <th>region</th>\n",
       "      <th>device</th>\n",
       "    </tr>\n",
       "  </thead>\n",
       "  <tbody>\n",
       "    <tr>\n",
       "      <th>0</th>\n",
       "      <td>D72A72121175D8BE</td>\n",
       "      <td>2020-12-07</td>\n",
       "      <td>EU</td>\n",
       "      <td>PC</td>\n",
       "    </tr>\n",
       "    <tr>\n",
       "      <th>1</th>\n",
       "      <td>F1C668619DFE6E65</td>\n",
       "      <td>2020-12-07</td>\n",
       "      <td>N.America</td>\n",
       "      <td>Android</td>\n",
       "    </tr>\n",
       "    <tr>\n",
       "      <th>2</th>\n",
       "      <td>2E1BF1D4C37EA01F</td>\n",
       "      <td>2020-12-07</td>\n",
       "      <td>EU</td>\n",
       "      <td>PC</td>\n",
       "    </tr>\n",
       "    <tr>\n",
       "      <th>3</th>\n",
       "      <td>50734A22C0C63768</td>\n",
       "      <td>2020-12-07</td>\n",
       "      <td>EU</td>\n",
       "      <td>iPhone</td>\n",
       "    </tr>\n",
       "    <tr>\n",
       "      <th>4</th>\n",
       "      <td>E1BDDCE0DAFA2679</td>\n",
       "      <td>2020-12-07</td>\n",
       "      <td>N.America</td>\n",
       "      <td>iPhone</td>\n",
       "    </tr>\n",
       "  </tbody>\n",
       "</table>\n",
       "</div>"
      ],
      "text/plain": [
       "            user_id  first_date     region   device\n",
       "0  D72A72121175D8BE  2020-12-07         EU       PC\n",
       "1  F1C668619DFE6E65  2020-12-07  N.America  Android\n",
       "2  2E1BF1D4C37EA01F  2020-12-07         EU       PC\n",
       "3  50734A22C0C63768  2020-12-07         EU   iPhone\n",
       "4  E1BDDCE0DAFA2679  2020-12-07  N.America   iPhone"
      ]
     },
     "execution_count": 6,
     "metadata": {},
     "output_type": "execute_result"
    }
   ],
   "source": [
    "#запускаем датасет по пользователям, зарегистрировавшимся с 7 по 21 декабря 2020 \n",
    "\n",
    "try:\n",
    "    new_users = pd.read_csv('https://code.s3.yandex.net//datasets/final_ab_new_users.csv')\n",
    "except:\n",
    "    new_users = pd.read_csv('/Users/tatanakondrahina/final_ab_new_users.csv')\n",
    "\n",
    "#просматриваем часть датасета    \n",
    "new_users.head()    "
   ]
  },
  {
   "cell_type": "code",
   "execution_count": 7,
   "id": "82245bf5",
   "metadata": {},
   "outputs": [
    {
     "name": "stdout",
     "output_type": "stream",
     "text": [
      "<class 'pandas.core.frame.DataFrame'>\n",
      "RangeIndex: 61733 entries, 0 to 61732\n",
      "Data columns (total 4 columns):\n",
      " #   Column      Non-Null Count  Dtype \n",
      "---  ------      --------------  ----- \n",
      " 0   user_id     61733 non-null  object\n",
      " 1   first_date  61733 non-null  object\n",
      " 2   region      61733 non-null  object\n",
      " 3   device      61733 non-null  object\n",
      "dtypes: object(4)\n",
      "memory usage: 1.9+ MB\n"
     ]
    }
   ],
   "source": [
    "#смотрим общие данные о датасете\n",
    "new_users.info()"
   ]
  },
  {
   "cell_type": "markdown",
   "id": "400e54b0",
   "metadata": {},
   "source": [
    "Пропусков нет. Колонку с датой first_date нужно привести к формату даты: "
   ]
  },
  {
   "cell_type": "code",
   "execution_count": 8,
   "id": "ded548ae",
   "metadata": {},
   "outputs": [],
   "source": [
    "new_users['first_date'] = pd.to_datetime(new_users['first_date'],format=\"%Y/%m/%d\")"
   ]
  },
  {
   "cell_type": "code",
   "execution_count": 9,
   "id": "0cc5b03a",
   "metadata": {
    "scrolled": true
   },
   "outputs": [
    {
     "data": {
      "text/plain": [
       "0"
      ]
     },
     "execution_count": 9,
     "metadata": {},
     "output_type": "execute_result"
    }
   ],
   "source": [
    "#проверяем датасет на явные дубликаты\n",
    "new_users.duplicated().sum()"
   ]
  },
  {
   "cell_type": "code",
   "execution_count": 10,
   "id": "02ed887d",
   "metadata": {},
   "outputs": [
    {
     "data": {
      "text/html": [
       "<div>\n",
       "<style scoped>\n",
       "    .dataframe tbody tr th:only-of-type {\n",
       "        vertical-align: middle;\n",
       "    }\n",
       "\n",
       "    .dataframe tbody tr th {\n",
       "        vertical-align: top;\n",
       "    }\n",
       "\n",
       "    .dataframe thead th {\n",
       "        text-align: right;\n",
       "    }\n",
       "</style>\n",
       "<table border=\"1\" class=\"dataframe\">\n",
       "  <thead>\n",
       "    <tr style=\"text-align: right;\">\n",
       "      <th></th>\n",
       "      <th>user_id</th>\n",
       "      <th>event_dt</th>\n",
       "      <th>event_name</th>\n",
       "      <th>details</th>\n",
       "    </tr>\n",
       "  </thead>\n",
       "  <tbody>\n",
       "    <tr>\n",
       "      <th>0</th>\n",
       "      <td>E1BDDCE0DAFA2679</td>\n",
       "      <td>2020-12-07 20:22:03</td>\n",
       "      <td>purchase</td>\n",
       "      <td>99.99</td>\n",
       "    </tr>\n",
       "    <tr>\n",
       "      <th>1</th>\n",
       "      <td>7B6452F081F49504</td>\n",
       "      <td>2020-12-07 09:22:53</td>\n",
       "      <td>purchase</td>\n",
       "      <td>9.99</td>\n",
       "    </tr>\n",
       "    <tr>\n",
       "      <th>2</th>\n",
       "      <td>9CD9F34546DF254C</td>\n",
       "      <td>2020-12-07 12:59:29</td>\n",
       "      <td>purchase</td>\n",
       "      <td>4.99</td>\n",
       "    </tr>\n",
       "    <tr>\n",
       "      <th>3</th>\n",
       "      <td>96F27A054B191457</td>\n",
       "      <td>2020-12-07 04:02:40</td>\n",
       "      <td>purchase</td>\n",
       "      <td>4.99</td>\n",
       "    </tr>\n",
       "    <tr>\n",
       "      <th>4</th>\n",
       "      <td>1FD7660FDF94CA1F</td>\n",
       "      <td>2020-12-07 10:15:09</td>\n",
       "      <td>purchase</td>\n",
       "      <td>4.99</td>\n",
       "    </tr>\n",
       "  </tbody>\n",
       "</table>\n",
       "</div>"
      ],
      "text/plain": [
       "            user_id             event_dt event_name  details\n",
       "0  E1BDDCE0DAFA2679  2020-12-07 20:22:03   purchase    99.99\n",
       "1  7B6452F081F49504  2020-12-07 09:22:53   purchase     9.99\n",
       "2  9CD9F34546DF254C  2020-12-07 12:59:29   purchase     4.99\n",
       "3  96F27A054B191457  2020-12-07 04:02:40   purchase     4.99\n",
       "4  1FD7660FDF94CA1F  2020-12-07 10:15:09   purchase     4.99"
      ]
     },
     "execution_count": 10,
     "metadata": {},
     "output_type": "execute_result"
    }
   ],
   "source": [
    "#запускаем датасет - действия новых пользователей в период с 7 декабря 2020 по 4 января 2021 года\n",
    "\n",
    "try:\n",
    "    events = pd.read_csv('https://code.s3.yandex.net//datasets/final_ab_events.csv')\n",
    "except:\n",
    "    events = pd.read_csv('/Users/tatanakondrahina/final_ab_events.csv')\n",
    "\n",
    "#просматриваем часть датасета     \n",
    "events.head() "
   ]
  },
  {
   "cell_type": "code",
   "execution_count": 11,
   "id": "91cfc3bf",
   "metadata": {},
   "outputs": [
    {
     "name": "stdout",
     "output_type": "stream",
     "text": [
      "<class 'pandas.core.frame.DataFrame'>\n",
      "RangeIndex: 440317 entries, 0 to 440316\n",
      "Data columns (total 4 columns):\n",
      " #   Column      Non-Null Count   Dtype  \n",
      "---  ------      --------------   -----  \n",
      " 0   user_id     440317 non-null  object \n",
      " 1   event_dt    440317 non-null  object \n",
      " 2   event_name  440317 non-null  object \n",
      " 3   details     62740 non-null   float64\n",
      "dtypes: float64(1), object(3)\n",
      "memory usage: 13.4+ MB\n"
     ]
    }
   ],
   "source": [
    "#смотрим общие данные о датасете\n",
    "events.info()"
   ]
  },
  {
   "cell_type": "markdown",
   "id": "db35595e",
   "metadata": {},
   "source": [
    "Есть пропуски в колонке details, заполнить их невозможно, оставляем, как есть. Колонку с датой event_dt  нужно привести к формату даты: "
   ]
  },
  {
   "cell_type": "code",
   "execution_count": 12,
   "id": "2057cab5",
   "metadata": {},
   "outputs": [],
   "source": [
    "events['event_dt'] = pd.to_datetime(events['event_dt'],format=\"%Y-%m-%d\")\n",
    "\n",
    "#создадим столбец с датой, так как не получается избавиться от временной части , а далее понадобится группировка по дате\n",
    "events['event_day'] = events['event_dt'].dt.date"
   ]
  },
  {
   "cell_type": "code",
   "execution_count": 13,
   "id": "f92e8952",
   "metadata": {},
   "outputs": [
    {
     "data": {
      "text/plain": [
       "0"
      ]
     },
     "execution_count": 13,
     "metadata": {},
     "output_type": "execute_result"
    }
   ],
   "source": [
    "#проверяем датасет на явные дубликаты\n",
    "events.duplicated().sum()"
   ]
  },
  {
   "cell_type": "code",
   "execution_count": 14,
   "id": "60e8d3d5",
   "metadata": {},
   "outputs": [
    {
     "data": {
      "text/html": [
       "<div>\n",
       "<style scoped>\n",
       "    .dataframe tbody tr th:only-of-type {\n",
       "        vertical-align: middle;\n",
       "    }\n",
       "\n",
       "    .dataframe tbody tr th {\n",
       "        vertical-align: top;\n",
       "    }\n",
       "\n",
       "    .dataframe thead th {\n",
       "        text-align: right;\n",
       "    }\n",
       "</style>\n",
       "<table border=\"1\" class=\"dataframe\">\n",
       "  <thead>\n",
       "    <tr style=\"text-align: right;\">\n",
       "      <th></th>\n",
       "      <th>user_id</th>\n",
       "      <th>group</th>\n",
       "      <th>ab_test</th>\n",
       "    </tr>\n",
       "  </thead>\n",
       "  <tbody>\n",
       "    <tr>\n",
       "      <th>0</th>\n",
       "      <td>D1ABA3E2887B6A73</td>\n",
       "      <td>A</td>\n",
       "      <td>recommender_system_test</td>\n",
       "    </tr>\n",
       "    <tr>\n",
       "      <th>1</th>\n",
       "      <td>A7A3664BD6242119</td>\n",
       "      <td>A</td>\n",
       "      <td>recommender_system_test</td>\n",
       "    </tr>\n",
       "    <tr>\n",
       "      <th>2</th>\n",
       "      <td>DABC14FDDFADD29E</td>\n",
       "      <td>A</td>\n",
       "      <td>recommender_system_test</td>\n",
       "    </tr>\n",
       "    <tr>\n",
       "      <th>3</th>\n",
       "      <td>04988C5DF189632E</td>\n",
       "      <td>A</td>\n",
       "      <td>recommender_system_test</td>\n",
       "    </tr>\n",
       "    <tr>\n",
       "      <th>4</th>\n",
       "      <td>482F14783456D21B</td>\n",
       "      <td>B</td>\n",
       "      <td>recommender_system_test</td>\n",
       "    </tr>\n",
       "  </tbody>\n",
       "</table>\n",
       "</div>"
      ],
      "text/plain": [
       "            user_id group                  ab_test\n",
       "0  D1ABA3E2887B6A73     A  recommender_system_test\n",
       "1  A7A3664BD6242119     A  recommender_system_test\n",
       "2  DABC14FDDFADD29E     A  recommender_system_test\n",
       "3  04988C5DF189632E     A  recommender_system_test\n",
       "4  482F14783456D21B     B  recommender_system_test"
      ]
     },
     "execution_count": 14,
     "metadata": {},
     "output_type": "execute_result"
    }
   ],
   "source": [
    "#запускаем датасет - таблица участников тестов.\n",
    "\n",
    "try:\n",
    "    members = pd.read_csv('https://code.s3.yandex.net//datasets/final_ab_participants.csv')\n",
    "except:\n",
    "    members = pd.read_csv('/Users/tatanakondrahina/final_ab_participants.csv')\n",
    "\n",
    "#просматриваем часть датасета     \n",
    "members.head() "
   ]
  },
  {
   "cell_type": "code",
   "execution_count": 15,
   "id": "29bc0787",
   "metadata": {},
   "outputs": [
    {
     "name": "stdout",
     "output_type": "stream",
     "text": [
      "<class 'pandas.core.frame.DataFrame'>\n",
      "RangeIndex: 18268 entries, 0 to 18267\n",
      "Data columns (total 3 columns):\n",
      " #   Column   Non-Null Count  Dtype \n",
      "---  ------   --------------  ----- \n",
      " 0   user_id  18268 non-null  object\n",
      " 1   group    18268 non-null  object\n",
      " 2   ab_test  18268 non-null  object\n",
      "dtypes: object(3)\n",
      "memory usage: 428.3+ KB\n"
     ]
    }
   ],
   "source": [
    "#смотрим общие данные о датасете\n",
    "members.info()"
   ]
  },
  {
   "cell_type": "markdown",
   "id": "f18a3f7f",
   "metadata": {},
   "source": [
    "Пропусков нет. Форматы колонок корректные. "
   ]
  },
  {
   "cell_type": "code",
   "execution_count": 16,
   "id": "8d5bc8e8",
   "metadata": {},
   "outputs": [
    {
     "data": {
      "text/plain": [
       "0"
      ]
     },
     "execution_count": 16,
     "metadata": {},
     "output_type": "execute_result"
    }
   ],
   "source": [
    "#проверяем датасет на явные дубликаты\n",
    "members.duplicated().sum()"
   ]
  },
  {
   "cell_type": "markdown",
   "id": "15b76ca5",
   "metadata": {},
   "source": [
    "# Анализ корректности данных\n",
    "\n",
    "<a id=\"analysis\"></a>"
   ]
  },
  {
   "cell_type": "markdown",
   "id": "6c4465d1",
   "metadata": {},
   "source": [
    "Проверим корректность всех пунктов технического задания.\n"
   ]
  },
  {
   "cell_type": "markdown",
   "id": "de3c79ab",
   "metadata": {},
   "source": [
    "Проверим дату начала теста. Должна быть 2020-12-07."
   ]
  },
  {
   "cell_type": "code",
   "execution_count": 17,
   "id": "42f4e75b",
   "metadata": {},
   "outputs": [
    {
     "data": {
      "text/plain": [
       "Timestamp('2020-12-07 00:00:00')"
      ]
     },
     "execution_count": 17,
     "metadata": {},
     "output_type": "execute_result"
    }
   ],
   "source": [
    "new_users['first_date'].min()"
   ]
  },
  {
   "cell_type": "markdown",
   "id": "5819a461",
   "metadata": {},
   "source": [
    "Дата начала теста верная. Проверим дату окончания набора новых пользователей. Должна быть 2020-12-21."
   ]
  },
  {
   "cell_type": "code",
   "execution_count": 18,
   "id": "a9e9c073",
   "metadata": {},
   "outputs": [
    {
     "data": {
      "text/plain": [
       "Timestamp('2020-12-23 00:00:00')"
      ]
     },
     "execution_count": 18,
     "metadata": {},
     "output_type": "execute_result"
    }
   ],
   "source": [
    "new_users['first_date'].max()"
   ]
  },
  {
   "cell_type": "markdown",
   "id": "1464109b",
   "metadata": {},
   "source": [
    "Фактическая дата окончания набора новых пользователей не совпадает с ТЗ. **Необходимо \"отрезать\" пользователей, которые были зарегистрированы после 21 декабря.** \n",
    "\n",
    "Дата остановки теста должна быть 2021-01-04. Посмотрим, так ли это: "
   ]
  },
  {
   "cell_type": "code",
   "execution_count": 19,
   "id": "c9cf8283",
   "metadata": {},
   "outputs": [
    {
     "data": {
      "text/plain": [
       "Timestamp('2020-12-30 23:36:33')"
      ]
     },
     "execution_count": 19,
     "metadata": {},
     "output_type": "execute_result"
    }
   ],
   "source": [
    "events['event_dt'].max()"
   ]
  },
  {
   "cell_type": "markdown",
   "id": "36ea2075",
   "metadata": {},
   "source": [
    "Тест был завершен несколько раньше, чем должен был быть по ТЗ. Дата последгних зарегистрированных событийи 30 декабря. С этим мы уже ничего сделать не сможем. Будем работаь с имеющимися данными. \n",
    "\n",
    "Аудитория теста должны быть: 15% новых пользователей из региона EU. Для начала мы оставим в таблице new_users только тех, кто был зарегистрирован до 21 декабря включительно. Затем проверим наличие 15% пользователей из Европы, предварительно соединив таблицу new_users (новые пользователи) и  members (участники теста), чтобы понимать, кто из какого региона. "
   ]
  },
  {
   "cell_type": "code",
   "execution_count": 20,
   "id": "f78da7d8",
   "metadata": {},
   "outputs": [
    {
     "data": {
      "text/plain": [
       "region\n",
       "APAC           35\n",
       "CIS            30\n",
       "EU           7596\n",
       "N.America      95\n",
       "Name: user_id, dtype: int64"
      ]
     },
     "execution_count": 20,
     "metadata": {},
     "output_type": "execute_result"
    }
   ],
   "source": [
    "#оставляем в таблице только тех, кто был зарегитрирован до 21 декабря включительно, как в ТЗ.\n",
    "\n",
    "new_users= new_users.query('first_date<=\"2020-12-21 00:00:00\"')\n",
    "\n",
    "\n",
    "#соединим таблицы new_users и members, создав новую таблицу users\n",
    "\n",
    "users = members.merge(new_users)\n",
    "\n",
    "#проверим % пользователей из региона EU\n",
    "\n",
    "users.query('group==\"B\"').groupby('region')['user_id'].nunique()"
   ]
  },
  {
   "cell_type": "markdown",
   "id": "ada80bb8",
   "metadata": {},
   "source": [
    "Без дополнительных расчетво видно, что пользователей из региона EU гораздо больше 15%. Значит получается, что пользователи для теста отобраны некорректно. "
   ]
  },
  {
   "cell_type": "code",
   "execution_count": 21,
   "id": "3e31f96c",
   "metadata": {},
   "outputs": [
    {
     "data": {
      "text/html": [
       "<div>\n",
       "<style scoped>\n",
       "    .dataframe tbody tr th:only-of-type {\n",
       "        vertical-align: middle;\n",
       "    }\n",
       "\n",
       "    .dataframe tbody tr th {\n",
       "        vertical-align: top;\n",
       "    }\n",
       "\n",
       "    .dataframe thead th {\n",
       "        text-align: right;\n",
       "    }\n",
       "</style>\n",
       "<table border=\"1\" class=\"dataframe\">\n",
       "  <thead>\n",
       "    <tr style=\"text-align: right;\">\n",
       "      <th></th>\n",
       "      <th>user_id</th>\n",
       "      <th>first_date</th>\n",
       "      <th>region</th>\n",
       "      <th>device</th>\n",
       "    </tr>\n",
       "  </thead>\n",
       "  <tbody>\n",
       "    <tr>\n",
       "      <th>0</th>\n",
       "      <td>D72A72121175D8BE</td>\n",
       "      <td>2020-12-07</td>\n",
       "      <td>EU</td>\n",
       "      <td>PC</td>\n",
       "    </tr>\n",
       "    <tr>\n",
       "      <th>1</th>\n",
       "      <td>F1C668619DFE6E65</td>\n",
       "      <td>2020-12-07</td>\n",
       "      <td>N.America</td>\n",
       "      <td>Android</td>\n",
       "    </tr>\n",
       "    <tr>\n",
       "      <th>2</th>\n",
       "      <td>2E1BF1D4C37EA01F</td>\n",
       "      <td>2020-12-07</td>\n",
       "      <td>EU</td>\n",
       "      <td>PC</td>\n",
       "    </tr>\n",
       "    <tr>\n",
       "      <th>3</th>\n",
       "      <td>50734A22C0C63768</td>\n",
       "      <td>2020-12-07</td>\n",
       "      <td>EU</td>\n",
       "      <td>iPhone</td>\n",
       "    </tr>\n",
       "    <tr>\n",
       "      <th>4</th>\n",
       "      <td>E1BDDCE0DAFA2679</td>\n",
       "      <td>2020-12-07</td>\n",
       "      <td>N.America</td>\n",
       "      <td>iPhone</td>\n",
       "    </tr>\n",
       "  </tbody>\n",
       "</table>\n",
       "</div>"
      ],
      "text/plain": [
       "            user_id first_date     region   device\n",
       "0  D72A72121175D8BE 2020-12-07         EU       PC\n",
       "1  F1C668619DFE6E65 2020-12-07  N.America  Android\n",
       "2  2E1BF1D4C37EA01F 2020-12-07         EU       PC\n",
       "3  50734A22C0C63768 2020-12-07         EU   iPhone\n",
       "4  E1BDDCE0DAFA2679 2020-12-07  N.America   iPhone"
      ]
     },
     "execution_count": 21,
     "metadata": {},
     "output_type": "execute_result"
    }
   ],
   "source": [
    "new_users.head()"
   ]
  },
  {
   "cell_type": "markdown",
   "id": "11e7ad84",
   "metadata": {},
   "source": [
    "Ожидаемое количество участников теста: 6000. Проверим, сколько участников теста удалось набрать фактически: "
   ]
  },
  {
   "cell_type": "code",
   "execution_count": 22,
   "id": "aa469429",
   "metadata": {},
   "outputs": [
    {
     "data": {
      "text/plain": [
       "8269"
      ]
     },
     "execution_count": 22,
     "metadata": {},
     "output_type": "execute_result"
    }
   ],
   "source": [
    "members.query('group==\"B\"')['user_id'].nunique()"
   ]
  },
  {
   "cell_type": "markdown",
   "id": "ae829e82",
   "metadata": {},
   "source": [
    "Фактически группа пользователей , принявших участие в тесте (группа В), составила 8269, что больше ожидаемой величины."
   ]
  },
  {
   "cell_type": "markdown",
   "id": "9ec3e41b",
   "metadata": {},
   "source": [
    "Убедимся, что время теста не совпадает с маркетинговыми и другими активностями."
   ]
  },
  {
   "cell_type": "code",
   "execution_count": 23,
   "id": "bc8827cc",
   "metadata": {},
   "outputs": [
    {
     "data": {
      "text/html": [
       "<div>\n",
       "<style scoped>\n",
       "    .dataframe tbody tr th:only-of-type {\n",
       "        vertical-align: middle;\n",
       "    }\n",
       "\n",
       "    .dataframe tbody tr th {\n",
       "        vertical-align: top;\n",
       "    }\n",
       "\n",
       "    .dataframe thead th {\n",
       "        text-align: right;\n",
       "    }\n",
       "</style>\n",
       "<table border=\"1\" class=\"dataframe\">\n",
       "  <thead>\n",
       "    <tr style=\"text-align: right;\">\n",
       "      <th></th>\n",
       "      <th>name</th>\n",
       "      <th>regions</th>\n",
       "      <th>start_dt</th>\n",
       "      <th>finish_dt</th>\n",
       "    </tr>\n",
       "  </thead>\n",
       "  <tbody>\n",
       "    <tr>\n",
       "      <th>0</th>\n",
       "      <td>Christmas&amp;New Year Promo</td>\n",
       "      <td>EU, N.America</td>\n",
       "      <td>2020-12-25</td>\n",
       "      <td>2021-01-03</td>\n",
       "    </tr>\n",
       "  </tbody>\n",
       "</table>\n",
       "</div>"
      ],
      "text/plain": [
       "                       name        regions   start_dt  finish_dt\n",
       "0  Christmas&New Year Promo  EU, N.America 2020-12-25 2021-01-03"
      ]
     },
     "execution_count": 23,
     "metadata": {},
     "output_type": "execute_result"
    }
   ],
   "source": [
    "promo.query('start_dt>=\"2020-12-21 00:00:00\" & finish_dt<=\"2021-01-04 00:00:00\"')"
   ]
  },
  {
   "cell_type": "markdown",
   "id": "70d47f4c",
   "metadata": {},
   "source": [
    "На время проведения теста пришлась одна промо-активность, которая проходила в регионах EU и N.America в период с 25 декабря 2020 г по 3 января 2021 г. Это могло повлиять на результат.  "
   ]
  },
  {
   "cell_type": "markdown",
   "id": "d296179f",
   "metadata": {},
   "source": [
    "Проверим аудиторию теста. Удостоверимся, что нет пересечений с конкурирующим тестом и нет пользователей, участвующих в двух группах теста одновременно. Проверьте равномерность распределения по тестовым группам и правильность их формирования."
   ]
  },
  {
   "cell_type": "code",
   "execution_count": 24,
   "id": "f37b2b7e",
   "metadata": {},
   "outputs": [
    {
     "data": {
      "text/plain": [
       "array(['A', 'B'], dtype=object)"
      ]
     },
     "execution_count": 24,
     "metadata": {},
     "output_type": "execute_result"
    }
   ],
   "source": [
    "#проверяем количество тестов\n",
    "users['group'].unique()"
   ]
  },
  {
   "cell_type": "markdown",
   "id": "2ebf3430",
   "metadata": {},
   "source": [
    "Тестов всего два. Конкурирующий тест отсутствует. Остается проверить, есть ли пересечения между группами А и В. "
   ]
  },
  {
   "cell_type": "code",
   "execution_count": 25,
   "id": "af1822ec",
   "metadata": {},
   "outputs": [],
   "source": [
    "#найдем и отберем пользователей, которые встречались в двух группах\n",
    "double=users.pivot_table(index='user_id',values='group', aggfunc='count').reset_index()\n",
    "double=double.query('group>=2')\n",
    "list_1=double['user_id'].to_list()"
   ]
  },
  {
   "cell_type": "markdown",
   "id": "2f266ac2",
   "metadata": {},
   "source": [
    "Удалим таких пользователей из таблицы users"
   ]
  },
  {
   "cell_type": "code",
   "execution_count": 26,
   "id": "988b2f0c",
   "metadata": {},
   "outputs": [],
   "source": [
    "users=users.query('user_id not in @list_1')"
   ]
  },
  {
   "cell_type": "markdown",
   "id": "0230f657",
   "metadata": {},
   "source": [
    "Проверим равномерность распределения по тестовым группам и правильность их формирования."
   ]
  },
  {
   "cell_type": "code",
   "execution_count": 27,
   "id": "1434f96e",
   "metadata": {},
   "outputs": [
    {
     "data": {
      "text/html": [
       "<div>\n",
       "<style scoped>\n",
       "    .dataframe tbody tr th:only-of-type {\n",
       "        vertical-align: middle;\n",
       "    }\n",
       "\n",
       "    .dataframe tbody tr th {\n",
       "        vertical-align: top;\n",
       "    }\n",
       "\n",
       "    .dataframe thead th {\n",
       "        text-align: right;\n",
       "    }\n",
       "</style>\n",
       "<table border=\"1\" class=\"dataframe\">\n",
       "  <thead>\n",
       "    <tr style=\"text-align: right;\">\n",
       "      <th></th>\n",
       "      <th>user_id</th>\n",
       "      <th>ab_test</th>\n",
       "      <th>first_date</th>\n",
       "      <th>region</th>\n",
       "      <th>device</th>\n",
       "    </tr>\n",
       "    <tr>\n",
       "      <th>group</th>\n",
       "      <th></th>\n",
       "      <th></th>\n",
       "      <th></th>\n",
       "      <th></th>\n",
       "      <th></th>\n",
       "    </tr>\n",
       "  </thead>\n",
       "  <tbody>\n",
       "    <tr>\n",
       "      <th>A</th>\n",
       "      <td>7426</td>\n",
       "      <td>7426</td>\n",
       "      <td>7426</td>\n",
       "      <td>7426</td>\n",
       "      <td>7426</td>\n",
       "    </tr>\n",
       "    <tr>\n",
       "      <th>B</th>\n",
       "      <td>6636</td>\n",
       "      <td>6636</td>\n",
       "      <td>6636</td>\n",
       "      <td>6636</td>\n",
       "      <td>6636</td>\n",
       "    </tr>\n",
       "  </tbody>\n",
       "</table>\n",
       "</div>"
      ],
      "text/plain": [
       "       user_id  ab_test  first_date  region  device\n",
       "group                                              \n",
       "A         7426     7426        7426    7426    7426\n",
       "B         6636     6636        6636    6636    6636"
      ]
     },
     "execution_count": 27,
     "metadata": {},
     "output_type": "execute_result"
    }
   ],
   "source": [
    "users.groupby('group').count()"
   ]
  },
  {
   "cell_type": "markdown",
   "id": "e6faac61",
   "metadata": {},
   "source": [
    "Пользователи распределены по группам боле менее одинаково"
   ]
  },
  {
   "cell_type": "markdown",
   "id": "46b595de",
   "metadata": {},
   "source": [
    "# Исследовательский анализ данных\n",
    "\n",
    "<a id=\"research\"></a>"
   ]
  },
  {
   "cell_type": "markdown",
   "id": "1d59ed5d",
   "metadata": {},
   "source": [
    "Проведем исследовательский анализ данных:\n",
    " - Количество событий на пользователя одинаково распределены в выборках?\n",
    " - Как число событий в выборках распределено по дням?\n",
    " - Как меняется конверсия в воронке в выборках на разных этапах?\n",
    " - Какие особенности данных нужно учесть, прежде чем приступать к A/B-тестированию?"
   ]
  },
  {
   "cell_type": "code",
   "execution_count": 28,
   "id": "d12a1b55",
   "metadata": {},
   "outputs": [
    {
     "data": {
      "text/html": [
       "<div>\n",
       "<style scoped>\n",
       "    .dataframe tbody tr th:only-of-type {\n",
       "        vertical-align: middle;\n",
       "    }\n",
       "\n",
       "    .dataframe tbody tr th {\n",
       "        vertical-align: top;\n",
       "    }\n",
       "\n",
       "    .dataframe thead th {\n",
       "        text-align: right;\n",
       "    }\n",
       "</style>\n",
       "<table border=\"1\" class=\"dataframe\">\n",
       "  <thead>\n",
       "    <tr style=\"text-align: right;\">\n",
       "      <th></th>\n",
       "      <th>user_id</th>\n",
       "      <th>group</th>\n",
       "      <th>ab_test</th>\n",
       "      <th>first_date</th>\n",
       "      <th>region</th>\n",
       "      <th>device</th>\n",
       "      <th>event_dt</th>\n",
       "      <th>event_name</th>\n",
       "      <th>details</th>\n",
       "      <th>event_day</th>\n",
       "    </tr>\n",
       "  </thead>\n",
       "  <tbody>\n",
       "    <tr>\n",
       "      <th>0</th>\n",
       "      <td>D1ABA3E2887B6A73</td>\n",
       "      <td>A</td>\n",
       "      <td>recommender_system_test</td>\n",
       "      <td>2020-12-07</td>\n",
       "      <td>EU</td>\n",
       "      <td>PC</td>\n",
       "      <td>2020-12-07 14:43:27</td>\n",
       "      <td>purchase</td>\n",
       "      <td>99.99</td>\n",
       "      <td>2020-12-07</td>\n",
       "    </tr>\n",
       "    <tr>\n",
       "      <th>1</th>\n",
       "      <td>D1ABA3E2887B6A73</td>\n",
       "      <td>A</td>\n",
       "      <td>recommender_system_test</td>\n",
       "      <td>2020-12-07</td>\n",
       "      <td>EU</td>\n",
       "      <td>PC</td>\n",
       "      <td>2020-12-25 00:04:56</td>\n",
       "      <td>purchase</td>\n",
       "      <td>4.99</td>\n",
       "      <td>2020-12-25</td>\n",
       "    </tr>\n",
       "    <tr>\n",
       "      <th>2</th>\n",
       "      <td>D1ABA3E2887B6A73</td>\n",
       "      <td>A</td>\n",
       "      <td>recommender_system_test</td>\n",
       "      <td>2020-12-07</td>\n",
       "      <td>EU</td>\n",
       "      <td>PC</td>\n",
       "      <td>2020-12-07 14:43:29</td>\n",
       "      <td>product_cart</td>\n",
       "      <td>NaN</td>\n",
       "      <td>2020-12-07</td>\n",
       "    </tr>\n",
       "    <tr>\n",
       "      <th>3</th>\n",
       "      <td>D1ABA3E2887B6A73</td>\n",
       "      <td>A</td>\n",
       "      <td>recommender_system_test</td>\n",
       "      <td>2020-12-07</td>\n",
       "      <td>EU</td>\n",
       "      <td>PC</td>\n",
       "      <td>2020-12-25 00:04:57</td>\n",
       "      <td>product_cart</td>\n",
       "      <td>NaN</td>\n",
       "      <td>2020-12-25</td>\n",
       "    </tr>\n",
       "    <tr>\n",
       "      <th>4</th>\n",
       "      <td>D1ABA3E2887B6A73</td>\n",
       "      <td>A</td>\n",
       "      <td>recommender_system_test</td>\n",
       "      <td>2020-12-07</td>\n",
       "      <td>EU</td>\n",
       "      <td>PC</td>\n",
       "      <td>2020-12-07 14:43:27</td>\n",
       "      <td>product_page</td>\n",
       "      <td>NaN</td>\n",
       "      <td>2020-12-07</td>\n",
       "    </tr>\n",
       "  </tbody>\n",
       "</table>\n",
       "</div>"
      ],
      "text/plain": [
       "            user_id group                  ab_test first_date region device  \\\n",
       "0  D1ABA3E2887B6A73     A  recommender_system_test 2020-12-07     EU     PC   \n",
       "1  D1ABA3E2887B6A73     A  recommender_system_test 2020-12-07     EU     PC   \n",
       "2  D1ABA3E2887B6A73     A  recommender_system_test 2020-12-07     EU     PC   \n",
       "3  D1ABA3E2887B6A73     A  recommender_system_test 2020-12-07     EU     PC   \n",
       "4  D1ABA3E2887B6A73     A  recommender_system_test 2020-12-07     EU     PC   \n",
       "\n",
       "             event_dt    event_name  details   event_day  \n",
       "0 2020-12-07 14:43:27      purchase    99.99  2020-12-07  \n",
       "1 2020-12-25 00:04:56      purchase     4.99  2020-12-25  \n",
       "2 2020-12-07 14:43:29  product_cart      NaN  2020-12-07  \n",
       "3 2020-12-25 00:04:57  product_cart      NaN  2020-12-25  \n",
       "4 2020-12-07 14:43:27  product_page      NaN  2020-12-07  "
      ]
     },
     "execution_count": 28,
     "metadata": {},
     "output_type": "execute_result"
    }
   ],
   "source": [
    "#к таблице users присоединим таблицу с событиями \n",
    "\n",
    "data=users.merge(events)\n",
    "data.head()\n",
    "\n"
   ]
  },
  {
   "cell_type": "code",
   "execution_count": 29,
   "id": "c9508fae",
   "metadata": {},
   "outputs": [
    {
     "data": {
      "text/plain": [
       "7.612356147789218"
      ]
     },
     "metadata": {},
     "output_type": "display_data"
    },
    {
     "data": {
      "text/plain": [
       "7.4728862973760934"
      ]
     },
     "metadata": {},
     "output_type": "display_data"
    }
   ],
   "source": [
    "#посчитаем количество событий на пользователя в выборках\n",
    "\n",
    "A=data.query('group==\"A\"').pivot_table(index='user_id',values='event_name',aggfunc='count').reset_index()\n",
    "A=A['event_name'].mean()\n",
    "display(A)\n",
    "\n",
    "B=data.query('group==\"B\"').pivot_table(index='user_id',values='event_name',aggfunc='count').reset_index()\n",
    "B=B['event_name'].mean()\n",
    "display(B)"
   ]
  },
  {
   "cell_type": "markdown",
   "id": "2abc62de",
   "metadata": {},
   "source": [
    "Число событий на пользователя примерно одинаковое в каждой группе.\n",
    "\n",
    "Посмотрим, как число событий в выборках распределено по дням?"
   ]
  },
  {
   "cell_type": "code",
   "execution_count": 30,
   "id": "773c80b8",
   "metadata": {},
   "outputs": [
    {
     "data": {
      "image/png": "[encoded data removed]",
      "text/plain": [
       "<Figure size 432x288 with 1 Axes>"
      ]
     },
     "metadata": {
      "needs_background": "light"
     },
     "output_type": "display_data"
    },
    {
     "data": {
      "text/plain": [
       "2094.6666666666665"
      ]
     },
     "execution_count": 30,
     "metadata": {},
     "output_type": "execute_result"
    }
   ],
   "source": [
    "#посмотрим на графике\n",
    "A_1=data.query('group==\"A\"').pivot_table(index='event_day',values='event_name',aggfunc='count').reset_index()\n",
    "plt.plot(A_1['event_day'],A_1['event_name'])\n",
    "\n",
    "# добавляем ось X\n",
    "\n",
    "plt.title('Число событий в группе А по дням')\n",
    "plt.xlabel('дата')\n",
    "plt.xticks(rotation=45)\n",
    "plt.ylabel('количество событий')\n",
    "\n",
    "plt.show()\n",
    "\n",
    "#посчитаем среднее количество событий в день\n",
    "A_1['event_name'].mean()\n"
   ]
  },
  {
   "cell_type": "code",
   "execution_count": 31,
   "id": "a3a02df1",
   "metadata": {},
   "outputs": [
    {
     "data": {
      "image/png": "[encoded data removed]",
      "text/plain": [
       "<Figure size 432x288 with 1 Axes>"
      ]
     },
     "metadata": {
      "needs_background": "light"
     },
     "output_type": "display_data"
    },
    {
     "data": {
      "text/plain": [
       "1602.0"
      ]
     },
     "execution_count": 31,
     "metadata": {},
     "output_type": "execute_result"
    }
   ],
   "source": [
    "#посмотрим на графике для группы В\n",
    "\n",
    "B_1=data.query('group==\"B\"').pivot_table(index='event_day',values='event_name',aggfunc='count').reset_index()\n",
    "plt.plot(B_1['event_day'],B_1['event_name'])\n",
    "\n",
    "# добавляем ось X\n",
    "\n",
    "plt.title('Число событий в группе B по дням')\n",
    "plt.xlabel('дата')\n",
    "plt.xticks(rotation=45)\n",
    "plt.ylabel('количество событий')\n",
    "\n",
    "plt.show()\n",
    "\n",
    "B_1['event_name'].mean()"
   ]
  },
  {
   "cell_type": "markdown",
   "id": "8fa39871",
   "metadata": {},
   "source": [
    "Среднее количество событий в день для группы А - 2095, для группы В = 1602. \n",
    "При этом количество событий в день в обеих группах достигает пика к 21 декабря и далее постепенно снижается."
   ]
  },
  {
   "cell_type": "markdown",
   "id": "3ed8aac5",
   "metadata": {},
   "source": [
    "Посмотрим, как меняется конверсия в воронке в выборках на разных этапах? Для начала построим воронки для каждой группы. "
   ]
  },
  {
   "cell_type": "code",
   "execution_count": 32,
   "id": "4f563326",
   "metadata": {},
   "outputs": [
    {
     "data": {
      "text/html": [
       "<div>\n",
       "<style scoped>\n",
       "    .dataframe tbody tr th:only-of-type {\n",
       "        vertical-align: middle;\n",
       "    }\n",
       "\n",
       "    .dataframe tbody tr th {\n",
       "        vertical-align: top;\n",
       "    }\n",
       "\n",
       "    .dataframe thead th {\n",
       "        text-align: right;\n",
       "    }\n",
       "</style>\n",
       "<table border=\"1\" class=\"dataframe\">\n",
       "  <thead>\n",
       "    <tr style=\"text-align: right;\">\n",
       "      <th></th>\n",
       "      <th>event_name</th>\n",
       "      <th>user_id</th>\n",
       "      <th>funnel</th>\n",
       "    </tr>\n",
       "  </thead>\n",
       "  <tbody>\n",
       "    <tr>\n",
       "      <th>0</th>\n",
       "      <td>1_login</td>\n",
       "      <td>6603</td>\n",
       "      <td>100.0</td>\n",
       "    </tr>\n",
       "    <tr>\n",
       "      <th>1</th>\n",
       "      <td>2_product_page</td>\n",
       "      <td>4391</td>\n",
       "      <td>67.0</td>\n",
       "    </tr>\n",
       "    <tr>\n",
       "      <th>3</th>\n",
       "      <td>3_product_cart</td>\n",
       "      <td>2110</td>\n",
       "      <td>48.0</td>\n",
       "    </tr>\n",
       "    <tr>\n",
       "      <th>2</th>\n",
       "      <td>4_purchase</td>\n",
       "      <td>2264</td>\n",
       "      <td>107.0</td>\n",
       "    </tr>\n",
       "  </tbody>\n",
       "</table>\n",
       "</div>"
      ],
      "text/plain": [
       "       event_name  user_id  funnel\n",
       "0         1_login     6603   100.0\n",
       "1  2_product_page     4391    67.0\n",
       "3  3_product_cart     2110    48.0\n",
       "2      4_purchase     2264   107.0"
      ]
     },
     "execution_count": 32,
     "metadata": {},
     "output_type": "execute_result"
    }
   ],
   "source": [
    "#строим воронку для группы А\n",
    "funnel_A=data.query('group==\"A\"').pivot_table(index='event_name',values='user_id',aggfunc='nunique').sort_values(by='user_id',ascending=False).reset_index()\n",
    "\n",
    "\n",
    "#количество по шагу purchase больше чем по шагу product_cart, поэтому нужно поменять их местами в воронке:\n",
    "funnel_A.loc[0,\"event_name\"]=\"1_login\"\n",
    "funnel_A.loc[1,\"event_name\"]=\"2_product_page\"\n",
    "funnel_A.loc[2,\"event_name\"]=\"4_purchase\"\n",
    "funnel_A.loc[3,\"event_name\"]=\"3_product_cart\"\n",
    "\n",
    "funnel_A=funnel_A.sort_values(by='event_name')\n",
    "\n",
    "#добавляем колонку с конверсией из этапа в этап \n",
    "funnel_A['funnel'] = round(funnel_A['user_id']/funnel_A['user_id'].shift(fill_value=6603)*100)\n",
    "funnel_A"
   ]
  },
  {
   "cell_type": "code",
   "execution_count": 33,
   "id": "39f3d915",
   "metadata": {},
   "outputs": [
    {
     "data": {
      "text/html": [
       "<div>\n",
       "<style scoped>\n",
       "    .dataframe tbody tr th:only-of-type {\n",
       "        vertical-align: middle;\n",
       "    }\n",
       "\n",
       "    .dataframe tbody tr th {\n",
       "        vertical-align: top;\n",
       "    }\n",
       "\n",
       "    .dataframe thead th {\n",
       "        text-align: right;\n",
       "    }\n",
       "</style>\n",
       "<table border=\"1\" class=\"dataframe\">\n",
       "  <thead>\n",
       "    <tr style=\"text-align: right;\">\n",
       "      <th></th>\n",
       "      <th>event_name</th>\n",
       "      <th>user_id</th>\n",
       "      <th>funnel</th>\n",
       "    </tr>\n",
       "  </thead>\n",
       "  <tbody>\n",
       "    <tr>\n",
       "      <th>0</th>\n",
       "      <td>login</td>\n",
       "      <td>5145</td>\n",
       "      <td>100.0</td>\n",
       "    </tr>\n",
       "    <tr>\n",
       "      <th>1</th>\n",
       "      <td>product_page</td>\n",
       "      <td>3311</td>\n",
       "      <td>64.0</td>\n",
       "    </tr>\n",
       "    <tr>\n",
       "      <th>2</th>\n",
       "      <td>product_cart</td>\n",
       "      <td>1711</td>\n",
       "      <td>52.0</td>\n",
       "    </tr>\n",
       "    <tr>\n",
       "      <th>3</th>\n",
       "      <td>purchase</td>\n",
       "      <td>1677</td>\n",
       "      <td>98.0</td>\n",
       "    </tr>\n",
       "  </tbody>\n",
       "</table>\n",
       "</div>"
      ],
      "text/plain": [
       "     event_name  user_id  funnel\n",
       "0         login     5145   100.0\n",
       "1  product_page     3311    64.0\n",
       "2  product_cart     1711    52.0\n",
       "3      purchase     1677    98.0"
      ]
     },
     "execution_count": 33,
     "metadata": {},
     "output_type": "execute_result"
    }
   ],
   "source": [
    "funnel_B=data.query('group==\"B\"').pivot_table(index='event_name',values='user_id',aggfunc='nunique').sort_values(by='user_id',ascending=False).reset_index()\n",
    "funnel_B['funnel'] = round(funnel_B['user_id']/funnel_B['user_id'].shift(fill_value=5145)*100)\n",
    "funnel_B"
   ]
  },
  {
   "cell_type": "markdown",
   "id": "ef86f849",
   "metadata": {},
   "source": [
    "Разница в воронках для каждой группы составила: \n",
    "\n",
    "1) Переход на страницу продукта. Воронка А - 67%, воронка В - 64%. **Проигрыш воронки В на 3 процентных пункта**\n",
    "\n",
    "2) Переход в корзину. Воронка А - 48%, воронка В - 52%. **Выигрыш воронки В на 4 процентных пункта**\n",
    "\n",
    "3) Покупка. Воронка А - 107%, воронка В - 98%. **Проигрыш воронки В на 9 процентных пунктов**. \n",
    "\n",
    "Очень подозрительно, что в воронке А пользователей на этапе purchase большем , чем на этапе product_cart. Возможно у пользователей была или есть возможность перескочить со страницы товара сразу в покупку (так называемая покупка в один клик)"
   ]
  },
  {
   "cell_type": "markdown",
   "id": "228d9f74",
   "metadata": {},
   "source": [
    "# Анализ результатов А/B теста\n",
    "\n",
    "<a id=\"test\"></a>"
   ]
  },
  {
   "cell_type": "markdown",
   "id": "527b950a",
   "metadata": {},
   "source": [
    "Создадим функцию для расчета статистических критериев разницы: "
   ]
  },
  {
   "cell_type": "code",
   "execution_count": 34,
   "id": "ecfa4833",
   "metadata": {},
   "outputs": [],
   "source": [
    "def func (successes1, successes2, trials1, trials2, alpha=0.05):\n",
    "    p1 = successes1/trials1\n",
    "    p2 = successes2/trials2\n",
    "    p_combined = (successes1 + successes2) / (trials1 + trials2)\n",
    "    difference = p1 - p2 \n",
    "    z_value = difference / mth.sqrt(p_combined * (1 - p_combined) * (1/trials1 + 1/trials2))\n",
    "    distr = stats.norm(0, 1)  \n",
    "    p_value = (1 - distr.cdf(abs(z_value))) * 2\n",
    "\n",
    "    print('p-значение: ', p_value)\n",
    "\n",
    "    if p_value < alpha:\n",
    "        print('Отвергаем нулевую гипотезу: между долями есть значимая разница')\n",
    "    else:\n",
    "        print(\n",
    "       'Не получилось отвергнуть нулевую гипотезу, нет оснований считать доли разными'\n",
    "        ) \n",
    "  "
   ]
  },
  {
   "cell_type": "markdown",
   "id": "147bb294",
   "metadata": {},
   "source": [
    "Нулевая гипотеза -  пропорции двух генеральных совокупностей равны. "
   ]
  },
  {
   "cell_type": "code",
   "execution_count": 35,
   "id": "17711926",
   "metadata": {},
   "outputs": [
    {
     "data": {
      "text/html": [
       "<div>\n",
       "<style scoped>\n",
       "    .dataframe tbody tr th:only-of-type {\n",
       "        vertical-align: middle;\n",
       "    }\n",
       "\n",
       "    .dataframe tbody tr th {\n",
       "        vertical-align: top;\n",
       "    }\n",
       "\n",
       "    .dataframe thead th {\n",
       "        text-align: right;\n",
       "    }\n",
       "</style>\n",
       "<table border=\"1\" class=\"dataframe\">\n",
       "  <thead>\n",
       "    <tr style=\"text-align: right;\">\n",
       "      <th></th>\n",
       "      <th>event_name</th>\n",
       "      <th>a</th>\n",
       "      <th>b</th>\n",
       "    </tr>\n",
       "  </thead>\n",
       "  <tbody>\n",
       "    <tr>\n",
       "      <th>0</th>\n",
       "      <td>login</td>\n",
       "      <td>6603</td>\n",
       "      <td>5145</td>\n",
       "    </tr>\n",
       "    <tr>\n",
       "      <th>1</th>\n",
       "      <td>product_cart</td>\n",
       "      <td>2110</td>\n",
       "      <td>1711</td>\n",
       "    </tr>\n",
       "    <tr>\n",
       "      <th>2</th>\n",
       "      <td>product_page</td>\n",
       "      <td>4391</td>\n",
       "      <td>3311</td>\n",
       "    </tr>\n",
       "    <tr>\n",
       "      <th>3</th>\n",
       "      <td>purchase</td>\n",
       "      <td>2264</td>\n",
       "      <td>1677</td>\n",
       "    </tr>\n",
       "  </tbody>\n",
       "</table>\n",
       "</div>"
      ],
      "text/plain": [
       "     event_name     a     b\n",
       "0         login  6603  5145\n",
       "1  product_cart  2110  1711\n",
       "2  product_page  4391  3311\n",
       "3      purchase  2264  1677"
      ]
     },
     "metadata": {},
     "output_type": "display_data"
    }
   ],
   "source": [
    "#построим сдвоенную воронку\n",
    "funnel = (data.pivot_table(index='event_name', values = 'user_id',columns=['group'], aggfunc='nunique')).reset_index()\n",
    "funnel.columns= ['event_name','a','b']\n",
    "display(funnel)"
   ]
  },
  {
   "cell_type": "code",
   "execution_count": 36,
   "id": "bb12c124",
   "metadata": {},
   "outputs": [
    {
     "data": {
      "text/html": [
       "<div>\n",
       "<style scoped>\n",
       "    .dataframe tbody tr th:only-of-type {\n",
       "        vertical-align: middle;\n",
       "    }\n",
       "\n",
       "    .dataframe tbody tr th {\n",
       "        vertical-align: top;\n",
       "    }\n",
       "\n",
       "    .dataframe thead th {\n",
       "        text-align: right;\n",
       "    }\n",
       "</style>\n",
       "<table border=\"1\" class=\"dataframe\">\n",
       "  <thead>\n",
       "    <tr style=\"text-align: right;\">\n",
       "      <th></th>\n",
       "      <th>group</th>\n",
       "      <th>user_id</th>\n",
       "    </tr>\n",
       "  </thead>\n",
       "  <tbody>\n",
       "    <tr>\n",
       "      <th>0</th>\n",
       "      <td>A</td>\n",
       "      <td>6604</td>\n",
       "    </tr>\n",
       "    <tr>\n",
       "      <th>1</th>\n",
       "      <td>B</td>\n",
       "      <td>5145</td>\n",
       "    </tr>\n",
       "  </tbody>\n",
       "</table>\n",
       "</div>"
      ],
      "text/plain": [
       "  group  user_id\n",
       "0     A     6604\n",
       "1     B     5145"
      ]
     },
     "metadata": {},
     "output_type": "display_data"
    }
   ],
   "source": [
    "#построим таблицу с суммой пользователей в каждой группе, чтобы использовать в расчетах\n",
    "total = data.pivot_table(index='group',values='user_id', aggfunc='nunique').reset_index()\n",
    "display(total)"
   ]
  },
  {
   "cell_type": "code",
   "execution_count": 37,
   "id": "82cede81",
   "metadata": {},
   "outputs": [
    {
     "name": "stdout",
     "output_type": "stream",
     "text": [
      "p-значение:  0.37740440858063873\n",
      "Не получилось отвергнуть нулевую гипотезу, нет оснований считать доли разными\n"
     ]
    }
   ],
   "source": [
    "#Проверим, будет ли отличие между группами по событию login статистически достоверным\n",
    "\n",
    "\n",
    "\n",
    "successes1 = funnel.loc[0,\"a\"] \n",
    "successes2 = funnel.loc[0,\"b\"] \n",
    "trials1 = total.loc[0,'user_id']\n",
    "trials2 = total.loc[1,'user_id']\n",
    "\n",
    "func(successes1, successes2, trials1, trials2)"
   ]
  },
  {
   "cell_type": "code",
   "execution_count": 38,
   "id": "b48a6b72",
   "metadata": {},
   "outputs": [
    {
     "name": "stdout",
     "output_type": "stream",
     "text": [
      "p-значение:  0.015623502594351413\n",
      "Отвергаем нулевую гипотезу: между долями есть значимая разница\n"
     ]
    }
   ],
   "source": [
    "#Проверим, будет ли отличие между группами по событию product_page статистически достоверным\n",
    "\n",
    "\n",
    "successes1 = funnel.loc[2,\"a\"] \n",
    "successes2 = funnel.loc[2,\"b\"] \n",
    "trials1 = total.loc[0,'user_id']\n",
    "trials2 = total.loc[1,'user_id']\n",
    "\n",
    "func(successes1, successes2, trials1, trials2)"
   ]
  },
  {
   "cell_type": "code",
   "execution_count": 39,
   "id": "9601b181",
   "metadata": {},
   "outputs": [
    {
     "name": "stdout",
     "output_type": "stream",
     "text": [
      "p-значение:  0.134034843854143\n",
      "Не получилось отвергнуть нулевую гипотезу, нет оснований считать доли разными\n"
     ]
    }
   ],
   "source": [
    "#Проверим, будет ли отличие между группами по событию product_cart статистически достоверным\n",
    "\n",
    "\n",
    "successes1 = funnel.loc[1,\"a\"] \n",
    "successes2 = funnel.loc[1,\"b\"] \n",
    "trials1 = total.loc[0,'user_id']\n",
    "trials2 = total.loc[1,'user_id']\n",
    "\n",
    "func(successes1, successes2, trials1, trials2)"
   ]
  },
  {
   "cell_type": "code",
   "execution_count": 40,
   "id": "3e2c16ac",
   "metadata": {},
   "outputs": [
    {
     "name": "stdout",
     "output_type": "stream",
     "text": [
      "p-значение:  0.05459784629674003\n",
      "Не получилось отвергнуть нулевую гипотезу, нет оснований считать доли разными\n"
     ]
    }
   ],
   "source": [
    "#Проверим, будет ли отличие между группами по событию purchase статистически достоверным\n",
    "\n",
    "\n",
    "successes1 = funnel.loc[3,\"a\"] \n",
    "successes2 = funnel.loc[3,\"b\"] \n",
    "trials1 = total.loc[0,'user_id']\n",
    "trials2 = total.loc[1,'user_id']\n",
    "\n",
    "func(successes1, successes2, trials1, trials2)"
   ]
  },
  {
   "cell_type": "markdown",
   "id": "802403ec",
   "metadata": {},
   "source": [
    "Статистически значимой разницы между группами не оказалось в трех случаях из четырех. Только на этапе product_page была обнаружена статистически значимая разница.  \n",
    "\n",
    "В целом результаты теста выглядят неубедительно. Группу В нельзя считать достигнувшей изначально запланированных показателей, а также нельзя считать , что значимость между группами А и В в большинстве случаев статистически достоверна. "
   ]
  },
  {
   "cell_type": "markdown",
   "id": "9c6bf538",
   "metadata": {},
   "source": [
    "При проверке статистических гипотез выше был выбран уровент значимости 5%. Общее количество проверок статистических гипотез равно 1 (только однна экспериментальная группа с измененным шрифтом). При общем числе гипотез m = 1, FWER = ɑ, то есть 5%. Считаю возможным оставить текущий уровень значимости. "
   ]
  },
  {
   "cell_type": "markdown",
   "id": "36968416",
   "metadata": {},
   "source": [
    "# Выводы\n",
    "\n",
    "<a id=\"summary\"></a>"
   ]
  },
  {
   "cell_type": "markdown",
   "id": "13da4367",
   "metadata": {},
   "source": [
    "**Соответствие теста ТЗ**. \n",
    "\n",
    "Дата начала теста верная. Фактическая дата окончания набора новых пользователей не совпадает с ТЗ. Поэтому \"отрезаны\" пользователи, которые были зарегистрированы после 21 декабря.\n",
    "\n",
    "Тест был завершен несколько раньше, чем должен был быть по ТЗ. Дата последних зарегистрированных событийи 30 декабря. С этим мы уже ничего сделать не сможем. Работали с имеющимися данными.\n",
    "Аудитория теста должны быть: 15% новых пользователей из региона EU. Пользователей из региона EU гораздо больше 15%. Значит получается, что пользователи для теста отобраны некорректно. \n",
    "\n",
    "Фактически группа пользователей , принявших участие в тесте (группа В), составила 8269, что больше ожидаемой величины в 6000. \n",
    "\n",
    "На время проведения теста пришлась одна промо-активность, которая проходила в регионах EU и N.America в период с 25 декабря 2020 г по 3 января 2021 г. Это могло повлиять на результат. \n",
    "\n",
    "Обнаружено пересечение пользователей в группаз А и В. Пересекающиеся пользователи удалены.\n",
    "\n",
    "Пользователи распределены по группам боле-менее одинаково.\n",
    "\n",
    "**Исследовательский анализ данных.**\n",
    "\n",
    "Число событий на пользователя примерно одинаковое в каждой группе: 7,6 и 7,4.\n",
    "\n",
    "Среднее количество событий в день для группы А - 2095, для группы В = 1602. \n",
    "При этом количество событий в день в обеих группах достигает пика к 21 декабря и далее постепенно снижается.\n",
    "\n",
    "Разница в воронках для каждой группы составила: \n",
    "\n",
    "1) Переход на страницу продукта. Воронка А - 67%, воронка В - 64%. **Проигрыш воронки В на 3 процентных пункта**\n",
    "\n",
    "2) Переход в корзину. Воронка А - 48%, воронка В - 52%. **Выигрыш воронки В на 4 процентных пункта**\n",
    "\n",
    "3) Покупка. Воронка А - 107%, воронка В - 98%. **Проигрыш воронки В на 9 процентных пунктов**. \n",
    "\n",
    "Очень подозрительно, что в воронке А пользователей на этапе purchase большем , чем на этапе product_cart. Возможно у пользователей была или есть возможность перескочить со страницы товара сразу в покупку (так называемая покупка в один клик)\n",
    "\n",
    "**Анализ результатов А/Б теста.**\n",
    "\n",
    "Нулевая гипотеза -  пропорции двух генеральных совокупностей равны. \n",
    "Статистически значимой разницы между группами не оказалось в трех случаях из четырех. Только на этапе product_page была обнаружена статистически значимая разница.  \n",
    "\n",
    "В целом результаты теста выглядят неубедительно. Группу В нельзя считать достигнувшей изначально запланированных показателей, а также нельзя считать , что значимость между группами А и В в большинстве случаев статистически достоверна. Кроме того изначально допущены ошибки, нарушившие требования ТЗ, что также могло повлиять на результаты теста. \n",
    "\n",
    "При проверке статистических гипотез выше был выбран уровент значимости 5%. Общее количество проверок статистических гипотез равно 1 (только однна экспериментальная группа с измененным шрифтом). При общем числе гипотез m = 1, FWER = ɑ, то есть 5%. Считаю возможным оставить текущий уровень значимости. "
   ]
  },
  {
   "cell_type": "code",
   "execution_count": null,
   "id": "6b22fd2b",
   "metadata": {},
   "outputs": [],
   "source": []
  }
 ],
 "metadata": {
  "kernelspec": {
   "display_name": "Python 3 (ipykernel)",
   "language": "python",
   "name": "python3"
  },
  "language_info": {
   "codemirror_mode": {
    "name": "ipython",
    "version": 3
   },
   "file_extension": ".py",
   "mimetype": "text/x-python",
   "name": "python",
   "nbconvert_exporter": "python",
   "pygments_lexer": "ipython3",
   "version": "3.9.12"
  }
 },
 "nbformat": 4,
 "nbformat_minor": 5
}
